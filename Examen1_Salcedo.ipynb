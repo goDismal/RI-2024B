{
  "nbformat": 4,
  "nbformat_minor": 0,
  "metadata": {
    "colab": {
      "provenance": []
    },
    "kernelspec": {
      "name": "python3",
      "display_name": "Python 3"
    },
    "language_info": {
      "name": "python"
    }
  },
  "cells": [
    {
      "cell_type": "markdown",
      "source": [
        "# Preprocesamiento del corpus\n"
      ],
      "metadata": {
        "id": "B5IZlW_xbaDH"
      }
    },
    {
      "cell_type": "markdown",
      "source": [
        "Leemos el documento y lo cargamos en un dataframe"
      ],
      "metadata": {
        "id": "UxldM0c2gakn"
      }
    },
    {
      "cell_type": "code",
      "execution_count": 69,
      "metadata": {
        "id": "4J1GaQQtaMiq"
      },
      "outputs": [],
      "source": [
        "import csv\n",
        "import pandas as pd\n",
        "\n",
        "\n",
        "# Lee el archivo CSV y crea el DataFrame\n",
        "movies_df = pd.read_csv('/rotten_tomatoes_movies.csv')\n",
        "reviews_df = pd.read_csv('/rotten_tomatoes_critic_reviews.csv')\n",
        "\n",
        "# Muestra el DataFrame\n",
        "# movies_df.head()\n",
        "# reviews_df.head()"
      ]
    },
    {
      "cell_type": "markdown",
      "source": [
        "Reviso si me muestra la review"
      ],
      "metadata": {
        "id": "N_CRnlEJysnY"
      }
    },
    {
      "cell_type": "code",
      "source": [
        "x = reviews_df.iloc[0]['review_content']\n",
        "x"
      ],
      "metadata": {
        "colab": {
          "base_uri": "https://localhost:8080/",
          "height": 53
        },
        "id": "LKchBk3UizhB",
        "outputId": "7cdef648-61e5-4730-e6e7-671861077703"
      },
      "execution_count": 70,
      "outputs": [
        {
          "output_type": "execute_result",
          "data": {
            "text/plain": [
              "'A fantasy adventure that fuses Greek mythology to contemporary American places and values. Anyone around 15 (give or take a couple of years) will thrill to the visual spectacle'"
            ],
            "application/vnd.google.colaboratory.intrinsic+json": {
              "type": "string"
            }
          },
          "metadata": {},
          "execution_count": 70
        }
      ]
    },
    {
      "cell_type": "markdown",
      "source": [
        "Uso una librería para las stopwords y una función para limpiar el texto"
      ],
      "metadata": {
        "id": "X0aE61nGyy2Q"
      }
    },
    {
      "cell_type": "code",
      "source": [
        "import re\n",
        "from nltk.corpus import stopwords\n",
        "\n",
        "# Descargar las stopwords\n",
        "import nltk\n",
        "nltk.download('stopwords')\n",
        "\n",
        "# Normalización del texto con manejo de valores no-string o nulos\n",
        "def clean_text(text):\n",
        "    if isinstance(text, str):  # Verificar si es una cadena\n",
        "        text = text.lower()  # Convertir a minúsculas\n",
        "        text = re.sub(r'[^\\w\\s]', '', text)  # Eliminar puntuaciones\n",
        "        text = re.sub(r'\\s+', ' ', text).strip()  # Eliminar espacios extras\n",
        "        stop_words = set(stopwords.words('english'))\n",
        "        text = ' '.join([word for word in text.split() if word not in stop_words])  # Quitar stopwords\n",
        "        return text\n",
        "    else:\n",
        "        return ''  # Retornar vacío si no es texto"
      ],
      "metadata": {
        "colab": {
          "base_uri": "https://localhost:8080/"
        },
        "id": "P_Z7CXc2gorJ",
        "outputId": "ec169d22-c3cf-49e7-d4d2-e06883eb7cea"
      },
      "execution_count": 71,
      "outputs": [
        {
          "output_type": "stream",
          "name": "stderr",
          "text": [
            "[nltk_data] Downloading package stopwords to /root/nltk_data...\n",
            "[nltk_data]   Package stopwords is already up-to-date!\n"
          ]
        }
      ]
    },
    {
      "cell_type": "markdown",
      "source": [
        "Aplico la función para limpiar el texto"
      ],
      "metadata": {
        "id": "eeEMza3ly8Qc"
      }
    },
    {
      "cell_type": "code",
      "source": [
        "reviews_df['cleaned_review'] = reviews_df['review_content'].apply(clean_text)"
      ],
      "metadata": {
        "id": "8cgiZ3KFjDQE"
      },
      "execution_count": 72,
      "outputs": []
    },
    {
      "cell_type": "markdown",
      "source": [
        "Así se ve limpio"
      ],
      "metadata": {
        "id": "1Fx3KFPxzBwr"
      }
    },
    {
      "cell_type": "code",
      "source": [
        "x = reviews_df.iloc[0]['cleaned_review']\n",
        "print(x)"
      ],
      "metadata": {
        "colab": {
          "base_uri": "https://localhost:8080/"
        },
        "id": "toH-9dSdmOo2",
        "outputId": "d5726324-16ea-4417-84c6-34489e7e2d49"
      },
      "execution_count": 73,
      "outputs": [
        {
          "output_type": "stream",
          "name": "stdout",
          "text": [
            "fantasy adventure fuses greek mythology contemporary american places values anyone around 15 give take couple years thrill visual spectacle\n"
          ]
        }
      ]
    },
    {
      "cell_type": "code",
      "source": [
        "# Unir reseñas con información de películas usando rotten_tomatoes_link\n",
        "reviews_with_movies = reviews_df.merge(movies_df, on='rotten_tomatoes_link', how='inner')\n",
        "\n",
        "# Crear un campo combinado si es necesario (solo para futuras optimizaciones)\n",
        "reviews_with_movies['combined_text'] = reviews_with_movies['cleaned_review']\n"
      ],
      "metadata": {
        "id": "GsAVMtTNtOO9"
      },
      "execution_count": 74,
      "outputs": []
    },
    {
      "cell_type": "code",
      "source": [
        "from sklearn.feature_extraction.text import TfidfVectorizer\n",
        "from sklearn.metrics.pairwise import cosine_similarity\n",
        "\n",
        "# Vectorizar las reseñas (TF-IDF)\n",
        "vectorizer_reviews = TfidfVectorizer()\n",
        "\n",
        "# Crear la matriz TF-IDF basada en las reviews preprocesadas\n",
        "tfidf_matrix_reviews = vectorizer_reviews.fit_transform(reviews_with_movies['combined_text'])"
      ],
      "metadata": {
        "id": "PT7p5F0Utw5I"
      },
      "execution_count": 75,
      "outputs": []
    },
    {
      "cell_type": "code",
      "source": [
        "def search_movies_by_reviews(query, vectorizer, tfidf_matrix, reviews_df, top_n=5):\n",
        "    # Normalizar y vectorizar la consulta\n",
        "    query_cleaned = clean_text(query)\n",
        "    query_vec = vectorizer.transform([query_cleaned])\n",
        "\n",
        "    # Calcular la similitud coseno\n",
        "    similarity_scores = cosine_similarity(query_vec, tfidf_matrix).flatten()\n",
        "\n",
        "    # Obtener índices de las reseñas más relevantes\n",
        "    top_indices = similarity_scores.argsort()[-top_n:][::-1]\n",
        "\n",
        "    # Recuperar los IDs de las películas relevantes\n",
        "    relevant_movies = reviews_df.iloc[top_indices]['rotten_tomatoes_link'].values\n",
        "\n",
        "    # Filtrar títulos de películas y garantizar que coincidan con los IDs relevantes\n",
        "    results = movies_df[movies_df['rotten_tomatoes_link'].isin(relevant_movies)][['movie_title', 'genres']]\n",
        "\n",
        "    # Asignar similitudes correspondientes solo a los IDs encontrados\n",
        "    results = results.reset_index(drop=True)\n",
        "    results['Similarity'] = similarity_scores[top_indices[:len(results)]]\n",
        "\n",
        "    return results\n"
      ],
      "metadata": {
        "id": "Hw3-n7PgrUZI"
      },
      "execution_count": 79,
      "outputs": []
    },
    {
      "cell_type": "code",
      "source": [
        "# Probar con una consulta\n",
        "query = \"Amazing story and breathtaking visuals\"\n",
        "results = search_movies_by_reviews(query, vectorizer_reviews, tfidf_matrix_reviews, reviews_with_movies)\n",
        "\n",
        "# Mostrar resultados\n",
        "print(\"Resultados para la consulta:\", query)\n",
        "print(results)\n"
      ],
      "metadata": {
        "colab": {
          "base_uri": "https://localhost:8080/"
        },
        "id": "gf71b_-TrpSi",
        "outputId": "0f676458-6290-433d-e434-053e47e1d2b3"
      },
      "execution_count": 80,
      "outputs": [
        {
          "output_type": "stream",
          "name": "stdout",
          "text": [
            "Resultados para la consulta: Amazing story and breathtaking visuals\n",
            "   movie_title                            genres  Similarity\n",
            "0   Crazy Love                       Documentary    0.611086\n",
            "1         Race                             Drama    0.611086\n",
            "2  The Soloist  Drama, Musical & Performing Arts    0.611086\n"
          ]
        }
      ]
    },
    {
      "cell_type": "markdown",
      "source": [
        "# Posibles mejoras\n",
        "\n",
        "1.   Agregar resultados de críticas\n",
        "\n",
        "Es buena idea agregar resultados de críticas de críticos. Esta información es de relevancia para el usuario, pues le permite tener un mejor criterio a la hora de elegir una película\n",
        "\n",
        "2.   Interfaz interactiva\n",
        "\n",
        "Siempre es útil la inclusión de una interfaz para ser más amigable con el usuario\n",
        "\n",
        "\n",
        "\n",
        "\n",
        "\n",
        "\n",
        "\n"
      ],
      "metadata": {
        "id": "51lTagPbvOUB"
      }
    }
  ]
}