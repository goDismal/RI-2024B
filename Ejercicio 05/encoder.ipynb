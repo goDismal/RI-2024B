{
 "cells": [
  {
   "cell_type": "markdown",
   "metadata": {},
   "source": [
    "# **Programando un Encoder**"
   ]
  },
  {
   "cell_type": "markdown",
   "metadata": {},
   "source": [
    "## Primera etapa: Bloque de Self-attention\n",
    "Primero definimos un corpus de unas 5 frases y unas 10 palabras"
   ]
  },
  {
   "cell_type": "code",
   "execution_count": 1,
   "metadata": {},
   "outputs": [],
   "source": [
    "corpus = [\n",
    "    'El anime es un buen hobby',\n",
    "    'El manga es más popular que los comics',\n",
    "    'El anime es más popular que el manga',\n",
    "    'La música es un buen hobby',\n",
    "    'El anime es más popular que la música',\n",
    "]"
   ]
  },
  {
   "cell_type": "markdown",
   "metadata": {},
   "source": [
    "Definimos el vocabulario de nuestro corpus"
   ]
  },
  {
   "cell_type": "code",
   "execution_count": 2,
   "metadata": {},
   "outputs": [
    {
     "name": "stdout",
     "output_type": "stream",
     "text": [
      "['anime', 'buen', 'comics', 'el', 'es', 'hobby', 'la', 'los', 'manga', 'más', 'música', 'popular', 'que', 'un']\n",
      "14\n"
     ]
    }
   ],
   "source": [
    "vocab = set()\n",
    "\n",
    "for frase in corpus:\n",
    "    for palabra in frase.lower().split():\n",
    "        vocab.add(palabra)\n",
    "        \n",
    "vocab = sorted(vocab)\n",
    "\n",
    "print(vocab)\n",
    "print(len(vocab))"
   ]
  },
  {
   "cell_type": "markdown",
   "metadata": {},
   "source": [
    "Vamos a transformar a vector las frases, creando primero una instancia de Vectorizer y luego aplicando fit_transform"
   ]
  },
  {
   "cell_type": "code",
   "execution_count": 3,
   "metadata": {},
   "outputs": [
    {
     "name": "stdout",
     "output_type": "stream",
     "text": [
      "[[1 1 0 1 1 1 0 0 0 0 0 0 0 1]\n",
      " [0 0 1 1 1 0 0 1 1 1 0 1 1 0]\n",
      " [1 0 0 2 1 0 0 0 1 1 0 1 1 0]\n",
      " [0 1 0 0 1 1 1 0 0 0 1 0 0 1]\n",
      " [1 0 0 1 1 0 1 0 0 1 1 1 1 0]]\n"
     ]
    }
   ],
   "source": [
    "from sklearn.feature_extraction.text import CountVectorizer\n",
    "\n",
    "vectorizer = CountVectorizer()\n",
    "\n",
    "x = vectorizer.fit_transform(corpus).toarray()\n",
    "\n",
    "dk = x.shape[1]\n",
    "\n",
    "print(x)"
   ]
  },
  {
   "cell_type": "markdown",
   "metadata": {},
   "source": [
    "Creamos la matriz entrenable para Q, esto se define por numeros aleatorios usando rand(). Luego usamos producto punto entre x y wq para obtener Q, que será el primer parametro para calcular Attention(Q,K,V)"
   ]
  },
  {
   "cell_type": "code",
   "execution_count": 4,
   "metadata": {},
   "outputs": [
    {
     "name": "stdout",
     "output_type": "stream",
     "text": [
      "(14, 14)\n",
      "(5, 14)\n"
     ]
    }
   ],
   "source": [
    "import numpy as np\n",
    "\n",
    "wq = np.random.rand(dk, dk)\n",
    "\n",
    "print(wq.shape)\n",
    "\n",
    "q = np.dot(x, wq)\n",
    "\n",
    "print(q.shape)"
   ]
  },
  {
   "cell_type": "markdown",
   "metadata": {},
   "source": [
    "Hacemos el mismo procedimiento para K"
   ]
  },
  {
   "cell_type": "code",
   "execution_count": 5,
   "metadata": {},
   "outputs": [
    {
     "name": "stdout",
     "output_type": "stream",
     "text": [
      "(14, 14)\n",
      "(5, 14)\n"
     ]
    }
   ],
   "source": [
    "wk = np.random.rand(dk, dk)\n",
    "\n",
    "print(wq.shape)\n",
    "\n",
    "k = np.dot(x, wk)\n",
    "\n",
    "print(k.shape)"
   ]
  },
  {
   "cell_type": "markdown",
   "metadata": {},
   "source": [
    "Finalmente el mismo proceso se aplica para obtener V"
   ]
  },
  {
   "cell_type": "code",
   "execution_count": 6,
   "metadata": {},
   "outputs": [
    {
     "name": "stdout",
     "output_type": "stream",
     "text": [
      "(14, 14)\n",
      "(5, 14)\n"
     ]
    }
   ],
   "source": [
    "wv = np.random.rand(dk, dk)\n",
    "\n",
    "print(wv.shape)\n",
    "\n",
    "v = np.dot(x, wv)\n",
    "\n",
    "print(v.shape)"
   ]
  },
  {
   "cell_type": "markdown",
   "metadata": {},
   "source": [
    "Ahora según la definición de softmax, tenemos la siguiente fórmula:"
   ]
  },
  {
   "cell_type": "markdown",
   "metadata": {},
   "source": [
    "$$\n",
    "    softmax(z)_i = \\frac{e^{z_i}}{\\sum_{j=1}^n{e^{z_j}}}\n",
    "$$"
   ]
  },
  {
   "cell_type": "markdown",
   "metadata": {},
   "source": [
    "También la fórmula de Attention(Q,K,V) se define de la siguiente forma:"
   ]
  },
  {
   "cell_type": "markdown",
   "metadata": {},
   "source": [
    "$$\n",
    "Attention(Q,K,V) = softmax(\\frac{Q.K_T}{sqrt{d_k}}).V\n",
    "$$"
   ]
  },
  {
   "cell_type": "code",
   "execution_count": 7,
   "metadata": {},
   "outputs": [
    {
     "name": "stdout",
     "output_type": "stream",
     "text": [
      "[[32.97126002 51.89504973 48.43355919 33.78079302 47.95604323]\n",
      " [42.61320446 67.28849646 63.50355035 43.80954286 62.28662937]\n",
      " [45.69686486 71.97222966 68.01230343 46.48062696 66.47584517]\n",
      " [30.56577016 48.51749389 44.99623333 31.50346291 44.43792596]\n",
      " [43.60056793 69.30609107 64.90946071 44.6324581  63.44948821]]\n"
     ]
    }
   ],
   "source": [
    "scores = (np.dot(q, k.T) / np.sqrt(dk))\n",
    "\n",
    "print(scores)"
   ]
  },
  {
   "cell_type": "markdown",
   "metadata": {},
   "source": [
    "Definimos los attention weights para scores"
   ]
  },
  {
   "cell_type": "code",
   "execution_count": 9,
   "metadata": {},
   "outputs": [],
   "source": [
    "exp_z = np.exp(scores)\n",
    "\n",
    "aw = exp_z / np.sum(exp_z)\n",
    "\n",
    "output = np.dot(aw, v)"
   ]
  },
  {
   "cell_type": "markdown",
   "metadata": {},
   "source": [
    "Todo lo que hemos trabajado se resume en la función de Self-Attention"
   ]
  },
  {
   "cell_type": "code",
   "execution_count": null,
   "metadata": {},
   "outputs": [],
   "source": [
    "def self_attention(Q, K, V):\n",
    "    scores = np.dot(Q, K.T) / np.sqrt(Q.shape[1])\n",
    "    attention_weights = np.exp(scores) / np.sum(np.exp(scores), axis=1)[:, None]\n",
    "    return np.dot(attention_weights, V)"
   ]
  },
  {
   "cell_type": "markdown",
   "metadata": {},
   "source": [
    "## Multi-head attention\n",
    "\n"
   ]
  },
  {
   "cell_type": "code",
   "execution_count": null,
   "metadata": {},
   "outputs": [],
   "source": []
  }
 ],
 "metadata": {
  "kernelspec": {
   "display_name": "Python 3",
   "language": "python",
   "name": "python3"
  },
  "language_info": {
   "codemirror_mode": {
    "name": "ipython",
    "version": 3
   },
   "file_extension": ".py",
   "mimetype": "text/x-python",
   "name": "python",
   "nbconvert_exporter": "python",
   "pygments_lexer": "ipython3",
   "version": "3.12.1"
  }
 },
 "nbformat": 4,
 "nbformat_minor": 2
}
