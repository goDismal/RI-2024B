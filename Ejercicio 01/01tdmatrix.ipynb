{
  "cells": [
    {
      "metadata": {
        "id": "7266022d411c887f"
      },
      "cell_type": "markdown",
      "source": [
        "# Ejercicio 01: Recuperación de Información Basado en el Modelo de Matriz Término-Documento\n",
        "\n",
        "En este ejercicio, trabajaremos con un corpus de documentos en formato JSON para implementar un sistema de Recuperación de Información basado en el modelo de espacio vectorial. Seguirás los siguientes pasos:"
      ],
      "id": "7266022d411c887f"
    },
    {
      "metadata": {
        "id": "b20440e0de103cf3"
      },
      "cell_type": "markdown",
      "source": [
        "## Paso 1: Determinar un vocabulario\n",
        "El primer paso es cargar el corpus en formato JSON, extraer los textos de los documentos y crear el vocabulario."
      ],
      "id": "b20440e0de103cf3"
    },
    {
      "cell_type": "code",
      "id": "initial_id",
      "metadata": {
        "collapsed": true,
        "ExecuteTime": {
          "end_time": "2024-10-22T12:22:34.639750Z",
          "start_time": "2024-10-22T12:22:34.631518Z"
        },
        "id": "initial_id"
      },
      "source": [
        "import json\n",
        "datos = []\n",
        "with open(file='../01tdmatrix_corpus.json', mode='r', encoding='utf-8') as file:\n",
        "    datos = json.load(file)"
      ],
      "outputs": [],
      "execution_count": 1
    },
    {
      "metadata": {
        "ExecuteTime": {
          "end_time": "2024-10-22T12:28:42.503285Z",
          "start_time": "2024-10-22T12:28:42.487436Z"
        },
        "colab": {
          "base_uri": "https://localhost:8080/"
        },
        "id": "1cad34a871eac562",
        "outputId": "afb596e4-75e1-4398-bbca-6ee3779f593b"
      },
      "cell_type": "code",
      "source": [
        "print(datos[0]['text'].lower())"
      ],
      "id": "1cad34a871eac562",
      "outputs": [
        {
          "output_type": "stream",
          "name": "stdout",
          "text": [
            "la inteligencia artificial continúa avanzando rápidamente, transformando sectores como la salud y las finanzas. las empresas están adoptando algoritmos de aprendizaje automático para mejorar la eficiencia. sin embargo, el desafío principal sigue siendo garantizar que las decisiones basadas en datos sean justas y no perpetúen sesgos. la ética es fundamental en este contexto.\n"
          ]
        }
      ],
      "execution_count": 2
    },
    {
      "metadata": {
        "ExecuteTime": {
          "end_time": "2024-10-22T12:29:11.334724Z",
          "start_time": "2024-10-22T12:29:11.319181Z"
        },
        "colab": {
          "base_uri": "https://localhost:8080/"
        },
        "id": "186d5925bdd633b0",
        "outputId": "74d48701-75c8-4645-9b08-1869b58f9a44"
      },
      "cell_type": "code",
      "source": [
        "print(datos[0]['text'].lower().split())"
      ],
      "id": "186d5925bdd633b0",
      "outputs": [
        {
          "output_type": "stream",
          "name": "stdout",
          "text": [
            "['la', 'inteligencia', 'artificial', 'continúa', 'avanzando', 'rápidamente,', 'transformando', 'sectores', 'como', 'la', 'salud', 'y', 'las', 'finanzas.', 'las', 'empresas', 'están', 'adoptando', 'algoritmos', 'de', 'aprendizaje', 'automático', 'para', 'mejorar', 'la', 'eficiencia.', 'sin', 'embargo,', 'el', 'desafío', 'principal', 'sigue', 'siendo', 'garantizar', 'que', 'las', 'decisiones', 'basadas', 'en', 'datos', 'sean', 'justas', 'y', 'no', 'perpetúen', 'sesgos.', 'la', 'ética', 'es', 'fundamental', 'en', 'este', 'contexto.']\n"
          ]
        }
      ],
      "execution_count": 3
    },
    {
      "metadata": {
        "ExecuteTime": {
          "end_time": "2024-10-22T12:29:44.074040Z",
          "start_time": "2024-10-22T12:29:44.059539Z"
        },
        "colab": {
          "base_uri": "https://localhost:8080/"
        },
        "id": "63b4fbc92a3a663d",
        "outputId": "bfbdf551-c16c-417f-b6ef-52aeba45da94"
      },
      "cell_type": "code",
      "source": [
        "vocab = set(datos[0]['text'].lower().split())\n",
        "print(vocab)\n",
        "print(len(vocab))"
      ],
      "id": "63b4fbc92a3a663d",
      "outputs": [
        {
          "output_type": "stream",
          "name": "stdout",
          "text": [
            "{'sin', 'algoritmos', 'rápidamente,', 'que', 'perpetúen', 'sectores', 'basadas', 'salud', 'de', 'datos', 'están', 'garantizar', 'artificial', 'ética', 'transformando', 'contexto.', 'este', 'aprendizaje', 'y', 'sigue', 'mejorar', 'es', 'embargo,', 'fundamental', 'sesgos.', 'decisiones', 'en', 'principal', 'no', 'desafío', 'sean', 'finanzas.', 'como', 'avanzando', 'el', 'empresas', 'eficiencia.', 'automático', 'adoptando', 'la', 'para', 'las', 'continúa', 'inteligencia', 'siendo', 'justas'}\n",
            "46\n"
          ]
        }
      ],
      "execution_count": 4
    },
    {
      "metadata": {
        "ExecuteTime": {
          "end_time": "2024-10-22T12:36:39.293698Z",
          "start_time": "2024-10-22T12:36:39.280871Z"
        },
        "colab": {
          "base_uri": "https://localhost:8080/"
        },
        "id": "5eded2ae4aeba3e2",
        "outputId": "ecfa609b-7d3e-4ee0-aa64-1df8f4dccb30"
      },
      "cell_type": "code",
      "source": [
        "vocab = []\n",
        "for i in range(0,len(datos)):\n",
        "    vocab.extend(datos[i]['text'].lower().replace(',','').replace('.','').split())\n",
        "\n",
        "vocab = set(vocab)\n",
        "print(len(vocab))\n",
        "print(vocab)"
      ],
      "id": "5eded2ae4aeba3e2",
      "outputs": [
        {
          "output_type": "stream",
          "name": "stdout",
          "text": [
            "230\n",
            "{'sino', 'está', 'otros', 'que', 'digitales', 'educativa', 'escenas', 'permitido', 'avanzadas', 'están', 'garantizar', 'cine', 'aquellos', 'planetas', 'contexto', 'alcanzado', 'diagnostican', 'este', 'interacción', 'incorporando', 'eficiencia', 'sus', 'humanidad', 'muchas', 'diarias', 'sigue', 'personalizadas', 'mejorar', 'herramientas', 'es', 'electrónico', 'cambiando', 'promueven', 'evolucionado', 'en', 'creciente', 'pueden', 'educación', 'trabajos', 'prometedor', 'recomendaciones', 'como', 'literarios', 'convertido', 'línea', 'finanzas', 'futuro', 'su', 'facilitando', 'para', 'mercado', 'siguen', 'enfoque', 'embargo', 'contenido', 'vida', 'eficaces', 'nuevo', 'completo', 'ubicación', 'ahora', 'vez', 'género', 'consumidores', 'sin', 'tiempo', 'nivel', 'portátiles', 'perpetúen', 'un', 'acceder', 'mundo', 'salud', 'desde', 'telemedicina', 'bienestar', 'habilidades', 'crecimiento', 'jugadores', 'invita', 'democratizando', 'transformando', 'monitorean', 'aplicaciones', 'plataformas', 'realidad', 'competencias', 'fundamental', 'atraen', 'usuario', 'ficción', 'personal', 'comercio', 'enfermedades', 'buscan', 'tratan', 'explorando', 'a', 'avanzando', 'tecnologías', 'empresas', 'géneros', 'impulsa', 'personalizados', 'adoptando', 'desarrollo', 'calidad', 'entretiene', 'acceso', 'continúa', 'inteligencia', 'aumento', 'también', 'rápidos', 'sectores', 'transformado', 'mejorando', 'forma', 'desafían', 'mejores', 'estudiantes', 'accesibles', 'profesionales', 'optimizando', 'libros', 'artificial', 'ética', 'inmersivos', 'demanda', 'reflexionar', 'distancia', 'videojuegos', 'reto', 'programas', 'dispositivos', 'integral', 'viaje', 'efectos', 'rápidamente', 'tecnología', 'transacciones', 'todo', 'cada', 'mayores', 'compras', 'principal', 'visuales', 'más', 'implicaciones', 'sean', 'cómo', 'el', 'con', 'películas', 'cuidados', 'cuándo', 'utilizan', 'automático', 'nuevas', 'la', 'las', 'sobre', 'flexibilidad', 'adopción', 'beneficios', 'solo', 'siendo', 'millones', 'tecnológicos', 'individual', 'populares', 'real', 'hasta', 'experiencias', 'algoritmos', 'streaming', 'presencial', 'consume', 'avances', 'basadas', 'ofrecer', 'producciones', 'de', 'años', 'se', 'datos', 'además', 'compramos', 'los', 'pagos', 'aunque', 'experiencia', 'prioridad', 'series', 'aprendizaje', 'y', 'cinematográficas', 'llevado', 'crear', 'realistas', 'permitiendo', 'mundos', 'uno', 'aumentada', 'una', 'ciencia', 'decisiones', 'falta', 'virtuales', 'espectadores', 'cursos', 'sesgos', 'e-sports', 'no', 'personas', 'ha', 'médicos', 'desafío', 'saludables', 'interactuar', 'público', 'importar', 'donde', 'medicina', 'tratamientos', 'hábitos', 'cambiado', 'temas', 'especialmente', 'justas'}\n"
          ]
        }
      ],
      "execution_count": 5
    },
    {
      "metadata": {
        "id": "549d0d8b6f7ed0a2"
      },
      "cell_type": "markdown",
      "source": [
        "## Paso 2: Calcular una matriz término-documento\n",
        "Una vez que tenemos el vocabulario, el siguiente paso es construir una **matriz término-documento**, que nos permitirá representar cada documento como un vector en el espacio de términos."
      ],
      "id": "549d0d8b6f7ed0a2"
    },
    {
      "metadata": {
        "ExecuteTime": {
          "end_time": "2024-10-22T13:00:04.977448Z",
          "start_time": "2024-10-22T13:00:04.961452Z"
        },
        "id": "4b35c2996c774ec2"
      },
      "cell_type": "code",
      "source": [
        "def tdtransform(text):\n",
        "    doc = []\n",
        "    for word in vocab:\n",
        "        if word in text.lower().replace(',','').replace('.','').split():\n",
        "           doc.append(1)\n",
        "        else:\n",
        "            doc.append(0)\n",
        "    return doc"
      ],
      "id": "4b35c2996c774ec2",
      "outputs": [],
      "execution_count": 6
    },
    {
      "metadata": {
        "ExecuteTime": {
          "end_time": "2024-10-22T13:00:30.419629Z",
          "start_time": "2024-10-22T13:00:30.382836Z"
        },
        "colab": {
          "base_uri": "https://localhost:8080/"
        },
        "id": "1b052a6cd19731a5",
        "outputId": "0e883b9e-9425-446a-a8ce-ce0a2217b90f"
      },
      "cell_type": "code",
      "source": [
        "tdmatrix = []\n",
        "for i in range(0,len(datos)):\n",
        "    doc = tdtransform(text=datos[i]['text'])\n",
        "    tdmatrix.append(doc)\n",
        "\n",
        "print(tdmatrix)"
      ],
      "id": "1b052a6cd19731a5",
      "outputs": [
        {
          "output_type": "stream",
          "name": "stdout",
          "text": [
            "[[0, 0, 0, 1, 0, 0, 0, 0, 0, 1, 1, 0, 0, 0, 1, 0, 0, 1, 0, 0, 1, 0, 0, 0, 0, 1, 0, 1, 0, 1, 0, 0, 0, 0, 1, 0, 0, 0, 0, 0, 0, 1, 0, 0, 0, 1, 0, 0, 0, 1, 0, 0, 0, 1, 0, 0, 0, 0, 0, 0, 0, 0, 0, 0, 1, 0, 0, 0, 1, 0, 0, 0, 1, 0, 0, 0, 0, 0, 0, 0, 0, 1, 0, 0, 0, 0, 0, 1, 0, 0, 0, 0, 0, 0, 0, 0, 0, 0, 1, 0, 1, 0, 0, 0, 1, 0, 0, 0, 0, 1, 1, 0, 0, 0, 1, 0, 0, 0, 0, 0, 0, 0, 0, 0, 0, 1, 1, 0, 0, 0, 0, 0, 0, 0, 0, 0, 0, 0, 1, 0, 0, 0, 0, 0, 0, 1, 0, 0, 0, 1, 0, 1, 0, 0, 0, 0, 0, 1, 0, 1, 1, 0, 0, 0, 0, 0, 1, 0, 0, 0, 0, 0, 0, 0, 1, 0, 0, 0, 0, 1, 0, 0, 1, 0, 0, 1, 0, 0, 0, 0, 0, 0, 0, 0, 1, 1, 0, 0, 0, 0, 0, 0, 0, 0, 0, 0, 1, 0, 0, 0, 0, 1, 0, 1, 0, 0, 0, 1, 0, 0, 0, 0, 0, 0, 0, 0, 0, 0, 0, 1], [0, 0, 0, 0, 0, 0, 0, 0, 0, 0, 0, 0, 0, 0, 0, 1, 0, 1, 0, 0, 0, 0, 0, 0, 0, 0, 0, 0, 0, 0, 0, 0, 0, 0, 1, 0, 1, 0, 0, 0, 0, 1, 0, 0, 0, 0, 0, 0, 0, 0, 1, 0, 0, 0, 0, 0, 0, 1, 0, 0, 1, 0, 0, 0, 0, 0, 1, 0, 0, 1, 0, 1, 0, 0, 0, 0, 0, 1, 1, 0, 0, 0, 0, 0, 0, 1, 1, 0, 1, 0, 0, 0, 0, 0, 0, 0, 0, 1, 0, 1, 0, 0, 1, 0, 0, 1, 0, 0, 0, 0, 1, 0, 1, 0, 0, 0, 0, 0, 0, 0, 0, 0, 1, 0, 0, 1, 0, 1, 0, 0, 0, 1, 0, 0, 0, 0, 0, 0, 0, 0, 0, 1, 0, 0, 0, 0, 0, 1, 0, 0, 0, 1, 1, 0, 0, 0, 0, 0, 0, 1, 1, 0, 0, 0, 0, 0, 0, 1, 0, 0, 0, 0, 0, 0, 0, 0, 0, 0, 0, 0, 0, 0, 1, 0, 0, 0, 0, 0, 1, 0, 0, 0, 0, 0, 0, 1, 0, 0, 0, 0, 0, 1, 0, 1, 0, 0, 0, 0, 1, 1, 0, 0, 1, 0, 0, 1, 0, 0, 0, 1, 0, 0, 1, 0, 0, 0, 0, 0, 0, 0], [0, 0, 0, 1, 1, 0, 0, 0, 0, 1, 0, 0, 0, 0, 0, 0, 0, 0, 0, 0, 0, 1, 0, 0, 1, 0, 1, 0, 0, 0, 1, 0, 0, 0, 1, 1, 0, 0, 0, 0, 1, 0, 0, 0, 1, 0, 0, 0, 1, 1, 0, 1, 0, 0, 0, 0, 0, 0, 0, 0, 0, 0, 0, 1, 0, 0, 0, 0, 0, 0, 0, 0, 0, 1, 0, 0, 0, 0, 0, 0, 0, 0, 0, 0, 1, 0, 0, 0, 0, 1, 0, 0, 1, 0, 0, 0, 0, 0, 0, 0, 1, 0, 0, 0, 0, 0, 0, 0, 0, 0, 0, 0, 0, 1, 0, 0, 0, 1, 0, 1, 0, 0, 0, 1, 0, 0, 0, 0, 1, 0, 0, 0, 0, 0, 0, 0, 0, 0, 0, 1, 1, 0, 0, 0, 1, 0, 0, 0, 0, 0, 0, 1, 1, 0, 0, 0, 0, 0, 0, 1, 1, 0, 0, 0, 0, 0, 0, 0, 0, 0, 0, 0, 1, 1, 0, 0, 0, 0, 1, 0, 1, 0, 1, 0, 0, 0, 0, 1, 1, 1, 0, 0, 0, 0, 0, 0, 0, 0, 0, 0, 0, 0, 0, 0, 0, 0, 0, 0, 0, 0, 0, 0, 0, 0, 0, 1, 0, 0, 0, 0, 0, 0, 0, 0, 0, 0, 1, 0, 0, 0], [0, 0, 0, 0, 1, 1, 0, 1, 0, 0, 0, 0, 1, 0, 0, 0, 0, 0, 1, 0, 0, 0, 0, 0, 0, 0, 0, 0, 1, 1, 0, 0, 0, 0, 0, 0, 0, 1, 1, 0, 0, 0, 0, 0, 0, 0, 0, 1, 0, 1, 0, 1, 0, 0, 0, 0, 0, 0, 1, 1, 0, 0, 0, 0, 1, 1, 0, 0, 0, 1, 1, 0, 0, 0, 0, 0, 0, 0, 0, 0, 0, 0, 0, 0, 0, 0, 0, 0, 0, 0, 0, 0, 0, 0, 0, 0, 0, 1, 0, 0, 0, 0, 0, 0, 0, 0, 1, 0, 0, 0, 0, 0, 0, 0, 0, 0, 1, 0, 0, 0, 1, 0, 0, 0, 0, 0, 0, 0, 0, 0, 1, 0, 1, 1, 0, 0, 0, 0, 0, 0, 0, 0, 0, 1, 0, 0, 0, 0, 0, 0, 0, 0, 1, 0, 0, 0, 0, 0, 0, 1, 1, 0, 1, 0, 1, 0, 0, 1, 0, 0, 0, 0, 0, 0, 0, 0, 1, 0, 0, 0, 0, 0, 1, 0, 0, 0, 0, 0, 1, 0, 1, 1, 0, 0, 0, 0, 0, 0, 0, 0, 0, 0, 1, 0, 0, 0, 0, 1, 0, 0, 0, 0, 0, 0, 0, 1, 0, 0, 0, 0, 0, 1, 0, 0, 0, 0, 0, 0, 1, 0], [0, 0, 0, 1, 0, 0, 1, 0, 1, 0, 0, 1, 0, 0, 0, 0, 0, 0, 0, 1, 0, 0, 0, 0, 0, 0, 0, 0, 0, 0, 0, 0, 0, 1, 0, 0, 0, 0, 0, 0, 0, 0, 0, 0, 0, 0, 0, 0, 0, 1, 0, 0, 0, 0, 1, 0, 0, 0, 0, 0, 0, 1, 0, 0, 0, 0, 0, 0, 0, 0, 0, 0, 0, 0, 0, 0, 0, 0, 0, 0, 1, 0, 0, 0, 1, 1, 0, 0, 0, 0, 0, 0, 0, 0, 0, 0, 0, 1, 0, 1, 0, 0, 0, 0, 0, 0, 0, 0, 1, 0, 0, 0, 0, 0, 0, 1, 0, 0, 1, 0, 0, 0, 0, 0, 0, 0, 0, 0, 0, 0, 0, 0, 0, 0, 0, 0, 0, 1, 0, 0, 0, 0, 1, 0, 0, 0, 1, 1, 0, 0, 1, 1, 1, 1, 0, 1, 1, 0, 0, 1, 1, 0, 0, 0, 0, 0, 0, 0, 0, 0, 0, 0, 0, 0, 0, 1, 0, 1, 0, 0, 0, 1, 1, 1, 0, 0, 1, 0, 1, 0, 0, 0, 0, 1, 0, 1, 1, 0, 1, 1, 0, 0, 0, 0, 0, 0, 0, 0, 0, 0, 0, 0, 0, 0, 0, 1, 0, 0, 0, 0, 1, 0, 0, 0, 0, 0, 0, 0, 0, 0], [1, 0, 1, 1, 0, 0, 0, 0, 0, 0, 0, 0, 0, 1, 0, 0, 0, 1, 0, 0, 0, 0, 1, 0, 0, 0, 0, 0, 0, 1, 0, 0, 0, 0, 1, 0, 0, 0, 0, 0, 0, 1, 1, 0, 0, 0, 1, 0, 0, 0, 0, 0, 0, 0, 0, 1, 0, 0, 0, 0, 0, 0, 1, 0, 0, 1, 0, 0, 0, 0, 0, 0, 0, 0, 0, 0, 0, 0, 0, 1, 0, 0, 0, 0, 0, 0, 0, 0, 0, 0, 1, 0, 0, 0, 0, 0, 1, 1, 0, 0, 0, 1, 0, 0, 0, 0, 0, 1, 0, 0, 1, 0, 1, 0, 0, 0, 0, 0, 0, 0, 0, 0, 0, 0, 0, 1, 0, 0, 0, 1, 0, 0, 0, 0, 0, 0, 1, 0, 0, 0, 0, 0, 0, 0, 0, 0, 0, 1, 1, 0, 0, 1, 0, 0, 0, 0, 0, 0, 0, 1, 1, 1, 0, 0, 0, 1, 0, 0, 1, 0, 1, 0, 0, 0, 0, 0, 0, 0, 1, 0, 0, 0, 1, 0, 0, 0, 0, 0, 1, 0, 0, 0, 0, 0, 0, 1, 0, 0, 0, 0, 0, 0, 1, 0, 0, 1, 0, 0, 0, 0, 0, 0, 0, 1, 0, 0, 0, 0, 0, 0, 0, 0, 0, 0, 0, 0, 0, 1, 0, 0], [0, 0, 0, 1, 0, 0, 0, 0, 0, 0, 0, 0, 0, 0, 0, 0, 0, 0, 0, 0, 0, 0, 0, 1, 0, 0, 0, 1, 0, 0, 0, 0, 1, 0, 1, 0, 0, 0, 0, 0, 0, 0, 0, 1, 0, 0, 0, 1, 0, 1, 0, 0, 1, 0, 0, 1, 0, 0, 0, 0, 0, 0, 0, 0, 0, 0, 0, 0, 0, 1, 0, 0, 0, 1, 0, 1, 1, 1, 0, 0, 0, 0, 0, 1, 0, 0, 0, 0, 0, 0, 0, 1, 0, 0, 1, 0, 0, 1, 0, 0, 0, 0, 0, 0, 0, 1, 1, 0, 0, 0, 0, 1, 0, 0, 0, 0, 0, 0, 0, 0, 0, 0, 0, 0, 1, 0, 0, 0, 1, 0, 0, 0, 0, 0, 0, 1, 0, 0, 0, 0, 0, 0, 0, 0, 0, 0, 0, 0, 0, 0, 0, 1, 0, 0, 0, 0, 0, 0, 1, 1, 0, 0, 0, 1, 0, 0, 0, 0, 0, 1, 0, 0, 1, 0, 0, 0, 0, 0, 0, 0, 0, 0, 1, 0, 1, 0, 0, 0, 0, 0, 0, 0, 1, 0, 1, 1, 0, 1, 0, 0, 0, 0, 0, 0, 1, 0, 0, 0, 0, 0, 1, 0, 0, 0, 1, 1, 0, 0, 1, 0, 0, 0, 0, 0, 0, 1, 0, 0, 0, 0], [0, 1, 0, 1, 0, 0, 0, 0, 0, 1, 0, 0, 0, 0, 0, 0, 1, 0, 0, 0, 0, 0, 0, 0, 0, 0, 0, 0, 0, 1, 0, 1, 0, 0, 1, 0, 0, 0, 0, 1, 0, 0, 0, 0, 0, 0, 1, 0, 0, 0, 0, 0, 0, 0, 0, 0, 1, 0, 0, 0, 0, 0, 0, 0, 0, 1, 0, 1, 0, 0, 0, 0, 1, 1, 1, 0, 0, 0, 0, 0, 0, 0, 1, 0, 0, 0, 0, 0, 0, 0, 0, 0, 0, 1, 0, 1, 0, 1, 0, 0, 0, 0, 0, 1, 0, 0, 0, 0, 0, 0, 0, 0, 0, 0, 0, 0, 0, 1, 0, 0, 0, 1, 0, 0, 0, 0, 0, 0, 0, 0, 0, 0, 0, 0, 1, 0, 0, 0, 0, 1, 0, 0, 0, 0, 0, 0, 0, 1, 0, 0, 0, 1, 1, 0, 1, 0, 0, 0, 0, 1, 1, 0, 0, 0, 0, 0, 0, 0, 0, 0, 0, 1, 1, 0, 0, 0, 0, 0, 1, 0, 1, 0, 1, 0, 1, 0, 0, 0, 1, 0, 0, 0, 0, 0, 0, 1, 0, 0, 0, 0, 1, 0, 0, 0, 0, 0, 0, 0, 0, 0, 0, 0, 0, 0, 0, 0, 1, 0, 0, 0, 0, 0, 0, 1, 1, 0, 0, 0, 0, 0]]\n"
          ]
        }
      ],
      "execution_count": 23
    },
    {
      "metadata": {
        "id": "a0abcd20f7bb7c44"
      },
      "cell_type": "markdown",
      "source": [
        "## Paso 3: Obtener una representación de una _query_ en el espacio término-documento\n",
        "Ahora vamos a representar una _query_ como un vector en el mismo espacio de términos que hicimos para el corpus."
      ],
      "id": "a0abcd20f7bb7c44"
    },
    {
      "metadata": {
        "ExecuteTime": {
          "end_time": "2024-10-22T13:01:09.239680Z",
          "start_time": "2024-10-22T13:01:09.223561Z"
        },
        "colab": {
          "base_uri": "https://localhost:8080/"
        },
        "id": "f4abdc2c22664498",
        "outputId": "391baefc-a2f7-43ff-9e17-6ae12b710936"
      },
      "cell_type": "code",
      "source": [
        "tqueries = []\n",
        "queries = [\"inteligencia artificial en medicina\",\n",
        "           \"beneficios de la educacion a distancia\",\n",
        "           \"realidad aumentada en videojuegos\",\n",
        "           \"desarrollo personal y habitos saludables\",\n",
        "           \"futuro del comercio electronico\",\n",
        "           \"tecnologias en cine moderno\",\n",
        "           \"competencias de e-sports\",\n",
        "           \"diagnostico con dispositivos portatiles\",\n",
        "           \"plataformas de streaming\"]\n",
        "for i in range(0,len(queries)):\n",
        "    query = tdtransform(text=queries[i])\n",
        "    tqueries.append(query)\n",
        "    print(query)\n",
        "\n",
        "print(tdtransform(query1))"
      ],
      "id": "f4abdc2c22664498",
      "outputs": [
        {
          "output_type": "stream",
          "name": "stdout",
          "text": [
            "[0, 0, 0, 0, 0, 0, 0, 0, 0, 0, 0, 0, 0, 0, 0, 0, 0, 0, 0, 0, 0, 0, 0, 0, 0, 0, 0, 0, 0, 0, 0, 0, 0, 0, 1, 0, 0, 0, 0, 0, 0, 0, 0, 0, 0, 0, 0, 0, 0, 0, 0, 0, 0, 0, 0, 0, 0, 0, 0, 0, 0, 0, 0, 0, 0, 0, 0, 0, 0, 0, 0, 0, 0, 0, 0, 0, 0, 0, 0, 0, 0, 0, 0, 0, 0, 0, 0, 0, 0, 0, 0, 0, 0, 0, 0, 0, 0, 0, 0, 0, 0, 0, 0, 0, 0, 0, 0, 0, 0, 0, 1, 0, 0, 0, 0, 0, 0, 0, 0, 0, 0, 0, 0, 0, 0, 1, 0, 0, 0, 0, 0, 0, 0, 0, 0, 0, 0, 0, 0, 0, 0, 0, 0, 0, 0, 0, 0, 0, 0, 0, 0, 0, 0, 0, 0, 0, 0, 0, 0, 0, 0, 0, 0, 0, 0, 0, 0, 0, 0, 0, 0, 0, 0, 0, 0, 0, 0, 0, 0, 0, 0, 0, 0, 0, 0, 0, 0, 0, 0, 0, 0, 0, 0, 0, 0, 0, 0, 0, 0, 0, 0, 0, 0, 0, 0, 0, 0, 0, 0, 0, 0, 0, 0, 0, 0, 0, 0, 0, 0, 0, 0, 0, 0, 1, 0, 0, 0, 0, 0, 0]\n",
            "[0, 0, 0, 0, 0, 0, 0, 0, 0, 0, 0, 0, 0, 0, 0, 0, 0, 0, 0, 0, 0, 0, 0, 0, 0, 0, 0, 0, 0, 0, 0, 0, 0, 0, 0, 0, 0, 0, 0, 0, 0, 0, 0, 0, 0, 0, 0, 0, 0, 0, 0, 0, 0, 0, 0, 0, 0, 0, 0, 0, 0, 0, 0, 0, 0, 0, 0, 0, 0, 0, 0, 0, 0, 0, 0, 0, 0, 0, 0, 0, 0, 0, 0, 0, 0, 0, 0, 0, 0, 0, 0, 0, 0, 0, 0, 0, 0, 1, 0, 0, 0, 0, 0, 0, 0, 0, 0, 0, 0, 0, 0, 0, 0, 0, 0, 0, 0, 0, 0, 0, 0, 0, 0, 0, 0, 0, 0, 0, 0, 0, 1, 0, 0, 0, 0, 0, 0, 0, 0, 0, 0, 0, 0, 0, 0, 0, 0, 0, 0, 0, 0, 0, 0, 0, 0, 0, 0, 0, 0, 1, 0, 0, 0, 0, 1, 0, 0, 0, 0, 0, 0, 0, 0, 0, 0, 0, 0, 0, 0, 0, 0, 0, 1, 0, 0, 0, 0, 0, 0, 0, 0, 0, 0, 0, 0, 0, 0, 0, 0, 0, 0, 0, 0, 0, 0, 0, 0, 0, 0, 0, 0, 0, 0, 0, 0, 0, 0, 0, 0, 0, 0, 0, 0, 0, 0, 0, 0, 0, 0, 0]\n",
            "[0, 0, 0, 0, 0, 0, 0, 0, 0, 0, 0, 0, 0, 0, 0, 0, 0, 0, 0, 0, 0, 0, 0, 0, 0, 0, 0, 0, 0, 0, 0, 0, 0, 0, 1, 0, 0, 0, 0, 0, 0, 0, 0, 0, 0, 0, 0, 0, 0, 0, 0, 0, 0, 0, 0, 0, 0, 0, 0, 0, 0, 0, 0, 0, 0, 0, 0, 0, 0, 0, 0, 0, 0, 0, 0, 0, 0, 0, 0, 0, 0, 0, 0, 0, 0, 1, 0, 0, 0, 0, 0, 0, 0, 0, 0, 0, 0, 0, 0, 0, 0, 0, 0, 0, 0, 0, 0, 0, 0, 0, 0, 0, 0, 0, 0, 0, 0, 0, 0, 0, 0, 0, 0, 0, 0, 0, 0, 0, 0, 0, 0, 1, 0, 0, 0, 0, 0, 0, 0, 0, 0, 0, 0, 0, 0, 0, 0, 0, 0, 0, 0, 0, 0, 0, 0, 0, 0, 0, 0, 0, 0, 0, 0, 0, 0, 0, 0, 0, 0, 0, 0, 0, 0, 0, 0, 0, 0, 0, 0, 0, 0, 0, 0, 0, 0, 0, 0, 0, 0, 0, 0, 0, 0, 0, 0, 0, 0, 0, 0, 0, 0, 0, 0, 1, 0, 0, 0, 0, 0, 0, 0, 0, 0, 0, 0, 0, 0, 0, 0, 0, 0, 0, 0, 0, 0, 0, 0, 0, 0, 0]\n",
            "[0, 0, 0, 0, 0, 0, 0, 0, 0, 0, 0, 0, 0, 0, 0, 0, 0, 0, 0, 0, 0, 0, 0, 0, 0, 0, 0, 0, 0, 0, 0, 0, 0, 0, 0, 0, 0, 0, 0, 0, 0, 0, 0, 0, 0, 0, 0, 0, 0, 0, 0, 0, 0, 0, 0, 0, 0, 0, 0, 0, 0, 0, 0, 0, 0, 0, 0, 0, 0, 0, 0, 0, 0, 0, 0, 0, 0, 0, 0, 0, 0, 0, 0, 0, 0, 0, 0, 0, 0, 0, 0, 1, 0, 0, 0, 0, 0, 0, 0, 0, 0, 0, 0, 0, 0, 1, 0, 0, 0, 0, 0, 0, 0, 0, 0, 0, 0, 0, 0, 0, 0, 0, 0, 0, 0, 0, 0, 0, 0, 0, 0, 0, 0, 0, 0, 0, 0, 0, 0, 0, 0, 0, 0, 0, 0, 0, 0, 0, 0, 0, 0, 0, 0, 0, 0, 0, 0, 0, 0, 0, 0, 0, 0, 0, 0, 0, 0, 0, 0, 0, 0, 0, 0, 0, 0, 0, 0, 0, 0, 0, 0, 0, 0, 0, 0, 0, 0, 0, 0, 0, 0, 0, 0, 0, 0, 1, 0, 0, 0, 0, 0, 0, 0, 0, 0, 0, 0, 0, 0, 0, 0, 0, 0, 0, 0, 0, 0, 0, 1, 0, 0, 0, 0, 0, 0, 0, 0, 0, 0, 0]\n",
            "[0, 0, 0, 0, 0, 0, 0, 0, 0, 0, 0, 0, 0, 0, 0, 0, 0, 0, 0, 0, 0, 0, 0, 0, 0, 0, 0, 0, 0, 0, 0, 0, 0, 0, 0, 0, 0, 0, 0, 0, 0, 0, 0, 0, 0, 0, 1, 0, 0, 0, 0, 0, 0, 0, 0, 0, 0, 0, 0, 0, 0, 0, 0, 0, 0, 0, 0, 0, 0, 0, 0, 0, 0, 0, 0, 0, 0, 0, 0, 0, 0, 0, 0, 0, 0, 0, 0, 0, 0, 0, 0, 0, 1, 0, 0, 0, 0, 0, 0, 0, 0, 0, 0, 0, 0, 0, 0, 0, 0, 0, 0, 0, 0, 0, 0, 0, 0, 0, 0, 0, 0, 0, 0, 0, 0, 0, 0, 0, 0, 0, 0, 0, 0, 0, 0, 0, 0, 0, 0, 0, 0, 0, 0, 0, 0, 0, 0, 0, 0, 0, 0, 0, 0, 0, 0, 0, 0, 0, 0, 0, 0, 0, 0, 0, 0, 0, 0, 0, 0, 0, 0, 0, 0, 0, 0, 0, 0, 0, 0, 0, 0, 0, 0, 0, 0, 0, 0, 0, 0, 0, 0, 0, 0, 0, 0, 0, 0, 0, 0, 0, 0, 0, 0, 0, 0, 0, 0, 0, 0, 0, 0, 0, 0, 0, 0, 0, 0, 0, 0, 0, 0, 0, 0, 0, 0, 0, 0, 0, 0, 0]\n",
            "[0, 0, 0, 0, 0, 0, 0, 0, 0, 0, 0, 1, 0, 0, 0, 0, 0, 0, 0, 0, 0, 0, 0, 0, 0, 0, 0, 0, 0, 0, 0, 0, 0, 0, 1, 0, 0, 0, 0, 0, 0, 0, 0, 0, 0, 0, 0, 0, 0, 0, 0, 0, 0, 0, 0, 0, 0, 0, 0, 0, 0, 0, 0, 0, 0, 0, 0, 0, 0, 0, 0, 0, 0, 0, 0, 0, 0, 0, 0, 0, 0, 0, 0, 0, 0, 0, 0, 0, 0, 0, 0, 0, 0, 0, 0, 0, 0, 0, 0, 0, 0, 0, 0, 0, 0, 0, 0, 0, 0, 0, 0, 0, 0, 0, 0, 0, 0, 0, 0, 0, 0, 0, 0, 0, 0, 0, 0, 0, 0, 0, 0, 0, 0, 0, 0, 0, 0, 0, 0, 0, 0, 0, 0, 0, 0, 0, 0, 0, 0, 0, 0, 0, 0, 0, 0, 0, 0, 0, 0, 0, 0, 0, 0, 0, 0, 0, 0, 0, 0, 0, 0, 0, 0, 0, 0, 0, 0, 0, 0, 0, 0, 0, 0, 0, 0, 0, 0, 0, 0, 0, 0, 0, 0, 0, 0, 0, 0, 0, 0, 0, 0, 0, 0, 0, 0, 0, 0, 0, 0, 0, 0, 0, 0, 0, 0, 0, 0, 0, 0, 0, 0, 0, 0, 0, 0, 0, 0, 0, 0, 0]\n",
            "[0, 0, 0, 0, 0, 0, 0, 0, 0, 0, 0, 0, 0, 0, 0, 0, 0, 0, 0, 0, 0, 0, 0, 0, 0, 0, 0, 0, 0, 0, 0, 0, 0, 0, 0, 0, 0, 0, 0, 0, 0, 0, 0, 0, 0, 0, 0, 0, 0, 0, 0, 0, 0, 0, 0, 0, 0, 0, 0, 0, 0, 0, 0, 0, 0, 0, 0, 0, 0, 0, 0, 0, 0, 0, 0, 0, 0, 0, 0, 0, 0, 0, 0, 0, 0, 0, 1, 0, 0, 0, 0, 0, 0, 0, 0, 0, 0, 0, 0, 0, 0, 0, 0, 0, 0, 0, 0, 0, 0, 0, 0, 0, 0, 0, 0, 0, 0, 0, 0, 0, 0, 0, 0, 0, 0, 0, 0, 0, 0, 0, 0, 0, 0, 0, 0, 0, 0, 0, 0, 0, 0, 0, 0, 0, 0, 0, 0, 0, 0, 0, 0, 0, 0, 0, 0, 0, 0, 0, 0, 0, 0, 0, 0, 0, 0, 0, 0, 0, 0, 0, 0, 0, 0, 0, 0, 0, 0, 0, 0, 0, 0, 0, 1, 0, 0, 0, 0, 0, 0, 0, 0, 0, 0, 0, 0, 0, 0, 0, 0, 0, 0, 0, 0, 0, 0, 0, 0, 0, 0, 0, 0, 0, 1, 0, 0, 0, 0, 0, 0, 0, 0, 0, 0, 0, 0, 0, 0, 0, 0, 0]\n",
            "[0, 0, 0, 0, 0, 0, 0, 0, 0, 0, 0, 0, 0, 0, 0, 0, 0, 0, 0, 0, 0, 0, 0, 0, 0, 0, 0, 0, 0, 0, 0, 0, 0, 0, 0, 0, 0, 0, 0, 0, 0, 0, 0, 0, 0, 0, 0, 0, 0, 0, 0, 0, 0, 0, 0, 0, 0, 0, 0, 0, 0, 0, 0, 0, 0, 0, 0, 0, 0, 0, 0, 0, 0, 0, 0, 0, 0, 0, 0, 0, 0, 0, 0, 0, 0, 0, 0, 0, 0, 0, 0, 0, 0, 0, 0, 0, 0, 0, 0, 0, 0, 0, 0, 0, 0, 0, 0, 0, 0, 0, 0, 0, 0, 0, 0, 0, 0, 0, 0, 0, 0, 0, 0, 0, 0, 0, 0, 0, 0, 0, 0, 0, 0, 0, 1, 0, 0, 0, 0, 0, 0, 0, 0, 0, 0, 0, 0, 0, 0, 0, 0, 0, 1, 0, 0, 0, 0, 0, 0, 0, 0, 0, 0, 0, 0, 0, 0, 0, 0, 0, 0, 0, 0, 0, 0, 0, 0, 0, 0, 0, 0, 0, 0, 0, 0, 0, 0, 0, 0, 0, 0, 0, 0, 0, 0, 0, 0, 0, 0, 0, 0, 0, 0, 0, 0, 0, 0, 0, 0, 0, 0, 0, 0, 0, 0, 0, 0, 0, 0, 0, 0, 0, 0, 0, 0, 0, 0, 0, 0, 0]\n",
            "[0, 0, 0, 0, 0, 0, 0, 0, 0, 0, 0, 0, 0, 0, 0, 0, 0, 0, 0, 0, 0, 0, 0, 0, 0, 0, 0, 0, 0, 0, 0, 0, 0, 0, 0, 0, 0, 0, 0, 0, 0, 0, 0, 0, 0, 0, 0, 0, 0, 0, 0, 0, 0, 0, 0, 0, 0, 0, 0, 0, 0, 0, 0, 0, 0, 0, 0, 0, 0, 0, 0, 0, 0, 0, 0, 0, 0, 0, 0, 0, 0, 0, 0, 0, 1, 0, 0, 0, 0, 0, 0, 0, 0, 0, 0, 0, 0, 0, 0, 0, 0, 0, 0, 0, 0, 0, 0, 0, 0, 0, 0, 0, 0, 0, 0, 0, 0, 0, 0, 0, 0, 0, 0, 0, 0, 0, 0, 0, 0, 0, 0, 0, 0, 0, 0, 0, 0, 0, 0, 0, 0, 0, 0, 0, 0, 0, 0, 0, 0, 0, 0, 0, 0, 0, 0, 0, 0, 0, 0, 0, 0, 0, 0, 0, 0, 0, 0, 0, 0, 0, 0, 0, 0, 0, 0, 1, 0, 0, 0, 0, 0, 0, 1, 0, 0, 0, 0, 0, 0, 0, 0, 0, 0, 0, 0, 0, 0, 0, 0, 0, 0, 0, 0, 0, 0, 0, 0, 0, 0, 0, 0, 0, 0, 0, 0, 0, 0, 0, 0, 0, 0, 0, 0, 0, 0, 0, 0, 0, 0, 0]\n",
            "[0, 0, 0, 0, 0, 0, 0, 0, 0, 0, 0, 0, 0, 0, 0, 0, 0, 0, 0, 0, 0, 0, 0, 0, 0, 0, 0, 0, 0, 0, 0, 0, 0, 0, 1, 0, 0, 0, 0, 0, 0, 0, 0, 0, 0, 0, 0, 0, 0, 0, 0, 0, 0, 0, 0, 0, 0, 0, 0, 0, 0, 0, 0, 0, 0, 0, 0, 0, 0, 0, 0, 0, 0, 0, 0, 0, 0, 0, 0, 0, 0, 0, 0, 0, 0, 0, 0, 0, 0, 0, 0, 0, 0, 0, 0, 0, 0, 0, 0, 0, 0, 0, 0, 0, 0, 0, 0, 0, 0, 0, 1, 0, 0, 0, 0, 0, 0, 0, 0, 0, 0, 0, 0, 0, 0, 1, 0, 0, 0, 0, 0, 0, 0, 0, 0, 0, 0, 0, 0, 0, 0, 0, 0, 0, 0, 0, 0, 0, 0, 0, 0, 0, 0, 0, 0, 0, 0, 0, 0, 0, 0, 0, 0, 0, 0, 0, 0, 0, 0, 0, 0, 0, 0, 0, 0, 0, 0, 0, 0, 0, 0, 0, 0, 0, 0, 0, 0, 0, 0, 0, 0, 0, 0, 0, 0, 0, 0, 0, 0, 0, 0, 0, 0, 0, 0, 0, 0, 0, 0, 0, 0, 0, 0, 0, 0, 0, 0, 0, 0, 0, 0, 0, 0, 1, 0, 0, 0, 0, 0, 0]\n"
          ]
        }
      ],
      "execution_count": 27
    },
    {
      "metadata": {
        "id": "49b612552e0a24cb"
      },
      "cell_type": "markdown",
      "source": [
        "## Paso 4: Calcular la distancia entre la _query_ y todos los documentos del corpus\n",
        "Al obtener la distancia Jaccard entre la _query_ y cada documento del corpus, calculamos la relevancia que tiene cada documento para la _query_"
      ],
      "id": "49b612552e0a24cb"
    },
    {
      "metadata": {
        "colab": {
          "base_uri": "https://localhost:8080/"
        },
        "id": "b60c6b18c45dcb83",
        "outputId": "f10f9247-c724-46a7-f49b-4e4766e796b8"
      },
      "cell_type": "code",
      "outputs": [
        {
          "output_type": "stream",
          "name": "stdout",
          "text": [
            "Query 1: inteligencia artificial en medicina\n",
            "Distancia de Jaccard entre la query y el documento 1: 0.064\n",
            "Distancia de Jaccard entre la query y el documento 2: 0.067\n",
            "Distancia de Jaccard entre la query y el documento 3: 0.022\n",
            "Distancia de Jaccard entre la query y el documento 4: 0.0\n",
            "Distancia de Jaccard entre la query y el documento 5: 0.0\n",
            "Distancia de Jaccard entre la query y el documento 6: 0.07\n",
            "Distancia de Jaccard entre la query y el documento 7: 0.022\n",
            "Distancia de Jaccard entre la query y el documento 8: 0.045\n",
            "\n",
            "Query 2: beneficios de la educacion a distancia\n",
            "Distancia de Jaccard entre la query y el documento 1: 0.041\n",
            "Distancia de Jaccard entre la query y el documento 2: 0.065\n",
            "Distancia de Jaccard entre la query y el documento 3: 0.044\n",
            "Distancia de Jaccard entre la query y el documento 4: 0.119\n",
            "Distancia de Jaccard entre la query y el documento 5: 0.067\n",
            "Distancia de Jaccard entre la query y el documento 6: 0.068\n",
            "Distancia de Jaccard entre la query y el documento 7: 0.067\n",
            "Distancia de Jaccard entre la query y el documento 8: 0.068\n",
            "\n",
            "Query 3: realidad aumentada en videojuegos\n",
            "Distancia de Jaccard entre la query y el documento 1: 0.02\n",
            "Distancia de Jaccard entre la query y el documento 2: 0.091\n",
            "Distancia de Jaccard entre la query y el documento 3: 0.022\n",
            "Distancia de Jaccard entre la query y el documento 4: 0.0\n",
            "Distancia de Jaccard entre la query y el documento 5: 0.022\n",
            "Distancia de Jaccard entre la query y el documento 6: 0.022\n",
            "Distancia de Jaccard entre la query y el documento 7: 0.022\n",
            "Distancia de Jaccard entre la query y el documento 8: 0.022\n",
            "\n",
            "Query 4: desarrollo personal y habitos saludables\n",
            "Distancia de Jaccard entre la query y el documento 1: 0.02\n",
            "Distancia de Jaccard entre la query y el documento 2: 0.043\n",
            "Distancia de Jaccard entre la query y el documento 3: 0.0\n",
            "Distancia de Jaccard entre la query y el documento 4: 0.0\n",
            "Distancia de Jaccard entre la query y el documento 5: 0.022\n",
            "Distancia de Jaccard entre la query y el documento 6: 0.022\n",
            "Distancia de Jaccard entre la query y el documento 7: 0.093\n",
            "Distancia de Jaccard entre la query y el documento 8: 0.022\n",
            "\n",
            "Query 5: futuro del comercio electronico\n",
            "Distancia de Jaccard entre la query y el documento 1: 0.0\n",
            "Distancia de Jaccard entre la query y el documento 2: 0.0\n",
            "Distancia de Jaccard entre la query y el documento 3: 0.023\n",
            "Distancia de Jaccard entre la query y el documento 4: 0.0\n",
            "Distancia de Jaccard entre la query y el documento 5: 0.0\n",
            "Distancia de Jaccard entre la query y el documento 6: 0.023\n",
            "Distancia de Jaccard entre la query y el documento 7: 0.0\n",
            "Distancia de Jaccard entre la query y el documento 8: 0.023\n",
            "\n",
            "Query 6: tecnologias en cine moderno\n",
            "Distancia de Jaccard entre la query y el documento 1: 0.021\n",
            "Distancia de Jaccard entre la query y el documento 2: 0.022\n",
            "Distancia de Jaccard entre la query y el documento 3: 0.023\n",
            "Distancia de Jaccard entre la query y el documento 4: 0.0\n",
            "Distancia de Jaccard entre la query y el documento 5: 0.023\n",
            "Distancia de Jaccard entre la query y el documento 6: 0.023\n",
            "Distancia de Jaccard entre la query y el documento 7: 0.023\n",
            "Distancia de Jaccard entre la query y el documento 8: 0.023\n",
            "\n",
            "Query 7: competencias de e-sports\n",
            "Distancia de Jaccard entre la query y el documento 1: 0.021\n",
            "Distancia de Jaccard entre la query y el documento 2: 0.068\n",
            "Distancia de Jaccard entre la query y el documento 3: 0.023\n",
            "Distancia de Jaccard entre la query y el documento 4: 0.023\n",
            "Distancia de Jaccard entre la query y el documento 5: 0.022\n",
            "Distancia de Jaccard entre la query y el documento 6: 0.023\n",
            "Distancia de Jaccard entre la query y el documento 7: 0.022\n",
            "Distancia de Jaccard entre la query y el documento 8: 0.023\n",
            "\n",
            "Query 8: diagnostico con dispositivos portatiles\n",
            "Distancia de Jaccard entre la query y el documento 1: 0.0\n",
            "Distancia de Jaccard entre la query y el documento 2: 0.022\n",
            "Distancia de Jaccard entre la query y el documento 3: 0.023\n",
            "Distancia de Jaccard entre la query y el documento 4: 0.023\n",
            "Distancia de Jaccard entre la query y el documento 5: 0.023\n",
            "Distancia de Jaccard entre la query y el documento 6: 0.0\n",
            "Distancia de Jaccard entre la query y el documento 7: 0.0\n",
            "Distancia de Jaccard entre la query y el documento 8: 0.048\n",
            "\n",
            "Query 9: plataformas de streaming\n",
            "Distancia de Jaccard entre la query y el documento 1: 0.021\n",
            "Distancia de Jaccard entre la query y el documento 2: 0.022\n",
            "Distancia de Jaccard entre la query y el documento 3: 0.047\n",
            "Distancia de Jaccard entre la query y el documento 4: 0.023\n",
            "Distancia de Jaccard entre la query y el documento 5: 0.07\n",
            "Distancia de Jaccard entre la query y el documento 6: 0.023\n",
            "Distancia de Jaccard entre la query y el documento 7: 0.022\n",
            "Distancia de Jaccard entre la query y el documento 8: 0.023\n",
            "\n"
          ]
        }
      ],
      "execution_count": 39,
      "source": [
        "from collections import Counter\n",
        "\n",
        "def jaccard(query, doc):\n",
        "    # Calcula la intersección (unos comunes en ambos vectores)\n",
        "    intersection = sum(1 for i, j in zip(query, doc) if i == j == 1)\n",
        "    #print(f\"intersección: {intersection}\")\n",
        "\n",
        "    # Calcula la unión (total de unos en cualquiera de los vectores)\n",
        "    union = sum(1 for i, j in zip(query, doc) if i == 1 or j == 1)\n",
        "    #print(f\"Unión: {union}\")\n",
        "\n",
        "    # Si la unión es 0, los vectores son idénticos o no contienen unos\n",
        "    if union == 0:\n",
        "        return 0.0\n",
        "\n",
        "    # Calcula la distancia de Jaccard\n",
        "\n",
        "    return round(intersection / union, 3)\n",
        "\n",
        "# Ejemplo de uso:\n",
        "# query_vector = tdtransform(query)\n",
        "results = []\n",
        "for i in range(len(tqueries)):\n",
        "  print(f\"Query {i+1}: {queries[i]}\")\n",
        "  query_vector = tqueries[i]\n",
        "  query_results = []\n",
        "  for i in range(len(tdmatrix)):\n",
        "    document_vector = tdmatrix[i]\n",
        "    distance = jaccard(query_vector, document_vector)\n",
        "    query_results.append(distance)\n",
        "    print(f\"Distancia de Jaccard entre la query y el documento {i+1}: {distance}\")\n",
        "  print()\n",
        "  results.append(query_results)"
      ],
      "id": "b60c6b18c45dcb83"
    },
    {
      "metadata": {
        "id": "3173b4cbd523e996"
      },
      "cell_type": "markdown",
      "source": [
        "## Paso 5: Entregar los resultados de la búsqueda al usuario\n",
        "A partir de la _query_, debemos indicar al usuario cuáles documentos son los más relevantes. Se debe presentar la información en orden de relevancia."
      ],
      "id": "3173b4cbd523e996"
    },
    {
      "metadata": {
        "colab": {
          "base_uri": "https://localhost:8080/"
        },
        "id": "a42b03b1bb879635",
        "outputId": "430f4edf-24a1-4e4f-a8ad-68500729efcb"
      },
      "cell_type": "code",
      "outputs": [
        {
          "output_type": "stream",
          "name": "stdout",
          "text": [
            "Query 1: inteligencia artificial en medicina\n",
            "Resultados de la búsqueda ordenados por relevancia:\n",
            "Documento 6: Distancia de Jaccard = 0.07\n",
            "Documento 2: Distancia de Jaccard = 0.067\n",
            "Documento 1: Distancia de Jaccard = 0.064\n",
            "Documento 8: Distancia de Jaccard = 0.045\n",
            "Documento 3: Distancia de Jaccard = 0.022\n",
            "Documento 7: Distancia de Jaccard = 0.022\n",
            "Documento 4: Distancia de Jaccard = 0.0\n",
            "Documento 5: Distancia de Jaccard = 0.0\n",
            "\n",
            "Query 2: beneficios de la educacion a distancia\n",
            "Resultados de la búsqueda ordenados por relevancia:\n",
            "Documento 4: Distancia de Jaccard = 0.119\n",
            "Documento 6: Distancia de Jaccard = 0.068\n",
            "Documento 8: Distancia de Jaccard = 0.068\n",
            "Documento 5: Distancia de Jaccard = 0.067\n",
            "Documento 7: Distancia de Jaccard = 0.067\n",
            "Documento 2: Distancia de Jaccard = 0.065\n",
            "Documento 3: Distancia de Jaccard = 0.044\n",
            "Documento 1: Distancia de Jaccard = 0.041\n",
            "\n",
            "Query 3: realidad aumentada en videojuegos\n",
            "Resultados de la búsqueda ordenados por relevancia:\n",
            "Documento 2: Distancia de Jaccard = 0.091\n",
            "Documento 3: Distancia de Jaccard = 0.022\n",
            "Documento 5: Distancia de Jaccard = 0.022\n",
            "Documento 6: Distancia de Jaccard = 0.022\n",
            "Documento 7: Distancia de Jaccard = 0.022\n",
            "Documento 8: Distancia de Jaccard = 0.022\n",
            "Documento 1: Distancia de Jaccard = 0.02\n",
            "Documento 4: Distancia de Jaccard = 0.0\n",
            "\n",
            "Query 4: desarrollo personal y habitos saludables\n",
            "Resultados de la búsqueda ordenados por relevancia:\n",
            "Documento 7: Distancia de Jaccard = 0.093\n",
            "Documento 2: Distancia de Jaccard = 0.043\n",
            "Documento 5: Distancia de Jaccard = 0.022\n",
            "Documento 6: Distancia de Jaccard = 0.022\n",
            "Documento 8: Distancia de Jaccard = 0.022\n",
            "Documento 1: Distancia de Jaccard = 0.02\n",
            "Documento 3: Distancia de Jaccard = 0.0\n",
            "Documento 4: Distancia de Jaccard = 0.0\n",
            "\n",
            "Query 5: futuro del comercio electronico\n",
            "Resultados de la búsqueda ordenados por relevancia:\n",
            "Documento 3: Distancia de Jaccard = 0.023\n",
            "Documento 6: Distancia de Jaccard = 0.023\n",
            "Documento 8: Distancia de Jaccard = 0.023\n",
            "Documento 1: Distancia de Jaccard = 0.0\n",
            "Documento 2: Distancia de Jaccard = 0.0\n",
            "Documento 4: Distancia de Jaccard = 0.0\n",
            "Documento 5: Distancia de Jaccard = 0.0\n",
            "Documento 7: Distancia de Jaccard = 0.0\n",
            "\n",
            "Query 6: tecnologias en cine moderno\n",
            "Resultados de la búsqueda ordenados por relevancia:\n",
            "Documento 3: Distancia de Jaccard = 0.023\n",
            "Documento 5: Distancia de Jaccard = 0.023\n",
            "Documento 6: Distancia de Jaccard = 0.023\n",
            "Documento 7: Distancia de Jaccard = 0.023\n",
            "Documento 8: Distancia de Jaccard = 0.023\n",
            "Documento 2: Distancia de Jaccard = 0.022\n",
            "Documento 1: Distancia de Jaccard = 0.021\n",
            "Documento 4: Distancia de Jaccard = 0.0\n",
            "\n",
            "Query 7: competencias de e-sports\n",
            "Resultados de la búsqueda ordenados por relevancia:\n",
            "Documento 2: Distancia de Jaccard = 0.068\n",
            "Documento 3: Distancia de Jaccard = 0.023\n",
            "Documento 4: Distancia de Jaccard = 0.023\n",
            "Documento 6: Distancia de Jaccard = 0.023\n",
            "Documento 8: Distancia de Jaccard = 0.023\n",
            "Documento 5: Distancia de Jaccard = 0.022\n",
            "Documento 7: Distancia de Jaccard = 0.022\n",
            "Documento 1: Distancia de Jaccard = 0.021\n",
            "\n",
            "Query 8: diagnostico con dispositivos portatiles\n",
            "Resultados de la búsqueda ordenados por relevancia:\n",
            "Documento 8: Distancia de Jaccard = 0.048\n",
            "Documento 3: Distancia de Jaccard = 0.023\n",
            "Documento 4: Distancia de Jaccard = 0.023\n",
            "Documento 5: Distancia de Jaccard = 0.023\n",
            "Documento 2: Distancia de Jaccard = 0.022\n",
            "Documento 1: Distancia de Jaccard = 0.0\n",
            "Documento 6: Distancia de Jaccard = 0.0\n",
            "Documento 7: Distancia de Jaccard = 0.0\n",
            "\n",
            "Query 9: plataformas de streaming\n",
            "Resultados de la búsqueda ordenados por relevancia:\n",
            "Documento 5: Distancia de Jaccard = 0.07\n",
            "Documento 3: Distancia de Jaccard = 0.047\n",
            "Documento 4: Distancia de Jaccard = 0.023\n",
            "Documento 6: Distancia de Jaccard = 0.023\n",
            "Documento 8: Distancia de Jaccard = 0.023\n",
            "Documento 2: Distancia de Jaccard = 0.022\n",
            "Documento 7: Distancia de Jaccard = 0.022\n",
            "Documento 1: Distancia de Jaccard = 0.021\n",
            "\n"
          ]
        }
      ],
      "execution_count": 47,
      "source": [
        "for i in range(len(results)):\n",
        "  sorted_results = sorted(enumerate(results[i]), key=lambda x: x[1], reverse=True)\n",
        "  print(f\"Query {i+1}: {queries[i]}\")\n",
        "  print(\"Resultados de la búsqueda ordenados por relevancia:\")\n",
        "  for i, distance in sorted_results:\n",
        "    print(f\"Documento {i+1}: Distancia de Jaccard = {distance}\")\n",
        "  print()\n",
        "\n"
      ],
      "id": "a42b03b1bb879635"
    }
  ],
  "metadata": {
    "kernelspec": {
      "display_name": "Python 3",
      "language": "python",
      "name": "python3"
    },
    "language_info": {
      "codemirror_mode": {
        "name": "ipython",
        "version": 2
      },
      "file_extension": ".py",
      "mimetype": "text/x-python",
      "name": "python",
      "nbconvert_exporter": "python",
      "pygments_lexer": "ipython2",
      "version": "2.7.6"
    },
    "colab": {
      "provenance": []
    }
  },
  "nbformat": 4,
  "nbformat_minor": 5
}