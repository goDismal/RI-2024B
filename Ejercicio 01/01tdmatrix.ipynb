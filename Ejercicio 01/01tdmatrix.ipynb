{
 "cells": [
  {
   "cell_type": "markdown",
   "id": "7266022d411c887f",
   "metadata": {
    "id": "7266022d411c887f"
   },
   "source": [
    "# Ejercicio 01: Recuperación de Información Basado en el Modelo de Matriz Término-Documento\n",
    "\n",
    "En este ejercicio, trabajaremos con un corpus de documentos en formato JSON para implementar un sistema de Recuperación de Información basado en el modelo de espacio vectorial. Seguirás los siguientes pasos:"
   ]
  },
  {
   "cell_type": "markdown",
   "id": "b20440e0de103cf3",
   "metadata": {
    "id": "b20440e0de103cf3"
   },
   "source": [
    "## Paso 1: Determinar un vocabulario\n",
    "El primer paso es cargar el corpus en formato JSON, extraer los textos de los documentos y crear el vocabulario."
   ]
  },
  {
   "cell_type": "code",
   "execution_count": 7,
   "id": "initial_id",
   "metadata": {
    "ExecuteTime": {
     "end_time": "2024-10-22T12:22:34.639750Z",
     "start_time": "2024-10-22T12:22:34.631518Z"
    },
    "collapsed": true,
    "id": "initial_id"
   },
   "outputs": [],
   "source": [
    "import json\n",
    "datos = []\n",
    "with open(file='01tdmatrix_corpus.json', mode='r', encoding='utf-8') as file:\n",
    "    datos = json.load(file)"
   ]
  },
  {
   "cell_type": "code",
   "execution_count": 8,
   "id": "1cad34a871eac562",
   "metadata": {
    "ExecuteTime": {
     "end_time": "2024-10-22T12:28:42.503285Z",
     "start_time": "2024-10-22T12:28:42.487436Z"
    },
    "colab": {
     "base_uri": "https://localhost:8080/"
    },
    "id": "1cad34a871eac562",
    "outputId": "afb596e4-75e1-4398-bbca-6ee3779f593b"
   },
   "outputs": [
    {
     "name": "stdout",
     "output_type": "stream",
     "text": [
      "la inteligencia artificial continúa avanzando rápidamente, transformando sectores como la salud y las finanzas. las empresas están adoptando algoritmos de aprendizaje automático para mejorar la eficiencia. sin embargo, el desafío principal sigue siendo garantizar que las decisiones basadas en datos sean justas y no perpetúen sesgos. la ética es fundamental en este contexto.\n"
     ]
    }
   ],
   "source": [
    "print(datos[0]['text'].lower())"
   ]
  },
  {
   "cell_type": "code",
   "execution_count": 9,
   "id": "186d5925bdd633b0",
   "metadata": {
    "ExecuteTime": {
     "end_time": "2024-10-22T12:29:11.334724Z",
     "start_time": "2024-10-22T12:29:11.319181Z"
    },
    "colab": {
     "base_uri": "https://localhost:8080/"
    },
    "id": "186d5925bdd633b0",
    "outputId": "74d48701-75c8-4645-9b08-1869b58f9a44"
   },
   "outputs": [
    {
     "name": "stdout",
     "output_type": "stream",
     "text": [
      "['la', 'inteligencia', 'artificial', 'continúa', 'avanzando', 'rápidamente,', 'transformando', 'sectores', 'como', 'la', 'salud', 'y', 'las', 'finanzas.', 'las', 'empresas', 'están', 'adoptando', 'algoritmos', 'de', 'aprendizaje', 'automático', 'para', 'mejorar', 'la', 'eficiencia.', 'sin', 'embargo,', 'el', 'desafío', 'principal', 'sigue', 'siendo', 'garantizar', 'que', 'las', 'decisiones', 'basadas', 'en', 'datos', 'sean', 'justas', 'y', 'no', 'perpetúen', 'sesgos.', 'la', 'ética', 'es', 'fundamental', 'en', 'este', 'contexto.']\n"
     ]
    }
   ],
   "source": [
    "print(datos[0]['text'].lower().split())"
   ]
  },
  {
   "cell_type": "code",
   "execution_count": 10,
   "id": "63b4fbc92a3a663d",
   "metadata": {
    "ExecuteTime": {
     "end_time": "2024-10-22T12:29:44.074040Z",
     "start_time": "2024-10-22T12:29:44.059539Z"
    },
    "colab": {
     "base_uri": "https://localhost:8080/"
    },
    "id": "63b4fbc92a3a663d",
    "outputId": "bfbdf551-c16c-417f-b6ef-52aeba45da94"
   },
   "outputs": [
    {
     "name": "stdout",
     "output_type": "stream",
     "text": [
      "{'mejorar', 'la', 'artificial', 'salud', 'finanzas.', 'sigue', 'sean', 'basadas', 'automático', 'transformando', 'decisiones', 'principal', 'sectores', 'están', 'empresas', 'como', 'embargo,', 'algoritmos', 'que', 'y', 'de', 'el', 'sesgos.', 'es', 'inteligencia', 'sin', 'aprendizaje', 'fundamental', 'contexto.', 'adoptando', 'eficiencia.', 'perpetúen', 'este', 'garantizar', 'para', 'avanzando', 'justas', 'en', 'continúa', 'datos', 'rápidamente,', 'desafío', 'siendo', 'las', 'ética', 'no'}\n",
      "46\n"
     ]
    }
   ],
   "source": [
    "vocab = set(datos[0]['text'].lower().split())\n",
    "print(vocab)\n",
    "print(len(vocab))"
   ]
  },
  {
   "cell_type": "code",
   "execution_count": 11,
   "id": "5eded2ae4aeba3e2",
   "metadata": {
    "ExecuteTime": {
     "end_time": "2024-10-22T12:36:39.293698Z",
     "start_time": "2024-10-22T12:36:39.280871Z"
    },
    "colab": {
     "base_uri": "https://localhost:8080/"
    },
    "id": "5eded2ae4aeba3e2",
    "outputId": "ecfa609b-7d3e-4ee0-aa64-1df8f4dccb30"
   },
   "outputs": [
    {
     "name": "stdout",
     "output_type": "stream",
     "text": [
      "230\n",
      "{'mercado', 'virtuales', 'aumentada', 'experiencias', 'películas', 'artificial', 'usuario', 'diarias', 'competencias', 'evolucionado', 'basadas', 'e-sports', 'eficaces', 'temas', 'transformando', 'muchas', 'viaje', 'sectores', 'están', 'planetas', 'empresas', 'tecnología', 'algoritmos', 'es', 'a', 'el', 'un', 'electrónico', 'efectos', 'hasta', 'está', 'creciente', 'atraen', 'adoptando', 'tecnologías', 'compras', 'mejores', 'programas', 'streaming', 'videojuegos', 'este', 'consume', 'garantizar', 'género', 'donde', 'pueden', 'individual', 'sesgos', 'ha', 'dispositivos', 'cuidados', 'realistas', 'vez', 'prioridad', 'avanzadas', 'con', 'enfermedades', 'las', 'aumento', 'no', 'inmersivos', 'los', 'mayores', 'sino', 'diagnostican', 'personalizados', 'realidad', 'populares', 'su', 'desarrollo', 'invita', 'tecnológicos', 'jugadores', 'interactuar', 'prometedor', 'acceder', 'como', 'portátiles', 'cómo', 'comercio', 'cuándo', 'reflexionar', 'ofrecer', 'sin', 'fundamental', 'accesibles', 'contexto', 'medicina', 'médicos', 'forma', 'plataformas', 'beneficios', 'permitido', 'presencial', 'para', 'avanzando', 'todo', 'recomendaciones', 'vida', 'personas', 'trabajos', 'uno', 'educación', 'promueven', 'continúa', 'ahora', 'visuales', 'completo', 'años', 'hábitos', 'sobre', 'mejorando', 'explorando', 'facilitando', 'crear', 'compramos', 'cursos', 'mejorar', 'escenas', 'la', 'transacciones', 'profesionales', 'distancia', 'permitiendo', 'automático', 'entretiene', 'demanda', 'solo', 'ciencia', 'desafían', 'falta', 'millones', 'incorporando', 'sus', 'producciones', 'ubicación', 'géneros', 'tratamientos', 'implicaciones', 'flexibilidad', 'bienestar', 'y', 'de', 'pagos', 'inteligencia', 'tratan', 'aprendizaje', 'finanzas', 'utilizan', 'telemedicina', 'interacción', 'reto', 'educativa', 'perpetúen', 'saludables', 'monitorean', 'contenido', 'optimizando', 'literarios', 'alcanzado', 'nuevas', 'datos', 'acceso', 'también', 'desde', 'democratizando', 'eficiencia', 'cine', 'consumidores', 'importar', 'cinematográficas', 'series', 'ética', 'nuevo', 'además', 'aplicaciones', 'salud', 'impulsa', 'herramientas', 'futuro', 'sigue', 'sean', 'rápidos', 'rápidamente', 'nivel', 'estudiantes', 'decisiones', 'principal', 'cambiado', 'buscan', 'personal', 'libros', 'habilidades', 'que', 'mundo', 'crecimiento', 'aquellos', 'real', 'una', 'calidad', 'público', 'transformado', 'justas', 'humanidad', 'cambiando', 'enfoque', 'en', 'aunque', 'personalizadas', 'siguen', 'cada', 'llevado', 'línea', 'se', 'más', 'desafío', 'mundos', 'siendo', 'tiempo', 'integral', 'experiencia', 'espectadores', 'otros', 'embargo', 'digitales', 'ficción', 'avances', 'adopción', 'especialmente', 'convertido'}\n"
     ]
    }
   ],
   "source": [
    "vocab = []\n",
    "for i in range(0,len(datos)):\n",
    "    vocab.extend(datos[i]['text'].lower().replace(',','').replace('.','').split())\n",
    "\n",
    "vocab = set(vocab)\n",
    "print(len(vocab))\n",
    "print(vocab)"
   ]
  },
  {
   "cell_type": "markdown",
   "id": "549d0d8b6f7ed0a2",
   "metadata": {
    "id": "549d0d8b6f7ed0a2"
   },
   "source": [
    "## Paso 2: Calcular una matriz término-documento\n",
    "Una vez que tenemos el vocabulario, el siguiente paso es construir una **matriz término-documento**, que nos permitirá representar cada documento como un vector en el espacio de términos."
   ]
  },
  {
   "cell_type": "code",
   "execution_count": 6,
   "id": "4b35c2996c774ec2",
   "metadata": {
    "ExecuteTime": {
     "end_time": "2024-10-22T13:00:04.977448Z",
     "start_time": "2024-10-22T13:00:04.961452Z"
    },
    "id": "4b35c2996c774ec2"
   },
   "outputs": [],
   "source": [
    "def tdtransform(text):\n",
    "    doc = []\n",
    "    for word in vocab:\n",
    "        if word in text.lower().replace(',','').replace('.','').split():\n",
    "           doc.append(1)\n",
    "        else:\n",
    "            doc.append(0)\n",
    "    return doc"
   ]
  },
  {
   "cell_type": "code",
   "execution_count": 23,
   "id": "1b052a6cd19731a5",
   "metadata": {
    "ExecuteTime": {
     "end_time": "2024-10-22T13:00:30.419629Z",
     "start_time": "2024-10-22T13:00:30.382836Z"
    },
    "colab": {
     "base_uri": "https://localhost:8080/"
    },
    "id": "1b052a6cd19731a5",
    "outputId": "0e883b9e-9425-446a-a8ce-ce0a2217b90f"
   },
   "outputs": [
    {
     "name": "stdout",
     "output_type": "stream",
     "text": [
      "[[0, 0, 0, 1, 0, 0, 0, 0, 0, 1, 1, 0, 0, 0, 1, 0, 0, 1, 0, 0, 1, 0, 0, 0, 0, 1, 0, 1, 0, 1, 0, 0, 0, 0, 1, 0, 0, 0, 0, 0, 0, 1, 0, 0, 0, 1, 0, 0, 0, 1, 0, 0, 0, 1, 0, 0, 0, 0, 0, 0, 0, 0, 0, 0, 1, 0, 0, 0, 1, 0, 0, 0, 1, 0, 0, 0, 0, 0, 0, 0, 0, 1, 0, 0, 0, 0, 0, 1, 0, 0, 0, 0, 0, 0, 0, 0, 0, 0, 1, 0, 1, 0, 0, 0, 1, 0, 0, 0, 0, 1, 1, 0, 0, 0, 1, 0, 0, 0, 0, 0, 0, 0, 0, 0, 0, 1, 1, 0, 0, 0, 0, 0, 0, 0, 0, 0, 0, 0, 1, 0, 0, 0, 0, 0, 0, 1, 0, 0, 0, 1, 0, 1, 0, 0, 0, 0, 0, 1, 0, 1, 1, 0, 0, 0, 0, 0, 1, 0, 0, 0, 0, 0, 0, 0, 1, 0, 0, 0, 0, 1, 0, 0, 1, 0, 0, 1, 0, 0, 0, 0, 0, 0, 0, 0, 1, 1, 0, 0, 0, 0, 0, 0, 0, 0, 0, 0, 1, 0, 0, 0, 0, 1, 0, 1, 0, 0, 0, 1, 0, 0, 0, 0, 0, 0, 0, 0, 0, 0, 0, 1], [0, 0, 0, 0, 0, 0, 0, 0, 0, 0, 0, 0, 0, 0, 0, 1, 0, 1, 0, 0, 0, 0, 0, 0, 0, 0, 0, 0, 0, 0, 0, 0, 0, 0, 1, 0, 1, 0, 0, 0, 0, 1, 0, 0, 0, 0, 0, 0, 0, 0, 1, 0, 0, 0, 0, 0, 0, 1, 0, 0, 1, 0, 0, 0, 0, 0, 1, 0, 0, 1, 0, 1, 0, 0, 0, 0, 0, 1, 1, 0, 0, 0, 0, 0, 0, 1, 1, 0, 1, 0, 0, 0, 0, 0, 0, 0, 0, 1, 0, 1, 0, 0, 1, 0, 0, 1, 0, 0, 0, 0, 1, 0, 1, 0, 0, 0, 0, 0, 0, 0, 0, 0, 1, 0, 0, 1, 0, 1, 0, 0, 0, 1, 0, 0, 0, 0, 0, 0, 0, 0, 0, 1, 0, 0, 0, 0, 0, 1, 0, 0, 0, 1, 1, 0, 0, 0, 0, 0, 0, 1, 1, 0, 0, 0, 0, 0, 0, 1, 0, 0, 0, 0, 0, 0, 0, 0, 0, 0, 0, 0, 0, 0, 1, 0, 0, 0, 0, 0, 1, 0, 0, 0, 0, 0, 0, 1, 0, 0, 0, 0, 0, 1, 0, 1, 0, 0, 0, 0, 1, 1, 0, 0, 1, 0, 0, 1, 0, 0, 0, 1, 0, 0, 1, 0, 0, 0, 0, 0, 0, 0], [0, 0, 0, 1, 1, 0, 0, 0, 0, 1, 0, 0, 0, 0, 0, 0, 0, 0, 0, 0, 0, 1, 0, 0, 1, 0, 1, 0, 0, 0, 1, 0, 0, 0, 1, 1, 0, 0, 0, 0, 1, 0, 0, 0, 1, 0, 0, 0, 1, 1, 0, 1, 0, 0, 0, 0, 0, 0, 0, 0, 0, 0, 0, 1, 0, 0, 0, 0, 0, 0, 0, 0, 0, 1, 0, 0, 0, 0, 0, 0, 0, 0, 0, 0, 1, 0, 0, 0, 0, 1, 0, 0, 1, 0, 0, 0, 0, 0, 0, 0, 1, 0, 0, 0, 0, 0, 0, 0, 0, 0, 0, 0, 0, 1, 0, 0, 0, 1, 0, 1, 0, 0, 0, 1, 0, 0, 0, 0, 1, 0, 0, 0, 0, 0, 0, 0, 0, 0, 0, 1, 1, 0, 0, 0, 1, 0, 0, 0, 0, 0, 0, 1, 1, 0, 0, 0, 0, 0, 0, 1, 1, 0, 0, 0, 0, 0, 0, 0, 0, 0, 0, 0, 1, 1, 0, 0, 0, 0, 1, 0, 1, 0, 1, 0, 0, 0, 0, 1, 1, 1, 0, 0, 0, 0, 0, 0, 0, 0, 0, 0, 0, 0, 0, 0, 0, 0, 0, 0, 0, 0, 0, 0, 0, 0, 0, 1, 0, 0, 0, 0, 0, 0, 0, 0, 0, 0, 1, 0, 0, 0], [0, 0, 0, 0, 1, 1, 0, 1, 0, 0, 0, 0, 1, 0, 0, 0, 0, 0, 1, 0, 0, 0, 0, 0, 0, 0, 0, 0, 1, 1, 0, 0, 0, 0, 0, 0, 0, 1, 1, 0, 0, 0, 0, 0, 0, 0, 0, 1, 0, 1, 0, 1, 0, 0, 0, 0, 0, 0, 1, 1, 0, 0, 0, 0, 1, 1, 0, 0, 0, 1, 1, 0, 0, 0, 0, 0, 0, 0, 0, 0, 0, 0, 0, 0, 0, 0, 0, 0, 0, 0, 0, 0, 0, 0, 0, 0, 0, 1, 0, 0, 0, 0, 0, 0, 0, 0, 1, 0, 0, 0, 0, 0, 0, 0, 0, 0, 1, 0, 0, 0, 1, 0, 0, 0, 0, 0, 0, 0, 0, 0, 1, 0, 1, 1, 0, 0, 0, 0, 0, 0, 0, 0, 0, 1, 0, 0, 0, 0, 0, 0, 0, 0, 1, 0, 0, 0, 0, 0, 0, 1, 1, 0, 1, 0, 1, 0, 0, 1, 0, 0, 0, 0, 0, 0, 0, 0, 1, 0, 0, 0, 0, 0, 1, 0, 0, 0, 0, 0, 1, 0, 1, 1, 0, 0, 0, 0, 0, 0, 0, 0, 0, 0, 1, 0, 0, 0, 0, 1, 0, 0, 0, 0, 0, 0, 0, 1, 0, 0, 0, 0, 0, 1, 0, 0, 0, 0, 0, 0, 1, 0], [0, 0, 0, 1, 0, 0, 1, 0, 1, 0, 0, 1, 0, 0, 0, 0, 0, 0, 0, 1, 0, 0, 0, 0, 0, 0, 0, 0, 0, 0, 0, 0, 0, 1, 0, 0, 0, 0, 0, 0, 0, 0, 0, 0, 0, 0, 0, 0, 0, 1, 0, 0, 0, 0, 1, 0, 0, 0, 0, 0, 0, 1, 0, 0, 0, 0, 0, 0, 0, 0, 0, 0, 0, 0, 0, 0, 0, 0, 0, 0, 1, 0, 0, 0, 1, 1, 0, 0, 0, 0, 0, 0, 0, 0, 0, 0, 0, 1, 0, 1, 0, 0, 0, 0, 0, 0, 0, 0, 1, 0, 0, 0, 0, 0, 0, 1, 0, 0, 1, 0, 0, 0, 0, 0, 0, 0, 0, 0, 0, 0, 0, 0, 0, 0, 0, 0, 0, 1, 0, 0, 0, 0, 1, 0, 0, 0, 1, 1, 0, 0, 1, 1, 1, 1, 0, 1, 1, 0, 0, 1, 1, 0, 0, 0, 0, 0, 0, 0, 0, 0, 0, 0, 0, 0, 0, 1, 0, 1, 0, 0, 0, 1, 1, 1, 0, 0, 1, 0, 1, 0, 0, 0, 0, 1, 0, 1, 1, 0, 1, 1, 0, 0, 0, 0, 0, 0, 0, 0, 0, 0, 0, 0, 0, 0, 0, 1, 0, 0, 0, 0, 1, 0, 0, 0, 0, 0, 0, 0, 0, 0], [1, 0, 1, 1, 0, 0, 0, 0, 0, 0, 0, 0, 0, 1, 0, 0, 0, 1, 0, 0, 0, 0, 1, 0, 0, 0, 0, 0, 0, 1, 0, 0, 0, 0, 1, 0, 0, 0, 0, 0, 0, 1, 1, 0, 0, 0, 1, 0, 0, 0, 0, 0, 0, 0, 0, 1, 0, 0, 0, 0, 0, 0, 1, 0, 0, 1, 0, 0, 0, 0, 0, 0, 0, 0, 0, 0, 0, 0, 0, 1, 0, 0, 0, 0, 0, 0, 0, 0, 0, 0, 1, 0, 0, 0, 0, 0, 1, 1, 0, 0, 0, 1, 0, 0, 0, 0, 0, 1, 0, 0, 1, 0, 1, 0, 0, 0, 0, 0, 0, 0, 0, 0, 0, 0, 0, 1, 0, 0, 0, 1, 0, 0, 0, 0, 0, 0, 1, 0, 0, 0, 0, 0, 0, 0, 0, 0, 0, 1, 1, 0, 0, 1, 0, 0, 0, 0, 0, 0, 0, 1, 1, 1, 0, 0, 0, 1, 0, 0, 1, 0, 1, 0, 0, 0, 0, 0, 0, 0, 1, 0, 0, 0, 1, 0, 0, 0, 0, 0, 1, 0, 0, 0, 0, 0, 0, 1, 0, 0, 0, 0, 0, 0, 1, 0, 0, 1, 0, 0, 0, 0, 0, 0, 0, 1, 0, 0, 0, 0, 0, 0, 0, 0, 0, 0, 0, 0, 0, 1, 0, 0], [0, 0, 0, 1, 0, 0, 0, 0, 0, 0, 0, 0, 0, 0, 0, 0, 0, 0, 0, 0, 0, 0, 0, 1, 0, 0, 0, 1, 0, 0, 0, 0, 1, 0, 1, 0, 0, 0, 0, 0, 0, 0, 0, 1, 0, 0, 0, 1, 0, 1, 0, 0, 1, 0, 0, 1, 0, 0, 0, 0, 0, 0, 0, 0, 0, 0, 0, 0, 0, 1, 0, 0, 0, 1, 0, 1, 1, 1, 0, 0, 0, 0, 0, 1, 0, 0, 0, 0, 0, 0, 0, 1, 0, 0, 1, 0, 0, 1, 0, 0, 0, 0, 0, 0, 0, 1, 1, 0, 0, 0, 0, 1, 0, 0, 0, 0, 0, 0, 0, 0, 0, 0, 0, 0, 1, 0, 0, 0, 1, 0, 0, 0, 0, 0, 0, 1, 0, 0, 0, 0, 0, 0, 0, 0, 0, 0, 0, 0, 0, 0, 0, 1, 0, 0, 0, 0, 0, 0, 1, 1, 0, 0, 0, 1, 0, 0, 0, 0, 0, 1, 0, 0, 1, 0, 0, 0, 0, 0, 0, 0, 0, 0, 1, 0, 1, 0, 0, 0, 0, 0, 0, 0, 1, 0, 1, 1, 0, 1, 0, 0, 0, 0, 0, 0, 1, 0, 0, 0, 0, 0, 1, 0, 0, 0, 1, 1, 0, 0, 1, 0, 0, 0, 0, 0, 0, 1, 0, 0, 0, 0], [0, 1, 0, 1, 0, 0, 0, 0, 0, 1, 0, 0, 0, 0, 0, 0, 1, 0, 0, 0, 0, 0, 0, 0, 0, 0, 0, 0, 0, 1, 0, 1, 0, 0, 1, 0, 0, 0, 0, 1, 0, 0, 0, 0, 0, 0, 1, 0, 0, 0, 0, 0, 0, 0, 0, 0, 1, 0, 0, 0, 0, 0, 0, 0, 0, 1, 0, 1, 0, 0, 0, 0, 1, 1, 1, 0, 0, 0, 0, 0, 0, 0, 1, 0, 0, 0, 0, 0, 0, 0, 0, 0, 0, 1, 0, 1, 0, 1, 0, 0, 0, 0, 0, 1, 0, 0, 0, 0, 0, 0, 0, 0, 0, 0, 0, 0, 0, 1, 0, 0, 0, 1, 0, 0, 0, 0, 0, 0, 0, 0, 0, 0, 0, 0, 1, 0, 0, 0, 0, 1, 0, 0, 0, 0, 0, 0, 0, 1, 0, 0, 0, 1, 1, 0, 1, 0, 0, 0, 0, 1, 1, 0, 0, 0, 0, 0, 0, 0, 0, 0, 0, 1, 1, 0, 0, 0, 0, 0, 1, 0, 1, 0, 1, 0, 1, 0, 0, 0, 1, 0, 0, 0, 0, 0, 0, 1, 0, 0, 0, 0, 1, 0, 0, 0, 0, 0, 0, 0, 0, 0, 0, 0, 0, 0, 0, 0, 1, 0, 0, 0, 0, 0, 0, 1, 1, 0, 0, 0, 0, 0]]\n"
     ]
    }
   ],
   "source": [
    "tdmatrix = []\n",
    "for i in range(0,len(datos)):\n",
    "    doc = tdtransform(text=datos[i]['text'])\n",
    "    tdmatrix.append(doc)\n",
    "\n",
    "print(tdmatrix)"
   ]
  },
  {
   "cell_type": "markdown",
   "id": "a0abcd20f7bb7c44",
   "metadata": {
    "id": "a0abcd20f7bb7c44"
   },
   "source": [
    "## Paso 3: Obtener una representación de una _query_ en el espacio término-documento\n",
    "Ahora vamos a representar una _query_ como un vector en el mismo espacio de términos que hicimos para el corpus."
   ]
  },
  {
   "cell_type": "code",
   "execution_count": 27,
   "id": "f4abdc2c22664498",
   "metadata": {
    "ExecuteTime": {
     "end_time": "2024-10-22T13:01:09.239680Z",
     "start_time": "2024-10-22T13:01:09.223561Z"
    },
    "colab": {
     "base_uri": "https://localhost:8080/"
    },
    "id": "f4abdc2c22664498",
    "outputId": "391baefc-a2f7-43ff-9e17-6ae12b710936"
   },
   "outputs": [
    {
     "name": "stdout",
     "output_type": "stream",
     "text": [
      "[0, 0, 0, 0, 0, 0, 0, 0, 0, 0, 0, 0, 0, 0, 0, 0, 0, 0, 0, 0, 0, 0, 0, 0, 0, 0, 0, 0, 0, 0, 0, 0, 0, 0, 1, 0, 0, 0, 0, 0, 0, 0, 0, 0, 0, 0, 0, 0, 0, 0, 0, 0, 0, 0, 0, 0, 0, 0, 0, 0, 0, 0, 0, 0, 0, 0, 0, 0, 0, 0, 0, 0, 0, 0, 0, 0, 0, 0, 0, 0, 0, 0, 0, 0, 0, 0, 0, 0, 0, 0, 0, 0, 0, 0, 0, 0, 0, 0, 0, 0, 0, 0, 0, 0, 0, 0, 0, 0, 0, 0, 1, 0, 0, 0, 0, 0, 0, 0, 0, 0, 0, 0, 0, 0, 0, 1, 0, 0, 0, 0, 0, 0, 0, 0, 0, 0, 0, 0, 0, 0, 0, 0, 0, 0, 0, 0, 0, 0, 0, 0, 0, 0, 0, 0, 0, 0, 0, 0, 0, 0, 0, 0, 0, 0, 0, 0, 0, 0, 0, 0, 0, 0, 0, 0, 0, 0, 0, 0, 0, 0, 0, 0, 0, 0, 0, 0, 0, 0, 0, 0, 0, 0, 0, 0, 0, 0, 0, 0, 0, 0, 0, 0, 0, 0, 0, 0, 0, 0, 0, 0, 0, 0, 0, 0, 0, 0, 0, 0, 0, 0, 0, 0, 0, 1, 0, 0, 0, 0, 0, 0]\n",
      "[0, 0, 0, 0, 0, 0, 0, 0, 0, 0, 0, 0, 0, 0, 0, 0, 0, 0, 0, 0, 0, 0, 0, 0, 0, 0, 0, 0, 0, 0, 0, 0, 0, 0, 0, 0, 0, 0, 0, 0, 0, 0, 0, 0, 0, 0, 0, 0, 0, 0, 0, 0, 0, 0, 0, 0, 0, 0, 0, 0, 0, 0, 0, 0, 0, 0, 0, 0, 0, 0, 0, 0, 0, 0, 0, 0, 0, 0, 0, 0, 0, 0, 0, 0, 0, 0, 0, 0, 0, 0, 0, 0, 0, 0, 0, 0, 0, 1, 0, 0, 0, 0, 0, 0, 0, 0, 0, 0, 0, 0, 0, 0, 0, 0, 0, 0, 0, 0, 0, 0, 0, 0, 0, 0, 0, 0, 0, 0, 0, 0, 1, 0, 0, 0, 0, 0, 0, 0, 0, 0, 0, 0, 0, 0, 0, 0, 0, 0, 0, 0, 0, 0, 0, 0, 0, 0, 0, 0, 0, 1, 0, 0, 0, 0, 1, 0, 0, 0, 0, 0, 0, 0, 0, 0, 0, 0, 0, 0, 0, 0, 0, 0, 1, 0, 0, 0, 0, 0, 0, 0, 0, 0, 0, 0, 0, 0, 0, 0, 0, 0, 0, 0, 0, 0, 0, 0, 0, 0, 0, 0, 0, 0, 0, 0, 0, 0, 0, 0, 0, 0, 0, 0, 0, 0, 0, 0, 0, 0, 0, 0]\n",
      "[0, 0, 0, 0, 0, 0, 0, 0, 0, 0, 0, 0, 0, 0, 0, 0, 0, 0, 0, 0, 0, 0, 0, 0, 0, 0, 0, 0, 0, 0, 0, 0, 0, 0, 1, 0, 0, 0, 0, 0, 0, 0, 0, 0, 0, 0, 0, 0, 0, 0, 0, 0, 0, 0, 0, 0, 0, 0, 0, 0, 0, 0, 0, 0, 0, 0, 0, 0, 0, 0, 0, 0, 0, 0, 0, 0, 0, 0, 0, 0, 0, 0, 0, 0, 0, 1, 0, 0, 0, 0, 0, 0, 0, 0, 0, 0, 0, 0, 0, 0, 0, 0, 0, 0, 0, 0, 0, 0, 0, 0, 0, 0, 0, 0, 0, 0, 0, 0, 0, 0, 0, 0, 0, 0, 0, 0, 0, 0, 0, 0, 0, 1, 0, 0, 0, 0, 0, 0, 0, 0, 0, 0, 0, 0, 0, 0, 0, 0, 0, 0, 0, 0, 0, 0, 0, 0, 0, 0, 0, 0, 0, 0, 0, 0, 0, 0, 0, 0, 0, 0, 0, 0, 0, 0, 0, 0, 0, 0, 0, 0, 0, 0, 0, 0, 0, 0, 0, 0, 0, 0, 0, 0, 0, 0, 0, 0, 0, 0, 0, 0, 0, 0, 0, 1, 0, 0, 0, 0, 0, 0, 0, 0, 0, 0, 0, 0, 0, 0, 0, 0, 0, 0, 0, 0, 0, 0, 0, 0, 0, 0]\n",
      "[0, 0, 0, 0, 0, 0, 0, 0, 0, 0, 0, 0, 0, 0, 0, 0, 0, 0, 0, 0, 0, 0, 0, 0, 0, 0, 0, 0, 0, 0, 0, 0, 0, 0, 0, 0, 0, 0, 0, 0, 0, 0, 0, 0, 0, 0, 0, 0, 0, 0, 0, 0, 0, 0, 0, 0, 0, 0, 0, 0, 0, 0, 0, 0, 0, 0, 0, 0, 0, 0, 0, 0, 0, 0, 0, 0, 0, 0, 0, 0, 0, 0, 0, 0, 0, 0, 0, 0, 0, 0, 0, 1, 0, 0, 0, 0, 0, 0, 0, 0, 0, 0, 0, 0, 0, 1, 0, 0, 0, 0, 0, 0, 0, 0, 0, 0, 0, 0, 0, 0, 0, 0, 0, 0, 0, 0, 0, 0, 0, 0, 0, 0, 0, 0, 0, 0, 0, 0, 0, 0, 0, 0, 0, 0, 0, 0, 0, 0, 0, 0, 0, 0, 0, 0, 0, 0, 0, 0, 0, 0, 0, 0, 0, 0, 0, 0, 0, 0, 0, 0, 0, 0, 0, 0, 0, 0, 0, 0, 0, 0, 0, 0, 0, 0, 0, 0, 0, 0, 0, 0, 0, 0, 0, 0, 0, 1, 0, 0, 0, 0, 0, 0, 0, 0, 0, 0, 0, 0, 0, 0, 0, 0, 0, 0, 0, 0, 0, 0, 1, 0, 0, 0, 0, 0, 0, 0, 0, 0, 0, 0]\n",
      "[0, 0, 0, 0, 0, 0, 0, 0, 0, 0, 0, 0, 0, 0, 0, 0, 0, 0, 0, 0, 0, 0, 0, 0, 0, 0, 0, 0, 0, 0, 0, 0, 0, 0, 0, 0, 0, 0, 0, 0, 0, 0, 0, 0, 0, 0, 1, 0, 0, 0, 0, 0, 0, 0, 0, 0, 0, 0, 0, 0, 0, 0, 0, 0, 0, 0, 0, 0, 0, 0, 0, 0, 0, 0, 0, 0, 0, 0, 0, 0, 0, 0, 0, 0, 0, 0, 0, 0, 0, 0, 0, 0, 1, 0, 0, 0, 0, 0, 0, 0, 0, 0, 0, 0, 0, 0, 0, 0, 0, 0, 0, 0, 0, 0, 0, 0, 0, 0, 0, 0, 0, 0, 0, 0, 0, 0, 0, 0, 0, 0, 0, 0, 0, 0, 0, 0, 0, 0, 0, 0, 0, 0, 0, 0, 0, 0, 0, 0, 0, 0, 0, 0, 0, 0, 0, 0, 0, 0, 0, 0, 0, 0, 0, 0, 0, 0, 0, 0, 0, 0, 0, 0, 0, 0, 0, 0, 0, 0, 0, 0, 0, 0, 0, 0, 0, 0, 0, 0, 0, 0, 0, 0, 0, 0, 0, 0, 0, 0, 0, 0, 0, 0, 0, 0, 0, 0, 0, 0, 0, 0, 0, 0, 0, 0, 0, 0, 0, 0, 0, 0, 0, 0, 0, 0, 0, 0, 0, 0, 0, 0]\n",
      "[0, 0, 0, 0, 0, 0, 0, 0, 0, 0, 0, 1, 0, 0, 0, 0, 0, 0, 0, 0, 0, 0, 0, 0, 0, 0, 0, 0, 0, 0, 0, 0, 0, 0, 1, 0, 0, 0, 0, 0, 0, 0, 0, 0, 0, 0, 0, 0, 0, 0, 0, 0, 0, 0, 0, 0, 0, 0, 0, 0, 0, 0, 0, 0, 0, 0, 0, 0, 0, 0, 0, 0, 0, 0, 0, 0, 0, 0, 0, 0, 0, 0, 0, 0, 0, 0, 0, 0, 0, 0, 0, 0, 0, 0, 0, 0, 0, 0, 0, 0, 0, 0, 0, 0, 0, 0, 0, 0, 0, 0, 0, 0, 0, 0, 0, 0, 0, 0, 0, 0, 0, 0, 0, 0, 0, 0, 0, 0, 0, 0, 0, 0, 0, 0, 0, 0, 0, 0, 0, 0, 0, 0, 0, 0, 0, 0, 0, 0, 0, 0, 0, 0, 0, 0, 0, 0, 0, 0, 0, 0, 0, 0, 0, 0, 0, 0, 0, 0, 0, 0, 0, 0, 0, 0, 0, 0, 0, 0, 0, 0, 0, 0, 0, 0, 0, 0, 0, 0, 0, 0, 0, 0, 0, 0, 0, 0, 0, 0, 0, 0, 0, 0, 0, 0, 0, 0, 0, 0, 0, 0, 0, 0, 0, 0, 0, 0, 0, 0, 0, 0, 0, 0, 0, 0, 0, 0, 0, 0, 0, 0]\n",
      "[0, 0, 0, 0, 0, 0, 0, 0, 0, 0, 0, 0, 0, 0, 0, 0, 0, 0, 0, 0, 0, 0, 0, 0, 0, 0, 0, 0, 0, 0, 0, 0, 0, 0, 0, 0, 0, 0, 0, 0, 0, 0, 0, 0, 0, 0, 0, 0, 0, 0, 0, 0, 0, 0, 0, 0, 0, 0, 0, 0, 0, 0, 0, 0, 0, 0, 0, 0, 0, 0, 0, 0, 0, 0, 0, 0, 0, 0, 0, 0, 0, 0, 0, 0, 0, 0, 1, 0, 0, 0, 0, 0, 0, 0, 0, 0, 0, 0, 0, 0, 0, 0, 0, 0, 0, 0, 0, 0, 0, 0, 0, 0, 0, 0, 0, 0, 0, 0, 0, 0, 0, 0, 0, 0, 0, 0, 0, 0, 0, 0, 0, 0, 0, 0, 0, 0, 0, 0, 0, 0, 0, 0, 0, 0, 0, 0, 0, 0, 0, 0, 0, 0, 0, 0, 0, 0, 0, 0, 0, 0, 0, 0, 0, 0, 0, 0, 0, 0, 0, 0, 0, 0, 0, 0, 0, 0, 0, 0, 0, 0, 0, 0, 1, 0, 0, 0, 0, 0, 0, 0, 0, 0, 0, 0, 0, 0, 0, 0, 0, 0, 0, 0, 0, 0, 0, 0, 0, 0, 0, 0, 0, 0, 1, 0, 0, 0, 0, 0, 0, 0, 0, 0, 0, 0, 0, 0, 0, 0, 0, 0]\n",
      "[0, 0, 0, 0, 0, 0, 0, 0, 0, 0, 0, 0, 0, 0, 0, 0, 0, 0, 0, 0, 0, 0, 0, 0, 0, 0, 0, 0, 0, 0, 0, 0, 0, 0, 0, 0, 0, 0, 0, 0, 0, 0, 0, 0, 0, 0, 0, 0, 0, 0, 0, 0, 0, 0, 0, 0, 0, 0, 0, 0, 0, 0, 0, 0, 0, 0, 0, 0, 0, 0, 0, 0, 0, 0, 0, 0, 0, 0, 0, 0, 0, 0, 0, 0, 0, 0, 0, 0, 0, 0, 0, 0, 0, 0, 0, 0, 0, 0, 0, 0, 0, 0, 0, 0, 0, 0, 0, 0, 0, 0, 0, 0, 0, 0, 0, 0, 0, 0, 0, 0, 0, 0, 0, 0, 0, 0, 0, 0, 0, 0, 0, 0, 0, 0, 1, 0, 0, 0, 0, 0, 0, 0, 0, 0, 0, 0, 0, 0, 0, 0, 0, 0, 1, 0, 0, 0, 0, 0, 0, 0, 0, 0, 0, 0, 0, 0, 0, 0, 0, 0, 0, 0, 0, 0, 0, 0, 0, 0, 0, 0, 0, 0, 0, 0, 0, 0, 0, 0, 0, 0, 0, 0, 0, 0, 0, 0, 0, 0, 0, 0, 0, 0, 0, 0, 0, 0, 0, 0, 0, 0, 0, 0, 0, 0, 0, 0, 0, 0, 0, 0, 0, 0, 0, 0, 0, 0, 0, 0, 0, 0]\n",
      "[0, 0, 0, 0, 0, 0, 0, 0, 0, 0, 0, 0, 0, 0, 0, 0, 0, 0, 0, 0, 0, 0, 0, 0, 0, 0, 0, 0, 0, 0, 0, 0, 0, 0, 0, 0, 0, 0, 0, 0, 0, 0, 0, 0, 0, 0, 0, 0, 0, 0, 0, 0, 0, 0, 0, 0, 0, 0, 0, 0, 0, 0, 0, 0, 0, 0, 0, 0, 0, 0, 0, 0, 0, 0, 0, 0, 0, 0, 0, 0, 0, 0, 0, 0, 1, 0, 0, 0, 0, 0, 0, 0, 0, 0, 0, 0, 0, 0, 0, 0, 0, 0, 0, 0, 0, 0, 0, 0, 0, 0, 0, 0, 0, 0, 0, 0, 0, 0, 0, 0, 0, 0, 0, 0, 0, 0, 0, 0, 0, 0, 0, 0, 0, 0, 0, 0, 0, 0, 0, 0, 0, 0, 0, 0, 0, 0, 0, 0, 0, 0, 0, 0, 0, 0, 0, 0, 0, 0, 0, 0, 0, 0, 0, 0, 0, 0, 0, 0, 0, 0, 0, 0, 0, 0, 0, 1, 0, 0, 0, 0, 0, 0, 1, 0, 0, 0, 0, 0, 0, 0, 0, 0, 0, 0, 0, 0, 0, 0, 0, 0, 0, 0, 0, 0, 0, 0, 0, 0, 0, 0, 0, 0, 0, 0, 0, 0, 0, 0, 0, 0, 0, 0, 0, 0, 0, 0, 0, 0, 0, 0]\n",
      "[0, 0, 0, 0, 0, 0, 0, 0, 0, 0, 0, 0, 0, 0, 0, 0, 0, 0, 0, 0, 0, 0, 0, 0, 0, 0, 0, 0, 0, 0, 0, 0, 0, 0, 1, 0, 0, 0, 0, 0, 0, 0, 0, 0, 0, 0, 0, 0, 0, 0, 0, 0, 0, 0, 0, 0, 0, 0, 0, 0, 0, 0, 0, 0, 0, 0, 0, 0, 0, 0, 0, 0, 0, 0, 0, 0, 0, 0, 0, 0, 0, 0, 0, 0, 0, 0, 0, 0, 0, 0, 0, 0, 0, 0, 0, 0, 0, 0, 0, 0, 0, 0, 0, 0, 0, 0, 0, 0, 0, 0, 1, 0, 0, 0, 0, 0, 0, 0, 0, 0, 0, 0, 0, 0, 0, 1, 0, 0, 0, 0, 0, 0, 0, 0, 0, 0, 0, 0, 0, 0, 0, 0, 0, 0, 0, 0, 0, 0, 0, 0, 0, 0, 0, 0, 0, 0, 0, 0, 0, 0, 0, 0, 0, 0, 0, 0, 0, 0, 0, 0, 0, 0, 0, 0, 0, 0, 0, 0, 0, 0, 0, 0, 0, 0, 0, 0, 0, 0, 0, 0, 0, 0, 0, 0, 0, 0, 0, 0, 0, 0, 0, 0, 0, 0, 0, 0, 0, 0, 0, 0, 0, 0, 0, 0, 0, 0, 0, 0, 0, 0, 0, 0, 0, 1, 0, 0, 0, 0, 0, 0]\n"
     ]
    }
   ],
   "source": [
    "tqueries = []\n",
    "queries = [\"inteligencia artificial en medicina\",\n",
    "           \"beneficios de la educacion a distancia\",\n",
    "           \"realidad aumentada en videojuegos\",\n",
    "           \"desarrollo personal y habitos saludables\",\n",
    "           \"futuro del comercio electronico\",\n",
    "           \"tecnologias en cine moderno\",\n",
    "           \"competencias de e-sports\",\n",
    "           \"diagnostico con dispositivos portatiles\",\n",
    "           \"plataformas de streaming\"]\n",
    "for i in range(0,len(queries)):\n",
    "    query = tdtransform(text=queries[i])\n",
    "    tqueries.append(query)\n",
    "    print(query)"
   ]
  },
  {
   "cell_type": "markdown",
   "id": "49b612552e0a24cb",
   "metadata": {
    "id": "49b612552e0a24cb"
   },
   "source": [
    "## Paso 4: Calcular la distancia entre la _query_ y todos los documentos del corpus\n",
    "Al obtener la distancia Jaccard entre la _query_ y cada documento del corpus, calculamos la relevancia que tiene cada documento para la _query_"
   ]
  },
  {
   "cell_type": "code",
   "execution_count": 39,
   "id": "b60c6b18c45dcb83",
   "metadata": {
    "colab": {
     "base_uri": "https://localhost:8080/"
    },
    "id": "b60c6b18c45dcb83",
    "outputId": "f10f9247-c724-46a7-f49b-4e4766e796b8"
   },
   "outputs": [
    {
     "name": "stdout",
     "output_type": "stream",
     "text": [
      "Query 1: inteligencia artificial en medicina\n",
      "Distancia de Jaccard entre la query y el documento 1: 0.064\n",
      "Distancia de Jaccard entre la query y el documento 2: 0.067\n",
      "Distancia de Jaccard entre la query y el documento 3: 0.022\n",
      "Distancia de Jaccard entre la query y el documento 4: 0.0\n",
      "Distancia de Jaccard entre la query y el documento 5: 0.0\n",
      "Distancia de Jaccard entre la query y el documento 6: 0.07\n",
      "Distancia de Jaccard entre la query y el documento 7: 0.022\n",
      "Distancia de Jaccard entre la query y el documento 8: 0.045\n",
      "\n",
      "Query 2: beneficios de la educacion a distancia\n",
      "Distancia de Jaccard entre la query y el documento 1: 0.041\n",
      "Distancia de Jaccard entre la query y el documento 2: 0.065\n",
      "Distancia de Jaccard entre la query y el documento 3: 0.044\n",
      "Distancia de Jaccard entre la query y el documento 4: 0.119\n",
      "Distancia de Jaccard entre la query y el documento 5: 0.067\n",
      "Distancia de Jaccard entre la query y el documento 6: 0.068\n",
      "Distancia de Jaccard entre la query y el documento 7: 0.067\n",
      "Distancia de Jaccard entre la query y el documento 8: 0.068\n",
      "\n",
      "Query 3: realidad aumentada en videojuegos\n",
      "Distancia de Jaccard entre la query y el documento 1: 0.02\n",
      "Distancia de Jaccard entre la query y el documento 2: 0.091\n",
      "Distancia de Jaccard entre la query y el documento 3: 0.022\n",
      "Distancia de Jaccard entre la query y el documento 4: 0.0\n",
      "Distancia de Jaccard entre la query y el documento 5: 0.022\n",
      "Distancia de Jaccard entre la query y el documento 6: 0.022\n",
      "Distancia de Jaccard entre la query y el documento 7: 0.022\n",
      "Distancia de Jaccard entre la query y el documento 8: 0.022\n",
      "\n",
      "Query 4: desarrollo personal y habitos saludables\n",
      "Distancia de Jaccard entre la query y el documento 1: 0.02\n",
      "Distancia de Jaccard entre la query y el documento 2: 0.043\n",
      "Distancia de Jaccard entre la query y el documento 3: 0.0\n",
      "Distancia de Jaccard entre la query y el documento 4: 0.0\n",
      "Distancia de Jaccard entre la query y el documento 5: 0.022\n",
      "Distancia de Jaccard entre la query y el documento 6: 0.022\n",
      "Distancia de Jaccard entre la query y el documento 7: 0.093\n",
      "Distancia de Jaccard entre la query y el documento 8: 0.022\n",
      "\n",
      "Query 5: futuro del comercio electronico\n",
      "Distancia de Jaccard entre la query y el documento 1: 0.0\n",
      "Distancia de Jaccard entre la query y el documento 2: 0.0\n",
      "Distancia de Jaccard entre la query y el documento 3: 0.023\n",
      "Distancia de Jaccard entre la query y el documento 4: 0.0\n",
      "Distancia de Jaccard entre la query y el documento 5: 0.0\n",
      "Distancia de Jaccard entre la query y el documento 6: 0.023\n",
      "Distancia de Jaccard entre la query y el documento 7: 0.0\n",
      "Distancia de Jaccard entre la query y el documento 8: 0.023\n",
      "\n",
      "Query 6: tecnologias en cine moderno\n",
      "Distancia de Jaccard entre la query y el documento 1: 0.021\n",
      "Distancia de Jaccard entre la query y el documento 2: 0.022\n",
      "Distancia de Jaccard entre la query y el documento 3: 0.023\n",
      "Distancia de Jaccard entre la query y el documento 4: 0.0\n",
      "Distancia de Jaccard entre la query y el documento 5: 0.023\n",
      "Distancia de Jaccard entre la query y el documento 6: 0.023\n",
      "Distancia de Jaccard entre la query y el documento 7: 0.023\n",
      "Distancia de Jaccard entre la query y el documento 8: 0.023\n",
      "\n",
      "Query 7: competencias de e-sports\n",
      "Distancia de Jaccard entre la query y el documento 1: 0.021\n",
      "Distancia de Jaccard entre la query y el documento 2: 0.068\n",
      "Distancia de Jaccard entre la query y el documento 3: 0.023\n",
      "Distancia de Jaccard entre la query y el documento 4: 0.023\n",
      "Distancia de Jaccard entre la query y el documento 5: 0.022\n",
      "Distancia de Jaccard entre la query y el documento 6: 0.023\n",
      "Distancia de Jaccard entre la query y el documento 7: 0.022\n",
      "Distancia de Jaccard entre la query y el documento 8: 0.023\n",
      "\n",
      "Query 8: diagnostico con dispositivos portatiles\n",
      "Distancia de Jaccard entre la query y el documento 1: 0.0\n",
      "Distancia de Jaccard entre la query y el documento 2: 0.022\n",
      "Distancia de Jaccard entre la query y el documento 3: 0.023\n",
      "Distancia de Jaccard entre la query y el documento 4: 0.023\n",
      "Distancia de Jaccard entre la query y el documento 5: 0.023\n",
      "Distancia de Jaccard entre la query y el documento 6: 0.0\n",
      "Distancia de Jaccard entre la query y el documento 7: 0.0\n",
      "Distancia de Jaccard entre la query y el documento 8: 0.048\n",
      "\n",
      "Query 9: plataformas de streaming\n",
      "Distancia de Jaccard entre la query y el documento 1: 0.021\n",
      "Distancia de Jaccard entre la query y el documento 2: 0.022\n",
      "Distancia de Jaccard entre la query y el documento 3: 0.047\n",
      "Distancia de Jaccard entre la query y el documento 4: 0.023\n",
      "Distancia de Jaccard entre la query y el documento 5: 0.07\n",
      "Distancia de Jaccard entre la query y el documento 6: 0.023\n",
      "Distancia de Jaccard entre la query y el documento 7: 0.022\n",
      "Distancia de Jaccard entre la query y el documento 8: 0.023\n",
      "\n"
     ]
    }
   ],
   "source": [
    "from collections import Counter\n",
    "\n",
    "def jaccard(query, doc):\n",
    "    # Calcula la intersección (unos comunes en ambos vectores)\n",
    "    intersection = sum(1 for i, j in zip(query, doc) if i == j == 1)\n",
    "    #print(f\"intersección: {intersection}\")\n",
    "\n",
    "    # Calcula la unión (total de unos en cualquiera de los vectores)\n",
    "    union = sum(1 for i, j in zip(query, doc) if i == 1 or j == 1)\n",
    "    #print(f\"Unión: {union}\")\n",
    "\n",
    "    # Si la unión es 0, los vectores son idénticos o no contienen unos\n",
    "    if union == 0:\n",
    "        return 0.0\n",
    "\n",
    "    # Calcula la distancia de Jaccard\n",
    "\n",
    "    return round(intersection / union, 3)\n",
    "\n",
    "# Ejemplo de uso:\n",
    "# query_vector = tdtransform(query)\n",
    "results = []\n",
    "for i in range(len(tqueries)):\n",
    "  print(f\"Query {i+1}: {queries[i]}\")\n",
    "  query_vector = tqueries[i]\n",
    "  query_results = []\n",
    "  for i in range(len(tdmatrix)):\n",
    "    document_vector = tdmatrix[i]\n",
    "    distance = jaccard(query_vector, document_vector)\n",
    "    query_results.append(distance)\n",
    "    print(f\"Distancia de Jaccard entre la query y el documento {i+1}: {distance}\")\n",
    "  print()\n",
    "  results.append(query_results)"
   ]
  },
  {
   "cell_type": "markdown",
   "id": "3173b4cbd523e996",
   "metadata": {
    "id": "3173b4cbd523e996"
   },
   "source": [
    "## Paso 5: Entregar los resultados de la búsqueda al usuario\n",
    "A partir de la _query_, debemos indicar al usuario cuáles documentos son los más relevantes. Se debe presentar la información en orden de relevancia."
   ]
  },
  {
   "cell_type": "code",
   "execution_count": 47,
   "id": "a42b03b1bb879635",
   "metadata": {
    "colab": {
     "base_uri": "https://localhost:8080/"
    },
    "id": "a42b03b1bb879635",
    "outputId": "430f4edf-24a1-4e4f-a8ad-68500729efcb"
   },
   "outputs": [
    {
     "name": "stdout",
     "output_type": "stream",
     "text": [
      "Query 1: inteligencia artificial en medicina\n",
      "Resultados de la búsqueda ordenados por relevancia:\n",
      "Documento 6: Distancia de Jaccard = 0.07\n",
      "Documento 2: Distancia de Jaccard = 0.067\n",
      "Documento 1: Distancia de Jaccard = 0.064\n",
      "Documento 8: Distancia de Jaccard = 0.045\n",
      "Documento 3: Distancia de Jaccard = 0.022\n",
      "Documento 7: Distancia de Jaccard = 0.022\n",
      "Documento 4: Distancia de Jaccard = 0.0\n",
      "Documento 5: Distancia de Jaccard = 0.0\n",
      "\n",
      "Query 2: beneficios de la educacion a distancia\n",
      "Resultados de la búsqueda ordenados por relevancia:\n",
      "Documento 4: Distancia de Jaccard = 0.119\n",
      "Documento 6: Distancia de Jaccard = 0.068\n",
      "Documento 8: Distancia de Jaccard = 0.068\n",
      "Documento 5: Distancia de Jaccard = 0.067\n",
      "Documento 7: Distancia de Jaccard = 0.067\n",
      "Documento 2: Distancia de Jaccard = 0.065\n",
      "Documento 3: Distancia de Jaccard = 0.044\n",
      "Documento 1: Distancia de Jaccard = 0.041\n",
      "\n",
      "Query 3: realidad aumentada en videojuegos\n",
      "Resultados de la búsqueda ordenados por relevancia:\n",
      "Documento 2: Distancia de Jaccard = 0.091\n",
      "Documento 3: Distancia de Jaccard = 0.022\n",
      "Documento 5: Distancia de Jaccard = 0.022\n",
      "Documento 6: Distancia de Jaccard = 0.022\n",
      "Documento 7: Distancia de Jaccard = 0.022\n",
      "Documento 8: Distancia de Jaccard = 0.022\n",
      "Documento 1: Distancia de Jaccard = 0.02\n",
      "Documento 4: Distancia de Jaccard = 0.0\n",
      "\n",
      "Query 4: desarrollo personal y habitos saludables\n",
      "Resultados de la búsqueda ordenados por relevancia:\n",
      "Documento 7: Distancia de Jaccard = 0.093\n",
      "Documento 2: Distancia de Jaccard = 0.043\n",
      "Documento 5: Distancia de Jaccard = 0.022\n",
      "Documento 6: Distancia de Jaccard = 0.022\n",
      "Documento 8: Distancia de Jaccard = 0.022\n",
      "Documento 1: Distancia de Jaccard = 0.02\n",
      "Documento 3: Distancia de Jaccard = 0.0\n",
      "Documento 4: Distancia de Jaccard = 0.0\n",
      "\n",
      "Query 5: futuro del comercio electronico\n",
      "Resultados de la búsqueda ordenados por relevancia:\n",
      "Documento 3: Distancia de Jaccard = 0.023\n",
      "Documento 6: Distancia de Jaccard = 0.023\n",
      "Documento 8: Distancia de Jaccard = 0.023\n",
      "Documento 1: Distancia de Jaccard = 0.0\n",
      "Documento 2: Distancia de Jaccard = 0.0\n",
      "Documento 4: Distancia de Jaccard = 0.0\n",
      "Documento 5: Distancia de Jaccard = 0.0\n",
      "Documento 7: Distancia de Jaccard = 0.0\n",
      "\n",
      "Query 6: tecnologias en cine moderno\n",
      "Resultados de la búsqueda ordenados por relevancia:\n",
      "Documento 3: Distancia de Jaccard = 0.023\n",
      "Documento 5: Distancia de Jaccard = 0.023\n",
      "Documento 6: Distancia de Jaccard = 0.023\n",
      "Documento 7: Distancia de Jaccard = 0.023\n",
      "Documento 8: Distancia de Jaccard = 0.023\n",
      "Documento 2: Distancia de Jaccard = 0.022\n",
      "Documento 1: Distancia de Jaccard = 0.021\n",
      "Documento 4: Distancia de Jaccard = 0.0\n",
      "\n",
      "Query 7: competencias de e-sports\n",
      "Resultados de la búsqueda ordenados por relevancia:\n",
      "Documento 2: Distancia de Jaccard = 0.068\n",
      "Documento 3: Distancia de Jaccard = 0.023\n",
      "Documento 4: Distancia de Jaccard = 0.023\n",
      "Documento 6: Distancia de Jaccard = 0.023\n",
      "Documento 8: Distancia de Jaccard = 0.023\n",
      "Documento 5: Distancia de Jaccard = 0.022\n",
      "Documento 7: Distancia de Jaccard = 0.022\n",
      "Documento 1: Distancia de Jaccard = 0.021\n",
      "\n",
      "Query 8: diagnostico con dispositivos portatiles\n",
      "Resultados de la búsqueda ordenados por relevancia:\n",
      "Documento 8: Distancia de Jaccard = 0.048\n",
      "Documento 3: Distancia de Jaccard = 0.023\n",
      "Documento 4: Distancia de Jaccard = 0.023\n",
      "Documento 5: Distancia de Jaccard = 0.023\n",
      "Documento 2: Distancia de Jaccard = 0.022\n",
      "Documento 1: Distancia de Jaccard = 0.0\n",
      "Documento 6: Distancia de Jaccard = 0.0\n",
      "Documento 7: Distancia de Jaccard = 0.0\n",
      "\n",
      "Query 9: plataformas de streaming\n",
      "Resultados de la búsqueda ordenados por relevancia:\n",
      "Documento 5: Distancia de Jaccard = 0.07\n",
      "Documento 3: Distancia de Jaccard = 0.047\n",
      "Documento 4: Distancia de Jaccard = 0.023\n",
      "Documento 6: Distancia de Jaccard = 0.023\n",
      "Documento 8: Distancia de Jaccard = 0.023\n",
      "Documento 2: Distancia de Jaccard = 0.022\n",
      "Documento 7: Distancia de Jaccard = 0.022\n",
      "Documento 1: Distancia de Jaccard = 0.021\n",
      "\n"
     ]
    }
   ],
   "source": [
    "for i in range(len(results)):\n",
    "  sorted_results = sorted(enumerate(results[i]), key=lambda x: x[1], reverse=True)\n",
    "  print(f\"Query {i+1}: {queries[i]}\")\n",
    "  print(\"Resultados de la búsqueda ordenados por relevancia:\")\n",
    "  for i, distance in sorted_results:\n",
    "    print(f\"Documento {i+1}: Distancia de Jaccard = {distance}\")\n",
    "  print()\n",
    "\n"
   ]
  }
 ],
 "metadata": {
  "colab": {
   "provenance": []
  },
  "kernelspec": {
   "display_name": "Python 3",
   "language": "python",
   "name": "python3"
  },
  "language_info": {
   "codemirror_mode": {
    "name": "ipython",
    "version": 3
   },
   "file_extension": ".py",
   "mimetype": "text/x-python",
   "name": "python",
   "nbconvert_exporter": "python",
   "pygments_lexer": "ipython3",
   "version": "3.12.4"
  }
 },
 "nbformat": 4,
 "nbformat_minor": 5
}
