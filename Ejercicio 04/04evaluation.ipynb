{
  "cells": [
    {
      "metadata": {
        "id": "ff698db4c87d7582"
      },
      "cell_type": "markdown",
      "source": [
        "# Ejercicio 04: Evaluación de un Sistema de Recuperación de Información\n",
        "\n",
        "El objetivo de este ejercicio es evaluar la efectividad de un sistema de recuperación de información utilizando métricas como *precisión*, *recall*, *F1-score*, *Mean Average Precision (MAP)* y *Normalized Discounted Cumulative Gain (nDCG)*.\n",
        "\n",
        "Seguirás los siguientes pasos:"
      ],
      "id": "ff698db4c87d7582"
    },
    {
      "metadata": {
        "id": "a79fed129105d246"
      },
      "cell_type": "markdown",
      "source": [
        "Descripción del Ejercicio\n",
        "\n",
        "1. Proporcionar un Conjunto de Datos:\n",
        "    * Corpus de Documentos: Utiliza el corpus del ejercicio anterior o un nuevo conjunto de documentos.\n",
        "    * Consultas: Define un conjunto de consultas específicas.\n",
        "    * Juicios de Relevancia: Proporciona una lista de qué documentos son relevantes para cada consulta.\n",
        "\n",
        "2. Calcular Resultados de Búsqueda:\n",
        "    * Obten los resultados ordenados de dos sistemas de recuperación para cada consulta.\n",
        "\n",
        "3. Calcular las Métricas de Evaluación:\n",
        "    * Calcular las siguientes métricas para cada sistema y consulta:\n",
        "        * Precisión en el top-k (Prec@k)\n",
        "        * Recall\n",
        "        * F1-score\n",
        "        * Mean Average Precision (MAP)\n",
        "        * nDCG\n",
        "\n",
        "4. Análisis y Comparación:\n",
        "    * Comparar los resultados de los dos sistemas utilizando las métricas calculadas.\n",
        "    * Discutir cuál sistema es más efectivo y por qué."
      ],
      "id": "a79fed129105d246"
    },
    {
      "cell_type": "code",
      "source": [
        "# Importar las librerías necesarias\n",
        "import xml.etree.ElementTree as ET\n",
        "\n",
        "queries = {\n",
        "    1: \"Impacto de la salud mental en el rendimiento académico de los estudiantes universitarios\",\n",
        "    2: \"Actividades extracurriculares y bienestar emocional en el campus universitario\",\n",
        "    3: \"Estrategias universitarias para reducir el estrés en estudiantes\"\n",
        "}\n",
        "# Función para procesar el texto y extraer palabras clave\n",
        "def process_text(text):\n",
        "    # Convertir a minúsculas\n",
        "    text = text.lower()\n",
        "    # Reemplazar caracteres no alfanuméricos por espacios\n",
        "    import re\n",
        "    text = re.sub(r'[^a-záéíóúñü]+', ' ', text)\n",
        "    # Tokenizar y eliminar palabras vacías si es necesario\n",
        "    tokens = text.strip().split()\n",
        "    return set(tokens)\n",
        "\n",
        "# Paso 1: Leer y parsear el archivo XML\n",
        "def parse_corpus(xml_file):\n",
        "    tree = ET.parse(xml_file)\n",
        "    root = tree.getroot()\n",
        "    corpus = {}\n",
        "    for doc in root.findall('document'):\n",
        "        doc_id = int(doc.get('id'))\n",
        "        title = doc.find('title').text\n",
        "        keywords = doc.find('keywords').text\n",
        "        author = doc.find('author').text\n",
        "        date = doc.find('date').text\n",
        "        # Procesar las palabras clave\n",
        "        keyword_set = process_text(keywords)\n",
        "        corpus[doc_id] = {\n",
        "            'title': title,\n",
        "            'keywords': keyword_set,\n",
        "            'author': author,\n",
        "            'date': date\n",
        "        }\n",
        "    return corpus"
      ],
      "metadata": {
        "id": "CbmDAxfmBdQv"
      },
      "id": "CbmDAxfmBdQv",
      "execution_count": 144,
      "outputs": []
    },
    {
      "cell_type": "code",
      "execution_count": 145,
      "id": "initial_id",
      "metadata": {
        "collapsed": true,
        "colab": {
          "base_uri": "https://localhost:8080/"
        },
        "id": "initial_id",
        "outputId": "1e2602a2-d2f0-4e8f-ffd3-50aa3ed3dffd"
      },
      "outputs": [
        {
          "output_type": "stream",
          "name": "stdout",
          "text": [
            "{1: {'title': 'El aumento de la telemedicina para el tratamiento de condiciones de salud crónicas.', 'keywords': {'tecnología', 'crónica', 'tratamiento', 'telemedicina', 'médica', 'salud'}, 'author': 'Dr. Juan Pérez', 'date': '2023-01-15'}, 2: {'title': 'Cómo la nutrición balanceada afecta el rendimiento académico y la salud mental en estudiantes.', 'keywords': {'mental', 'estudiantes', 'nutrición', 'académico', 'salud', 'rendimiento'}, 'author': 'Dra. María López', 'date': '2023-02-10'}, 3: {'title': 'Estudio sobre cómo las relaciones de amistad contribuyen al bienestar de los estudiantes en el campus.', 'keywords': {'campus', 'estudiantil', 'sociales', 'relaciones', 'bienestar', 'amistad'}, 'author': 'Miguel Rodríguez', 'date': '2023-03-05'}, 4: {'title': 'El rol de las bibliotecas universitarias en el fomento de la investigación académica.', 'keywords': {'academia', 'investigación', 'recursos', 'universitarias', 'bibliotecas'}, 'author': 'Lucía Martínez', 'date': '2023-04-20'}, 5: {'title': 'Cómo los espacios verdes en los campus universitarios pueden mejorar la concentración y reducir el estrés.', 'keywords': {'campus', 'universitario', 'concentración', 'espacios', 'estrés', 'verdes'}, 'author': 'Carlos Fernández', 'date': '2023-05-15'}, 6: {'title': 'La influencia de la cultura universitaria en los hábitos saludables y el bienestar de los estudiantes.', 'keywords': {'cultura', 'saludables', 'hábitos', 'estudiantes', 'bienestar', 'universitaria'}, 'author': 'Ana Sánchez', 'date': '2023-06-10'}, 7: {'title': 'La importancia del sueño en la salud mental y el rendimiento académico en jóvenes universitarios.', 'keywords': {'mental', 'universitarios', 'sueño', 'académico', 'salud', 'rendimiento'}, 'author': 'Javier Torres', 'date': '2023-07-25'}, 8: {'title': 'La influencia del apoyo familiar y social en el bienestar emocional de los estudiantes universitarios.', 'keywords': {'familiar', 'apoyo', 'estudiantes', 'social', 'bienestar', 'emocional'}, 'author': 'Laura Gómez', 'date': '2023-08-30'}, 9: {'title': 'El impacto de los hábitos de lectura en el desarrollo cognitivo en jóvenes y adultos.', 'keywords': {'desarrollo', 'hábitos', 'lectura', 'adultos', 'de', 'jóvenes', 'cognitivo'}, 'author': 'Fernando Ruiz', 'date': '2023-09-18'}, 10: {'title': 'Avances en la tecnología para la medicina preventiva y su aplicación en jóvenes.', 'keywords': {'preventiva', 'tecnología', 'avances', 'medicina', 'tecnológicos', 'médica', 'jóvenes'}, 'author': 'Elena Navarro', 'date': '2023-10-05'}, 11: {'title': 'Impacto de la práctica regular de ejercicio en la reducción del estrés académico en estudiantes universitarios.', 'keywords': {'ejercicio', 'universitarios', 'estrés', 'estudiantes', 'académico', 'salud'}, 'author': 'Diego Castro', 'date': '2023-11-12'}, 12: {'title': 'El papel del mindfulness y la meditación en la reducción de la ansiedad en estudiantes universitarios.', 'keywords': {'universitarios', 'estudiantes', 'meditación', 'mindfulness', 'ansiedad'}, 'author': 'Sofía Vega', 'date': '2023-12-01'}, 13: {'title': 'Estrategias para mejorar la salud mental en estudiantes universitarios: el rol del apoyo psicológico y los grupos de estudio en el campus.', 'keywords': {'grupos', 'estudio', 'mental', 'apoyo', 'universitarios', 'psicológico', 'estudiantes', 'de', 'salud'}, 'author': 'Marcos Ortiz', 'date': '2024-01-10'}, 14: {'title': 'Cómo el acceso a servicios de salud mental en la universidad puede mejorar el desempeño académico.', 'keywords': {'servicios', 'mental', 'universitarios', 'estudiantes', 'académico', 'salud', 'desempeño'}, 'author': 'Paula Morales', 'date': '2024-02-15'}, 15: {'title': 'Beneficios de las actividades extracurriculares para el bienestar emocional y social de los estudiantes.', 'keywords': {'actividades', 'estudiantes', 'social', 'bienestar', 'extracurriculares', 'emocional'}, 'author': 'José Herrera', 'date': '2024-03-05'}, 16: {'title': 'El papel de los laboratorios de innovación educativa en el desarrollo de competencias tecnológicas.', 'keywords': {'desarrollo', 'de', 'competencias', 'educación', 'laboratorios', 'innovación', 'tecnológicas'}, 'author': 'Andrea Díaz', 'date': '2024-04-20'}, 17: {'title': 'Tendencias actuales en el diseño de campus para fomentar la interacción y colaboración.', 'keywords': {'campus', 'tendencias', 'colaboración', 'diseño', 'interacción', 'de'}, 'author': 'Sergio Muñoz', 'date': '2024-05-15'}, 18: {'title': 'Diferencias en el bienestar académico entre estudiantes que trabajan y aquellos que solo estudian.', 'keywords': {'que', 'trabajan', 'comparación', 'estudiantes', 'bienestar', 'académico', 'rendimiento'}, 'author': 'Isabel Flores', 'date': '2024-06-10'}, 19: {'title': 'Factores de riesgo y estrategias para prevenir el agotamiento académico en estudiantes universitarios.', 'keywords': {'prevención', 'universitarios', 'agotamiento', 'estudiantes', 'riesgo', 'académico', 'factores', 'de'}, 'author': 'Ricardo Ramos', 'date': '2024-07-25'}, 20: {'title': 'El impacto de la tecnología y el uso de redes sociales en la calidad del sueño en estudiantes.', 'keywords': {'del', 'sociales', 'tecnología', 'sueño', 'calidad', 'redes', 'estudiantes'}, 'author': 'Valeria Castillo', 'date': '2024-08-30'}, 21: {'title': 'Investigación sobre el impacto de las tecnologías verdes en los edificios de las universidades.', 'keywords': {'tecnologías', 'universitarios', 'impacto', 'edificios', 'sostenibilidad', 'ambiental', 'verdes'}, 'author': 'Daniel Medina', 'date': '2024-09-18'}, 22: {'title': 'Estudio sobre el uso de bicicletas compartidas en universidades para mejorar la movilidad.', 'keywords': {'bicicletas', 'universidades', 'transporte', 'movilidad', 'sostenible', 'compartidas'}, 'author': 'Patricia Reyes', 'date': '2024-10-05'}, 23: {'title': 'Cómo la carga de trabajo académico afecta la salud emocional de los estudiantes y qué pueden hacer las universidades para ayudar.', 'keywords': {'universitario', 'apoyo', 'estudiantes', 'académica', 'carga', 'emocional', 'salud'}, 'author': 'Gonzalo Soto', 'date': '2024-11-12'}, 24: {'title': 'Estrategias para equilibrar vida social y académica en estudiantes de universidades intensivas.', 'keywords': {'equilibrio', 'estudiantes', 'social', 'estrategias', 'académica', 'vida'}, 'author': 'Camila Aguilar', 'date': '2024-12-01'}, 25: {'title': 'La relación entre actividades artísticas y el bienestar psicológico en la vida universitaria.', 'keywords': {'creatividad', 'actividades', 'psicológico', 'artísticas', 'bienestar', 'universitaria', 'vida'}, 'author': 'Adrián Vargas', 'date': '2025-01-10'}, 26: {'title': 'Los beneficios de los programas de becas para la retención de estudiantes en universidades.', 'keywords': {'universidades', 'retención', 'programas', 'becas', 'estudiantes', 'beneficios', 'de'}, 'author': 'Teresa Romero', 'date': '2025-02-15'}, 27: {'title': 'El rol de los deportes y la actividad física en la integración social y emocional de los estudiantes.', 'keywords': {'integración', 'estudiantes', 'social', 'deportes', 'actividad', 'física'}, 'author': 'Alberto Peña', 'date': '2025-03-05'}, 28: {'title': 'Cómo los eventos y talleres de bienestar organizados por la universidad ayudan a reducir el estrés.', 'keywords': {'universidad', 'del', 'reducción', 'talleres', 'eventos', 'estrés', 'bienestar', 'de'}, 'author': 'Silvia Campos', 'date': '2025-04-20'}, 29: {'title': 'Análisis de los hábitos de sueño y su relación con el rendimiento en exámenes universitarios.', 'keywords': {'sueño', 'en', 'hábitos', 'exámenes', 'análisis', 'estudiantes', 'de', 'rendimiento'}, 'author': 'Óscar Luna', 'date': '2025-05-15'}, 30: {'title': 'Cómo la inteligencia artificial está mejorando el acceso a servicios médicos en comunidades remotas.', 'keywords': {'servicios', 'remotas', 'artificial', 'tecnología', 'médicos', 'inteligencia', 'comunidades'}, 'author': 'María Paredes', 'date': '2025-06-10'}}\n"
          ]
        }
      ],
      "source": [
        "corpus = parse_corpus('/content/03ranking_corpus.xml')\n",
        "print(corpus)"
      ]
    },
    {
      "cell_type": "code",
      "source": [
        "docs = []\n",
        "for doc_id in corpus:\n",
        "    docs.append(corpus[doc_id]['title'])\n",
        "\n",
        "print(len(docs))\n",
        "print(docs)"
      ],
      "metadata": {
        "colab": {
          "base_uri": "https://localhost:8080/"
        },
        "id": "QVdCAYNZBgrf",
        "outputId": "b8afcb44-ffea-41ea-cd2f-bfb1a0d65ddd"
      },
      "id": "QVdCAYNZBgrf",
      "execution_count": 146,
      "outputs": [
        {
          "output_type": "stream",
          "name": "stdout",
          "text": [
            "30\n",
            "['El aumento de la telemedicina para el tratamiento de condiciones de salud crónicas.', 'Cómo la nutrición balanceada afecta el rendimiento académico y la salud mental en estudiantes.', 'Estudio sobre cómo las relaciones de amistad contribuyen al bienestar de los estudiantes en el campus.', 'El rol de las bibliotecas universitarias en el fomento de la investigación académica.', 'Cómo los espacios verdes en los campus universitarios pueden mejorar la concentración y reducir el estrés.', 'La influencia de la cultura universitaria en los hábitos saludables y el bienestar de los estudiantes.', 'La importancia del sueño en la salud mental y el rendimiento académico en jóvenes universitarios.', 'La influencia del apoyo familiar y social en el bienestar emocional de los estudiantes universitarios.', 'El impacto de los hábitos de lectura en el desarrollo cognitivo en jóvenes y adultos.', 'Avances en la tecnología para la medicina preventiva y su aplicación en jóvenes.', 'Impacto de la práctica regular de ejercicio en la reducción del estrés académico en estudiantes universitarios.', 'El papel del mindfulness y la meditación en la reducción de la ansiedad en estudiantes universitarios.', 'Estrategias para mejorar la salud mental en estudiantes universitarios: el rol del apoyo psicológico y los grupos de estudio en el campus.', 'Cómo el acceso a servicios de salud mental en la universidad puede mejorar el desempeño académico.', 'Beneficios de las actividades extracurriculares para el bienestar emocional y social de los estudiantes.', 'El papel de los laboratorios de innovación educativa en el desarrollo de competencias tecnológicas.', 'Tendencias actuales en el diseño de campus para fomentar la interacción y colaboración.', 'Diferencias en el bienestar académico entre estudiantes que trabajan y aquellos que solo estudian.', 'Factores de riesgo y estrategias para prevenir el agotamiento académico en estudiantes universitarios.', 'El impacto de la tecnología y el uso de redes sociales en la calidad del sueño en estudiantes.', 'Investigación sobre el impacto de las tecnologías verdes en los edificios de las universidades.', 'Estudio sobre el uso de bicicletas compartidas en universidades para mejorar la movilidad.', 'Cómo la carga de trabajo académico afecta la salud emocional de los estudiantes y qué pueden hacer las universidades para ayudar.', 'Estrategias para equilibrar vida social y académica en estudiantes de universidades intensivas.', 'La relación entre actividades artísticas y el bienestar psicológico en la vida universitaria.', 'Los beneficios de los programas de becas para la retención de estudiantes en universidades.', 'El rol de los deportes y la actividad física en la integración social y emocional de los estudiantes.', 'Cómo los eventos y talleres de bienestar organizados por la universidad ayudan a reducir el estrés.', 'Análisis de los hábitos de sueño y su relación con el rendimiento en exámenes universitarios.', 'Cómo la inteligencia artificial está mejorando el acceso a servicios médicos en comunidades remotas.']\n"
          ]
        }
      ]
    },
    {
      "cell_type": "code",
      "source": [
        "vocab = set()\n",
        "for doc_id in corpus:\n",
        "    vocab.update(corpus[doc_id]['keywords'])\n",
        "vocab = list(vocab)\n",
        "print(len(vocab))\n",
        "print(vocab)"
      ],
      "metadata": {
        "colab": {
          "base_uri": "https://localhost:8080/"
        },
        "id": "EG3aGnO5Y05a",
        "outputId": "38449b5b-0fcc-4cff-e0e9-b66d2abd8e88"
      },
      "id": "EG3aGnO5Y05a",
      "execution_count": 147,
      "outputs": [
        {
          "output_type": "stream",
          "name": "stdout",
          "text": [
            "115\n",
            "['tecnologías', 'estudiantil', 'estudio', 'del', 'remotas', 'cultura', 'eventos', 'calidad', 'académica', 'innovación', 'relaciones', 'equilibrio', 'retención', 'concentración', 'tendencias', 'programas', 'comparación', 'impacto', 'recursos', 'becas', 'colaboración', 'sostenibilidad', 'en', 'artísticas', 'médica', 'verdes', 'salud', 'desarrollo', 'transporte', 'investigación', 'creatividad', 'talleres', 'agotamiento', 'psicológico', 'medicina', 'social', 'estrategias', 'ambiental', 'interacción', 'laboratorios', 'mindfulness', 'compartidas', 'campus', 'bicicletas', 'academia', 'servicios', 'trabajan', 'actividades', 'universidades', 'competencias', 'saludables', 'movilidad', 'sueño', 'sostenible', 'lectura', 'tecnológicos', 'telemedicina', 'universitaria', 'carga', 'actividad', 'tecnológicas', 'desempeño', 'comunidades', 'universidad', 'prevención', 'universitarios', 'edificios', 'estrés', 'educación', 'diseño', 'bienestar', 'académico', 'rendimiento', 'ejercicio', 'tecnología', 'espacios', 'universitarias', 'factores', 'de', 'bibliotecas', 'ansiedad', 'grupos', 'familiar', 'integración', 'universitario', 'avances', 'médicos', 'reducción', 'crónica', 'exámenes', 'análisis', 'riesgo', 'nutrición', 'beneficios', 'extracurriculares', 'meditación', 'deportes', 'amistad', 'cognitivo', 'física', 'mental', 'que', 'sociales', 'apoyo', 'preventiva', 'artificial', 'hábitos', 'estudiantes', 'redes', 'inteligencia', 'tratamiento', 'adultos', 'emocional', 'jóvenes', 'vida']\n"
          ]
        }
      ]
    },
    {
      "cell_type": "markdown",
      "source": [
        "# Calculo de la matriz tf-idf"
      ],
      "metadata": {
        "id": "_cg7vjcnZdNU"
      },
      "id": "_cg7vjcnZdNU"
    },
    {
      "cell_type": "code",
      "source": [
        "from sklearn.feature_extraction.text import CountVectorizer\n",
        "from sklearn.feature_extraction.text import TfidfTransformer\n",
        "\n",
        "#Funcion para obtener la matriz tf-idf usando sklearn\n",
        "\n",
        "def tfidf_transform(vocab, matrix):\n",
        "  count_vectorizer = CountVectorizer(vocabulary=vocab)\n",
        "  tf_matrix = count_vectorizer.fit_transform(matrix)\n",
        "  tfidf_transformer = TfidfTransformer()\n",
        "  tfidf_matrix = tfidf_transformer.fit_transform(tf_matrix).toarray()\n",
        "  return tfidf_matrix"
      ],
      "metadata": {
        "id": "jhQQ-q8xBvnP"
      },
      "id": "jhQQ-q8xBvnP",
      "execution_count": 148,
      "outputs": []
    },
    {
      "cell_type": "code",
      "source": [
        "#Obtener la matriz tf-idf de los docuemntos del corpus\n",
        "tfidf_matrix = tfidf_transform(vocab, docs)\n",
        "print(tfidf_matrix)"
      ],
      "metadata": {
        "id": "YOddXcLWBvqA",
        "colab": {
          "base_uri": "https://localhost:8080/"
        },
        "outputId": "0ebf76e0-89b3-48fa-d6bb-4a66c0c31631"
      },
      "id": "YOddXcLWBvqA",
      "execution_count": 149,
      "outputs": [
        {
          "output_type": "stream",
          "name": "stdout",
          "text": [
            "[[0.         0.         0.         ... 0.         0.         0.        ]\n",
            " [0.         0.         0.         ... 0.         0.         0.        ]\n",
            " [0.         0.         0.38969591 ... 0.         0.         0.        ]\n",
            " ...\n",
            " [0.         0.         0.         ... 0.         0.         0.        ]\n",
            " [0.         0.         0.         ... 0.         0.         0.        ]\n",
            " [0.         0.         0.         ... 0.         0.         0.        ]]\n"
          ]
        }
      ]
    },
    {
      "cell_type": "code",
      "source": [
        "#Obtener la matriz tf-idf de las queries\n",
        "queries_matrix = []\n",
        "for i, val in queries.items():\n",
        "  queries_matrix.append(queries[i])\n",
        "\n",
        "qr_tfidf_matrix = tfidf_transform(vocab, queries_matrix)\n",
        "print(qr_tfidf_matrix)"
      ],
      "metadata": {
        "colab": {
          "base_uri": "https://localhost:8080/"
        },
        "id": "ynLUo3VAlB08",
        "outputId": "f1f3db2b-9142-42d8-d905-6ddee6d789f8"
      },
      "id": "ynLUo3VAlB08",
      "execution_count": 150,
      "outputs": [
        {
          "output_type": "stream",
          "name": "stdout",
          "text": [
            "[[0.         0.         0.         0.         0.         0.\n",
            "  0.         0.         0.         0.         0.         0.\n",
            "  0.         0.         0.         0.         0.         0.30251368\n",
            "  0.         0.         0.         0.         0.17866945 0.\n",
            "  0.         0.         0.30251368 0.         0.         0.\n",
            "  0.         0.         0.         0.         0.         0.\n",
            "  0.         0.         0.         0.         0.         0.\n",
            "  0.         0.         0.         0.         0.         0.\n",
            "  0.         0.         0.         0.         0.         0.\n",
            "  0.         0.         0.         0.         0.         0.\n",
            "  0.         0.         0.         0.         0.         0.30251368\n",
            "  0.         0.         0.         0.         0.         0.30251368\n",
            "  0.30251368 0.         0.         0.         0.         0.\n",
            "  0.60502736 0.         0.         0.         0.         0.\n",
            "  0.         0.         0.         0.         0.         0.\n",
            "  0.         0.         0.         0.         0.         0.\n",
            "  0.         0.         0.         0.         0.30251368 0.\n",
            "  0.         0.         0.         0.         0.         0.23006945\n",
            "  0.         0.         0.         0.         0.         0.\n",
            "  0.        ]\n",
            " [0.         0.         0.         0.         0.         0.\n",
            "  0.         0.         0.         0.         0.         0.\n",
            "  0.         0.         0.         0.         0.         0.\n",
            "  0.         0.         0.         0.         0.2344005  0.\n",
            "  0.         0.         0.         0.         0.         0.\n",
            "  0.         0.         0.         0.         0.         0.\n",
            "  0.         0.         0.         0.         0.         0.\n",
            "  0.39687454 0.         0.         0.         0.         0.39687454\n",
            "  0.         0.         0.         0.         0.         0.\n",
            "  0.         0.         0.         0.         0.         0.\n",
            "  0.         0.         0.         0.         0.         0.\n",
            "  0.         0.         0.         0.         0.39687454 0.\n",
            "  0.         0.         0.         0.         0.         0.\n",
            "  0.         0.         0.         0.         0.         0.\n",
            "  0.39687454 0.         0.         0.         0.         0.\n",
            "  0.         0.         0.         0.         0.39687454 0.\n",
            "  0.         0.         0.         0.         0.         0.\n",
            "  0.         0.         0.         0.         0.         0.\n",
            "  0.         0.         0.         0.         0.39687454 0.\n",
            "  0.        ]\n",
            " [0.         0.         0.         0.         0.         0.\n",
            "  0.         0.         0.         0.         0.         0.\n",
            "  0.         0.         0.         0.         0.         0.\n",
            "  0.         0.         0.         0.         0.29803159 0.\n",
            "  0.         0.         0.         0.         0.         0.\n",
            "  0.         0.         0.         0.         0.         0.\n",
            "  0.50461134 0.         0.         0.         0.         0.\n",
            "  0.         0.         0.         0.         0.         0.\n",
            "  0.         0.         0.         0.         0.         0.\n",
            "  0.         0.         0.         0.         0.         0.\n",
            "  0.         0.         0.         0.         0.         0.\n",
            "  0.         0.50461134 0.         0.         0.         0.\n",
            "  0.         0.         0.         0.         0.50461134 0.\n",
            "  0.         0.         0.         0.         0.         0.\n",
            "  0.         0.         0.         0.         0.         0.\n",
            "  0.         0.         0.         0.         0.         0.\n",
            "  0.         0.         0.         0.         0.         0.\n",
            "  0.         0.         0.         0.         0.         0.38376993\n",
            "  0.         0.         0.         0.         0.         0.\n",
            "  0.        ]]\n"
          ]
        }
      ]
    },
    {
      "cell_type": "markdown",
      "source": [
        "# Calculo de la similitud coseno"
      ],
      "metadata": {
        "id": "jKWHlzF_ZUqs"
      },
      "id": "jKWHlzF_ZUqs"
    },
    {
      "cell_type": "code",
      "source": [
        "#Calculo de la similitud coseno\n",
        "from math import sqrt\n",
        "def similitudCoseno(v1, v2):\n",
        "    similitud = []\n",
        "\n",
        "    for i in range(0, len(v1)):\n",
        "        producto = 0\n",
        "        sum1 = 0\n",
        "        sum2 = 0\n",
        "        for j in range(0, len(v1[0])):\n",
        "            producto += v1[i][j] * v2[j]\n",
        "            sum1 += v1[i][j] ** 2\n",
        "            sum2 +=  v2[j] ** 2\n",
        "\n",
        "        sim = producto/(sqrt(sum1) * sqrt(sum2))\n",
        "        similitud.append(round(sim,3))\n",
        "    return similitud"
      ],
      "metadata": {
        "id": "yzVf4stilkZu"
      },
      "id": "yzVf4stilkZu",
      "execution_count": 151,
      "outputs": []
    },
    {
      "cell_type": "code",
      "source": [
        "cosenoMatrix = []\n",
        "\n",
        "for i in range(0,len(qr_tfidf_matrix)):\n",
        "  cosenoMatrix.append(similitudCoseno(tfidf_matrix, qr_tfidf_matrix[i]))\n",
        "\n",
        "print(cosenoMatrix)"
      ],
      "metadata": {
        "colab": {
          "base_uri": "https://localhost:8080/"
        },
        "id": "93XhQx2plkem",
        "outputId": "00030b0d-8ad8-426d-e849-fc80a15f6fc8"
      },
      "id": "93XhQx2plkem",
      "execution_count": 152,
      "outputs": [
        {
          "output_type": "stream",
          "name": "stdout",
          "text": [
            "[[0.436, 0.558, 0.269, 0.227, 0.111, 0.263, 0.541, 0.254, 0.291, 0.049, 0.531, 0.259, 0.388, 0.428, 0.233, 0.273, 0.118, 0.141, 0.333, 0.332, 0.302, 0.123, 0.477, 0.186, 0.025, 0.324, 0.232, 0.102, 0.401, 0.022], [0.0, 0.039, 0.297, 0.035, 0.175, 0.15, 0.067, 0.292, 0.056, 0.065, 0.062, 0.062, 0.167, 0.035, 0.595, 0.029, 0.17, 0.13, 0.032, 0.056, 0.031, 0.034, 0.159, 0.037, 0.312, 0.03, 0.153, 0.125, 0.032, 0.029], [0.0, 0.142, 0.125, 0.293, 0.237, 0.122, 0.085, 0.123, 0.071, 0.083, 0.333, 0.153, 0.289, 0.044, 0.078, 0.037, 0.041, 0.106, 0.306, 0.138, 0.04, 0.043, 0.09, 0.348, 0.042, 0.11, 0.108, 0.206, 0.041, 0.037]]\n"
          ]
        }
      ]
    },
    {
      "cell_type": "markdown",
      "source": [
        "# Calculo de la similitud Jaccard"
      ],
      "metadata": {
        "id": "s8ROmr9NZEYl"
      },
      "id": "s8ROmr9NZEYl"
    },
    {
      "cell_type": "code",
      "source": [
        "# Calculo de la similitud Jaccard\n",
        "\n",
        "def similitudJaccard(v1, v2):\n",
        "    jaccardMatrix = []\n",
        "    for i in range(len(v1)):\n",
        "        similitudMatrix = []\n",
        "        for j in range(len(v2)):\n",
        "            intersection = 0\n",
        "            union = 0\n",
        "            for k in range(len(v1[0])):\n",
        "                if v1[i][k] and v2[j][k]:\n",
        "                    intersection += 1\n",
        "                if v1[i][k] or v2[j][k]:\n",
        "                    union += 1\n",
        "            similitud = intersection/union\n",
        "            similitudMatrix.append(round(similitud, 3))\n",
        "        jaccardMatrix.append(similitudMatrix)\n",
        "    return jaccardMatrix"
      ],
      "metadata": {
        "id": "AI9su_H9l6H2"
      },
      "id": "AI9su_H9l6H2",
      "execution_count": 153,
      "outputs": []
    },
    {
      "cell_type": "code",
      "source": [
        "jaccardMatrix = similitudJaccard(qr_tfidf_matrix,tfidf_matrix)\n",
        "print(len(jaccardMatrix))"
      ],
      "metadata": {
        "colab": {
          "base_uri": "https://localhost:8080/"
        },
        "id": "LvgAN0z7l7GW",
        "outputId": "274205b5-0282-4730-8081-6ca7b42e3e58"
      },
      "id": "LvgAN0z7l7GW",
      "execution_count": 154,
      "outputs": [
        {
          "output_type": "stream",
          "name": "stdout",
          "text": [
            "3\n"
          ]
        }
      ]
    },
    {
      "cell_type": "markdown",
      "source": [
        "# Ranking por similitud Coseno"
      ],
      "metadata": {
        "id": "3QhSPpouYrf-"
      },
      "id": "3QhSPpouYrf-"
    },
    {
      "cell_type": "code",
      "source": [
        "rankingCoseno = {}  # Creamos un diccionario vacío para almacenar el ranking por consulta\n",
        "\n",
        "for i in range(0, len(cosenoMatrix)):\n",
        "    indices = {}  # Diccionario temporal para almacenar los índices de los documentos y sus similitudes\n",
        "    for j in range(0, len(cosenoMatrix[i])):\n",
        "        indiceqr = j  # Índice del documento\n",
        "        indices[indiceqr] = cosenoMatrix[i][j]  # Asignamos la similitud\n",
        "    rankingCoseno[i + 1] = dict(sorted(indices.items(), key=lambda item: item[1], reverse=True))  # Asignamos el ranking para la consulta\n",
        "\n",
        "# Verificar si ranking es un diccionario\n",
        "print(rankingCoseno)  # Esto devolverá True si ranking es un diccionario\n"
      ],
      "metadata": {
        "colab": {
          "base_uri": "https://localhost:8080/"
        },
        "id": "bTxFIV1zl-Rn",
        "outputId": "b4df3fac-79f3-46a3-cdb0-3fe126e5107f"
      },
      "id": "bTxFIV1zl-Rn",
      "execution_count": 155,
      "outputs": [
        {
          "output_type": "stream",
          "name": "stdout",
          "text": [
            "{1: {1: 0.558, 6: 0.541, 10: 0.531, 22: 0.477, 0: 0.436, 13: 0.428, 28: 0.401, 12: 0.388, 18: 0.333, 19: 0.332, 25: 0.324, 20: 0.302, 8: 0.291, 15: 0.273, 2: 0.269, 5: 0.263, 11: 0.259, 7: 0.254, 14: 0.233, 26: 0.232, 3: 0.227, 23: 0.186, 17: 0.141, 21: 0.123, 16: 0.118, 4: 0.111, 27: 0.102, 9: 0.049, 24: 0.025, 29: 0.022}, 2: {14: 0.595, 24: 0.312, 2: 0.297, 7: 0.292, 4: 0.175, 16: 0.17, 12: 0.167, 22: 0.159, 26: 0.153, 5: 0.15, 17: 0.13, 27: 0.125, 6: 0.067, 9: 0.065, 10: 0.062, 11: 0.062, 8: 0.056, 19: 0.056, 1: 0.039, 23: 0.037, 3: 0.035, 13: 0.035, 21: 0.034, 18: 0.032, 28: 0.032, 20: 0.031, 25: 0.03, 15: 0.029, 29: 0.029, 0: 0.0}, 3: {23: 0.348, 10: 0.333, 18: 0.306, 3: 0.293, 12: 0.289, 4: 0.237, 27: 0.206, 11: 0.153, 1: 0.142, 19: 0.138, 2: 0.125, 7: 0.123, 5: 0.122, 25: 0.11, 26: 0.108, 17: 0.106, 22: 0.09, 6: 0.085, 9: 0.083, 14: 0.078, 8: 0.071, 13: 0.044, 21: 0.043, 24: 0.042, 16: 0.041, 28: 0.041, 20: 0.04, 15: 0.037, 29: 0.037, 0: 0.0}}\n"
          ]
        }
      ]
    },
    {
      "cell_type": "markdown",
      "source": [
        "# Ranking por Similitud Jaccard"
      ],
      "metadata": {
        "id": "k54dF6pvYjwG"
      },
      "id": "k54dF6pvYjwG"
    },
    {
      "cell_type": "code",
      "source": [
        "rankingJaccard = {}  # Creamos un diccionario vacío para almacenar el ranking por consulta\n",
        "\n",
        "for i in range(0, len(jaccardMatrix)):\n",
        "    indices = {}  # Diccionario temporal para almacenar los índices de los documentos y sus similitudes\n",
        "    for j in range(0, len(jaccardMatrix[i])):\n",
        "        indiceqr = j  # Índice del documento\n",
        "        indices[indiceqr] = jaccardMatrix[i][j]  # Asignamos la similitud\n",
        "    rankingJaccard[i + 1] = dict(sorted(indices.items(), key=lambda item: item[1], reverse=True))  # Asignamos el ranking para la consulta\n",
        "\n",
        "# Verificar si ranking es un diccionario\n",
        "print(rankingJaccard)  # Esto devolverá True si ranking es un diccionario\n"
      ],
      "metadata": {
        "colab": {
          "base_uri": "https://localhost:8080/"
        },
        "id": "NkSShIaqmm5O",
        "outputId": "b2234c8e-075e-4633-9dc3-a44528f42687"
      },
      "id": "NkSShIaqmm5O",
      "execution_count": 156,
      "outputs": [
        {
          "output_type": "stream",
          "name": "stdout",
          "text": [
            "{1: {1: 0.6, 6: 0.5, 10: 0.462, 13: 0.417, 18: 0.385, 12: 0.375, 22: 0.333, 28: 0.308, 11: 0.286, 7: 0.267, 19: 0.267, 17: 0.25, 2: 0.214, 5: 0.214, 20: 0.214, 23: 0.214, 25: 0.214, 8: 0.2, 26: 0.2, 0: 0.182, 3: 0.154, 4: 0.143, 15: 0.143, 16: 0.143, 21: 0.143, 14: 0.133, 9: 0.071, 27: 0.071, 24: 0.067, 29: 0.067}, 2: {14: 0.364, 24: 0.273, 2: 0.25, 7: 0.214, 17: 0.182, 4: 0.167, 16: 0.167, 5: 0.154, 26: 0.143, 12: 0.111, 3: 0.083, 9: 0.083, 27: 0.083, 1: 0.077, 15: 0.077, 21: 0.077, 22: 0.077, 29: 0.077, 13: 0.071, 20: 0.071, 23: 0.071, 25: 0.071, 28: 0.071, 6: 0.067, 8: 0.067, 11: 0.067, 18: 0.067, 10: 0.062, 19: 0.062, 0: 0.0}, 3: {23: 0.3, 18: 0.273, 10: 0.25, 3: 0.222, 17: 0.222, 1: 0.2, 4: 0.2, 12: 0.2, 2: 0.182, 5: 0.182, 25: 0.182, 11: 0.167, 26: 0.167, 7: 0.154, 19: 0.154, 9: 0.1, 27: 0.1, 15: 0.091, 16: 0.091, 21: 0.091, 22: 0.091, 24: 0.091, 29: 0.091, 13: 0.083, 14: 0.083, 20: 0.083, 28: 0.083, 6: 0.077, 8: 0.077, 0: 0.0}}\n"
          ]
        }
      ]
    },
    {
      "cell_type": "markdown",
      "source": [
        "# Calculo Métricas de Evaluación"
      ],
      "metadata": {
        "id": "3w6MyvZnrEQh"
      },
      "id": "3w6MyvZnrEQh"
    },
    {
      "cell_type": "code",
      "source": [
        "juiciosRelevancia = {\n",
        "    1: {0: 0, 1: 0, 2: 0, 3: 0, 4: 1, 5: 0, 6: 1, 7: 1, 8: 0,\n",
        "        9: 0, 10: 1, 11: 1, 12: 1, 13: 1, 14: 0, 15: 0, 16: 0,\n",
        "        17: 0, 18: 1, 19: 1, 20: 0, 21: 0, 22: 1, 23: 0, 24: 0,\n",
        "        25: 0, 26: 0, 27: 0, 28: 0, 29: 0},\n",
        "\n",
        "    2: {0: 0, 1: 0, 2: 0, 3: 0, 4: 0, 5: 0, 6: 0, 7: 0, 8: 0,\n",
        "        9: 0, 10: 0, 11: 0, 12: 1, 13: 0, 14: 1, 15: 0, 16: 0,\n",
        "        17: 0, 18: 0, 19: 0, 20: 0, 21: 0, 22: 0, 23: 0, 24: 0,\n",
        "        25: 0, 26: 0, 27: 0, 28: 0, 29: 0},\n",
        "\n",
        "    3: {0: 0, 1: 0, 2: 0, 3: 0, 4: 1, 5: 0, 6: 0, 7: 0, 8: 0,\n",
        "        9: 0, 10: 1, 11: 1, 12: 0, 13: 0, 14: 0, 15: 0, 16: 0,\n",
        "        17: 0, 18: 0, 19: 1, 20: 0, 21: 0, 22: 0, 23: 0, 24: 0,\n",
        "        25: 0, 26: 0, 27: 0, 28: 0, 29: 0}\n",
        "}"
      ],
      "metadata": {
        "id": "794zB8lQq2Na"
      },
      "id": "794zB8lQq2Na",
      "execution_count": 161,
      "outputs": []
    },
    {
      "cell_type": "code",
      "source": [
        "from math import log2\n",
        "\n",
        "def precision_at_k(ranking, relevancias, k):\n",
        "    relevant_count = sum([1 for doc in list(ranking.keys())[:k] if relevancias.get(doc, 0) == 1])\n",
        "    return relevant_count / k\n",
        "\n",
        "def recall(ranking, relevancias):\n",
        "    relevant_retrieved = sum([1 for doc in ranking.keys() if relevancias.get(doc, 0) == 1])\n",
        "    relevant_total = sum(relevancias.values())\n",
        "    return relevant_retrieved / relevant_total if relevant_total > 0 else 0\n",
        "\n",
        "def f1_score(precision, recall):\n",
        "    return (2 * precision * recall) / (precision + recall) if (precision + recall) > 0 else 0\n",
        "\n",
        "def average_precision(ranking, relevancias):\n",
        "    relevant_count = 0\n",
        "    precision_sum = 0\n",
        "    for i, doc in enumerate(ranking.keys(), start=1):\n",
        "        if relevancias.get(doc, 0) == 1:\n",
        "            relevant_count += 1\n",
        "            precision_sum += relevant_count / i\n",
        "    relevant_total = sum(relevancias.values())\n",
        "    return precision_sum / relevant_total if relevant_total > 0 else 0\n",
        "\n",
        "def mean_average_precision(ranking, relevancias):\n",
        "    ap_sum = 0\n",
        "    num_queries = len(ranking)\n",
        "    for query, ranking in ranking.items():\n",
        "        ap_sum += average_precision(ranking, relevancias.get(query, {}))\n",
        "    return ap_sum / num_queries if num_queries > 0 else 0\n",
        "\n",
        "def ndcg_at_k(ranking, relevancias, k):\n",
        "    dcg = 0\n",
        "    idcg = 0\n",
        "    sorted_relevancias = sorted(relevancias.values(), reverse=True)\n",
        "    for i, doc in enumerate(ranking.keys(), start=1):\n",
        "        if i > k:\n",
        "            break\n",
        "        relevance = relevancias.get(doc, 0)\n",
        "        dcg += relevance / log2(i + 1)\n",
        "    for i, relevance in enumerate(sorted_relevancias, start=1):\n",
        "        if i > k:\n",
        "            break\n",
        "        idcg += relevance / log2(i + 1)\n",
        "    return dcg / idcg if idcg > 0 else 0\n"
      ],
      "metadata": {
        "id": "GYDzQHqZyYmE"
      },
      "id": "GYDzQHqZyYmE",
      "execution_count": 162,
      "outputs": []
    },
    {
      "cell_type": "markdown",
      "source": [
        "# Análisis y Comparación"
      ],
      "metadata": {
        "id": "OeP76jqtzt6I"
      },
      "id": "OeP76jqtzt6I"
    },
    {
      "cell_type": "code",
      "source": [
        "from prettytable import PrettyTable\n",
        "\n",
        "# Definir k\n",
        "k = 5  # Puedes cambiar el valor de k según sea necesario\n",
        "\n",
        "# Crear la tabla con encabezados\n",
        "tabla = PrettyTable()\n",
        "tabla.field_names = [\"Sistema\", \"Consulta\", f\"Prec@{k}\", \"Recall\", \"F1-Score\", \"nDCG\"]\n",
        "\n",
        "# Calcular métricas para el sistema de Similitud Jaccard\n",
        "for consulta, ranking in rankingJaccard.items():\n",
        "    relevancias = juiciosRelevancia.get(consulta, {})\n",
        "    prec_at_k = precision_at_k(ranking, relevancias, k)\n",
        "    rec = recall(ranking, relevancias)\n",
        "    f1 = f1_score(prec_at_k, rec)\n",
        "    ndcg = ndcg_at_k(ranking, relevancias, k)\n",
        "    # Agregar fila para el sistema Jaccard\n",
        "    tabla.add_row([\"Similitud Jaccard\", consulta, round(prec_at_k, 3), round(rec, 3), round(f1, 3), round(ndcg, 3)])\n",
        "\n",
        "# Calcular métricas para el sistema de Similitud Coseno\n",
        "for consulta, ranking in rankingCoseno.items():\n",
        "    relevancias = juiciosRelevancia.get(consulta, {})\n",
        "    prec_at_k = precision_at_k(ranking, relevancias, k)\n",
        "    rec = recall(ranking, relevancias)\n",
        "    f1 = f1_score(prec_at_k, rec)\n",
        "    ndcg = ndcg_at_k(ranking, relevancias, k)\n",
        "    # Agregar fila para el sistema Coseno\n",
        "    tabla.add_row([\"Similitud Coseno\", consulta, round(prec_at_k, 3), round(rec, 3), round(f1, 3), round(ndcg, 3)])\n",
        "\n",
        "# Imprimir la tabla\n",
        "print(tabla)\n"
      ],
      "metadata": {
        "colab": {
          "base_uri": "https://localhost:8080/"
        },
        "id": "lFxQZV6c2JOg",
        "outputId": "3c47b082-7a5f-4f57-b625-dd5f9b86c3a4"
      },
      "id": "lFxQZV6c2JOg",
      "execution_count": 172,
      "outputs": [
        {
          "output_type": "stream",
          "name": "stdout",
          "text": [
            "+-------------------+----------+--------+--------+----------+-------+\n",
            "|      Sistema      | Consulta | Prec@5 | Recall | F1-Score |  nDCG |\n",
            "+-------------------+----------+--------+--------+----------+-------+\n",
            "| Similitud Jaccard |    1     |  0.8   |  1.0   |  0.889   | 0.661 |\n",
            "| Similitud Jaccard |    2     |  0.2   |  1.0   |  0.333   | 0.613 |\n",
            "| Similitud Jaccard |    3     |  0.2   |  1.0   |  0.333   | 0.195 |\n",
            "|  Similitud Coseno |    1     |  0.6   |  1.0   |   0.75   |  0.53 |\n",
            "|  Similitud Coseno |    2     |  0.2   |  1.0   |  0.333   | 0.613 |\n",
            "|  Similitud Coseno |    3     |  0.2   |  1.0   |  0.333   | 0.246 |\n",
            "+-------------------+----------+--------+--------+----------+-------+\n"
          ]
        }
      ]
    },
    {
      "cell_type": "markdown",
      "source": [
        "El sistema de Similitud Jaccard parece ser más efectivo que el sistema de Similitud Coseno en general. En la mayoría de las métricas (especialmente en Prec@5, F1-score, y nDCG para la consulta 1), Jaccard obtiene mejores resultados"
      ],
      "metadata": {
        "id": "79X94w0m1rNQ"
      },
      "id": "79X94w0m1rNQ"
    }
  ],
  "metadata": {
    "kernelspec": {
      "display_name": "Python 3",
      "language": "python",
      "name": "python3"
    },
    "language_info": {
      "codemirror_mode": {
        "name": "ipython",
        "version": 2
      },
      "file_extension": ".py",
      "mimetype": "text/x-python",
      "name": "python",
      "nbconvert_exporter": "python",
      "pygments_lexer": "ipython2",
      "version": "2.7.6"
    },
    "colab": {
      "provenance": []
    }
  },
  "nbformat": 4,
  "nbformat_minor": 5
}