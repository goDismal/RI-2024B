{
 "cells": [
  {
   "cell_type": "markdown",
   "metadata": {},
   "source": [
    "# Bases de datos vectoriales"
   ]
  },
  {
   "cell_type": "markdown",
   "metadata": {},
   "source": [
    "### Parte 1: Recuperación con TF-IDF\n",
    "1. Cargar los datos "
   ]
  },
  {
   "cell_type": "code",
   "execution_count": 42,
   "metadata": {},
   "outputs": [
    {
     "data": {
      "text/html": [
       "<div>\n",
       "<style scoped>\n",
       "    .dataframe tbody tr th:only-of-type {\n",
       "        vertical-align: middle;\n",
       "    }\n",
       "\n",
       "    .dataframe tbody tr th {\n",
       "        vertical-align: top;\n",
       "    }\n",
       "\n",
       "    .dataframe thead th {\n",
       "        text-align: right;\n",
       "    }\n",
       "</style>\n",
       "<table border=\"1\" class=\"dataframe\">\n",
       "  <thead>\n",
       "    <tr style=\"text-align: right;\">\n",
       "      <th></th>\n",
       "      <th>Release Year</th>\n",
       "      <th>Title</th>\n",
       "      <th>Origin/Ethnicity</th>\n",
       "      <th>Director</th>\n",
       "      <th>Cast</th>\n",
       "      <th>Genre</th>\n",
       "      <th>Wiki Page</th>\n",
       "      <th>Plot</th>\n",
       "    </tr>\n",
       "  </thead>\n",
       "  <tbody>\n",
       "    <tr>\n",
       "      <th>0</th>\n",
       "      <td>1901</td>\n",
       "      <td>Kansas Saloon Smashers</td>\n",
       "      <td>American</td>\n",
       "      <td>Unknown</td>\n",
       "      <td>NaN</td>\n",
       "      <td>unknown</td>\n",
       "      <td>https://en.wikipedia.org/wiki/Kansas_Saloon_Sm...</td>\n",
       "      <td>A bartender is working at a saloon, serving dr...</td>\n",
       "    </tr>\n",
       "    <tr>\n",
       "      <th>1</th>\n",
       "      <td>1901</td>\n",
       "      <td>Love by the Light of the Moon</td>\n",
       "      <td>American</td>\n",
       "      <td>Unknown</td>\n",
       "      <td>NaN</td>\n",
       "      <td>unknown</td>\n",
       "      <td>https://en.wikipedia.org/wiki/Love_by_the_Ligh...</td>\n",
       "      <td>The moon, painted with a smiling face hangs ov...</td>\n",
       "    </tr>\n",
       "    <tr>\n",
       "      <th>2</th>\n",
       "      <td>1901</td>\n",
       "      <td>The Martyred Presidents</td>\n",
       "      <td>American</td>\n",
       "      <td>Unknown</td>\n",
       "      <td>NaN</td>\n",
       "      <td>unknown</td>\n",
       "      <td>https://en.wikipedia.org/wiki/The_Martyred_Pre...</td>\n",
       "      <td>The film, just over a minute long, is composed...</td>\n",
       "    </tr>\n",
       "    <tr>\n",
       "      <th>3</th>\n",
       "      <td>1901</td>\n",
       "      <td>Terrible Teddy, the Grizzly King</td>\n",
       "      <td>American</td>\n",
       "      <td>Unknown</td>\n",
       "      <td>NaN</td>\n",
       "      <td>unknown</td>\n",
       "      <td>https://en.wikipedia.org/wiki/Terrible_Teddy,_...</td>\n",
       "      <td>Lasting just 61 seconds and consisting of two ...</td>\n",
       "    </tr>\n",
       "    <tr>\n",
       "      <th>4</th>\n",
       "      <td>1902</td>\n",
       "      <td>Jack and the Beanstalk</td>\n",
       "      <td>American</td>\n",
       "      <td>George S. Fleming, Edwin S. Porter</td>\n",
       "      <td>NaN</td>\n",
       "      <td>unknown</td>\n",
       "      <td>https://en.wikipedia.org/wiki/Jack_and_the_Bea...</td>\n",
       "      <td>The earliest known adaptation of the classic f...</td>\n",
       "    </tr>\n",
       "  </tbody>\n",
       "</table>\n",
       "</div>"
      ],
      "text/plain": [
       "   Release Year                             Title Origin/Ethnicity  \\\n",
       "0          1901            Kansas Saloon Smashers         American   \n",
       "1          1901     Love by the Light of the Moon         American   \n",
       "2          1901           The Martyred Presidents         American   \n",
       "3          1901  Terrible Teddy, the Grizzly King         American   \n",
       "4          1902            Jack and the Beanstalk         American   \n",
       "\n",
       "                             Director Cast    Genre  \\\n",
       "0                             Unknown  NaN  unknown   \n",
       "1                             Unknown  NaN  unknown   \n",
       "2                             Unknown  NaN  unknown   \n",
       "3                             Unknown  NaN  unknown   \n",
       "4  George S. Fleming, Edwin S. Porter  NaN  unknown   \n",
       "\n",
       "                                           Wiki Page  \\\n",
       "0  https://en.wikipedia.org/wiki/Kansas_Saloon_Sm...   \n",
       "1  https://en.wikipedia.org/wiki/Love_by_the_Ligh...   \n",
       "2  https://en.wikipedia.org/wiki/The_Martyred_Pre...   \n",
       "3  https://en.wikipedia.org/wiki/Terrible_Teddy,_...   \n",
       "4  https://en.wikipedia.org/wiki/Jack_and_the_Bea...   \n",
       "\n",
       "                                                Plot  \n",
       "0  A bartender is working at a saloon, serving dr...  \n",
       "1  The moon, painted with a smiling face hangs ov...  \n",
       "2  The film, just over a minute long, is composed...  \n",
       "3  Lasting just 61 seconds and consisting of two ...  \n",
       "4  The earliest known adaptation of the classic f...  "
      ]
     },
     "execution_count": 42,
     "metadata": {},
     "output_type": "execute_result"
    }
   ],
   "source": [
    "import pandas as pd\n",
    "archivo_csv = 'wiki_movie_plots_deduped.csv'\n",
    "df = pd.read_csv(archivo_csv)\n",
    "plots = df['Plot']\n",
    "titles = df['Title']\n",
    "df.head()"
   ]
  },
  {
   "cell_type": "markdown",
   "metadata": {},
   "source": [
    "2. Configurar TF-IDF\n",
    "\n",
    "Usando scikit-learn, vamos a calcular los puntajes TF-IDF para los plots"
   ]
  },
  {
   "cell_type": "code",
   "execution_count": 43,
   "metadata": {},
   "outputs": [],
   "source": [
    "# Importar scikit-learn\n",
    "from sklearn.feature_extraction.text import TfidfVectorizer\n",
    "from sklearn.metrics.pairwise import cosine_similarity\n",
    "\n",
    "# Calcular TF-IDF\n",
    "vectorizer = TfidfVectorizer(stop_words='english')\n",
    "tfidf_matrix = vectorizer.fit_transform(plots)"
   ]
  },
  {
   "cell_type": "markdown",
   "metadata": {},
   "source": [
    "Creamos la funcion para realizar búsquedas"
   ]
  },
  {
   "cell_type": "code",
   "execution_count": 44,
   "metadata": {},
   "outputs": [],
   "source": [
    "# Función para buscar películas\n",
    "def search_movies(query, top_n=5):\n",
    "    query_tfidf = vectorizer.transform([query])\n",
    "    similarities = cosine_similarity(query_tfidf, tfidf_matrix).flatten()\n",
    "    top_indices = similarities.argsort()[-top_n:][::-1]\n",
    "    results = [(titles[i], similarities[i]) for i in top_indices]\n",
    "    return results"
   ]
  },
  {
   "cell_type": "markdown",
   "metadata": {},
   "source": [
    "3. Probamos el sistema con una consulta"
   ]
  },
  {
   "cell_type": "code",
   "execution_count": 45,
   "metadata": {},
   "outputs": [],
   "source": [
    "# Probar el sistema\n",
    "query = \"dinosaurs\"\n",
    "results = search_movies(query)"
   ]
  },
  {
   "cell_type": "markdown",
   "metadata": {},
   "source": [
    "Ahora imprimiremos los resultados"
   ]
  },
  {
   "cell_type": "code",
   "execution_count": 46,
   "metadata": {},
   "outputs": [
    {
     "name": "stdout",
     "output_type": "stream",
     "text": [
      "\n",
      "Resultados:\n",
      "We're Back! A Dinosaur's Story (similaridad: 0.47)\n",
      "In present-day New York City, an Eastern bluebird named Buster runs away from his siblings and he meets an intelligent orange Tyrannosaurus named Rex, who is playing golf. He explains to Buster that he was once a ravaging dinosaur, and proceeds to tell his personal story.\n",
      "In a prehistoric jungle, Rex is terrorizing other dinosaurs such as this Thescelosaurus he is pursuing when a spaceship lands on Earth with a little alien named Vorb. Vorb captures Rex and gives him \"Brain Grain\", a special breakfast cereal that vastly increases Rex's intelligence. Rex is given his name and introduced to other dinosaurs that are also anthropomorphized by the magic of Brain Grain: a blue Triceratops named Woog, a purple Pteranodon named Elsa and a green Parasaurolophus named Dweeb. They soon meet Vorb's employer Captain Neweyes, the inventor of Brain Grain, who reveals his goal of allowing the children of the present time to see real dinosaurs, fulfilling their biggest wishes. He plans to take them to Doctor Julia Bleeb who will guide them to the American Museum of Natural History, and warns them to avoid Professor Screweyes, his insane brother.\n",
      "Neweyes drops the dinosaurs off in the Hudson River in the present day, but they are unable to meet with Bleeb. Instead, they meet a young boy named Louie, who plans on running away to join the circus. Louie agrees to help the dinosaurs get to the museum. Riding on Elsa, Louie soon encounters a girl named Cecilia, who is miserable with her life because of her neglectful parents. She agrees to run away with Louie and help the dinosaurs. To prevent mass panic, Louie decides that the dinosaurs need to stay hidden during their journey to the museum. He disguises them as floats in the Macy's Thanksgiving Day Parade. During the parade, Rex hears all the children wishing to see real dinosaurs, so he starts to sing \"Roll Back the Rock (To the Dawn of Time)\". But when he sees the Apatosaurus balloon coming out in the parade, Rex mistakes it for being real and hand shakes it too tight with his claws, causing its air sealer to pop open. The balloon runs out of air and falls on the dinosaurs, who are otherwise unharmed. When the audience realizes that live dinosaurs are among them, they fly into a panic and the dinosaurs escape and flee to Central Park in a red pick up truck while being pursued by the police and the army at the same time.\n",
      "Meanwhile, Louie and Cecilia meet Professor Screweyes himself, who is running his \"Eccentric Circus\". Unaware of Screweyes' sinister nature, the children sign a contract to perform in his circus troupe. However, when the dinosaurs arrive at the circus, Screweyes explains that he delights in scaring people and believes that the dinosaurs would make a great addition to his circus. Using his \"Brain Drain\", pills that are the polar opposite of his brother's Brain Grain, Screweyes devolves Louie and Cecilia into chimpanzees. When he offers the dinosaurs to consume the pills and join his circus, they reluctantly accept and Screweyes releases Louie and Cecilia. Knowing their friendship will be lost forever, Rex transforms Louie and Cecilia back to their human form by removing the effects of the Brain Drain with his gentle pats. And before leaving, he sadly tells the two children to remember him.\n",
      "As the kids awake the next morning, they are greeted by a circus clown named Stubbs, who works for Professor Screweyes. Upon seeing the dinosaurs returned to their natural savage states, Louie and Cecilia, with the help of Stubbs, plan to sneak into the night's show and save the dinosaurs. That night, Professor Screweyes opens his circus with the Grand Demon Parade and unveils the dinosaurs before the very eyes of his audience. Screweyes says he can control Rex, and proceeds to hypnotize him. Everyone watching the show gets frightened during the performance, and many run away. However, a crow unintentionally activates the flare lights, breaking Rex out of the trance on purpose. Realizing he has been tricked, Rex becomes enraged and repeatedly attempts to eat Screweyes. However, Louie steps in and desperately tells Rex that killing Screweyes will not be worth it. When Rex does not understand his words, Louie tearfully begs him to put Screweyes down, telling him to \"be a king\" (a translation for the word \"rex\"). Touched by Louie's impassioned pleas, Rex changes back to his intelligent state and releases Screweyes. And to Screweyes' shock, the audience cheered with wonder and joy as Louie hugs Rex, then he and Cecilia also return Elsa, Woog and Dweeb to their kind and friendly natures. A moment later, Captain Neweyes arrives in his ship and congratulates Louie and Cecilia, who proceed to kiss in front of a whole crowd of people. Stubbs announces his resignation from Professor Screweyes' employ. Neweyes, Louie, Cecilia and the dinosaurs board the aircraft, leaving Screweyes to be swarmed upon and devoured by the crows.\n",
      "The dinosaurs spend the rest of their days in the museum, allowing children to see live dinosaurs, and thus fulfilling their wishes. Back in the present, Rex told Buster that he and his fellow dinosaurs are still in the museum. He even explains that Louie and Cecilia reconciled with their respective parents, and the two became a couple. Rex returns Buster to his family and tells him to remember his story and before leaving for the museum.\n",
      "\n",
      "Theodore Rex (similaridad: 0.38)\n",
      "In an alternate futuristic society where humans and anthropomorphic dinosaurs co-exist, a tough police detective named Katie Coltraine (Whoopi Goldberg) is paired with a Tyrannosaurus named Theodore Rex (George Newbern) to find the killer of dinosaurs and other prehistoric animals leading them to a ruthless billionaire bent on killing off mankind by creating a new ice age.\n",
      "\n",
      "Future War (similaridad: 0.28)\n",
      "Future War begins aboard a spaceship undergoing a revolt. A man enters and activates an escape pod which travels to Earth and crashes into the Pacific Ocean. The pod contains “The Runaway”, a human slave played by Daniel Bernhardt. He is being pursued by cyborg slavers and dinosaurs that they use as “trackers.” Since he was kidnapped some time from Earth’s past, The Runaway is familiar with the English language and the King James Bible, and he regards Earth as a literal heaven.\n",
      "The Runaway finds refuge with novice nun Sister Ann (Travis Brooks Stewart), whose past involved dealing drugs and prostitution. Together, they fight the dinosaurs and their robotic masters, seeking help from a street gang. Future War features star Daniel Bernhardt’s kickboxing skills in several fight sequences, including against the Cyborg Master (Robert Z'Dar).\n",
      "After being arrested as a suspect in a rash of deaths due to strange animal attacks, The Runaway is interrogated by federal agents. They present to him a dinosaur collar found on the beach. The Cyborg Master breaks into the police station during the interrogation and The Runaway manages to escape in the confusion. He returns to Sister Ann and her gang friends with a plan to attack the dinosaurs where they live, as Runaway simply explains, \"Near water...\".\n",
      "Using dynamite, The Runaway successfully destroys a water treatment plant, killing the dinosaurs. Later, though, the surviving Cyborg Master attacks The Runaway while he watches Sister Ann make her final vows to become a nun. After The Runaway finally kills the Cyborg Master, he becomes a counselor for runaway teens, working closely with Sister Ann.\n",
      "\n",
      "The Dinosaur Project (similaridad: 0.26)\n",
      "A group of explorers from the British Cryptozoological Society goes on an expedition into the Congo in search of a cryptid—the so-called Mokele-mbembe—which is believed to be a Plesiosaur. Along with the five explorers are two television cameramen who will be recording the whole expedition. The explorers consist of their leader Jonathan, their medic Liz, their sponsor organiser Charlie, their pilot, and a local guide, named Amara. During the helicopter flight, Johnathan discovers that his son Luke sneaked into the chopper as a stowaway.\n",
      "Shortly after that, a flock of large flying reptiles appears next to the helicopter and one of them crashes into the chopper blades, causing the helicopter to crash. The pilot dies in the crash and everyone else escapes just before the chopper explodes. Now lost, they discover that the satellite phone they had with them was broken during the crash, Amara suggests that they should head to the village they saw while they were in the helicopter. Upon arriving, the group discovers that the villagers have been killed and the village destroyed. Johnathan chooses a hut to stay in for the night and his son, who is technically talented, installs a night vision camera outside the hut.\n",
      "At night, everyone is woken up by strange noises and Luke sees a swarm of bat-like reptiles outside the hut on the monitor linked to his night vision camera. Charlie accidentally alerts the creatures by making a noise and they try to flee from the village which is infested with the animals. Liz is attacked and killed while the rest escape in a pair of wooden boats and spend the night and part of the day on the river, until they arrive on a small island. On that island they encounter a group of dinosaurs with one in particular that seems to like Luke, which he decides to name Crypto. He spits a fluid on Luke. The next morning, they discover that the dinosaurs are still there and Luke decides to attach one of his cameras onto Crypto's neck to see where he would go to. The broadcast cuts out as the dinosaurs swim into a cave.\n",
      "The group heads back on the river when the broadcast returns and Luke and Charlie see that the dinosaurs went straight to where they originated, some kind of underground gateway, where the camera is dropped. When they try to steer through a whitewater, Luke's and Charlie's boat gets separated and drifts off towards the cave where the dinosaurs went earlier. The rest of the explorers follow them and rejoining them in a river canyon, they encounter a Plesiosaur. A suddenly emerging Pliosaur attacks the group. Charlie and Luke get out of the water, believing that the rest of the group died and continue to search for the place where the dinosaurs came from, in the jungle. Eventually they arrive there and when Charlie learns that Luke has fixed the satellite phone, he pushes Luke down into the gateway, intending to kill him.\n",
      "On the other side of the underground passageway, Luke speaks into the camera, trying to reach the other survivors via the monitor. In the next scene the survivors are seen walking around at the river beach amidst the remains of the boats, the camera monitor lies shattered on the ground. Amara reveals that she was supposed to lead the group to do some records at a safe place in the jungle but she refuses to go towards the gateway and leaves, taking one of the boats. Jonathan and Pete continue the search for Luke and Charlie. In the meantime, Luke meets Crypto and follows him deeper into the jungle, where he is attacked by the bat-like creatures. He is rescued by Pete, who suddenly appears together with Jonathan and drives off the creatures. Pete chases them into the jungle, when he is suddenly encircled by the creatures who attack and presumably kill him. Charlie is seen, speaking to the camera at an unknown place, when he is interrupted and forced to hide by Jonathan and Luke, continuing through the jungle. They follow a steep cliffway, when they are hit by a rockfall, causing Jonathan almost to fall down the cliff. As Luke looks up, Charlie is seen with a stick in his hands, indicating that he caused the rocks to fall. Luke tries to help his father who is holding onto a rock, but, telling him that he loves him, he lets go of the rock and falls down the cliff.\n",
      "Luke escapes from Charlie and hides in the dense jungle, evading Charlie who is chasing him, when he meets the little dinosaur once more who leads him to the place where he dropped his camera earlier, when suddenly Charlie emerges in front of him, intending to kill him. Crypto spits the fluid into Luke's face, when two adult dinosaurs appear just behind Charlie, sniffing on Luke and smelling the fluid, they leave him alone and kill Charlie.\n",
      "Luke proceeds into the jungle and stops at a high cliff, filming himself and the little dinosaur, saying that the satellite phone has been crushed again and that he has to destroy the cameras to use the parts, he waves the camera over the view from the cliff, showing a big valley full of dinosaurs. In the next scene he is seen throwing the backpack down a waterfall into a river, as a message. Luke's fate is unknown.\n",
      "The floating backpack is found by men in a boat, who find video hard drives and tapes labelled \"the Dinosaur Project\" inside. In a blurry video, Luke says \"I think it works\".\n",
      "\n",
      "Adhisaya Ulagam (similaridad: 0.24)\n",
      "Professor Neelakantan (J. Livingston) is an maverick Indian scientist and inventor who develops and constructs a time machine, and begins experimenting with it. He realises that his machine requires a recognised \"object\" to work, and he therefore seeks to locate such an object that can be transported in time through his machine. He jokingly tells his pet dog that he would use it as the \"object\".\n",
      "Varsha (Sreelakhsmy N. Nair) and Vikas (Prithvi) are Neelakantan's mischievous granddaughter and grandson who live with their parents and are very fond of the grandfather. While on a visit, the two children enter Neelakantan's laboratory in his absence and start playing with the dog. Varsha throws a ball that strikes the time machine's control screen and accidentally turns on the device, which recognises Varsha and Vikas as transferable \"objects\". Neelakantan enters the room and is shocked to see the machine's condition, but it is too late. As he tries to save the kids, he too is recognised as an \"object\" by the machine, and his grandchildren and he are accidentally transported to the age of dinosaurs.\n",
      "In the prehistoric world Neelakantan and his grandchildren encounter animals that are now extinct, including several species of dangerous dinosaurs. At first they are afraid and struggle to understand what to do. But, gradually they try to be friends with a dinosaurs. They wish to return to the modern times, but for that they would require a source of electricity, which does not exist in the prehistoric times they have been transported to. How they survive their circumstances and finally manage to return to their own age is the main plot of the film.\n",
      "\n"
     ]
    }
   ],
   "source": [
    "print(\"\\nResultados:\")\n",
    "for title, score in results:\n",
    "    print(f\"{title} (similaridad: {score:.2f})\\n{plots[titles[titles == title].index[0]]}\\n\")"
   ]
  },
  {
   "cell_type": "markdown",
   "metadata": {},
   "source": [
    "4. Evaluamos resultados\n",
    "\n",
    "Los resultados tienen lógica acorde a la query"
   ]
  },
  {
   "cell_type": "markdown",
   "metadata": {},
   "source": [
    "### Parte 2: Recuperación con BM25\n",
    "1. Configurar ElasticSearch"
   ]
  },
  {
   "cell_type": "code",
   "execution_count": 47,
   "metadata": {},
   "outputs": [
    {
     "name": "stdout",
     "output_type": "stream",
     "text": [
      "Requirement already satisfied: elasticsearch in c:\\users\\glenn\\appdata\\local\\programs\\python\\python312\\lib\\site-packages (8.17.0)\n",
      "Requirement already satisfied: elastic-transport<9,>=8.15.1 in c:\\users\\glenn\\appdata\\local\\programs\\python\\python312\\lib\\site-packages (from elasticsearch) (8.17.0)\n",
      "Requirement already satisfied: urllib3<3,>=1.26.2 in c:\\users\\glenn\\appdata\\local\\programs\\python\\python312\\lib\\site-packages (from elastic-transport<9,>=8.15.1->elasticsearch) (2.2.1)\n",
      "Requirement already satisfied: certifi in c:\\users\\glenn\\appdata\\local\\programs\\python\\python312\\lib\\site-packages (from elastic-transport<9,>=8.15.1->elasticsearch) (2024.2.2)\n",
      "Note: you may need to restart the kernel to use updated packages.\n"
     ]
    }
   ],
   "source": [
    "pip install elasticsearch"
   ]
  },
  {
   "cell_type": "markdown",
   "metadata": {},
   "source": [
    "En este punto vamos a configurar BM25 como nuestro modelo de recuperación de información. Para ello, vamos a utilizar la biblioteca Elasticsearch de Python"
   ]
  },
  {
   "cell_type": "code",
   "execution_count": 48,
   "metadata": {},
   "outputs": [
    {
     "name": "stdout",
     "output_type": "stream",
     "text": [
      "Conexión exitosa a Elasticsearch\n"
     ]
    }
   ],
   "source": [
    "from elasticsearch import Elasticsearch\n",
    "\n",
    "# Conexión al servidor Elasticsearch\n",
    "es = Elasticsearch(\"http://localhost:9200\")\n",
    "\n",
    "# Verificar si está conectado\n",
    "if es.ping():\n",
    "    print(\"Conexión exitosa a Elasticsearch\")\n",
    "else:\n",
    "    print(\"Error al conectar con Elasticsearch\")\n"
   ]
  },
  {
   "cell_type": "code",
   "execution_count": 49,
   "metadata": {},
   "outputs": [
    {
     "name": "stdout",
     "output_type": "stream",
     "text": [
      "Índice 'movies' ya existe.\n"
     ]
    }
   ],
   "source": [
    "# Definimos el esquema del índice\n",
    "index_name = \"movies\"\n",
    "if not es.indices.exists(index=index_name):\n",
    "    es.indices.create(\n",
    "        index=index_name,\n",
    "        body={\n",
    "            \"mappings\": {\n",
    "                \"properties\": {\n",
    "                    \"title\": {\"type\": \"text\"},\n",
    "                    \"plot\": {\"type\": \"text\"}\n",
    "                }\n",
    "            }\n",
    "        }\n",
    "    )\n",
    "    print(f\"Índice '{index_name}' creado.\")\n",
    "else:\n",
    "    print(f\"Índice '{index_name}' ya existe.\")"
   ]
  },
  {
   "cell_type": "markdown",
   "metadata": {},
   "source": [
    "Una vez se configura el índice, insertamos los datos del CSV en Elasticsearch"
   ]
  },
  {
   "cell_type": "code",
   "execution_count": 50,
   "metadata": {},
   "outputs": [
    {
     "name": "stdout",
     "output_type": "stream",
     "text": [
      "Películas indexadas con éxito.\n"
     ]
    }
   ],
   "source": [
    "# Indexar los datos\n",
    "for _, row in df.iterrows():\n",
    "    doc = {\n",
    "        \"title\": row[\"Title\"],\n",
    "        \"plot\": row[\"Plot\"]\n",
    "    }\n",
    "    es.index(index=index_name, id=row[\"Title\"], document=doc)\n",
    "\n",
    "print(\"Películas indexadas con éxito.\")"
   ]
  },
  {
   "cell_type": "markdown",
   "metadata": {},
   "source": [
    "2. Declaramos la función para buscar"
   ]
  },
  {
   "cell_type": "code",
   "execution_count": 51,
   "metadata": {},
   "outputs": [],
   "source": [
    "# Función para realizar búsqueda con BM25\n",
    "def busqueda_bm25(query, es, index_name):\n",
    "    body = {\n",
    "        \"size\": 5,\n",
    "        \"query\": {\n",
    "            \"match\": {\n",
    "                \"plot\": query\n",
    "            }\n",
    "        }\n",
    "    }\n",
    "    resultados = es.search(index=index_name, body=body)\n",
    "    return [\n",
    "        {\"Title\": hit[\"_source\"][\"title\"], \"Plot\": hit[\"_source\"][\"plot\"]}\n",
    "        for hit in resultados[\"hits\"][\"hits\"]\n",
    "    ]"
   ]
  },
  {
   "cell_type": "markdown",
   "metadata": {},
   "source": [
    "Ahora hacemos una búsqueda para probar el funcionamiento"
   ]
  },
  {
   "cell_type": "code",
   "execution_count": 52,
   "metadata": {},
   "outputs": [
    {
     "name": "stdout",
     "output_type": "stream",
     "text": [
      "Título: We're Back! A Dinosaur's Story\n",
      "Trama: In present-day New York City, an Eastern bluebird named Buster runs away from his siblings and he meets an intelligent orange Tyrannosaurus named Rex, who is playing golf. He explains to Buster that he was once a ravaging dinosaur, and proceeds to tell his personal story.\n",
      "In a prehistoric jungle, Rex is terrorizing other dinosaurs such as this Thescelosaurus he is pursuing when a spaceship lands on Earth with a little alien named Vorb. Vorb captures Rex and gives him \"Brain Grain\", a special breakfast cereal that vastly increases Rex's intelligence. Rex is given his name and introduced to other dinosaurs that are also anthropomorphized by the magic of Brain Grain: a blue Triceratops named Woog, a purple Pteranodon named Elsa and a green Parasaurolophus named Dweeb. They soon meet Vorb's employer Captain Neweyes, the inventor of Brain Grain, who reveals his goal of allowing the children of the present time to see real dinosaurs, fulfilling their biggest wishes. He plans to take them to Doctor Julia Bleeb who will guide them to the American Museum of Natural History, and warns them to avoid Professor Screweyes, his insane brother.\n",
      "Neweyes drops the dinosaurs off in the Hudson River in the present day, but they are unable to meet with Bleeb. Instead, they meet a young boy named Louie, who plans on running away to join the circus. Louie agrees to help the dinosaurs get to the museum. Riding on Elsa, Louie soon encounters a girl named Cecilia, who is miserable with her life because of her neglectful parents. She agrees to run away with Louie and help the dinosaurs. To prevent mass panic, Louie decides that the dinosaurs need to stay hidden during their journey to the museum. He disguises them as floats in the Macy's Thanksgiving Day Parade. During the parade, Rex hears all the children wishing to see real dinosaurs, so he starts to sing \"Roll Back the Rock (To the Dawn of Time)\". But when he sees the Apatosaurus balloon coming out in the parade, Rex mistakes it for being real and hand shakes it too tight with his claws, causing its air sealer to pop open. The balloon runs out of air and falls on the dinosaurs, who are otherwise unharmed. When the audience realizes that live dinosaurs are among them, they fly into a panic and the dinosaurs escape and flee to Central Park in a red pick up truck while being pursued by the police and the army at the same time.\n",
      "Meanwhile, Louie and Cecilia meet Professor Screweyes himself, who is running his \"Eccentric Circus\". Unaware of Screweyes' sinister nature, the children sign a contract to perform in his circus troupe. However, when the dinosaurs arrive at the circus, Screweyes explains that he delights in scaring people and believes that the dinosaurs would make a great addition to his circus. Using his \"Brain Drain\", pills that are the polar opposite of his brother's Brain Grain, Screweyes devolves Louie and Cecilia into chimpanzees. When he offers the dinosaurs to consume the pills and join his circus, they reluctantly accept and Screweyes releases Louie and Cecilia. Knowing their friendship will be lost forever, Rex transforms Louie and Cecilia back to their human form by removing the effects of the Brain Drain with his gentle pats. And before leaving, he sadly tells the two children to remember him.\n",
      "As the kids awake the next morning, they are greeted by a circus clown named Stubbs, who works for Professor Screweyes. Upon seeing the dinosaurs returned to their natural savage states, Louie and Cecilia, with the help of Stubbs, plan to sneak into the night's show and save the dinosaurs. That night, Professor Screweyes opens his circus with the Grand Demon Parade and unveils the dinosaurs before the very eyes of his audience. Screweyes says he can control Rex, and proceeds to hypnotize him. Everyone watching the show gets frightened during the performance, and many run away. However, a crow unintentionally activates the flare lights, breaking Rex out of the trance on purpose. Realizing he has been tricked, Rex becomes enraged and repeatedly attempts to eat Screweyes. However, Louie steps in and desperately tells Rex that killing Screweyes will not be worth it. When Rex does not understand his words, Louie tearfully begs him to put Screweyes down, telling him to \"be a king\" (a translation for the word \"rex\"). Touched by Louie's impassioned pleas, Rex changes back to his intelligent state and releases Screweyes. And to Screweyes' shock, the audience cheered with wonder and joy as Louie hugs Rex, then he and Cecilia also return Elsa, Woog and Dweeb to their kind and friendly natures. A moment later, Captain Neweyes arrives in his ship and congratulates Louie and Cecilia, who proceed to kiss in front of a whole crowd of people. Stubbs announces his resignation from Professor Screweyes' employ. Neweyes, Louie, Cecilia and the dinosaurs board the aircraft, leaving Screweyes to be swarmed upon and devoured by the crows.\n",
      "The dinosaurs spend the rest of their days in the museum, allowing children to see live dinosaurs, and thus fulfilling their wishes. Back in the present, Rex told Buster that he and his fellow dinosaurs are still in the museum. He even explains that Louie and Cecilia reconciled with their respective parents, and the two became a couple. Rex returns Buster to his family and tells him to remember his story and before leaving for the museum.\n",
      "\n",
      "Título: Theodore Rex\n",
      "Trama: In an alternate futuristic society where humans and anthropomorphic dinosaurs co-exist, a tough police detective named Katie Coltraine (Whoopi Goldberg) is paired with a Tyrannosaurus named Theodore Rex (George Newbern) to find the killer of dinosaurs and other prehistoric animals leading them to a ruthless billionaire bent on killing off mankind by creating a new ice age.\n",
      "\n",
      "Título: Future War\n",
      "Trama: Future War begins aboard a spaceship undergoing a revolt. A man enters and activates an escape pod which travels to Earth and crashes into the Pacific Ocean. The pod contains “The Runaway”, a human slave played by Daniel Bernhardt. He is being pursued by cyborg slavers and dinosaurs that they use as “trackers.” Since he was kidnapped some time from Earth’s past, The Runaway is familiar with the English language and the King James Bible, and he regards Earth as a literal heaven.\n",
      "The Runaway finds refuge with novice nun Sister Ann (Travis Brooks Stewart), whose past involved dealing drugs and prostitution. Together, they fight the dinosaurs and their robotic masters, seeking help from a street gang. Future War features star Daniel Bernhardt’s kickboxing skills in several fight sequences, including against the Cyborg Master (Robert Z'Dar).\n",
      "After being arrested as a suspect in a rash of deaths due to strange animal attacks, The Runaway is interrogated by federal agents. They present to him a dinosaur collar found on the beach. The Cyborg Master breaks into the police station during the interrogation and The Runaway manages to escape in the confusion. He returns to Sister Ann and her gang friends with a plan to attack the dinosaurs where they live, as Runaway simply explains, \"Near water...\".\n",
      "Using dynamite, The Runaway successfully destroys a water treatment plant, killing the dinosaurs. Later, though, the surviving Cyborg Master attacks The Runaway while he watches Sister Ann make her final vows to become a nun. After The Runaway finally kills the Cyborg Master, he becomes a counselor for runaway teens, working closely with Sister Ann.\n",
      "\n",
      "Título: Unknown Island\n",
      "Trama: Adventure-seeker Ted Osborne (Phillip Reed) and his fiancee Carole (Virginia Grey) are at a cafe in Singapore, looking for a charter to an island supposedly inhabited by dinosaurs. They come across the ruthless, two fisted, alcohol-suffering Captain Tarnowski (Barton MacLane). They decide to talk, and Osborne asks is Tarnowski is willing to give them a charter in his ship to the unknown island. Initially Tarnowski refuses, but then Osborne tells that during World War II he was a pilot in the US Navy. He had flown over many remote islands, and on one he reported seeing large, moving things that looked like Brontosaurus dinosaurs. He shows Tarnowski a photo, and the captain finally agrees to take them there. Before departing, Tarnowski introduces them to John Fairbanks (Richard Denning), an old friend of his, who agrees to help them with their quest. Fairbanks and a group of friends had been shipwrecked on the island with Fairbanks being the lone survivor of attack by the dinosaurs. As Fairbanks had been drinking incessantly to forget the events of the past since his rescue, his account of the dinosaur island was believed to be the result of alcoholism and insanity. Since Fairbanks and Osborne's stories collaborated, Tarnowski agrees to allow his ship to be hired, but specifies that no one in the crew be told of their destination.\n",
      "They sail aboard Tarnowski's ship, heading for weeks in the direction of French Polynesia, where the island is supposed to be located. During the voyage, it becomes clear that Fairbanks is obviously becoming attracted to Carole, even though she is the fiancee of Osborne. Tarnowski acts mad at Fairbanks because he is afraid of the dinosaurs, and that the island might not be a safe place for Carole.\n",
      "However, unknown to almost everyone, a group of unfriendly natives have been hiding in the hold of the ship. Before the crew reaches the island, they mutiny and attack the crew. Fortunately, they lose the fight and afterwards agree to help them on the island.\n",
      "The next morning, the ship's first mate spots the island in the distance. As they approach, he notices feeding Brontosauruses. With the conformation of living dinosaurs inhabiting the island, they become cautious. The natives help them unload supplies, and a camp is set up in a forest clearing not far from shore. Whilst exploring the island, they find more Brontosaurus and later, a dimetrodon (a sail-backed synapsid). Then, as they venture out onto the flats of the island, they find Ceratosauruses. Knowing these creatures can be a threat, the natives are asked to guard the camp at all times.\n",
      "After a near fight between Fairbanks and Osborne because of Carole's safety, a giant sloth appears and prowls around the camp. Carole screams and the men are alerted, but they soon fend it off with gunfire. The next morning they go back to the flats where they find even more Ceratosaurus. The natives try to persuade them to leave and when the first mate agrees with them, he gets into a fight with Tarnowski and is killed when one of the natives accidentally throws a knife into his back. The native is shot and killed by Tarnowski while the crew focus on driving away the dinosaurs with grenades and gunfire. Fairbanks still tries to convince Osborne to leave the island but still he refuses. Eventually though, he feels he has observed the dinosaurs long enough and decides to leave shortly. Tarnowski, however, will not leave the island until he brings back one of the dinosaurs alive, which none of the other men think is right. He starts saying bad things about the men due to the overdose of whiskey he has been drinking.\n",
      "The natives, knowing that the crew are not treating them well, try to steal the lifeboat and get off the island. The men are alerted, but the natives are able to dodge their gunfire and escape. However, they are all killed when a giant wave topples and smashes the boat. They come back to the camp and find it destroyed, because Tarnowski carelessly threw away his match. Knowing that they must soon leave the island, they gather wood and begin building a raft. While Fairbanks and Osborne are working on the raft, Carole is obtained by Tarnowski, who plays a cruel trick on her. A Ceratosaurus attacks the pair but Tarnowski kills it with a grenade. Tarnowski carries her off, while Fairbanks and Osborne argue about her safety again. Tarnowski tries to convince Carole to leave the island secretly with him but she refuses, and eventually, after he says he will protect her, she doses off with him. Fairbanks meanwhile sets off in search of Carole.\n",
      "While Carole and Tarnowski are waking up, the dimetrodon attacks again. Carole is able to fend it off with Tarnowski's gun, and as he tries to kiss her Fairbanks arrives. The two men fight and Tarnowski is knocked out, giving Fairbanks and Carole time to escape. Then, the giant sloth reappears and devours Tarnowski. As Fairbanks and Carole reach the shores of the island, they are trapped behind a rock during a fight between the giant sloth and a Ceratosaurus. The dinosaur loses and the sloth walks away. The two are shortly reunited with Osborne and another passenger, and the four break camp and leave the island on Tarnowski's boat, looking back as the island slowly disappears from sight.\n",
      "\n",
      "Título: The Dinosaur Project\n",
      "Trama: A group of explorers from the British Cryptozoological Society goes on an expedition into the Congo in search of a cryptid—the so-called Mokele-mbembe—which is believed to be a Plesiosaur. Along with the five explorers are two television cameramen who will be recording the whole expedition. The explorers consist of their leader Jonathan, their medic Liz, their sponsor organiser Charlie, their pilot, and a local guide, named Amara. During the helicopter flight, Johnathan discovers that his son Luke sneaked into the chopper as a stowaway.\n",
      "Shortly after that, a flock of large flying reptiles appears next to the helicopter and one of them crashes into the chopper blades, causing the helicopter to crash. The pilot dies in the crash and everyone else escapes just before the chopper explodes. Now lost, they discover that the satellite phone they had with them was broken during the crash, Amara suggests that they should head to the village they saw while they were in the helicopter. Upon arriving, the group discovers that the villagers have been killed and the village destroyed. Johnathan chooses a hut to stay in for the night and his son, who is technically talented, installs a night vision camera outside the hut.\n",
      "At night, everyone is woken up by strange noises and Luke sees a swarm of bat-like reptiles outside the hut on the monitor linked to his night vision camera. Charlie accidentally alerts the creatures by making a noise and they try to flee from the village which is infested with the animals. Liz is attacked and killed while the rest escape in a pair of wooden boats and spend the night and part of the day on the river, until they arrive on a small island. On that island they encounter a group of dinosaurs with one in particular that seems to like Luke, which he decides to name Crypto. He spits a fluid on Luke. The next morning, they discover that the dinosaurs are still there and Luke decides to attach one of his cameras onto Crypto's neck to see where he would go to. The broadcast cuts out as the dinosaurs swim into a cave.\n",
      "The group heads back on the river when the broadcast returns and Luke and Charlie see that the dinosaurs went straight to where they originated, some kind of underground gateway, where the camera is dropped. When they try to steer through a whitewater, Luke's and Charlie's boat gets separated and drifts off towards the cave where the dinosaurs went earlier. The rest of the explorers follow them and rejoining them in a river canyon, they encounter a Plesiosaur. A suddenly emerging Pliosaur attacks the group. Charlie and Luke get out of the water, believing that the rest of the group died and continue to search for the place where the dinosaurs came from, in the jungle. Eventually they arrive there and when Charlie learns that Luke has fixed the satellite phone, he pushes Luke down into the gateway, intending to kill him.\n",
      "On the other side of the underground passageway, Luke speaks into the camera, trying to reach the other survivors via the monitor. In the next scene the survivors are seen walking around at the river beach amidst the remains of the boats, the camera monitor lies shattered on the ground. Amara reveals that she was supposed to lead the group to do some records at a safe place in the jungle but she refuses to go towards the gateway and leaves, taking one of the boats. Jonathan and Pete continue the search for Luke and Charlie. In the meantime, Luke meets Crypto and follows him deeper into the jungle, where he is attacked by the bat-like creatures. He is rescued by Pete, who suddenly appears together with Jonathan and drives off the creatures. Pete chases them into the jungle, when he is suddenly encircled by the creatures who attack and presumably kill him. Charlie is seen, speaking to the camera at an unknown place, when he is interrupted and forced to hide by Jonathan and Luke, continuing through the jungle. They follow a steep cliffway, when they are hit by a rockfall, causing Jonathan almost to fall down the cliff. As Luke looks up, Charlie is seen with a stick in his hands, indicating that he caused the rocks to fall. Luke tries to help his father who is holding onto a rock, but, telling him that he loves him, he lets go of the rock and falls down the cliff.\n",
      "Luke escapes from Charlie and hides in the dense jungle, evading Charlie who is chasing him, when he meets the little dinosaur once more who leads him to the place where he dropped his camera earlier, when suddenly Charlie emerges in front of him, intending to kill him. Crypto spits the fluid into Luke's face, when two adult dinosaurs appear just behind Charlie, sniffing on Luke and smelling the fluid, they leave him alone and kill Charlie.\n",
      "Luke proceeds into the jungle and stops at a high cliff, filming himself and the little dinosaur, saying that the satellite phone has been crushed again and that he has to destroy the cameras to use the parts, he waves the camera over the view from the cliff, showing a big valley full of dinosaurs. In the next scene he is seen throwing the backpack down a waterfall into a river, as a message. Luke's fate is unknown.\n",
      "The floating backpack is found by men in a boat, who find video hard drives and tapes labelled \"the Dinosaur Project\" inside. In a blurry video, Luke says \"I think it works\".\n",
      "\n"
     ]
    }
   ],
   "source": [
    "query = \"dinosaurs\"\n",
    "\n",
    "resultados_bm25 = busqueda_bm25(query, es, index_name)\n",
    "for resultado in resultados_bm25:\n",
    "    print(f\"Título: {resultado['Title']}\\nTrama: {resultado['Plot']}\\n\")"
   ]
  },
  {
   "cell_type": "markdown",
   "metadata": {},
   "source": [
    "3. Evaluamos los resultados\n"
   ]
  },
  {
   "cell_type": "markdown",
   "metadata": {},
   "source": [
    "### Recuperación con FAISS\n",
    "1. Configuración de FAISS\n",
    "\n",
    "Instalamos las bibliotecas necesarias para esta parte en caso de no tenerlo usando el siguiente comando\n",
    "\n",
    "pip install faiss-cpu numpy pandas sentence-transformers\n",
    "\n",
    "Posteriormente, generamos los embeddings "
   ]
  },
  {
   "cell_type": "code",
   "execution_count": 53,
   "metadata": {},
   "outputs": [],
   "source": [
    "from sentence_transformers import SentenceTransformer\n",
    "import pandas as pd\n",
    "\n",
    "# Generar embeddings\n",
    "model = SentenceTransformer('paraphrase-MiniLM-L3-v2')  # Modelo más pequeño\n",
    "df['Embeddings'] = df['Plot'].apply(lambda x: model.encode(x))\n"
   ]
  },
  {
   "cell_type": "code",
   "execution_count": 54,
   "metadata": {},
   "outputs": [
    {
     "name": "stdout",
     "output_type": "stream",
     "text": [
      "Total de vectores indexados: 34886\n"
     ]
    }
   ],
   "source": [
    "import faiss\n",
    "import numpy as np\n",
    "\n",
    "# Convertir embeddings a una matriz de NumPy\n",
    "embeddings = np.array(df['Embeddings'].tolist()).astype('float32')\n",
    "\n",
    "# Crear un índice FAISS (L2: distancia euclidiana)\n",
    "dimension = embeddings.shape[1]  # Dimensiones del embedding\n",
    "index = faiss.IndexFlatL2(dimension)\n",
    "\n",
    "# Agregar embeddings al índice\n",
    "index.add(embeddings)\n",
    "print(f\"Total de vectores indexados: {index.ntotal}\")\n"
   ]
  },
  {
   "cell_type": "markdown",
   "metadata": {},
   "source": [
    "2. Vamos a realizar consultas"
   ]
  },
  {
   "cell_type": "code",
   "execution_count": 55,
   "metadata": {},
   "outputs": [
    {
     "name": "stdout",
     "output_type": "stream",
     "text": [
      "\n",
      "Resultados:\n",
      "Theodore Rex (distancia: 47.9583)\n",
      "In an alternate futuristic society where humans and anthropomorphic dinosaurs co-exist, a tough police detective named Katie Coltraine (Whoopi Goldberg) is paired with a Tyrannosaurus named Theodore Rex (George Newbern) to find the killer of dinosaurs and other prehistoric animals leading them to a ruthless billionaire bent on killing off mankind by creating a new ice age.\n",
      "\n",
      "The Land Before Time (distancia: 48.6658)\n",
      "During the age of the dinosaurs, a massive famine forces several herds of dinosaurs to seek an oasis known as the Great Valley. Among these, a mother in a diminished \"Longneck\" herd gives birth to a single baby, named Littlefoot. Years later, Littlefoot plays with Cera, a \"Three-horn\", until her father intervenes, whereupon Littlefoot's mother describes the different kinds of dinosaurs: \"Three-horns\", \"Spiketails\", \"Swimmers\", and \"Flyers\". That night, as Littlefoot follows a \"Hopper\", he encounters Cera again, and they play together briefly until a large \"Sharptooth\" attacks them. Littlefoot's mother comes to their rescue, but receives fatal injuries in the process. An earthquake swallows up the Sharptooth and divides Littlefoot and Cera from their herds. Littlefoot receives advice from his dying mother before she passes away. Sad, depressed and confused, Littlefoot meets an old \"Clubtail\" named Rooter, who consoles him. He is then guided by his mother's voice telling him to follow the sun to the Great Valley.\n",
      "Later, Littlefoot meets a \"Bigmouth\" named Ducky and a Flyer named Petrie, who accompany him on his journey. Cera, who is attempting to find her own kind, finds the unconscious Sharptooth inside a ravine and mistakenly wakes him up. She escapes and bumps into Littlefoot, Ducky, and Petrie; she tells them that Sharptooth is alive, but Littlefoot does not believe her. As Cera describes her encounter, she accidentally flings Ducky to the direction of a hatching Spiketail, whom she names Spike and inducts into the group. Seeking the Great Valley, they discover a cluster of trees, which is abruptly depleted by a herd of Longnecks. Searching for remaining growth, they discover a single leaf-bearing tree, and obtain food by stacking up atop each other and pulling it down. Cera remains aloof, but at nightfall, everyone including herself gravitates to Littlefoot's side for warmth and companionship.\n",
      "The next morning, they are attacked by Sharptooth, but they escape through a tunnel too small for him. Beyond this, they discover landmarks mentioned by Littlefoot's mother. Cera decides to go another way, but Littlefoot refuses, and their ensuring fight leads to a schism that divides him from the others. However, when Ducky and Spike become endangered by lava and Petrie gets stuck in a tar pit, he returns to rescue them. They then rescue Cera as she is being harassed by a pack of \"domeheads\". Ashamed of her fear and behavior, and reluctant to admit her mistake, Cera leaves them in tears. Later, while crossing a pond, Petrie overhears Sharptooth nearby. The group devises a scheme to lure him to the pond and drown him in the deep side using a nearby boulder. During the ensuing struggle, a draft from Sharptooth's nostrils enables Petrie to fly for the first time.\n",
      "The plan nearly fails when Sharptooth begins attacking the boulder while the group attempts to push it onto him. However, Cera reunites with the group, and she allows the others to push both Sharptooth and the boulder into the water below. Sharptooth momentarily takes Petrie down with him, but he later emerges unharmed. Littlefoot, alone, follows a cloud resembling his mother, which guides him to the Great Valley. He is then joined by the others. Upon arrival, the five are reunited with their families: Petrie impresses his family with his newfound flight; Ducky introduces Spike to her family, who adopt him; Cera reunites with her father; and Littlefoot rejoins with his grandparents. The group then rejoins at the top of a hill and embrace each other in a hug.\n",
      "\n",
      "Abaranger Deluxe (distancia: 49.1303)\n",
      "Scientists believe that 65,000,000 years ago, a meteorite's crash on Earth killed off the dinosaurs, but in truth, it split Earth into two parallel universes: Dino Earth (ダイノアース, Daino Aasu), an Earth where dinosaurs were still the superior species, and our Earth, referred to as Another Earth (アナザーアース, Anazaa Aasu) by the residents of Dino Earth. Overtime, the Dragon People (竜人, Ryujin) and Bakuryū (爆竜) races came into being on Dino Earth but were at war with the Evoliens, entities that emerged from the meteor. The two Earths are separate until Asuka, one of the Dragon People from Dino Earth, arrives on Earth via a transdimensional portal. However, he is followed by the Evoliens in their Anamolicarus spaceship and the three Bakuryū under their control. As the Bakuryū Tyrannosaurus, Ptreranodon, and Triceratops attack Tokyo, a call is sent out to three destined ones who possess Dino Guts (ダイノガッツ, Daino Gattsu) to gain the powers to tame the three beasts. Together with their Bakuryū partners, the three become Abarangers to protect their dimension from the Evoliens. In time another Abaranger appears, but he takes the name \"Abare Killer\" and fights the others while the Evoliens carry out their ultimate goal: the resurrection of their god.\n",
      "\n",
      "Abaranger vs. Hurricanger (distancia: 49.1303)\n",
      "Scientists believe that 65,000,000 years ago, a meteorite's crash on Earth killed off the dinosaurs, but in truth, it split Earth into two parallel universes: Dino Earth (ダイノアース, Daino Aasu), an Earth where dinosaurs were still the superior species, and our Earth, referred to as Another Earth (アナザーアース, Anazaa Aasu) by the residents of Dino Earth. Overtime, the Dragon People (竜人, Ryujin) and Bakuryū (爆竜) races came into being on Dino Earth but were at war with the Evoliens, entities that emerged from the meteor. The two Earths are separate until Asuka, one of the Dragon People from Dino Earth, arrives on Earth via a transdimensional portal. However, he is followed by the Evoliens in their Anamolicarus spaceship and the three Bakuryū under their control. As the Bakuryū Tyrannosaurus, Ptreranodon, and Triceratops attack Tokyo, a call is sent out to three destined ones who possess Dino Guts (ダイノガッツ, Daino Gattsu) to gain the powers to tame the three beasts. Together with their Bakuryū partners, the three become Abarangers to protect their dimension from the Evoliens. In time another Abaranger appears, but he takes the name \"Abare Killer\" and fights the others while the Evoliens carry out their ultimate goal: the resurrection of their god.\n",
      "\n",
      "Dinosaurus! (distancia: 51.8063)\n",
      "The movie is about American men building a harbour on a Caribbean island when they accidentally uncover two dinosaurs that have been frozen in suspended animation for millions of years. They are a Brontosaurus and a Tyrannosaurus rex. That night, during a storm, the beasts are struck by lightning and come back to life. The islanders have no idea that the dinosaurs are alive because of the storm and are now roaming the island. Also awoken is a caveman (Gregg Martell) who befriends Julio, an island boy, and along with the Brontosaurus get into a series of wacky misadventures, which culminate in the death of the Brontosaurus (killed by the Tyrannosaurus) and the caveman. Meanwhile, the islanders have found refuge from the Tyrannosaurus by hiding in the old fortress, which is protected by a ring of burning fuel. To ensure the Tyrannosaurus does not get in, the hero Bart (Ward Ramsey) drives out to face the beast in a mechanical digger. The two duel on the edge of an island cliff and, after a tense fight, the Tyrannosaurus is knocked into water, ending the island terror.[2] The film ends with a picture of the apparently dead Tyrannosaurus on the sea bed. In an ending similar to his previous films The Blob and 4D Man, the words \"THE END\" are shown, followed by a question mark.\n",
      "\n"
     ]
    }
   ],
   "source": [
    "def search_movies(query, top_n=5):\n",
    "    query_embedding = model.encode([query]).astype('float32')\n",
    "    distances, indices = index.search(query_embedding, top_n)\n",
    "    results = [(df.iloc[i]['Title'], distances[0][j], df.iloc[i]['Plot']) for j, i in enumerate(indices[0])]\n",
    "    return results\n",
    "\n",
    "# Probar con una consulta\n",
    "query = \"dinosaurs\"\n",
    "results = search_movies(query)\n",
    "\n",
    "print(\"\\nResultados:\")\n",
    "for title, distance, plot in results:\n",
    "    print(f\"{title} (distancia: {distance:.4f})\\n{plots[titles[titles == title].index[0]]}\\n\")\n"
   ]
  },
  {
   "cell_type": "markdown",
   "metadata": {},
   "source": [
    "3. Evaluamos los resultados"
   ]
  },
  {
   "cell_type": "markdown",
   "metadata": {},
   "source": [
    "### Parte 4: Recuperación con ChromaDB\n",
    "1. Configurar ChromaDB\n",
    "\n",
    "En este caso entendí que usar la GPU procesa más rapido este punto del taller, por lo que se hará uso de CUDA"
   ]
  },
  {
   "cell_type": "code",
   "execution_count": 56,
   "metadata": {},
   "outputs": [
    {
     "name": "stdout",
     "output_type": "stream",
     "text": [
      "Usando el dispositivo: cuda\n"
     ]
    }
   ],
   "source": [
    "import chromadb\n",
    "from chromadb.utils import embedding_functions\n",
    "import torch\n",
    "\n",
    "# Verificar si la GPU está disponible\n",
    "device = \"cuda\" if torch.cuda.is_available() else \"cpu\"\n",
    "print(f\"Usando el dispositivo: {device}\")"
   ]
  },
  {
   "cell_type": "markdown",
   "metadata": {},
   "source": [
    "Vamos a usar estos campos en el modelo de ChromaDB"
   ]
  },
  {
   "cell_type": "code",
   "execution_count": 57,
   "metadata": {},
   "outputs": [],
   "source": [
    "plots = df['Plot'].tolist()  # Lista de las tramas\n",
    "titles = df['Title'].tolist()   # Lista de los títulos"
   ]
  },
  {
   "cell_type": "code",
   "execution_count": 58,
   "metadata": {},
   "outputs": [],
   "source": [
    "# Configuración de la base de datos\n",
    "client = chromadb.Client()"
   ]
  },
  {
   "cell_type": "code",
   "execution_count": 59,
   "metadata": {},
   "outputs": [],
   "source": [
    "# Crear la función de embeddings con GPU\n",
    "embedding_function = embedding_functions.SentenceTransformerEmbeddingFunction(\n",
    "    model_name = \"all-MiniLM-L6-v2\",  # Modelo más grande\n",
    "    device = device  # Anteriormente definido con GPU\n",
    ")"
   ]
  },
  {
   "cell_type": "code",
   "execution_count": 60,
   "metadata": {},
   "outputs": [],
   "source": [
    "# Crear colección con la función de embeddings configurada\n",
    "collection = client.get_or_create_collection(\n",
    "    name=\"movies_collection\",\n",
    "    embedding_function=embedding_function\n",
    ")"
   ]
  },
  {
   "cell_type": "code",
   "execution_count": 61,
   "metadata": {},
   "outputs": [],
   "source": [
    "# Generar IDs únicos para cada documento\n",
    "ids = [f\"movie_{i}\" for i in range(len(df))]"
   ]
  },
  {
   "cell_type": "code",
   "execution_count": 62,
   "metadata": {},
   "outputs": [
    {
     "ename": "TypeError",
     "evalue": "Collection.add() got an unexpected keyword argument 'plots'",
     "output_type": "error",
     "traceback": [
      "\u001b[1;31m---------------------------------------------------------------------------\u001b[0m",
      "\u001b[1;31mTypeError\u001b[0m                                 Traceback (most recent call last)",
      "Cell \u001b[1;32mIn[62], line 9\u001b[0m\n\u001b[0;32m      6\u001b[0m     batch_ids \u001b[38;5;241m=\u001b[39m ids[i:i\u001b[38;5;241m+\u001b[39mbatch_size]\n\u001b[0;32m      8\u001b[0m     \u001b[38;5;66;03m# Agregar el lote a la colección\u001b[39;00m\n\u001b[1;32m----> 9\u001b[0m     \u001b[43mcollection\u001b[49m\u001b[38;5;241;43m.\u001b[39;49m\u001b[43madd\u001b[49m\u001b[43m(\u001b[49m\n\u001b[0;32m     10\u001b[0m \u001b[43m        \u001b[49m\u001b[43mplots\u001b[49m\u001b[43m \u001b[49m\u001b[38;5;241;43m=\u001b[39;49m\u001b[43m \u001b[49m\u001b[43mbatch_plots\u001b[49m\u001b[43m,\u001b[49m\u001b[43m  \u001b[49m\u001b[38;5;66;43;03m# Tramas del lote\u001b[39;49;00m\n\u001b[0;32m     11\u001b[0m \u001b[43m        \u001b[49m\u001b[43mmetadatas\u001b[49m\u001b[43m \u001b[49m\u001b[38;5;241;43m=\u001b[39;49m\u001b[43m \u001b[49m\u001b[43m[\u001b[49m\u001b[43m{\u001b[49m\u001b[38;5;124;43m\"\u001b[39;49m\u001b[38;5;124;43mtitle\u001b[39;49m\u001b[38;5;124;43m\"\u001b[39;49m\u001b[43m:\u001b[49m\u001b[43m \u001b[49m\u001b[43mtitle\u001b[49m\u001b[43m}\u001b[49m\u001b[43m \u001b[49m\u001b[38;5;28;43;01mfor\u001b[39;49;00m\u001b[43m \u001b[49m\u001b[43mtitle\u001b[49m\u001b[43m \u001b[49m\u001b[38;5;129;43;01min\u001b[39;49;00m\u001b[43m \u001b[49m\u001b[43mbatch_titles\u001b[49m\u001b[43m]\u001b[49m\u001b[43m,\u001b[49m\u001b[43m  \u001b[49m\u001b[38;5;66;43;03m# Metadata del lote\u001b[39;49;00m\n\u001b[0;32m     12\u001b[0m \u001b[43m        \u001b[49m\u001b[43mids\u001b[49m\u001b[38;5;241;43m=\u001b[39;49m\u001b[43mbatch_ids\u001b[49m\u001b[43m  \u001b[49m\u001b[38;5;66;43;03m# IDs únicos del lote\u001b[39;49;00m\n\u001b[0;32m     13\u001b[0m \u001b[43m    \u001b[49m\u001b[43m)\u001b[49m\n\u001b[0;32m     14\u001b[0m     \u001b[38;5;28mprint\u001b[39m(\u001b[38;5;124mf\u001b[39m\u001b[38;5;124m\"\u001b[39m\u001b[38;5;124mLote \u001b[39m\u001b[38;5;132;01m{\u001b[39;00mi\u001b[38;5;250m \u001b[39m\u001b[38;5;241m/\u001b[39m\u001b[38;5;241m/\u001b[39m\u001b[38;5;250m \u001b[39mbatch_size\u001b[38;5;250m \u001b[39m\u001b[38;5;241m+\u001b[39m\u001b[38;5;250m \u001b[39m\u001b[38;5;241m1\u001b[39m\u001b[38;5;132;01m}\u001b[39;00m\u001b[38;5;124m procesado exitosamente.\u001b[39m\u001b[38;5;124m\"\u001b[39m)\n\u001b[0;32m     16\u001b[0m \u001b[38;5;28mprint\u001b[39m(\u001b[38;5;124mf\u001b[39m\u001b[38;5;124m\"\u001b[39m\u001b[38;5;124mSe han agregado \u001b[39m\u001b[38;5;132;01m{\u001b[39;00m\u001b[38;5;28mlen\u001b[39m(plots)\u001b[38;5;132;01m}\u001b[39;00m\u001b[38;5;124m documentos y generado sus embeddings.\u001b[39m\u001b[38;5;124m\"\u001b[39m)\n",
      "\u001b[1;31mTypeError\u001b[0m: Collection.add() got an unexpected keyword argument 'plots'"
     ]
    }
   ],
   "source": [
    "# Dividir los datos en lotes\n",
    "batch_size = 5000  # Tamaño del lote (ajustar según sea necesario)\n",
    "for i in range(0, len(plots), batch_size):\n",
    "    batch_plots = plots[i:i+batch_size]\n",
    "    batch_titles = titles[i:i+batch_size]\n",
    "    batch_ids = ids[i:i+batch_size]\n",
    "    \n",
    "    # Agregar el lote a la colección\n",
    "    collection.add(\n",
    "        plots = batch_plots,  # Tramas del lote\n",
    "        metadatas = [{\"title\": title} for title in batch_titles],  # Metadata del lote\n",
    "        ids=batch_ids  # IDs únicos del lote\n",
    "    )\n",
    "    print(f\"Lote {i // batch_size + 1} procesado exitosamente.\")\n",
    "\n",
    "print(f\"Se han agregado {len(plots)} documentos y generado sus embeddings.\")"
   ]
  },
  {
   "cell_type": "code",
   "execution_count": null,
   "metadata": {},
   "outputs": [],
   "source": [
    "# Definir una consulta (puede ser una trama de película o cualquier texto)\n",
    "query = \"A young boy discovers \"\n",
    "\n",
    "# Realizar la consulta en la colección\n",
    "results = collection.query(\n",
    "    query_texts=[query],  # Pasar la consulta como texto\n",
    "    n_results=5  # Número de resultados a devolver\n",
    ")\n",
    "\n",
    "# Mostrar los resultados\n",
    "for i, document in enumerate(results['documents'][0]):  # Accedemos a la lista de documentos en el primer índice\n",
    "    print(f\"Resultado {i + 1}:\")\n",
    "    print(f\"Trama: {document}\")  # Solo mostramos la trama si no hay metadata disponible"
   ]
  },
  {
   "cell_type": "code",
   "execution_count": null,
   "metadata": {},
   "outputs": [],
   "source": [
    "print(\"\\nResultados:\")\n",
    "for title, distance, plot in results:\n",
    "    print(f\"{title} (distancia: {distance:.4f})\\n{plots[titles[titles == title].index[0]]}\\n\")"
   ]
  },
  {
   "cell_type": "markdown",
   "metadata": {},
   "source": [
    "### Parte 5: Comparación de resultados\n",
    "\n"
   ]
  }
 ],
 "metadata": {
  "kernelspec": {
   "display_name": "Python 3",
   "language": "python",
   "name": "python3"
  },
  "language_info": {
   "codemirror_mode": {
    "name": "ipython",
    "version": 3
   },
   "file_extension": ".py",
   "mimetype": "text/x-python",
   "name": "python",
   "nbconvert_exporter": "python",
   "pygments_lexer": "ipython3",
   "version": "3.12.4"
  }
 },
 "nbformat": 4,
 "nbformat_minor": 2
}
