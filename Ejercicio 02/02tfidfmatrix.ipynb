{
 "cells": [
  {
   "cell_type": "markdown",
   "id": "2d2219b455c1e0ef",
   "metadata": {},
   "source": [
    "# Ejercicio 02: Cálculo de la Matriz TF-IDF y Búsqueda de Consultas en un Corpus\n",
    "\n",
    "El objetivo de este ejercicio es calcular la matriz TF-IDF de un corpus de documentos y luego aplicar una serie de consultas para recuperar los documentos más relevantes. Este ejercicio te ayudará a comprender cómo funciona el modelo de espacio vectorial y cómo se utiliza TF-IDF para ponderar términos en documentos y consultas.\n",
    "\n",
    "Seguirás los siguientes pasos:"
   ]
  },
  {
   "cell_type": "markdown",
   "id": "8fa1290fb0f5143d",
   "metadata": {},
   "source": [
    "Pasos del Ejercicio\n",
    "\n",
    "1. Preprocesamiento del texto:\n",
    "    * Lectura del corpus desde el archivo TXT.\n",
    "    * Tokenización de los documentos.\n",
    "    * Normalización del texto (conversión a minúsculas, eliminación de signos de puntuación).\n",
    "    * Eliminación de palabras vacías (stopwords).\n",
    "\n",
    "2. Construcción de la matriz TF-IDF:\n",
    "    * Cálculo de la frecuencia de término (TF) para cada término en cada documento.\n",
    "    * Cálculo de la frecuencia inversa de documento (IDF) para cada término en el corpus.\n",
    "    * Cálculo del peso TF-IDF para cada término en cada documento.\n",
    "\n",
    "3. Procesamiento de las consultas:\n",
    "    * Preprocesamiento de las consultas de manera similar a los documentos.\n",
    "    * Representación de las consultas en el espacio vectorial TF-IDF.\n",
    "\n",
    "4. Cálculo de similitudes:\n",
    "    * Cálculo de la similitud entre cada consulta y los documentos del corpus utilizando la similitud del coseno.\n",
    "\n",
    "5. Ranking de documentos:\n",
    "    * Ordenar los documentos de mayor a menor similitud para cada consulta.\n",
    "    * Mostrar los documentos más relevantes para cada consulta."
   ]
  },
  {
   "cell_type": "markdown",
   "id": "431356e916e78a3f",
   "metadata": {},
   "source": [
    "Consultas\n",
    "\n",
    "Las consultas a aplicar son las siguientes:\n",
    "\n",
    "    \"inteligencia artificial en medicina\"\n",
    "    \"beneficios de la educación a distancia\"\n",
    "    \"realidad aumentada en videojuegos\"\n",
    "    \"desarrollo personal y hábitos saludables\"\n",
    "    \"futuro del comercio electrónico\"\n",
    "    \"tecnologías en cine moderno\"\n",
    "    \"competencias de e-sports\"\n",
    "    \"diagnóstico con dispositivos portátiles\"\n",
    "    \"literatura de ciencia ficción\"\n",
    "    \"plataformas de streaming\""
   ]
  },
  {
   "cell_type": "markdown",
   "id": "8870e0c3",
   "metadata": {},
   "source": [
    "## 1. Preprocesamiento del texto:\n",
    "Lectura del corpus desde el archivo TXT.\n",
    "Se toma en cuenta la forma del corpus, tomando solamente la parte importante, excluyendo el título de cada documento.\n",
    "e.g. \"Documento 1:  La inteligencia artificial continúa avanzando...\" -> \"La inteligencia artificial continúa avanzando...\""
   ]
  },
  {
   "cell_type": "code",
   "execution_count": 8,
   "id": "initial_id",
   "metadata": {
    "collapsed": true
   },
   "outputs": [
    {
     "name": "stdout",
     "output_type": "stream",
     "text": [
      "[' La inteligencia artificial continúa avanzando rápidamente, transformando sectores como la salud y las finanzas. Las empresas están adoptando algoritmos de aprendizaje automático para mejorar la eficiencia. Sin embargo, el desafío principal sigue siendo garantizar que las decisiones basadas en datos sean justas y no perpetúen sesgos. La ética es fundamental en este contexto.\\n', ' El desarrollo de videojuegos ha alcanzado un nuevo nivel con tecnologías como la realidad aumentada y la inteligencia artificial. Los jugadores ahora pueden interactuar en mundos virtuales más inmersivos. Este crecimiento también impulsa el mercado de los e-sports, donde las competencias profesionales atraen a millones de espectadores en todo el mundo.\\n', ' El comercio electrónico ha cambiado la forma en que compramos. Con la creciente demanda de compras en línea, las empresas están optimizando sus plataformas digitales para ofrecer mejores experiencias de usuario. Desde recomendaciones personalizadas hasta pagos rápidos, los avances en tecnología siguen facilitando las transacciones diarias de los consumidores.\\n', ' La educación a distancia ha permitido a millones de estudiantes acceder a programas de calidad sin importar su ubicación. La flexibilidad es uno de los mayores beneficios, especialmente para aquellos con trabajos a tiempo completo. Aunque la falta de interacción presencial es un reto, las herramientas digitales siguen mejorando la experiencia educativa.\\n', ' El cine ha evolucionado con los años, incorporando efectos visuales cada vez más realistas. Las producciones cinematográficas utilizan tecnologías avanzadas para crear escenas que desafían la realidad. Además, el acceso a plataformas de streaming ha transformado cómo y cuándo el público consume contenido, democratizando el acceso a películas y series.\\n', ' La ciencia ficción es uno de los géneros literarios más populares, explorando temas como el viaje en el tiempo, la inteligencia artificial y la vida en otros planetas. Este género no solo entretiene, sino que también invita a reflexionar sobre el futuro de la humanidad y las implicaciones de los avances tecnológicos.\\n', ' El desarrollo personal se ha convertido en una prioridad para muchas personas que buscan mejorar su calidad de vida. Desde la adopción de hábitos saludables hasta el aprendizaje de nuevas habilidades, el enfoque en el crecimiento individual ha llevado a un aumento en la demanda de libros, cursos y aplicaciones que promueven el bienestar integral.\\n', ' Los avances en la medicina están cambiando la forma en que se diagnostican y tratan las enfermedades. Desde la telemedicina hasta los dispositivos portátiles que monitorean la salud en tiempo real, la tecnología está permitiendo a los médicos ofrecer cuidados más personalizados. El futuro de la medicina es prometedor, con tratamientos más accesibles y eficaces.\\n']\n"
     ]
    }
   ],
   "source": [
    "\n",
    "corpus = []\n",
    "with open(file='02tfidfmatrix_corpus.txt', mode='r', encoding='utf-8') as file:\n",
    "  for line in file:\n",
    "    corpus.append(line.split(':')[1])\n",
    "\n",
    "print(corpus)"
   ]
  },
  {
   "cell_type": "markdown",
   "id": "3bb22f1a",
   "metadata": {},
   "source": [
    "Normalización del corpus, implica convertir el texto a minúsculas y eliminar signos de puntuación"
   ]
  },
  {
   "cell_type": "code",
   "execution_count": 9,
   "id": "5da9660f",
   "metadata": {},
   "outputs": [
    {
     "name": "stdout",
     "output_type": "stream",
     "text": [
      "[['la', 'inteligencia', 'artificial', 'continúa', 'avanzando', 'rápidamente', 'transformando', 'sectores', 'como', 'la', 'salud', 'y', 'las', 'finanzas', 'las', 'empresas', 'están', 'adoptando', 'algoritmos', 'de', 'aprendizaje', 'automático', 'para', 'mejorar', 'la', 'eficiencia', 'sin', 'embargo', 'el', 'desafío', 'principal', 'sigue', 'siendo', 'garantizar', 'que', 'las', 'decisiones', 'basadas', 'en', 'datos', 'sean', 'justas', 'y', 'no', 'perpetúen', 'sesgos', 'la', 'ética', 'es', 'fundamental', 'en', 'este', 'contexto'], ['el', 'desarrollo', 'de', 'videojuegos', 'ha', 'alcanzado', 'un', 'nuevo', 'nivel', 'con', 'tecnologías', 'como', 'la', 'realidad', 'aumentada', 'y', 'la', 'inteligencia', 'artificial', 'los', 'jugadores', 'ahora', 'pueden', 'interactuar', 'en', 'mundos', 'virtuales', 'más', 'inmersivos', 'este', 'crecimiento', 'también', 'impulsa', 'el', 'mercado', 'de', 'los', 'e-sports', 'donde', 'las', 'competencias', 'profesionales', 'atraen', 'a', 'millones', 'de', 'espectadores', 'en', 'todo', 'el', 'mundo'], ['el', 'comercio', 'electrónico', 'ha', 'cambiado', 'la', 'forma', 'en', 'que', 'compramos', 'con', 'la', 'creciente', 'demanda', 'de', 'compras', 'en', 'línea', 'las', 'empresas', 'están', 'optimizando', 'sus', 'plataformas', 'digitales', 'para', 'ofrecer', 'mejores', 'experiencias', 'de', 'usuario', 'desde', 'recomendaciones', 'personalizadas', 'hasta', 'pagos', 'rápidos', 'los', 'avances', 'en', 'tecnología', 'siguen', 'facilitando', 'las', 'transacciones', 'diarias', 'de', 'los', 'consumidores'], ['la', 'educación', 'a', 'distancia', 'ha', 'permitido', 'a', 'millones', 'de', 'estudiantes', 'acceder', 'a', 'programas', 'de', 'calidad', 'sin', 'importar', 'su', 'ubicación', 'la', 'flexibilidad', 'es', 'uno', 'de', 'los', 'mayores', 'beneficios', 'especialmente', 'para', 'aquellos', 'con', 'trabajos', 'a', 'tiempo', 'completo', 'aunque', 'la', 'falta', 'de', 'interacción', 'presencial', 'es', 'un', 'reto', 'las', 'herramientas', 'digitales', 'siguen', 'mejorando', 'la', 'experiencia', 'educativa'], ['el', 'cine', 'ha', 'evolucionado', 'con', 'los', 'años', 'incorporando', 'efectos', 'visuales', 'cada', 'vez', 'más', 'realistas', 'las', 'producciones', 'cinematográficas', 'utilizan', 'tecnologías', 'avanzadas', 'para', 'crear', 'escenas', 'que', 'desafían', 'la', 'realidad', 'además', 'el', 'acceso', 'a', 'plataformas', 'de', 'streaming', 'ha', 'transformado', 'cómo', 'y', 'cuándo', 'el', 'público', 'consume', 'contenido', 'democratizando', 'el', 'acceso', 'a', 'películas', 'y', 'series'], ['la', 'ciencia', 'ficción', 'es', 'uno', 'de', 'los', 'géneros', 'literarios', 'más', 'populares', 'explorando', 'temas', 'como', 'el', 'viaje', 'en', 'el', 'tiempo', 'la', 'inteligencia', 'artificial', 'y', 'la', 'vida', 'en', 'otros', 'planetas', 'este', 'género', 'no', 'solo', 'entretiene', 'sino', 'que', 'también', 'invita', 'a', 'reflexionar', 'sobre', 'el', 'futuro', 'de', 'la', 'humanidad', 'y', 'las', 'implicaciones', 'de', 'los', 'avances', 'tecnológicos'], ['el', 'desarrollo', 'personal', 'se', 'ha', 'convertido', 'en', 'una', 'prioridad', 'para', 'muchas', 'personas', 'que', 'buscan', 'mejorar', 'su', 'calidad', 'de', 'vida', 'desde', 'la', 'adopción', 'de', 'hábitos', 'saludables', 'hasta', 'el', 'aprendizaje', 'de', 'nuevas', 'habilidades', 'el', 'enfoque', 'en', 'el', 'crecimiento', 'individual', 'ha', 'llevado', 'a', 'un', 'aumento', 'en', 'la', 'demanda', 'de', 'libros', 'cursos', 'y', 'aplicaciones', 'que', 'promueven', 'el', 'bienestar', 'integral'], ['los', 'avances', 'en', 'la', 'medicina', 'están', 'cambiando', 'la', 'forma', 'en', 'que', 'se', 'diagnostican', 'y', 'tratan', 'las', 'enfermedades', 'desde', 'la', 'telemedicina', 'hasta', 'los', 'dispositivos', 'portátiles', 'que', 'monitorean', 'la', 'salud', 'en', 'tiempo', 'real', 'la', 'tecnología', 'está', 'permitiendo', 'a', 'los', 'médicos', 'ofrecer', 'cuidados', 'más', 'personalizados', 'el', 'futuro', 'de', 'la', 'medicina', 'es', 'prometedor', 'con', 'tratamientos', 'más', 'accesibles', 'y', 'eficaces']]\n"
     ]
    }
   ],
   "source": [
    "#tokenización y normalizacion corpus\n",
    "corpus_norm = []\n",
    "for doc in corpus:\n",
    "  corpus_norm.append(doc.lower().replace('.', '').replace(',', '').split())\n",
    "\n",
    "print(corpus_norm)"
   ]
  },
  {
   "cell_type": "markdown",
   "id": "d919641a",
   "metadata": {},
   "source": [
    "Creación del vocabulario, se eliminan palabras repetidas"
   ]
  },
  {
   "cell_type": "code",
   "execution_count": 10,
   "id": "6f7843b1",
   "metadata": {},
   "outputs": [
    {
     "name": "stdout",
     "output_type": "stream",
     "text": [
      "230\n",
      "{'contexto', 'sean', 'cinematográficas', 'línea', 'dispositivos', 'siendo', 'ética', 'hasta', 'consumidores', 'visuales', 'aplicaciones', 'integral', 'utilizan', 'muchas', 'digitales', 'también', 'e-sports', 'ubicación', 'mejorando', 'datos', 'reflexionar', 'buscan', 'justas', 'prometedor', 'avanzadas', 'llevado', 'finanzas', 'está', 'artificial', 'completo', 'eficiencia', 'pagos', 'transformado', 'médicos', 'prioridad', 'como', 'realidad', 'sobre', 'avanzando', 'desde', 'uno', 'aprendizaje', 'películas', 'decisiones', 'cuándo', 'educación', 'forma', 'su', 'tiempo', 'permitiendo', 'desafío', 'compramos', 'tecnológicos', 'en', 'a', 'trabajos', 'escenas', 'implicaciones', 'presencial', 'basadas', 'personalizados', 'importar', 'futuro', 'desarrollo', 'solo', 'habilidades', 'salud', 'cómo', 'siguen', 'desafían', 'demanda', 'explorando', 'monitorean', 'experiencias', 'además', 'sectores', 'es', 'enfermedades', 'interacción', 'mundos', 'compras', 'géneros', 'convertido', 'continúa', 'ofrecer', 'años', 'alcanzado', 'consume', 'tratamientos', 'especialmente', 'recomendaciones', 'permitido', 'inteligencia', 'empresas', 'no', 'ahora', 'mayores', 'individual', 'cine', 'donde', 'telemedicina', 'y', 'estudiantes', 'virtuales', 'transformando', 'transacciones', 'flexibilidad', 'competencias', 'personalizadas', 'vez', 'facilitando', 'sino', 'enfoque', 'streaming', 'de', 'rápidos', 'comercio', 'contenido', 'personal', 'ha', 'una', 'tecnologías', 'optimizando', 'fundamental', 'cursos', 'series', 'experiencia', 'este', 'un', 'diagnostican', 'atraen', 'literarios', 'realistas', 'temas', 'adoptando', 'electrónico', 'eficaces', 'espectadores', 'personas', 'inmersivos', 'tratan', 'plataformas', 'con', 'cada', 'falta', 'medicina', 'diarias', 'sus', 'incorporando', 'automático', 'sigue', 'acceder', 'nuevo', 'género', 'perpetúen', 'crecimiento', 'público', 'cuidados', 'humanidad', 'embargo', 'libros', 'populares', 'impulsa', 'aumento', 'que', 'distancia', 'todo', 'mejorar', 'vida', 'adopción', 'las', 'promueven', 'millones', 'reto', 'rápidamente', 'videojuegos', 'portátiles', 'más', 'sin', 'bienestar', 'crear', 'cambiando', 'herramientas', 'para', 'sesgos', 'el', 'la', 'los', 'aunque', 'entretiene', 'pueden', 'mercado', 'real', 'democratizando', 'efectos', 'viaje', 'otros', 'nuevas', 'interactuar', 'profesionales', 'tecnología', 'nivel', 'hábitos', 'evolucionado', 'programas', 'se', 'producciones', 'beneficios', 'acceso', 'están', 'mundo', 'planetas', 'ficción', 'usuario', 'calidad', 'aumentada', 'avances', 'jugadores', 'cambiado', 'principal', 'mejores', 'accesibles', 'garantizar', 'saludables', 'creciente', 'ciencia', 'invita', 'educativa', 'algoritmos', 'aquellos'}\n"
     ]
    }
   ],
   "source": [
    "vocab = []\n",
    "for i in range(0,len(corpus_norm)):\n",
    "    vocab.extend(corpus_norm[i])\n",
    "vocab = set(vocab)\n",
    "\n",
    "print(len(vocab))\n",
    "print(vocab)"
   ]
  },
  {
   "cell_type": "markdown",
   "id": "cd82b47b",
   "metadata": {},
   "source": [
    "Se define la función para la creación de la matriz término-documento"
   ]
  },
  {
   "cell_type": "code",
   "execution_count": 11,
   "id": "428e8410",
   "metadata": {},
   "outputs": [],
   "source": [
    "def tdtransform(text):\n",
    "    doc = []\n",
    "    for word in vocab:\n",
    "        if word in text:\n",
    "           doc.append(1)\n",
    "        else:\n",
    "            doc.append(0)\n",
    "    return doc"
   ]
  },
  {
   "cell_type": "markdown",
   "id": "c9ea0468",
   "metadata": {},
   "source": [
    "Se define la matriz y se llena usando la función anterior"
   ]
  },
  {
   "cell_type": "code",
   "execution_count": 12,
   "id": "2b48c72b",
   "metadata": {},
   "outputs": [
    {
     "name": "stdout",
     "output_type": "stream",
     "text": [
      "8\n",
      "[[1, 1, 0, 0, 0, 1, 1, 0, 0, 0, 0, 0, 0, 0, 0, 0, 0, 0, 0, 1, 0, 0, 1, 0, 0, 0, 1, 0, 1, 0, 1, 0, 0, 0, 0, 1, 0, 0, 1, 0, 0, 1, 0, 1, 0, 0, 0, 0, 0, 0, 1, 0, 0, 1, 0, 0, 0, 0, 0, 1, 0, 0, 0, 0, 0, 0, 1, 0, 0, 0, 0, 0, 0, 0, 0, 1, 1, 0, 0, 0, 0, 0, 0, 1, 0, 0, 0, 0, 0, 0, 0, 0, 1, 1, 1, 0, 0, 0, 0, 0, 0, 1, 0, 0, 1, 0, 0, 0, 0, 0, 0, 0, 0, 0, 1, 0, 0, 0, 0, 0, 0, 0, 0, 1, 0, 0, 0, 1, 0, 0, 0, 0, 0, 0, 1, 0, 0, 0, 0, 0, 0, 0, 0, 0, 0, 0, 0, 0, 0, 1, 1, 0, 0, 0, 1, 0, 0, 0, 0, 1, 0, 0, 0, 0, 1, 0, 0, 1, 0, 0, 1, 0, 0, 0, 1, 0, 0, 0, 1, 0, 0, 0, 0, 1, 1, 1, 1, 0, 0, 0, 0, 0, 0, 0, 0, 0, 0, 0, 0, 0, 0, 0, 0, 0, 0, 0, 0, 0, 0, 1, 0, 0, 0, 0, 0, 0, 0, 0, 0, 1, 0, 0, 1, 0, 0, 0, 0, 0, 1, 0], [0, 0, 0, 0, 0, 0, 0, 0, 0, 0, 0, 0, 0, 0, 0, 1, 1, 0, 0, 0, 0, 0, 0, 0, 0, 0, 0, 0, 1, 0, 0, 0, 0, 0, 0, 1, 1, 0, 0, 0, 0, 0, 0, 0, 0, 0, 0, 0, 0, 0, 0, 0, 0, 1, 1, 0, 0, 0, 0, 0, 0, 0, 0, 1, 0, 0, 0, 0, 0, 0, 0, 0, 0, 0, 0, 0, 0, 0, 0, 1, 0, 0, 0, 0, 0, 0, 1, 0, 0, 0, 0, 0, 1, 0, 0, 1, 0, 0, 0, 1, 0, 1, 0, 1, 0, 0, 0, 1, 0, 0, 0, 0, 0, 0, 1, 0, 0, 0, 0, 1, 0, 1, 0, 0, 0, 0, 0, 1, 1, 0, 1, 0, 0, 0, 0, 0, 0, 1, 0, 1, 0, 0, 1, 0, 0, 0, 0, 0, 0, 0, 0, 0, 1, 0, 0, 1, 0, 0, 0, 0, 0, 0, 1, 0, 0, 0, 1, 0, 0, 0, 1, 0, 1, 0, 0, 1, 0, 1, 0, 0, 0, 0, 0, 0, 0, 1, 1, 1, 0, 0, 1, 1, 0, 0, 0, 0, 0, 0, 1, 1, 0, 1, 0, 0, 0, 0, 0, 0, 0, 0, 1, 0, 0, 0, 0, 1, 0, 1, 0, 0, 0, 0, 0, 0, 0, 0, 0, 0, 0, 0], [0, 0, 0, 1, 0, 0, 0, 1, 1, 0, 0, 0, 0, 0, 1, 0, 0, 0, 0, 0, 0, 0, 0, 0, 0, 0, 0, 0, 0, 0, 0, 1, 0, 0, 0, 0, 0, 0, 0, 1, 0, 0, 0, 0, 0, 0, 1, 0, 0, 0, 0, 1, 0, 1, 0, 0, 0, 0, 0, 0, 0, 0, 0, 0, 0, 0, 0, 0, 1, 0, 1, 0, 0, 1, 0, 0, 0, 0, 0, 0, 1, 0, 0, 0, 1, 0, 0, 0, 0, 0, 1, 0, 0, 1, 0, 0, 0, 0, 0, 0, 0, 0, 0, 0, 0, 1, 0, 0, 1, 0, 1, 0, 0, 0, 1, 1, 1, 0, 0, 1, 0, 0, 1, 0, 0, 0, 0, 0, 0, 0, 0, 0, 0, 0, 0, 1, 0, 0, 0, 0, 0, 1, 1, 0, 0, 0, 1, 1, 0, 0, 0, 0, 0, 0, 0, 0, 0, 0, 0, 0, 0, 0, 0, 0, 1, 0, 0, 0, 0, 0, 1, 0, 0, 0, 0, 0, 0, 0, 0, 0, 0, 0, 0, 1, 0, 1, 1, 1, 0, 0, 0, 0, 0, 0, 0, 0, 0, 0, 0, 0, 1, 0, 0, 0, 0, 0, 0, 0, 0, 1, 0, 0, 0, 1, 0, 0, 1, 0, 1, 0, 1, 0, 0, 0, 1, 0, 0, 0, 0, 0], [0, 0, 0, 0, 0, 0, 0, 0, 0, 0, 0, 0, 0, 0, 1, 0, 0, 1, 1, 0, 0, 0, 0, 0, 0, 0, 0, 0, 0, 1, 0, 0, 0, 0, 0, 0, 0, 0, 0, 0, 1, 0, 0, 0, 0, 1, 0, 1, 1, 0, 0, 0, 0, 0, 1, 1, 0, 0, 1, 0, 0, 1, 0, 0, 0, 0, 0, 0, 1, 0, 0, 0, 0, 0, 0, 0, 1, 0, 1, 0, 0, 0, 0, 0, 0, 0, 0, 0, 0, 1, 0, 1, 0, 0, 0, 0, 1, 0, 0, 0, 0, 0, 1, 0, 0, 0, 1, 0, 0, 0, 0, 0, 0, 0, 1, 0, 0, 0, 0, 1, 0, 0, 0, 0, 0, 0, 1, 0, 1, 0, 0, 0, 0, 0, 0, 0, 0, 0, 0, 0, 0, 0, 1, 0, 1, 0, 0, 0, 0, 0, 0, 1, 0, 0, 0, 0, 0, 0, 0, 0, 0, 0, 0, 0, 0, 1, 0, 0, 0, 0, 1, 0, 1, 1, 0, 0, 0, 0, 1, 0, 0, 0, 1, 1, 0, 0, 1, 1, 1, 0, 0, 0, 0, 0, 0, 0, 0, 0, 0, 0, 0, 0, 0, 0, 1, 0, 0, 1, 0, 0, 0, 0, 0, 0, 1, 0, 0, 0, 0, 0, 0, 0, 0, 0, 0, 0, 0, 1, 0, 1], [0, 0, 1, 0, 0, 0, 0, 0, 0, 1, 0, 0, 1, 0, 0, 0, 0, 0, 0, 0, 0, 0, 0, 0, 1, 0, 0, 0, 0, 0, 0, 0, 1, 0, 0, 0, 1, 0, 0, 0, 0, 0, 1, 0, 1, 0, 0, 0, 0, 0, 0, 0, 0, 0, 1, 0, 1, 0, 0, 0, 0, 0, 0, 0, 0, 0, 0, 1, 0, 1, 0, 0, 0, 0, 1, 0, 0, 0, 0, 0, 0, 0, 0, 0, 0, 1, 0, 1, 0, 0, 0, 0, 0, 0, 0, 0, 0, 0, 1, 0, 0, 1, 0, 0, 0, 0, 0, 0, 0, 1, 0, 0, 0, 1, 1, 0, 0, 1, 0, 1, 0, 1, 0, 0, 0, 1, 0, 0, 0, 0, 0, 0, 1, 0, 0, 0, 0, 0, 0, 0, 0, 1, 1, 1, 0, 0, 0, 0, 1, 0, 0, 0, 0, 0, 0, 0, 1, 0, 0, 0, 0, 0, 0, 0, 1, 0, 0, 0, 0, 0, 1, 0, 0, 0, 0, 0, 0, 1, 0, 0, 1, 0, 0, 1, 0, 1, 1, 1, 0, 0, 0, 0, 0, 1, 1, 0, 0, 0, 0, 0, 0, 0, 0, 1, 0, 0, 1, 0, 1, 0, 0, 0, 0, 0, 0, 0, 0, 0, 0, 0, 0, 0, 0, 0, 0, 0, 0, 0, 0, 0], [0, 0, 0, 0, 0, 0, 0, 0, 0, 0, 0, 0, 0, 0, 0, 1, 0, 0, 0, 0, 1, 0, 0, 0, 0, 0, 0, 0, 1, 0, 0, 0, 0, 0, 0, 1, 0, 1, 0, 0, 1, 0, 0, 0, 0, 0, 0, 0, 1, 0, 0, 0, 1, 1, 1, 0, 0, 1, 0, 0, 0, 0, 1, 0, 1, 0, 0, 0, 0, 0, 0, 1, 0, 0, 0, 0, 1, 0, 0, 0, 0, 1, 0, 0, 0, 0, 0, 0, 0, 0, 0, 0, 1, 0, 1, 0, 0, 0, 0, 0, 0, 1, 0, 0, 0, 0, 0, 0, 0, 0, 0, 1, 0, 0, 1, 0, 0, 0, 0, 0, 0, 0, 0, 0, 0, 0, 0, 1, 0, 0, 0, 1, 0, 1, 0, 0, 0, 0, 0, 0, 0, 0, 0, 0, 0, 0, 0, 0, 0, 0, 0, 0, 0, 1, 0, 0, 0, 0, 1, 0, 0, 1, 0, 0, 1, 0, 0, 0, 1, 0, 1, 0, 0, 0, 0, 0, 0, 1, 0, 0, 0, 0, 0, 0, 0, 1, 1, 1, 0, 1, 0, 0, 0, 0, 0, 1, 1, 0, 0, 0, 0, 0, 0, 0, 0, 0, 0, 0, 0, 0, 0, 1, 1, 0, 0, 0, 1, 0, 0, 0, 0, 0, 0, 0, 0, 1, 1, 0, 0, 0], [0, 0, 0, 0, 0, 0, 0, 1, 0, 0, 1, 1, 0, 1, 0, 0, 0, 0, 0, 0, 0, 1, 0, 0, 0, 1, 0, 0, 0, 0, 0, 0, 0, 0, 1, 0, 0, 0, 0, 1, 0, 1, 0, 0, 0, 0, 0, 1, 0, 0, 0, 0, 0, 1, 1, 0, 0, 0, 0, 0, 0, 0, 0, 1, 0, 1, 0, 0, 0, 0, 1, 0, 0, 0, 0, 0, 0, 0, 0, 0, 0, 0, 1, 0, 0, 0, 0, 0, 0, 0, 0, 0, 0, 0, 0, 0, 0, 1, 0, 0, 0, 1, 0, 0, 0, 0, 0, 0, 0, 0, 0, 0, 1, 0, 1, 0, 0, 0, 1, 1, 1, 0, 0, 0, 1, 0, 0, 0, 1, 0, 0, 0, 0, 0, 0, 0, 0, 0, 1, 0, 0, 0, 0, 0, 0, 0, 0, 0, 0, 0, 0, 0, 0, 0, 0, 1, 0, 0, 0, 0, 1, 0, 0, 1, 1, 0, 0, 1, 1, 1, 0, 1, 0, 0, 0, 0, 0, 0, 0, 1, 0, 0, 0, 1, 0, 1, 1, 0, 0, 0, 0, 0, 0, 0, 0, 0, 0, 1, 0, 0, 0, 0, 1, 0, 0, 1, 0, 0, 0, 0, 0, 0, 0, 0, 1, 0, 0, 0, 0, 0, 0, 0, 0, 1, 0, 0, 0, 0, 0, 0], [0, 0, 0, 0, 1, 0, 0, 1, 0, 0, 0, 0, 0, 0, 0, 0, 0, 0, 0, 0, 0, 0, 0, 1, 0, 0, 0, 1, 0, 0, 0, 0, 0, 1, 0, 0, 0, 0, 0, 1, 0, 0, 0, 0, 0, 0, 1, 0, 1, 1, 0, 0, 0, 1, 1, 0, 0, 0, 0, 0, 1, 0, 1, 0, 0, 0, 1, 0, 0, 0, 0, 0, 1, 0, 0, 0, 1, 1, 0, 0, 0, 0, 0, 0, 1, 0, 0, 0, 1, 0, 0, 0, 0, 0, 0, 0, 0, 0, 0, 0, 1, 1, 0, 0, 0, 0, 0, 0, 0, 0, 0, 0, 0, 0, 1, 0, 0, 0, 0, 0, 0, 0, 0, 0, 0, 0, 0, 0, 0, 1, 0, 0, 0, 0, 0, 0, 1, 0, 0, 0, 1, 0, 1, 0, 0, 1, 0, 0, 0, 0, 0, 0, 0, 0, 0, 0, 0, 1, 0, 0, 0, 0, 0, 0, 1, 0, 0, 0, 0, 0, 1, 0, 0, 0, 0, 0, 1, 1, 0, 0, 0, 1, 0, 0, 0, 1, 1, 1, 0, 0, 0, 0, 1, 0, 0, 0, 0, 0, 0, 0, 1, 0, 0, 0, 0, 1, 0, 0, 0, 1, 0, 0, 0, 0, 0, 0, 1, 0, 0, 0, 0, 1, 0, 0, 0, 0, 0, 0, 0, 0]]\n"
     ]
    }
   ],
   "source": [
    "td_matrix = []\n",
    "for i in range(0,len(corpus_norm)):\n",
    "    doc = tdtransform(text=corpus_norm[i])\n",
    "    td_matrix.append(doc)\n",
    "\n",
    "print(len(td_matrix))\n",
    "print(td_matrix)"
   ]
  },
  {
   "cell_type": "markdown",
   "id": "f96972af",
   "metadata": {},
   "source": [
    "\n",
    "## 2. Construcción de la matriz TF-IDF\n",
    "La matriz termino-frecuencia es la cantidad de veces que aparece el termino en el documento.\n",
    "\n",
    "Calculo del vector idf cuya formula es log(N/nt) donde:\n",
    "\n",
    "N: Representa la cantidad de documentos en el corpus\n",
    "\n",
    "nt: Representa la cantidad de documentos en los que se encuentra el termino"
   ]
  },
  {
   "cell_type": "markdown",
   "id": "4a305187",
   "metadata": {},
   "source": [
    "En primera instancia, se calcula la matriz TF"
   ]
  },
  {
   "cell_type": "code",
   "execution_count": 13,
   "id": "290fedfd",
   "metadata": {},
   "outputs": [],
   "source": [
    "tf_matrix = []\n",
    "\n",
    "for doc in corpus_norm:\n",
    "  tf_vector = []\n",
    "  for word in vocab:\n",
    "    if word in doc:\n",
    "      conteo = doc.count(word)\n",
    "      #print(f'{word} - {conteo}')\n",
    "      tf_vector.append(conteo)\n",
    "    else:\n",
    "      tf_vector.append(0)\n",
    "  tf_matrix.append(tf_vector)"
   ]
  },
  {
   "cell_type": "markdown",
   "id": "b5c707ea",
   "metadata": {},
   "source": [
    "Verificamos su funcionamiento"
   ]
  },
  {
   "cell_type": "code",
   "execution_count": 14,
   "id": "acd8bb5d",
   "metadata": {},
   "outputs": [
    {
     "name": "stdout",
     "output_type": "stream",
     "text": [
      "8\n",
      "[1, 1, 0, 0, 0, 1, 1, 0, 0, 0, 0, 0, 0, 0, 0, 0, 0, 0, 0, 1, 0, 0, 1, 0, 0, 0, 1, 0, 1, 0, 1, 0, 0, 0, 0, 1, 0, 0, 1, 0, 0, 1, 0, 1, 0, 0, 0, 0, 0, 0, 1, 0, 0, 2, 0, 0, 0, 0, 0, 1, 0, 0, 0, 0, 0, 0, 1, 0, 0, 0, 0, 0, 0, 0, 0, 1, 1, 0, 0, 0, 0, 0, 0, 1, 0, 0, 0, 0, 0, 0, 0, 0, 1, 1, 1, 0, 0, 0, 0, 0, 0, 2, 0, 0, 1, 0, 0, 0, 0, 0, 0, 0, 0, 0, 1, 0, 0, 0, 0, 0, 0, 0, 0, 1, 0, 0, 0, 1, 0, 0, 0, 0, 0, 0, 1, 0, 0, 0, 0, 0, 0, 0, 0, 0, 0, 0, 0, 0, 0, 1, 1, 0, 0, 0, 1, 0, 0, 0, 0, 1, 0, 0, 0, 0, 1, 0, 0, 1, 0, 0, 3, 0, 0, 0, 1, 0, 0, 0, 1, 0, 0, 0, 0, 1, 1, 1, 4, 0, 0, 0, 0, 0, 0, 0, 0, 0, 0, 0, 0, 0, 0, 0, 0, 0, 0, 0, 0, 0, 0, 1, 0, 0, 0, 0, 0, 0, 0, 0, 0, 1, 0, 0, 1, 0, 0, 0, 0, 0, 1, 0]\n",
      "[0, 0, 0, 0, 0, 0, 0, 0, 0, 0, 0, 0, 0, 0, 0, 1, 1, 0, 0, 0, 0, 0, 0, 0, 0, 0, 0, 0, 1, 0, 0, 0, 0, 0, 0, 1, 1, 0, 0, 0, 0, 0, 0, 0, 0, 0, 0, 0, 0, 0, 0, 0, 0, 2, 1, 0, 0, 0, 0, 0, 0, 0, 0, 1, 0, 0, 0, 0, 0, 0, 0, 0, 0, 0, 0, 0, 0, 0, 0, 1, 0, 0, 0, 0, 0, 0, 1, 0, 0, 0, 0, 0, 1, 0, 0, 1, 0, 0, 0, 1, 0, 1, 0, 1, 0, 0, 0, 1, 0, 0, 0, 0, 0, 0, 3, 0, 0, 0, 0, 1, 0, 1, 0, 0, 0, 0, 0, 1, 1, 0, 1, 0, 0, 0, 0, 0, 0, 1, 0, 1, 0, 0, 1, 0, 0, 0, 0, 0, 0, 0, 0, 0, 1, 0, 0, 1, 0, 0, 0, 0, 0, 0, 1, 0, 0, 0, 1, 0, 0, 0, 1, 0, 1, 0, 0, 1, 0, 1, 0, 0, 0, 0, 0, 0, 0, 3, 2, 2, 0, 0, 1, 1, 0, 0, 0, 0, 0, 0, 1, 1, 0, 1, 0, 0, 0, 0, 0, 0, 0, 0, 1, 0, 0, 0, 0, 1, 0, 1, 0, 0, 0, 0, 0, 0, 0, 0, 0, 0, 0, 0]\n",
      "[0, 0, 0, 1, 0, 0, 0, 1, 1, 0, 0, 0, 0, 0, 1, 0, 0, 0, 0, 0, 0, 0, 0, 0, 0, 0, 0, 0, 0, 0, 0, 1, 0, 0, 0, 0, 0, 0, 0, 1, 0, 0, 0, 0, 0, 0, 1, 0, 0, 0, 0, 1, 0, 3, 0, 0, 0, 0, 0, 0, 0, 0, 0, 0, 0, 0, 0, 0, 1, 0, 1, 0, 0, 1, 0, 0, 0, 0, 0, 0, 1, 0, 0, 0, 1, 0, 0, 0, 0, 0, 1, 0, 0, 1, 0, 0, 0, 0, 0, 0, 0, 0, 0, 0, 0, 1, 0, 0, 1, 0, 1, 0, 0, 0, 3, 1, 1, 0, 0, 1, 0, 0, 1, 0, 0, 0, 0, 0, 0, 0, 0, 0, 0, 0, 0, 1, 0, 0, 0, 0, 0, 1, 1, 0, 0, 0, 1, 1, 0, 0, 0, 0, 0, 0, 0, 0, 0, 0, 0, 0, 0, 0, 0, 0, 1, 0, 0, 0, 0, 0, 2, 0, 0, 0, 0, 0, 0, 0, 0, 0, 0, 0, 0, 1, 0, 1, 2, 2, 0, 0, 0, 0, 0, 0, 0, 0, 0, 0, 0, 0, 1, 0, 0, 0, 0, 0, 0, 0, 0, 1, 0, 0, 0, 1, 0, 0, 1, 0, 1, 0, 1, 0, 0, 0, 1, 0, 0, 0, 0, 0]\n",
      "[0, 0, 0, 0, 0, 0, 0, 0, 0, 0, 0, 0, 0, 0, 1, 0, 0, 1, 1, 0, 0, 0, 0, 0, 0, 0, 0, 0, 0, 1, 0, 0, 0, 0, 0, 0, 0, 0, 0, 0, 1, 0, 0, 0, 0, 1, 0, 1, 1, 0, 0, 0, 0, 0, 4, 1, 0, 0, 1, 0, 0, 1, 0, 0, 0, 0, 0, 0, 1, 0, 0, 0, 0, 0, 0, 0, 2, 0, 1, 0, 0, 0, 0, 0, 0, 0, 0, 0, 0, 1, 0, 1, 0, 0, 0, 0, 1, 0, 0, 0, 0, 0, 1, 0, 0, 0, 1, 0, 0, 0, 0, 0, 0, 0, 4, 0, 0, 0, 0, 1, 0, 0, 0, 0, 0, 0, 1, 0, 1, 0, 0, 0, 0, 0, 0, 0, 0, 0, 0, 0, 0, 0, 1, 0, 1, 0, 0, 0, 0, 0, 0, 1, 0, 0, 0, 0, 0, 0, 0, 0, 0, 0, 0, 0, 0, 1, 0, 0, 0, 0, 1, 0, 1, 1, 0, 0, 0, 0, 1, 0, 0, 0, 1, 1, 0, 0, 4, 1, 1, 0, 0, 0, 0, 0, 0, 0, 0, 0, 0, 0, 0, 0, 0, 0, 1, 0, 0, 1, 0, 0, 0, 0, 0, 0, 1, 0, 0, 0, 0, 0, 0, 0, 0, 0, 0, 0, 0, 1, 0, 1]\n",
      "[0, 0, 1, 0, 0, 0, 0, 0, 0, 1, 0, 0, 1, 0, 0, 0, 0, 0, 0, 0, 0, 0, 0, 0, 1, 0, 0, 0, 0, 0, 0, 0, 1, 0, 0, 0, 1, 0, 0, 0, 0, 0, 1, 0, 1, 0, 0, 0, 0, 0, 0, 0, 0, 0, 2, 0, 1, 0, 0, 0, 0, 0, 0, 0, 0, 0, 0, 1, 0, 1, 0, 0, 0, 0, 1, 0, 0, 0, 0, 0, 0, 0, 0, 0, 0, 1, 0, 1, 0, 0, 0, 0, 0, 0, 0, 0, 0, 0, 1, 0, 0, 2, 0, 0, 0, 0, 0, 0, 0, 1, 0, 0, 0, 1, 1, 0, 0, 1, 0, 2, 0, 1, 0, 0, 0, 1, 0, 0, 0, 0, 0, 0, 1, 0, 0, 0, 0, 0, 0, 0, 0, 1, 1, 1, 0, 0, 0, 0, 1, 0, 0, 0, 0, 0, 0, 0, 1, 0, 0, 0, 0, 0, 0, 0, 1, 0, 0, 0, 0, 0, 1, 0, 0, 0, 0, 0, 0, 1, 0, 0, 1, 0, 0, 1, 0, 4, 1, 1, 0, 0, 0, 0, 0, 1, 1, 0, 0, 0, 0, 0, 0, 0, 0, 1, 0, 0, 1, 0, 2, 0, 0, 0, 0, 0, 0, 0, 0, 0, 0, 0, 0, 0, 0, 0, 0, 0, 0, 0, 0, 0]\n",
      "[0, 0, 0, 0, 0, 0, 0, 0, 0, 0, 0, 0, 0, 0, 0, 1, 0, 0, 0, 0, 1, 0, 0, 0, 0, 0, 0, 0, 1, 0, 0, 0, 0, 0, 0, 1, 0, 1, 0, 0, 1, 0, 0, 0, 0, 0, 0, 0, 1, 0, 0, 0, 1, 2, 1, 0, 0, 1, 0, 0, 0, 0, 1, 0, 1, 0, 0, 0, 0, 0, 0, 1, 0, 0, 0, 0, 1, 0, 0, 0, 0, 1, 0, 0, 0, 0, 0, 0, 0, 0, 0, 0, 1, 0, 1, 0, 0, 0, 0, 0, 0, 2, 0, 0, 0, 0, 0, 0, 0, 0, 0, 1, 0, 0, 3, 0, 0, 0, 0, 0, 0, 0, 0, 0, 0, 0, 0, 1, 0, 0, 0, 1, 0, 1, 0, 0, 0, 0, 0, 0, 0, 0, 0, 0, 0, 0, 0, 0, 0, 0, 0, 0, 0, 1, 0, 0, 0, 0, 1, 0, 0, 1, 0, 0, 1, 0, 0, 0, 1, 0, 1, 0, 0, 0, 0, 0, 0, 1, 0, 0, 0, 0, 0, 0, 0, 3, 4, 2, 0, 1, 0, 0, 0, 0, 0, 1, 1, 0, 0, 0, 0, 0, 0, 0, 0, 0, 0, 0, 0, 0, 0, 1, 1, 0, 0, 0, 1, 0, 0, 0, 0, 0, 0, 0, 0, 1, 1, 0, 0, 0]\n",
      "[0, 0, 0, 0, 0, 0, 0, 1, 0, 0, 1, 1, 0, 1, 0, 0, 0, 0, 0, 0, 0, 1, 0, 0, 0, 1, 0, 0, 0, 0, 0, 0, 0, 0, 1, 0, 0, 0, 0, 1, 0, 1, 0, 0, 0, 0, 0, 1, 0, 0, 0, 0, 0, 3, 1, 0, 0, 0, 0, 0, 0, 0, 0, 1, 0, 1, 0, 0, 0, 0, 1, 0, 0, 0, 0, 0, 0, 0, 0, 0, 0, 0, 1, 0, 0, 0, 0, 0, 0, 0, 0, 0, 0, 0, 0, 0, 0, 1, 0, 0, 0, 1, 0, 0, 0, 0, 0, 0, 0, 0, 0, 0, 1, 0, 4, 0, 0, 0, 1, 2, 1, 0, 0, 0, 1, 0, 0, 0, 1, 0, 0, 0, 0, 0, 0, 0, 0, 0, 1, 0, 0, 0, 0, 0, 0, 0, 0, 0, 0, 0, 0, 0, 0, 0, 0, 1, 0, 0, 0, 0, 1, 0, 0, 1, 2, 0, 0, 1, 1, 1, 0, 1, 0, 0, 0, 0, 0, 0, 0, 1, 0, 0, 0, 1, 0, 5, 2, 0, 0, 0, 0, 0, 0, 0, 0, 0, 0, 1, 0, 0, 0, 0, 1, 0, 0, 1, 0, 0, 0, 0, 0, 0, 0, 0, 1, 0, 0, 0, 0, 0, 0, 0, 0, 1, 0, 0, 0, 0, 0, 0]\n",
      "[0, 0, 0, 0, 1, 0, 0, 1, 0, 0, 0, 0, 0, 0, 0, 0, 0, 0, 0, 0, 0, 0, 0, 1, 0, 0, 0, 1, 0, 0, 0, 0, 0, 1, 0, 0, 0, 0, 0, 1, 0, 0, 0, 0, 0, 0, 1, 0, 1, 1, 0, 0, 0, 3, 1, 0, 0, 0, 0, 0, 1, 0, 1, 0, 0, 0, 1, 0, 0, 0, 0, 0, 1, 0, 0, 0, 1, 1, 0, 0, 0, 0, 0, 0, 1, 0, 0, 0, 1, 0, 0, 0, 0, 0, 0, 0, 0, 0, 0, 0, 1, 2, 0, 0, 0, 0, 0, 0, 0, 0, 0, 0, 0, 0, 1, 0, 0, 0, 0, 0, 0, 0, 0, 0, 0, 0, 0, 0, 0, 1, 0, 0, 0, 0, 0, 0, 1, 0, 0, 0, 1, 0, 1, 0, 0, 2, 0, 0, 0, 0, 0, 0, 0, 0, 0, 0, 0, 1, 0, 0, 0, 0, 0, 0, 2, 0, 0, 0, 0, 0, 1, 0, 0, 0, 0, 0, 1, 2, 0, 0, 0, 1, 0, 0, 0, 1, 6, 3, 0, 0, 0, 0, 1, 0, 0, 0, 0, 0, 0, 0, 1, 0, 0, 0, 0, 1, 0, 0, 0, 1, 0, 0, 0, 0, 0, 0, 1, 0, 0, 0, 0, 1, 0, 0, 0, 0, 0, 0, 0, 0]\n"
     ]
    }
   ],
   "source": [
    "print(len(tf_matrix))\n",
    "for i in range(0,len(tf_matrix)):\n",
    "  print(tf_matrix[i])"
   ]
  },
  {
   "cell_type": "markdown",
   "id": "61706760",
   "metadata": {},
   "source": [
    "Calculamos el vector NT"
   ]
  },
  {
   "cell_type": "code",
   "execution_count": 15,
   "id": "47a5f6ca",
   "metadata": {},
   "outputs": [],
   "source": [
    "nt_vector = []\n",
    "for j in range(0,len(td_matrix[0])):\n",
    "  sum = 0\n",
    "  for i in range(0,len(td_matrix)):\n",
    "    sum += td_matrix[i][j]\n",
    "  nt_vector.append(sum)"
   ]
  },
  {
   "cell_type": "markdown",
   "id": "1a9955c1",
   "metadata": {},
   "source": [
    "Comprobamos el resultado"
   ]
  },
  {
   "cell_type": "code",
   "execution_count": 16,
   "id": "6915acc7",
   "metadata": {},
   "outputs": [
    {
     "name": "stdout",
     "output_type": "stream",
     "text": [
      "[1, 1, 1, 1, 1, 1, 1, 3, 1, 1, 1, 1, 1, 1, 2, 2, 1, 1, 1, 1, 1, 1, 1, 1, 1, 1, 1, 1, 3, 1, 1, 1, 1, 1, 1, 3, 2, 1, 1, 3, 2, 2, 1, 1, 1, 1, 2, 2, 3, 1, 1, 1, 1, 6, 6, 1, 1, 1, 1, 1, 1, 1, 2, 2, 1, 1, 2, 1, 2, 1, 2, 1, 1, 1, 1, 1, 4, 1, 1, 1, 1, 1, 1, 1, 2, 1, 1, 1, 1, 1, 1, 1, 3, 2, 2, 1, 1, 1, 1, 1, 1, 6, 1, 1, 1, 1, 1, 1, 1, 1, 1, 1, 1, 1, 8, 1, 1, 1, 1, 5, 1, 2, 1, 1, 1, 1, 1, 3, 3, 1, 1, 1, 1, 1, 1, 1, 1, 1, 1, 1, 1, 2, 5, 1, 1, 1, 1, 1, 1, 1, 1, 1, 1, 1, 1, 2, 1, 1, 1, 1, 1, 1, 1, 1, 6, 1, 1, 2, 2, 1, 7, 1, 2, 1, 1, 1, 1, 4, 2, 1, 1, 1, 1, 5, 1, 7, 8, 6, 1, 1, 1, 1, 1, 1, 1, 1, 1, 1, 1, 1, 2, 1, 1, 1, 1, 2, 1, 1, 1, 3, 1, 1, 1, 1, 2, 1, 3, 1, 1, 1, 1, 1, 1, 1, 1, 1, 1, 1, 1, 1]\n"
     ]
    }
   ],
   "source": [
    "print(nt_vector)"
   ]
  },
  {
   "cell_type": "markdown",
   "id": "acd2e789",
   "metadata": {},
   "source": [
    "Calculamos el vector IDF"
   ]
  },
  {
   "cell_type": "code",
   "execution_count": 17,
   "id": "bec611fd",
   "metadata": {},
   "outputs": [],
   "source": [
    "import math\n",
    "\n",
    "idf_vector = []\n",
    "for i in range(0, len(nt_vector)):\n",
    "  idf = round(math.log(len(tf_matrix)/nt_vector[i]),2)\n",
    "  idf_vector.append(idf)"
   ]
  },
  {
   "cell_type": "code",
   "execution_count": 18,
   "id": "20716580",
   "metadata": {},
   "outputs": [
    {
     "name": "stdout",
     "output_type": "stream",
     "text": [
      "[2.08, 2.08, 2.08, 2.08, 2.08, 2.08, 2.08, 0.98, 2.08, 2.08, 2.08, 2.08, 2.08, 2.08, 1.39, 1.39, 2.08, 2.08, 2.08, 2.08, 2.08, 2.08, 2.08, 2.08, 2.08, 2.08, 2.08, 2.08, 0.98, 2.08, 2.08, 2.08, 2.08, 2.08, 2.08, 0.98, 1.39, 2.08, 2.08, 0.98, 1.39, 1.39, 2.08, 2.08, 2.08, 2.08, 1.39, 1.39, 0.98, 2.08, 2.08, 2.08, 2.08, 0.29, 0.29, 2.08, 2.08, 2.08, 2.08, 2.08, 2.08, 2.08, 1.39, 1.39, 2.08, 2.08, 1.39, 2.08, 1.39, 2.08, 1.39, 2.08, 2.08, 2.08, 2.08, 2.08, 0.69, 2.08, 2.08, 2.08, 2.08, 2.08, 2.08, 2.08, 1.39, 2.08, 2.08, 2.08, 2.08, 2.08, 2.08, 2.08, 0.98, 1.39, 1.39, 2.08, 2.08, 2.08, 2.08, 2.08, 2.08, 0.29, 2.08, 2.08, 2.08, 2.08, 2.08, 2.08, 2.08, 2.08, 2.08, 2.08, 2.08, 2.08, 0.0, 2.08, 2.08, 2.08, 2.08, 0.47, 2.08, 1.39, 2.08, 2.08, 2.08, 2.08, 2.08, 0.98, 0.98, 2.08, 2.08, 2.08, 2.08, 2.08, 2.08, 2.08, 2.08, 2.08, 2.08, 2.08, 2.08, 1.39, 0.47, 2.08, 2.08, 2.08, 2.08, 2.08, 2.08, 2.08, 2.08, 2.08, 2.08, 2.08, 2.08, 1.39, 2.08, 2.08, 2.08, 2.08, 2.08, 2.08, 2.08, 2.08, 0.29, 2.08, 2.08, 1.39, 1.39, 2.08, 0.13, 2.08, 1.39, 2.08, 2.08, 2.08, 2.08, 0.69, 1.39, 2.08, 2.08, 2.08, 2.08, 0.47, 2.08, 0.13, 0.0, 0.29, 2.08, 2.08, 2.08, 2.08, 2.08, 2.08, 2.08, 2.08, 2.08, 2.08, 2.08, 2.08, 1.39, 2.08, 2.08, 2.08, 2.08, 1.39, 2.08, 2.08, 2.08, 0.98, 2.08, 2.08, 2.08, 2.08, 1.39, 2.08, 0.98, 2.08, 2.08, 2.08, 2.08, 2.08, 2.08, 2.08, 2.08, 2.08, 2.08, 2.08, 2.08, 2.08]\n"
     ]
    }
   ],
   "source": [
    "print(idf_vector)"
   ]
  },
  {
   "cell_type": "markdown",
   "id": "d9383681",
   "metadata": {},
   "source": [
    "Calculo de la matriz TF-IDF"
   ]
  },
  {
   "cell_type": "code",
   "execution_count": 19,
   "id": "61378521",
   "metadata": {},
   "outputs": [],
   "source": [
    "tfidf_matrix = []\n",
    "for i in range(0,len(tf_matrix)):\n",
    "  vector = []\n",
    "  for j in range(0,len(tf_matrix[0])):\n",
    "    vector.append(round(tf_matrix[i][j]*idf_vector[j],2))\n",
    "  tfidf_matrix.append(vector)"
   ]
  },
  {
   "cell_type": "code",
   "execution_count": 20,
   "id": "be8ebef6",
   "metadata": {},
   "outputs": [
    {
     "name": "stdout",
     "output_type": "stream",
     "text": [
      "[2.08, 2.08, 0.0, 0.0, 0.0, 2.08, 2.08, 0.0, 0.0, 0.0, 0.0, 0.0, 0.0, 0.0, 0.0, 0.0, 0.0, 0.0, 0.0, 2.08, 0.0, 0.0, 2.08, 0.0, 0.0, 0.0, 2.08, 0.0, 0.98, 0.0, 2.08, 0.0, 0.0, 0.0, 0.0, 0.98, 0.0, 0.0, 2.08, 0.0, 0.0, 1.39, 0.0, 2.08, 0.0, 0.0, 0.0, 0.0, 0.0, 0.0, 2.08, 0.0, 0.0, 0.58, 0.0, 0.0, 0.0, 0.0, 0.0, 2.08, 0.0, 0.0, 0.0, 0.0, 0.0, 0.0, 1.39, 0.0, 0.0, 0.0, 0.0, 0.0, 0.0, 0.0, 0.0, 2.08, 0.69, 0.0, 0.0, 0.0, 0.0, 0.0, 0.0, 2.08, 0.0, 0.0, 0.0, 0.0, 0.0, 0.0, 0.0, 0.0, 0.98, 1.39, 1.39, 0.0, 0.0, 0.0, 0.0, 0.0, 0.0, 0.58, 0.0, 0.0, 2.08, 0.0, 0.0, 0.0, 0.0, 0.0, 0.0, 0.0, 0.0, 0.0, 0.0, 0.0, 0.0, 0.0, 0.0, 0.0, 0.0, 0.0, 0.0, 2.08, 0.0, 0.0, 0.0, 0.98, 0.0, 0.0, 0.0, 0.0, 0.0, 0.0, 2.08, 0.0, 0.0, 0.0, 0.0, 0.0, 0.0, 0.0, 0.0, 0.0, 0.0, 0.0, 0.0, 0.0, 0.0, 2.08, 2.08, 0.0, 0.0, 0.0, 2.08, 0.0, 0.0, 0.0, 0.0, 2.08, 0.0, 0.0, 0.0, 0.0, 0.29, 0.0, 0.0, 1.39, 0.0, 0.0, 0.39, 0.0, 0.0, 0.0, 2.08, 0.0, 0.0, 0.0, 1.39, 0.0, 0.0, 0.0, 0.0, 0.47, 2.08, 0.13, 0.0, 0.0, 0.0, 0.0, 0.0, 0.0, 0.0, 0.0, 0.0, 0.0, 0.0, 0.0, 0.0, 0.0, 0.0, 0.0, 0.0, 0.0, 0.0, 0.0, 0.0, 0.0, 0.0, 0.98, 0.0, 0.0, 0.0, 0.0, 0.0, 0.0, 0.0, 0.0, 0.0, 2.08, 0.0, 0.0, 2.08, 0.0, 0.0, 0.0, 0.0, 0.0, 2.08, 0.0]\n",
      "[0.0, 0.0, 0.0, 0.0, 0.0, 0.0, 0.0, 0.0, 0.0, 0.0, 0.0, 0.0, 0.0, 0.0, 0.0, 1.39, 2.08, 0.0, 0.0, 0.0, 0.0, 0.0, 0.0, 0.0, 0.0, 0.0, 0.0, 0.0, 0.98, 0.0, 0.0, 0.0, 0.0, 0.0, 0.0, 0.98, 1.39, 0.0, 0.0, 0.0, 0.0, 0.0, 0.0, 0.0, 0.0, 0.0, 0.0, 0.0, 0.0, 0.0, 0.0, 0.0, 0.0, 0.58, 0.29, 0.0, 0.0, 0.0, 0.0, 0.0, 0.0, 0.0, 0.0, 1.39, 0.0, 0.0, 0.0, 0.0, 0.0, 0.0, 0.0, 0.0, 0.0, 0.0, 0.0, 0.0, 0.0, 0.0, 0.0, 2.08, 0.0, 0.0, 0.0, 0.0, 0.0, 0.0, 2.08, 0.0, 0.0, 0.0, 0.0, 0.0, 0.98, 0.0, 0.0, 2.08, 0.0, 0.0, 0.0, 2.08, 0.0, 0.29, 0.0, 2.08, 0.0, 0.0, 0.0, 2.08, 0.0, 0.0, 0.0, 0.0, 0.0, 0.0, 0.0, 0.0, 0.0, 0.0, 0.0, 0.47, 0.0, 1.39, 0.0, 0.0, 0.0, 0.0, 0.0, 0.98, 0.98, 0.0, 2.08, 0.0, 0.0, 0.0, 0.0, 0.0, 0.0, 2.08, 0.0, 2.08, 0.0, 0.0, 0.47, 0.0, 0.0, 0.0, 0.0, 0.0, 0.0, 0.0, 0.0, 0.0, 2.08, 0.0, 0.0, 1.39, 0.0, 0.0, 0.0, 0.0, 0.0, 0.0, 2.08, 0.0, 0.0, 0.0, 2.08, 0.0, 0.0, 0.0, 0.13, 0.0, 1.39, 0.0, 0.0, 2.08, 0.0, 0.69, 0.0, 0.0, 0.0, 0.0, 0.0, 0.0, 0.0, 0.39, 0.0, 0.58, 0.0, 0.0, 2.08, 2.08, 0.0, 0.0, 0.0, 0.0, 0.0, 0.0, 2.08, 2.08, 0.0, 2.08, 0.0, 0.0, 0.0, 0.0, 0.0, 0.0, 0.0, 0.0, 2.08, 0.0, 0.0, 0.0, 0.0, 2.08, 0.0, 2.08, 0.0, 0.0, 0.0, 0.0, 0.0, 0.0, 0.0, 0.0, 0.0, 0.0, 0.0, 0.0]\n",
      "[0.0, 0.0, 0.0, 2.08, 0.0, 0.0, 0.0, 0.98, 2.08, 0.0, 0.0, 0.0, 0.0, 0.0, 1.39, 0.0, 0.0, 0.0, 0.0, 0.0, 0.0, 0.0, 0.0, 0.0, 0.0, 0.0, 0.0, 0.0, 0.0, 0.0, 0.0, 2.08, 0.0, 0.0, 0.0, 0.0, 0.0, 0.0, 0.0, 0.98, 0.0, 0.0, 0.0, 0.0, 0.0, 0.0, 1.39, 0.0, 0.0, 0.0, 0.0, 2.08, 0.0, 0.87, 0.0, 0.0, 0.0, 0.0, 0.0, 0.0, 0.0, 0.0, 0.0, 0.0, 0.0, 0.0, 0.0, 0.0, 1.39, 0.0, 1.39, 0.0, 0.0, 2.08, 0.0, 0.0, 0.0, 0.0, 0.0, 0.0, 2.08, 0.0, 0.0, 0.0, 1.39, 0.0, 0.0, 0.0, 0.0, 0.0, 2.08, 0.0, 0.0, 1.39, 0.0, 0.0, 0.0, 0.0, 0.0, 0.0, 0.0, 0.0, 0.0, 0.0, 0.0, 2.08, 0.0, 0.0, 2.08, 0.0, 2.08, 0.0, 0.0, 0.0, 0.0, 2.08, 2.08, 0.0, 0.0, 0.47, 0.0, 0.0, 2.08, 0.0, 0.0, 0.0, 0.0, 0.0, 0.0, 0.0, 0.0, 0.0, 0.0, 0.0, 0.0, 2.08, 0.0, 0.0, 0.0, 0.0, 0.0, 1.39, 0.47, 0.0, 0.0, 0.0, 2.08, 2.08, 0.0, 0.0, 0.0, 0.0, 0.0, 0.0, 0.0, 0.0, 0.0, 0.0, 0.0, 0.0, 0.0, 0.0, 0.0, 0.0, 0.29, 0.0, 0.0, 0.0, 0.0, 0.0, 0.26, 0.0, 0.0, 0.0, 0.0, 0.0, 0.0, 0.0, 0.0, 0.0, 0.0, 0.0, 0.0, 0.47, 0.0, 0.13, 0.0, 0.58, 0.0, 0.0, 0.0, 0.0, 0.0, 0.0, 0.0, 0.0, 0.0, 0.0, 0.0, 0.0, 1.39, 0.0, 0.0, 0.0, 0.0, 0.0, 0.0, 0.0, 0.0, 0.98, 0.0, 0.0, 0.0, 2.08, 0.0, 0.0, 0.98, 0.0, 2.08, 0.0, 2.08, 0.0, 0.0, 0.0, 2.08, 0.0, 0.0, 0.0, 0.0, 0.0]\n",
      "[0.0, 0.0, 0.0, 0.0, 0.0, 0.0, 0.0, 0.0, 0.0, 0.0, 0.0, 0.0, 0.0, 0.0, 1.39, 0.0, 0.0, 2.08, 2.08, 0.0, 0.0, 0.0, 0.0, 0.0, 0.0, 0.0, 0.0, 0.0, 0.0, 2.08, 0.0, 0.0, 0.0, 0.0, 0.0, 0.0, 0.0, 0.0, 0.0, 0.0, 1.39, 0.0, 0.0, 0.0, 0.0, 2.08, 0.0, 1.39, 0.98, 0.0, 0.0, 0.0, 0.0, 0.0, 1.16, 2.08, 0.0, 0.0, 2.08, 0.0, 0.0, 2.08, 0.0, 0.0, 0.0, 0.0, 0.0, 0.0, 1.39, 0.0, 0.0, 0.0, 0.0, 0.0, 0.0, 0.0, 1.38, 0.0, 2.08, 0.0, 0.0, 0.0, 0.0, 0.0, 0.0, 0.0, 0.0, 0.0, 0.0, 2.08, 0.0, 2.08, 0.0, 0.0, 0.0, 0.0, 2.08, 0.0, 0.0, 0.0, 0.0, 0.0, 2.08, 0.0, 0.0, 0.0, 2.08, 0.0, 0.0, 0.0, 0.0, 0.0, 0.0, 0.0, 0.0, 0.0, 0.0, 0.0, 0.0, 0.47, 0.0, 0.0, 0.0, 0.0, 0.0, 0.0, 2.08, 0.0, 0.98, 0.0, 0.0, 0.0, 0.0, 0.0, 0.0, 0.0, 0.0, 0.0, 0.0, 0.0, 0.0, 0.0, 0.47, 0.0, 2.08, 0.0, 0.0, 0.0, 0.0, 0.0, 0.0, 2.08, 0.0, 0.0, 0.0, 0.0, 0.0, 0.0, 0.0, 0.0, 0.0, 0.0, 0.0, 0.0, 0.0, 2.08, 0.0, 0.0, 0.0, 0.0, 0.13, 0.0, 1.39, 2.08, 0.0, 0.0, 0.0, 0.0, 1.39, 0.0, 0.0, 0.0, 2.08, 0.47, 0.0, 0.0, 0.0, 0.29, 2.08, 0.0, 0.0, 0.0, 0.0, 0.0, 0.0, 0.0, 0.0, 0.0, 0.0, 0.0, 0.0, 0.0, 0.0, 0.0, 2.08, 0.0, 0.0, 2.08, 0.0, 0.0, 0.0, 0.0, 0.0, 0.0, 1.39, 0.0, 0.0, 0.0, 0.0, 0.0, 0.0, 0.0, 0.0, 0.0, 0.0, 0.0, 0.0, 2.08, 0.0, 2.08]\n",
      "[0.0, 0.0, 2.08, 0.0, 0.0, 0.0, 0.0, 0.0, 0.0, 2.08, 0.0, 0.0, 2.08, 0.0, 0.0, 0.0, 0.0, 0.0, 0.0, 0.0, 0.0, 0.0, 0.0, 0.0, 2.08, 0.0, 0.0, 0.0, 0.0, 0.0, 0.0, 0.0, 2.08, 0.0, 0.0, 0.0, 1.39, 0.0, 0.0, 0.0, 0.0, 0.0, 2.08, 0.0, 2.08, 0.0, 0.0, 0.0, 0.0, 0.0, 0.0, 0.0, 0.0, 0.0, 0.58, 0.0, 2.08, 0.0, 0.0, 0.0, 0.0, 0.0, 0.0, 0.0, 0.0, 0.0, 0.0, 2.08, 0.0, 2.08, 0.0, 0.0, 0.0, 0.0, 2.08, 0.0, 0.0, 0.0, 0.0, 0.0, 0.0, 0.0, 0.0, 0.0, 0.0, 2.08, 0.0, 2.08, 0.0, 0.0, 0.0, 0.0, 0.0, 0.0, 0.0, 0.0, 0.0, 0.0, 2.08, 0.0, 0.0, 0.58, 0.0, 0.0, 0.0, 0.0, 0.0, 0.0, 0.0, 2.08, 0.0, 0.0, 0.0, 2.08, 0.0, 0.0, 0.0, 2.08, 0.0, 0.94, 0.0, 1.39, 0.0, 0.0, 0.0, 2.08, 0.0, 0.0, 0.0, 0.0, 0.0, 0.0, 2.08, 0.0, 0.0, 0.0, 0.0, 0.0, 0.0, 0.0, 0.0, 1.39, 0.47, 2.08, 0.0, 0.0, 0.0, 0.0, 2.08, 0.0, 0.0, 0.0, 0.0, 0.0, 0.0, 0.0, 2.08, 0.0, 0.0, 0.0, 0.0, 0.0, 0.0, 0.0, 0.29, 0.0, 0.0, 0.0, 0.0, 0.0, 0.13, 0.0, 0.0, 0.0, 0.0, 0.0, 0.0, 0.69, 0.0, 0.0, 2.08, 0.0, 0.0, 0.47, 0.0, 0.52, 0.0, 0.29, 0.0, 0.0, 0.0, 0.0, 0.0, 2.08, 2.08, 0.0, 0.0, 0.0, 0.0, 0.0, 0.0, 0.0, 0.0, 2.08, 0.0, 0.0, 2.08, 0.0, 4.16, 0.0, 0.0, 0.0, 0.0, 0.0, 0.0, 0.0, 0.0, 0.0, 0.0, 0.0, 0.0, 0.0, 0.0, 0.0, 0.0, 0.0, 0.0, 0.0, 0.0, 0.0]\n",
      "[0.0, 0.0, 0.0, 0.0, 0.0, 0.0, 0.0, 0.0, 0.0, 0.0, 0.0, 0.0, 0.0, 0.0, 0.0, 1.39, 0.0, 0.0, 0.0, 0.0, 2.08, 0.0, 0.0, 0.0, 0.0, 0.0, 0.0, 0.0, 0.98, 0.0, 0.0, 0.0, 0.0, 0.0, 0.0, 0.98, 0.0, 2.08, 0.0, 0.0, 1.39, 0.0, 0.0, 0.0, 0.0, 0.0, 0.0, 0.0, 0.98, 0.0, 0.0, 0.0, 2.08, 0.58, 0.29, 0.0, 0.0, 2.08, 0.0, 0.0, 0.0, 0.0, 1.39, 0.0, 2.08, 0.0, 0.0, 0.0, 0.0, 0.0, 0.0, 2.08, 0.0, 0.0, 0.0, 0.0, 0.69, 0.0, 0.0, 0.0, 0.0, 2.08, 0.0, 0.0, 0.0, 0.0, 0.0, 0.0, 0.0, 0.0, 0.0, 0.0, 0.98, 0.0, 1.39, 0.0, 0.0, 0.0, 0.0, 0.0, 0.0, 0.58, 0.0, 0.0, 0.0, 0.0, 0.0, 0.0, 0.0, 0.0, 0.0, 2.08, 0.0, 0.0, 0.0, 0.0, 0.0, 0.0, 0.0, 0.0, 0.0, 0.0, 0.0, 0.0, 0.0, 0.0, 0.0, 0.98, 0.0, 0.0, 0.0, 2.08, 0.0, 2.08, 0.0, 0.0, 0.0, 0.0, 0.0, 0.0, 0.0, 0.0, 0.0, 0.0, 0.0, 0.0, 0.0, 0.0, 0.0, 0.0, 0.0, 0.0, 0.0, 2.08, 0.0, 0.0, 0.0, 0.0, 2.08, 0.0, 0.0, 2.08, 0.0, 0.0, 0.29, 0.0, 0.0, 0.0, 1.39, 0.0, 0.13, 0.0, 0.0, 0.0, 0.0, 0.0, 0.0, 0.69, 0.0, 0.0, 0.0, 0.0, 0.0, 0.0, 0.0, 0.39, 0.0, 0.58, 0.0, 2.08, 0.0, 0.0, 0.0, 0.0, 0.0, 2.08, 2.08, 0.0, 0.0, 0.0, 0.0, 0.0, 0.0, 0.0, 0.0, 0.0, 0.0, 0.0, 0.0, 0.0, 0.0, 2.08, 2.08, 0.0, 0.0, 0.0, 0.98, 0.0, 0.0, 0.0, 0.0, 0.0, 0.0, 0.0, 0.0, 2.08, 2.08, 0.0, 0.0, 0.0]\n",
      "[0.0, 0.0, 0.0, 0.0, 0.0, 0.0, 0.0, 0.98, 0.0, 0.0, 2.08, 2.08, 0.0, 2.08, 0.0, 0.0, 0.0, 0.0, 0.0, 0.0, 0.0, 2.08, 0.0, 0.0, 0.0, 2.08, 0.0, 0.0, 0.0, 0.0, 0.0, 0.0, 0.0, 0.0, 2.08, 0.0, 0.0, 0.0, 0.0, 0.98, 0.0, 1.39, 0.0, 0.0, 0.0, 0.0, 0.0, 1.39, 0.0, 0.0, 0.0, 0.0, 0.0, 0.87, 0.29, 0.0, 0.0, 0.0, 0.0, 0.0, 0.0, 0.0, 0.0, 1.39, 0.0, 2.08, 0.0, 0.0, 0.0, 0.0, 1.39, 0.0, 0.0, 0.0, 0.0, 0.0, 0.0, 0.0, 0.0, 0.0, 0.0, 0.0, 2.08, 0.0, 0.0, 0.0, 0.0, 0.0, 0.0, 0.0, 0.0, 0.0, 0.0, 0.0, 0.0, 0.0, 0.0, 2.08, 0.0, 0.0, 0.0, 0.29, 0.0, 0.0, 0.0, 0.0, 0.0, 0.0, 0.0, 0.0, 0.0, 0.0, 2.08, 0.0, 0.0, 0.0, 0.0, 0.0, 2.08, 0.94, 2.08, 0.0, 0.0, 0.0, 2.08, 0.0, 0.0, 0.0, 0.98, 0.0, 0.0, 0.0, 0.0, 0.0, 0.0, 0.0, 0.0, 0.0, 2.08, 0.0, 0.0, 0.0, 0.0, 0.0, 0.0, 0.0, 0.0, 0.0, 0.0, 0.0, 0.0, 0.0, 0.0, 0.0, 0.0, 1.39, 0.0, 0.0, 0.0, 0.0, 2.08, 0.0, 0.0, 2.08, 0.58, 0.0, 0.0, 1.39, 1.39, 2.08, 0.0, 2.08, 0.0, 0.0, 0.0, 0.0, 0.0, 0.0, 0.0, 2.08, 0.0, 0.0, 0.0, 0.47, 0.0, 0.65, 0.0, 0.0, 0.0, 0.0, 0.0, 0.0, 0.0, 0.0, 0.0, 0.0, 0.0, 2.08, 0.0, 0.0, 0.0, 0.0, 2.08, 0.0, 0.0, 1.39, 0.0, 0.0, 0.0, 0.0, 0.0, 0.0, 0.0, 0.0, 1.39, 0.0, 0.0, 0.0, 0.0, 0.0, 0.0, 0.0, 0.0, 2.08, 0.0, 0.0, 0.0, 0.0, 0.0, 0.0]\n",
      "[0.0, 0.0, 0.0, 0.0, 2.08, 0.0, 0.0, 0.98, 0.0, 0.0, 0.0, 0.0, 0.0, 0.0, 0.0, 0.0, 0.0, 0.0, 0.0, 0.0, 0.0, 0.0, 0.0, 2.08, 0.0, 0.0, 0.0, 2.08, 0.0, 0.0, 0.0, 0.0, 0.0, 2.08, 0.0, 0.0, 0.0, 0.0, 0.0, 0.98, 0.0, 0.0, 0.0, 0.0, 0.0, 0.0, 1.39, 0.0, 0.98, 2.08, 0.0, 0.0, 0.0, 0.87, 0.29, 0.0, 0.0, 0.0, 0.0, 0.0, 2.08, 0.0, 1.39, 0.0, 0.0, 0.0, 1.39, 0.0, 0.0, 0.0, 0.0, 0.0, 2.08, 0.0, 0.0, 0.0, 0.69, 2.08, 0.0, 0.0, 0.0, 0.0, 0.0, 0.0, 1.39, 0.0, 0.0, 0.0, 2.08, 0.0, 0.0, 0.0, 0.0, 0.0, 0.0, 0.0, 0.0, 0.0, 0.0, 0.0, 2.08, 0.58, 0.0, 0.0, 0.0, 0.0, 0.0, 0.0, 0.0, 0.0, 0.0, 0.0, 0.0, 0.0, 0.0, 0.0, 0.0, 0.0, 0.0, 0.0, 0.0, 0.0, 0.0, 0.0, 0.0, 0.0, 0.0, 0.0, 0.0, 2.08, 0.0, 0.0, 0.0, 0.0, 0.0, 0.0, 2.08, 0.0, 0.0, 0.0, 2.08, 0.0, 0.47, 0.0, 0.0, 4.16, 0.0, 0.0, 0.0, 0.0, 0.0, 0.0, 0.0, 0.0, 0.0, 0.0, 0.0, 2.08, 0.0, 0.0, 0.0, 0.0, 0.0, 0.0, 0.58, 0.0, 0.0, 0.0, 0.0, 0.0, 0.13, 0.0, 0.0, 0.0, 0.0, 0.0, 2.08, 1.38, 0.0, 0.0, 0.0, 2.08, 0.0, 0.0, 0.0, 0.13, 0.0, 0.87, 0.0, 0.0, 0.0, 0.0, 2.08, 0.0, 0.0, 0.0, 0.0, 0.0, 0.0, 0.0, 1.39, 0.0, 0.0, 0.0, 0.0, 1.39, 0.0, 0.0, 0.0, 0.98, 0.0, 0.0, 0.0, 0.0, 0.0, 0.0, 0.98, 0.0, 0.0, 0.0, 0.0, 2.08, 0.0, 0.0, 0.0, 0.0, 0.0, 0.0, 0.0, 0.0]\n"
     ]
    }
   ],
   "source": [
    "for i in range(0,len(tfidf_matrix)):\n",
    "  print(tfidf_matrix[i])"
   ]
  },
  {
   "cell_type": "markdown",
   "id": "a332c9c6",
   "metadata": {},
   "source": [
    "## 3. Procesamiento de las consultas\n",
    "Representar las queries como un vector en el mismo espacio de términos del corpus. Obtener la matriz tf-idf de las queries."
   ]
  },
  {
   "cell_type": "code",
   "execution_count": 21,
   "id": "910dae9d",
   "metadata": {},
   "outputs": [],
   "source": [
    "queries = [\n",
    "  \"inteligencia artificial en medicina\",\n",
    "  \"beneficios de la educación a distancia\",\n",
    "  \"realidad aumentada en videojuegos\",\n",
    "  \"desarrollo personal y hábitos saludables\",\n",
    "  \"futuro del comercio electrónico\",\n",
    "  \"tecnologías en cine moderno\",\n",
    "  \"competencias de e-sports\",\n",
    "  \"diagnóstico con dispositivos portátiles\",\n",
    "  \"literatura de ciencia ficción\",\n",
    "  \"plataformas de streaming\"]"
   ]
  },
  {
   "cell_type": "markdown",
   "id": "27d2b6cd",
   "metadata": {},
   "source": [
    "Representar las queries en el mismo espacio de terminos del corpus."
   ]
  },
  {
   "cell_type": "code",
   "execution_count": 22,
   "id": "72b84648",
   "metadata": {},
   "outputs": [],
   "source": [
    "\n",
    "qr_matrix = []\n",
    "for i in range(0,len(queries)):\n",
    "    doc = tdtransform(text=queries[i])\n",
    "    qr_matrix .append(doc)"
   ]
  },
  {
   "cell_type": "code",
   "execution_count": 23,
   "id": "eff8e939",
   "metadata": {},
   "outputs": [
    {
     "name": "stdout",
     "output_type": "stream",
     "text": [
      "[0, 0, 0, 0, 0, 0, 0, 0, 0, 0, 0, 0, 0, 0, 0, 0, 0, 0, 0, 0, 0, 0, 0, 0, 0, 0, 0, 0, 1, 0, 0, 0, 0, 0, 0, 0, 0, 0, 0, 0, 0, 0, 0, 0, 0, 0, 0, 0, 0, 0, 0, 0, 0, 1, 1, 0, 0, 0, 0, 0, 0, 0, 0, 0, 0, 0, 0, 0, 0, 0, 0, 0, 0, 0, 0, 0, 0, 0, 0, 0, 0, 0, 0, 0, 0, 0, 0, 0, 0, 0, 0, 0, 1, 0, 0, 0, 0, 0, 0, 0, 0, 0, 0, 0, 0, 0, 0, 0, 0, 0, 0, 0, 0, 0, 0, 0, 0, 0, 0, 0, 0, 0, 0, 0, 0, 0, 0, 0, 0, 0, 0, 0, 0, 0, 0, 0, 0, 0, 0, 0, 0, 0, 0, 0, 0, 1, 0, 0, 0, 0, 0, 0, 0, 0, 0, 0, 0, 0, 0, 0, 0, 0, 0, 0, 0, 0, 0, 0, 0, 0, 0, 0, 0, 0, 0, 0, 0, 0, 0, 0, 0, 0, 0, 0, 0, 1, 0, 0, 0, 0, 0, 0, 0, 0, 0, 0, 0, 0, 0, 0, 0, 0, 0, 0, 0, 0, 0, 0, 0, 0, 0, 0, 0, 0, 0, 0, 0, 0, 0, 0, 0, 0, 0, 0, 0, 0, 0, 0, 0, 0]\n",
      "[0, 0, 0, 0, 0, 0, 0, 0, 0, 0, 0, 0, 0, 0, 0, 0, 0, 0, 0, 0, 0, 0, 0, 0, 0, 0, 0, 0, 0, 0, 0, 0, 0, 0, 0, 0, 0, 0, 0, 0, 0, 0, 0, 0, 0, 1, 0, 0, 0, 0, 0, 0, 0, 1, 1, 0, 0, 0, 0, 0, 0, 0, 0, 0, 0, 0, 0, 0, 0, 0, 0, 0, 0, 0, 0, 0, 0, 0, 0, 0, 0, 0, 0, 0, 0, 0, 0, 0, 0, 0, 0, 0, 0, 0, 0, 0, 0, 0, 0, 0, 0, 0, 0, 0, 0, 0, 0, 0, 0, 0, 0, 0, 0, 0, 1, 0, 0, 0, 0, 0, 0, 0, 0, 0, 0, 0, 0, 0, 0, 0, 0, 0, 0, 0, 0, 0, 0, 0, 0, 0, 0, 0, 0, 0, 0, 0, 0, 0, 0, 0, 0, 0, 0, 0, 0, 0, 0, 0, 0, 0, 0, 0, 0, 0, 0, 1, 0, 0, 0, 0, 0, 0, 0, 0, 0, 0, 0, 0, 0, 0, 0, 0, 0, 0, 0, 0, 1, 0, 0, 0, 0, 0, 0, 0, 0, 0, 0, 0, 0, 0, 0, 0, 0, 0, 0, 0, 0, 1, 0, 0, 0, 0, 0, 0, 0, 0, 0, 0, 0, 0, 0, 0, 0, 0, 0, 0, 0, 0, 0, 0]\n",
      "[0, 0, 0, 0, 0, 0, 0, 0, 0, 0, 0, 0, 0, 0, 0, 0, 0, 0, 0, 0, 0, 0, 0, 0, 0, 0, 0, 0, 0, 0, 0, 0, 0, 0, 0, 0, 1, 0, 0, 0, 0, 0, 0, 0, 0, 0, 0, 0, 0, 0, 0, 0, 0, 1, 1, 0, 0, 0, 0, 0, 0, 0, 0, 0, 0, 0, 0, 0, 0, 0, 0, 0, 0, 0, 0, 0, 0, 0, 0, 0, 0, 0, 0, 0, 0, 0, 0, 0, 0, 0, 0, 0, 0, 0, 0, 0, 0, 0, 0, 0, 0, 0, 0, 0, 0, 0, 0, 0, 0, 0, 0, 0, 0, 0, 1, 0, 0, 0, 0, 0, 0, 0, 0, 0, 0, 0, 0, 0, 0, 0, 0, 0, 0, 0, 0, 0, 0, 0, 0, 0, 0, 0, 0, 0, 0, 0, 0, 0, 0, 0, 0, 0, 0, 0, 0, 0, 0, 0, 0, 0, 0, 0, 0, 0, 0, 0, 0, 0, 0, 0, 0, 0, 0, 0, 0, 1, 0, 0, 0, 0, 0, 0, 0, 0, 0, 0, 0, 0, 0, 0, 0, 0, 1, 0, 0, 0, 0, 0, 0, 0, 0, 0, 0, 0, 0, 0, 0, 0, 0, 0, 0, 0, 0, 0, 0, 1, 0, 0, 0, 0, 0, 0, 0, 0, 0, 0, 0, 0, 0, 0]\n",
      "[0, 0, 0, 0, 0, 0, 0, 0, 0, 0, 0, 0, 0, 0, 0, 0, 0, 0, 0, 0, 0, 0, 0, 0, 0, 0, 0, 0, 0, 0, 0, 0, 0, 0, 0, 0, 0, 0, 0, 0, 0, 0, 0, 0, 0, 0, 0, 0, 0, 0, 0, 0, 0, 0, 1, 0, 0, 0, 0, 0, 0, 0, 0, 1, 0, 0, 1, 0, 0, 0, 0, 0, 0, 0, 0, 0, 1, 0, 0, 0, 0, 0, 0, 0, 0, 0, 0, 0, 0, 0, 0, 0, 0, 0, 0, 0, 0, 0, 0, 0, 0, 1, 0, 0, 0, 0, 0, 0, 0, 0, 0, 0, 0, 0, 1, 0, 0, 0, 1, 0, 0, 0, 0, 0, 0, 0, 0, 0, 0, 0, 0, 0, 0, 0, 0, 0, 0, 0, 0, 0, 0, 0, 0, 0, 0, 0, 0, 0, 0, 0, 0, 0, 0, 0, 0, 0, 0, 0, 0, 0, 0, 0, 0, 0, 0, 0, 0, 0, 0, 0, 0, 0, 0, 0, 0, 0, 0, 0, 0, 0, 0, 0, 0, 0, 0, 0, 0, 0, 0, 0, 0, 0, 0, 0, 0, 0, 0, 0, 0, 0, 0, 0, 1, 0, 0, 0, 0, 0, 0, 0, 0, 0, 0, 0, 0, 0, 0, 0, 0, 0, 0, 0, 0, 1, 0, 0, 0, 0, 0, 0]\n",
      "[0, 0, 0, 0, 0, 0, 0, 0, 0, 0, 0, 0, 0, 0, 0, 0, 0, 0, 0, 0, 0, 0, 0, 0, 0, 0, 0, 0, 0, 0, 0, 0, 0, 0, 0, 0, 0, 0, 0, 0, 0, 0, 0, 0, 0, 0, 0, 0, 0, 0, 0, 0, 0, 0, 0, 0, 0, 0, 0, 0, 0, 0, 1, 0, 0, 0, 0, 0, 0, 0, 0, 0, 0, 0, 0, 0, 0, 0, 0, 0, 0, 0, 0, 0, 0, 0, 0, 0, 0, 0, 0, 0, 0, 0, 0, 0, 0, 0, 0, 0, 0, 0, 0, 0, 0, 0, 0, 0, 0, 0, 0, 0, 0, 0, 1, 0, 1, 0, 0, 0, 0, 0, 0, 0, 0, 0, 0, 0, 0, 0, 0, 0, 0, 0, 0, 1, 0, 0, 0, 0, 0, 0, 0, 0, 0, 0, 0, 0, 0, 0, 0, 0, 0, 0, 0, 0, 0, 0, 0, 0, 0, 0, 0, 0, 0, 0, 0, 0, 0, 0, 0, 0, 0, 0, 0, 0, 0, 0, 0, 0, 0, 0, 0, 0, 0, 1, 0, 0, 0, 0, 0, 0, 0, 0, 0, 0, 0, 0, 0, 0, 0, 0, 0, 0, 0, 0, 0, 0, 0, 0, 0, 0, 0, 0, 0, 0, 0, 0, 0, 0, 0, 0, 0, 0, 0, 0, 0, 0, 0, 0]\n",
      "[0, 0, 0, 0, 0, 0, 0, 0, 0, 0, 0, 0, 0, 0, 0, 0, 0, 0, 0, 0, 0, 0, 0, 0, 0, 0, 0, 0, 0, 0, 0, 0, 0, 0, 0, 0, 0, 0, 0, 0, 0, 0, 0, 0, 0, 0, 0, 0, 0, 0, 0, 0, 0, 1, 1, 0, 0, 0, 0, 0, 0, 0, 0, 0, 0, 0, 0, 0, 0, 0, 0, 0, 0, 0, 0, 0, 0, 0, 0, 0, 0, 0, 0, 0, 0, 0, 0, 0, 0, 0, 0, 0, 0, 0, 1, 0, 0, 0, 1, 0, 0, 0, 0, 0, 0, 0, 0, 0, 0, 0, 0, 0, 0, 0, 1, 0, 0, 0, 0, 0, 0, 1, 0, 0, 0, 0, 0, 0, 0, 0, 0, 0, 0, 0, 0, 0, 0, 0, 0, 0, 0, 0, 0, 0, 0, 0, 0, 0, 0, 0, 0, 0, 0, 0, 0, 0, 0, 0, 0, 0, 0, 0, 0, 0, 0, 0, 0, 0, 0, 0, 0, 0, 0, 0, 0, 0, 0, 0, 0, 0, 0, 0, 0, 0, 0, 0, 0, 0, 0, 0, 0, 0, 0, 0, 0, 0, 0, 0, 0, 0, 1, 0, 0, 0, 0, 0, 0, 0, 0, 0, 0, 0, 0, 0, 0, 0, 0, 0, 0, 0, 0, 0, 0, 0, 0, 0, 0, 0, 0, 0]\n",
      "[0, 0, 0, 0, 0, 0, 0, 0, 0, 0, 0, 0, 0, 0, 0, 0, 1, 0, 0, 0, 0, 0, 0, 0, 0, 0, 0, 0, 0, 0, 0, 0, 0, 0, 0, 0, 0, 0, 0, 0, 0, 0, 0, 0, 0, 0, 0, 0, 0, 0, 0, 0, 0, 1, 1, 0, 0, 0, 0, 0, 0, 0, 0, 0, 0, 0, 0, 0, 0, 0, 0, 0, 0, 0, 0, 0, 0, 0, 0, 0, 0, 0, 0, 0, 0, 0, 0, 0, 0, 0, 0, 0, 0, 0, 0, 0, 0, 0, 0, 0, 0, 0, 0, 0, 0, 0, 0, 1, 0, 0, 0, 0, 0, 0, 1, 0, 0, 0, 0, 0, 0, 0, 0, 0, 0, 0, 0, 0, 0, 0, 0, 0, 0, 0, 0, 0, 0, 0, 0, 0, 0, 0, 0, 0, 0, 0, 0, 0, 0, 0, 0, 0, 0, 0, 0, 0, 0, 0, 0, 0, 0, 0, 0, 0, 0, 0, 0, 0, 0, 0, 0, 0, 0, 0, 0, 0, 0, 0, 0, 0, 0, 0, 0, 0, 0, 0, 0, 0, 0, 0, 0, 0, 0, 0, 0, 0, 0, 0, 0, 0, 0, 0, 0, 0, 0, 0, 0, 0, 0, 0, 0, 0, 0, 0, 0, 0, 0, 0, 0, 0, 0, 0, 0, 0, 0, 0, 0, 0, 0, 0]\n",
      "[0, 0, 0, 0, 1, 0, 0, 0, 0, 0, 0, 0, 0, 0, 0, 0, 0, 0, 0, 0, 0, 0, 0, 0, 0, 0, 0, 0, 0, 0, 0, 0, 0, 0, 0, 0, 0, 0, 0, 0, 0, 0, 0, 0, 0, 0, 0, 0, 0, 0, 0, 0, 0, 0, 1, 0, 0, 0, 0, 0, 0, 0, 0, 0, 0, 0, 0, 0, 0, 0, 0, 0, 0, 0, 0, 0, 1, 0, 0, 0, 0, 0, 0, 0, 0, 0, 0, 0, 0, 0, 0, 0, 0, 0, 0, 0, 0, 0, 0, 0, 0, 0, 0, 0, 0, 0, 0, 0, 0, 0, 0, 0, 0, 0, 0, 0, 0, 0, 0, 0, 0, 0, 0, 0, 0, 0, 0, 0, 0, 0, 0, 0, 0, 0, 0, 0, 0, 0, 0, 0, 0, 0, 1, 0, 0, 0, 0, 0, 0, 0, 0, 0, 0, 0, 0, 0, 0, 0, 0, 0, 0, 0, 0, 0, 0, 0, 0, 0, 0, 0, 0, 0, 0, 0, 0, 0, 1, 0, 0, 0, 0, 0, 0, 0, 0, 0, 0, 0, 0, 0, 0, 0, 0, 0, 0, 0, 0, 0, 0, 0, 0, 0, 0, 0, 0, 0, 0, 0, 0, 0, 0, 0, 0, 0, 0, 0, 0, 0, 0, 0, 0, 0, 0, 0, 0, 0, 0, 0, 0, 0]\n",
      "[0, 0, 0, 0, 0, 0, 0, 0, 0, 0, 0, 0, 0, 0, 0, 0, 0, 0, 0, 0, 0, 0, 0, 0, 0, 0, 0, 0, 0, 0, 0, 0, 0, 0, 0, 0, 0, 0, 0, 0, 0, 0, 0, 0, 0, 0, 0, 0, 0, 0, 0, 0, 0, 1, 1, 0, 0, 0, 0, 0, 0, 0, 0, 0, 0, 0, 0, 0, 0, 0, 0, 0, 0, 0, 0, 0, 0, 0, 0, 0, 0, 0, 0, 0, 0, 0, 0, 0, 0, 0, 0, 0, 0, 0, 0, 0, 0, 0, 0, 0, 0, 0, 0, 0, 0, 0, 0, 0, 0, 0, 0, 0, 0, 0, 1, 0, 0, 0, 0, 0, 0, 0, 0, 0, 0, 0, 0, 0, 0, 0, 0, 0, 0, 0, 0, 0, 0, 0, 0, 0, 0, 0, 0, 0, 0, 0, 0, 0, 0, 0, 0, 0, 0, 0, 0, 0, 0, 0, 0, 0, 0, 0, 0, 0, 0, 0, 0, 0, 0, 0, 0, 0, 0, 0, 0, 0, 0, 0, 0, 0, 0, 0, 0, 0, 0, 0, 0, 0, 0, 0, 0, 0, 0, 0, 0, 0, 0, 0, 0, 0, 0, 0, 0, 0, 0, 0, 0, 0, 0, 0, 0, 0, 1, 0, 0, 0, 0, 0, 0, 0, 0, 0, 0, 0, 0, 1, 0, 0, 0, 0]\n",
      "[0, 0, 0, 0, 0, 0, 0, 0, 0, 0, 0, 0, 0, 0, 0, 0, 0, 0, 0, 0, 0, 0, 0, 0, 0, 0, 0, 0, 0, 0, 0, 0, 0, 0, 0, 0, 0, 0, 0, 0, 0, 0, 0, 0, 0, 0, 1, 0, 0, 0, 0, 0, 0, 0, 1, 0, 0, 0, 0, 0, 0, 0, 0, 0, 0, 0, 0, 0, 0, 0, 0, 0, 0, 0, 0, 0, 0, 0, 0, 0, 0, 0, 0, 0, 0, 0, 0, 0, 0, 0, 0, 0, 0, 0, 0, 0, 0, 0, 0, 0, 0, 0, 0, 0, 0, 0, 0, 0, 0, 0, 0, 0, 0, 1, 1, 0, 0, 0, 0, 0, 0, 0, 0, 0, 0, 0, 0, 0, 0, 0, 0, 0, 0, 0, 0, 0, 0, 0, 0, 0, 0, 1, 0, 0, 0, 0, 0, 0, 0, 0, 0, 0, 0, 0, 0, 0, 0, 0, 0, 0, 0, 0, 0, 0, 0, 0, 0, 0, 0, 0, 0, 0, 0, 0, 0, 0, 0, 0, 0, 0, 0, 0, 0, 0, 0, 0, 1, 0, 0, 0, 0, 0, 0, 0, 0, 0, 0, 0, 0, 0, 0, 0, 0, 0, 0, 0, 0, 0, 0, 0, 0, 0, 0, 0, 0, 0, 0, 0, 0, 0, 0, 0, 0, 0, 0, 0, 0, 0, 0, 0]\n"
     ]
    }
   ],
   "source": [
    "for i in range(0,len(qr_matrix)):\n",
    "  print(qr_matrix[i])"
   ]
  },
  {
   "cell_type": "markdown",
   "id": "33c7ca6a",
   "metadata": {},
   "source": [
    "Obtener la matriz tf-idf de las queries"
   ]
  },
  {
   "cell_type": "code",
   "execution_count": 24,
   "id": "19896d5b",
   "metadata": {},
   "outputs": [],
   "source": [
    "qr_tfidf_matrix = []\n",
    "\n",
    "for i in range(0,len(qr_matrix)):\n",
    "  vector = []\n",
    "  for j in range(0,len(qr_matrix[0])):\n",
    "    vector.append(round(qr_matrix[i][j]*idf_vector[j],2))\n",
    "  qr_tfidf_matrix.append(vector)"
   ]
  },
  {
   "cell_type": "code",
   "execution_count": 25,
   "id": "3e267aa6",
   "metadata": {},
   "outputs": [
    {
     "name": "stdout",
     "output_type": "stream",
     "text": [
      "[0.0, 0.0, 0.0, 0.0, 0.0, 0.0, 0.0, 0.0, 0.0, 0.0, 0.0, 0.0, 0.0, 0.0, 0.0, 0.0, 0.0, 0.0, 0.0, 0.0, 0.0, 0.0, 0.0, 0.0, 0.0, 0.0, 0.0, 0.0, 0.98, 0.0, 0.0, 0.0, 0.0, 0.0, 0.0, 0.0, 0.0, 0.0, 0.0, 0.0, 0.0, 0.0, 0.0, 0.0, 0.0, 0.0, 0.0, 0.0, 0.0, 0.0, 0.0, 0.0, 0.0, 0.29, 0.29, 0.0, 0.0, 0.0, 0.0, 0.0, 0.0, 0.0, 0.0, 0.0, 0.0, 0.0, 0.0, 0.0, 0.0, 0.0, 0.0, 0.0, 0.0, 0.0, 0.0, 0.0, 0.0, 0.0, 0.0, 0.0, 0.0, 0.0, 0.0, 0.0, 0.0, 0.0, 0.0, 0.0, 0.0, 0.0, 0.0, 0.0, 0.98, 0.0, 0.0, 0.0, 0.0, 0.0, 0.0, 0.0, 0.0, 0.0, 0.0, 0.0, 0.0, 0.0, 0.0, 0.0, 0.0, 0.0, 0.0, 0.0, 0.0, 0.0, 0.0, 0.0, 0.0, 0.0, 0.0, 0.0, 0.0, 0.0, 0.0, 0.0, 0.0, 0.0, 0.0, 0.0, 0.0, 0.0, 0.0, 0.0, 0.0, 0.0, 0.0, 0.0, 0.0, 0.0, 0.0, 0.0, 0.0, 0.0, 0.0, 0.0, 0.0, 2.08, 0.0, 0.0, 0.0, 0.0, 0.0, 0.0, 0.0, 0.0, 0.0, 0.0, 0.0, 0.0, 0.0, 0.0, 0.0, 0.0, 0.0, 0.0, 0.0, 0.0, 0.0, 0.0, 0.0, 0.0, 0.0, 0.0, 0.0, 0.0, 0.0, 0.0, 0.0, 0.0, 0.0, 0.0, 0.0, 0.0, 0.0, 0.0, 0.0, 0.13, 0.0, 0.0, 0.0, 0.0, 0.0, 0.0, 0.0, 0.0, 0.0, 0.0, 0.0, 0.0, 0.0, 0.0, 0.0, 0.0, 0.0, 0.0, 0.0, 0.0, 0.0, 0.0, 0.0, 0.0, 0.0, 0.0, 0.0, 0.0, 0.0, 0.0, 0.0, 0.0, 0.0, 0.0, 0.0, 0.0, 0.0, 0.0, 0.0, 0.0, 0.0, 0.0, 0.0, 0.0]\n",
      "[0.0, 0.0, 0.0, 0.0, 0.0, 0.0, 0.0, 0.0, 0.0, 0.0, 0.0, 0.0, 0.0, 0.0, 0.0, 0.0, 0.0, 0.0, 0.0, 0.0, 0.0, 0.0, 0.0, 0.0, 0.0, 0.0, 0.0, 0.0, 0.0, 0.0, 0.0, 0.0, 0.0, 0.0, 0.0, 0.0, 0.0, 0.0, 0.0, 0.0, 0.0, 0.0, 0.0, 0.0, 0.0, 2.08, 0.0, 0.0, 0.0, 0.0, 0.0, 0.0, 0.0, 0.29, 0.29, 0.0, 0.0, 0.0, 0.0, 0.0, 0.0, 0.0, 0.0, 0.0, 0.0, 0.0, 0.0, 0.0, 0.0, 0.0, 0.0, 0.0, 0.0, 0.0, 0.0, 0.0, 0.0, 0.0, 0.0, 0.0, 0.0, 0.0, 0.0, 0.0, 0.0, 0.0, 0.0, 0.0, 0.0, 0.0, 0.0, 0.0, 0.0, 0.0, 0.0, 0.0, 0.0, 0.0, 0.0, 0.0, 0.0, 0.0, 0.0, 0.0, 0.0, 0.0, 0.0, 0.0, 0.0, 0.0, 0.0, 0.0, 0.0, 0.0, 0.0, 0.0, 0.0, 0.0, 0.0, 0.0, 0.0, 0.0, 0.0, 0.0, 0.0, 0.0, 0.0, 0.0, 0.0, 0.0, 0.0, 0.0, 0.0, 0.0, 0.0, 0.0, 0.0, 0.0, 0.0, 0.0, 0.0, 0.0, 0.0, 0.0, 0.0, 0.0, 0.0, 0.0, 0.0, 0.0, 0.0, 0.0, 0.0, 0.0, 0.0, 0.0, 0.0, 0.0, 0.0, 0.0, 0.0, 0.0, 0.0, 0.0, 0.0, 2.08, 0.0, 0.0, 0.0, 0.0, 0.0, 0.0, 0.0, 0.0, 0.0, 0.0, 0.0, 0.0, 0.0, 0.0, 0.0, 0.0, 0.0, 0.0, 0.0, 0.0, 0.0, 0.0, 0.0, 0.0, 0.0, 0.0, 0.0, 0.0, 0.0, 0.0, 0.0, 0.0, 0.0, 0.0, 0.0, 0.0, 0.0, 0.0, 0.0, 0.0, 0.0, 2.08, 0.0, 0.0, 0.0, 0.0, 0.0, 0.0, 0.0, 0.0, 0.0, 0.0, 0.0, 0.0, 0.0, 0.0, 0.0, 0.0, 0.0, 0.0, 0.0, 0.0, 0.0, 0.0]\n",
      "[0.0, 0.0, 0.0, 0.0, 0.0, 0.0, 0.0, 0.0, 0.0, 0.0, 0.0, 0.0, 0.0, 0.0, 0.0, 0.0, 0.0, 0.0, 0.0, 0.0, 0.0, 0.0, 0.0, 0.0, 0.0, 0.0, 0.0, 0.0, 0.0, 0.0, 0.0, 0.0, 0.0, 0.0, 0.0, 0.0, 1.39, 0.0, 0.0, 0.0, 0.0, 0.0, 0.0, 0.0, 0.0, 0.0, 0.0, 0.0, 0.0, 0.0, 0.0, 0.0, 0.0, 0.29, 0.29, 0.0, 0.0, 0.0, 0.0, 0.0, 0.0, 0.0, 0.0, 0.0, 0.0, 0.0, 0.0, 0.0, 0.0, 0.0, 0.0, 0.0, 0.0, 0.0, 0.0, 0.0, 0.0, 0.0, 0.0, 0.0, 0.0, 0.0, 0.0, 0.0, 0.0, 0.0, 0.0, 0.0, 0.0, 0.0, 0.0, 0.0, 0.0, 0.0, 0.0, 0.0, 0.0, 0.0, 0.0, 0.0, 0.0, 0.0, 0.0, 0.0, 0.0, 0.0, 0.0, 0.0, 0.0, 0.0, 0.0, 0.0, 0.0, 0.0, 0.0, 0.0, 0.0, 0.0, 0.0, 0.0, 0.0, 0.0, 0.0, 0.0, 0.0, 0.0, 0.0, 0.0, 0.0, 0.0, 0.0, 0.0, 0.0, 0.0, 0.0, 0.0, 0.0, 0.0, 0.0, 0.0, 0.0, 0.0, 0.0, 0.0, 0.0, 0.0, 0.0, 0.0, 0.0, 0.0, 0.0, 0.0, 0.0, 0.0, 0.0, 0.0, 0.0, 0.0, 0.0, 0.0, 0.0, 0.0, 0.0, 0.0, 0.0, 0.0, 0.0, 0.0, 0.0, 0.0, 0.0, 0.0, 0.0, 0.0, 0.0, 2.08, 0.0, 0.0, 0.0, 0.0, 0.0, 0.0, 0.0, 0.0, 0.0, 0.0, 0.0, 0.0, 0.0, 0.0, 0.0, 0.0, 2.08, 0.0, 0.0, 0.0, 0.0, 0.0, 0.0, 0.0, 0.0, 0.0, 0.0, 0.0, 0.0, 0.0, 0.0, 0.0, 0.0, 0.0, 0.0, 0.0, 0.0, 0.0, 0.0, 2.08, 0.0, 0.0, 0.0, 0.0, 0.0, 0.0, 0.0, 0.0, 0.0, 0.0, 0.0, 0.0, 0.0, 0.0]\n",
      "[0.0, 0.0, 0.0, 0.0, 0.0, 0.0, 0.0, 0.0, 0.0, 0.0, 0.0, 0.0, 0.0, 0.0, 0.0, 0.0, 0.0, 0.0, 0.0, 0.0, 0.0, 0.0, 0.0, 0.0, 0.0, 0.0, 0.0, 0.0, 0.0, 0.0, 0.0, 0.0, 0.0, 0.0, 0.0, 0.0, 0.0, 0.0, 0.0, 0.0, 0.0, 0.0, 0.0, 0.0, 0.0, 0.0, 0.0, 0.0, 0.0, 0.0, 0.0, 0.0, 0.0, 0.0, 0.29, 0.0, 0.0, 0.0, 0.0, 0.0, 0.0, 0.0, 0.0, 1.39, 0.0, 0.0, 1.39, 0.0, 0.0, 0.0, 0.0, 0.0, 0.0, 0.0, 0.0, 0.0, 0.69, 0.0, 0.0, 0.0, 0.0, 0.0, 0.0, 0.0, 0.0, 0.0, 0.0, 0.0, 0.0, 0.0, 0.0, 0.0, 0.0, 0.0, 0.0, 0.0, 0.0, 0.0, 0.0, 0.0, 0.0, 0.29, 0.0, 0.0, 0.0, 0.0, 0.0, 0.0, 0.0, 0.0, 0.0, 0.0, 0.0, 0.0, 0.0, 0.0, 0.0, 0.0, 2.08, 0.0, 0.0, 0.0, 0.0, 0.0, 0.0, 0.0, 0.0, 0.0, 0.0, 0.0, 0.0, 0.0, 0.0, 0.0, 0.0, 0.0, 0.0, 0.0, 0.0, 0.0, 0.0, 0.0, 0.0, 0.0, 0.0, 0.0, 0.0, 0.0, 0.0, 0.0, 0.0, 0.0, 0.0, 0.0, 0.0, 0.0, 0.0, 0.0, 0.0, 0.0, 0.0, 0.0, 0.0, 0.0, 0.0, 0.0, 0.0, 0.0, 0.0, 0.0, 0.0, 0.0, 0.0, 0.0, 0.0, 0.0, 0.0, 0.0, 0.0, 0.0, 0.0, 0.0, 0.0, 0.0, 0.0, 0.0, 0.0, 0.0, 0.0, 0.0, 0.0, 0.0, 0.0, 0.0, 0.0, 0.0, 0.0, 0.0, 0.0, 0.0, 0.0, 0.0, 2.08, 0.0, 0.0, 0.0, 0.0, 0.0, 0.0, 0.0, 0.0, 0.0, 0.0, 0.0, 0.0, 0.0, 0.0, 0.0, 0.0, 0.0, 0.0, 0.0, 0.0, 2.08, 0.0, 0.0, 0.0, 0.0, 0.0, 0.0]\n",
      "[0.0, 0.0, 0.0, 0.0, 0.0, 0.0, 0.0, 0.0, 0.0, 0.0, 0.0, 0.0, 0.0, 0.0, 0.0, 0.0, 0.0, 0.0, 0.0, 0.0, 0.0, 0.0, 0.0, 0.0, 0.0, 0.0, 0.0, 0.0, 0.0, 0.0, 0.0, 0.0, 0.0, 0.0, 0.0, 0.0, 0.0, 0.0, 0.0, 0.0, 0.0, 0.0, 0.0, 0.0, 0.0, 0.0, 0.0, 0.0, 0.0, 0.0, 0.0, 0.0, 0.0, 0.0, 0.0, 0.0, 0.0, 0.0, 0.0, 0.0, 0.0, 0.0, 1.39, 0.0, 0.0, 0.0, 0.0, 0.0, 0.0, 0.0, 0.0, 0.0, 0.0, 0.0, 0.0, 0.0, 0.0, 0.0, 0.0, 0.0, 0.0, 0.0, 0.0, 0.0, 0.0, 0.0, 0.0, 0.0, 0.0, 0.0, 0.0, 0.0, 0.0, 0.0, 0.0, 0.0, 0.0, 0.0, 0.0, 0.0, 0.0, 0.0, 0.0, 0.0, 0.0, 0.0, 0.0, 0.0, 0.0, 0.0, 0.0, 0.0, 0.0, 0.0, 0.0, 0.0, 2.08, 0.0, 0.0, 0.0, 0.0, 0.0, 0.0, 0.0, 0.0, 0.0, 0.0, 0.0, 0.0, 0.0, 0.0, 0.0, 0.0, 0.0, 0.0, 2.08, 0.0, 0.0, 0.0, 0.0, 0.0, 0.0, 0.0, 0.0, 0.0, 0.0, 0.0, 0.0, 0.0, 0.0, 0.0, 0.0, 0.0, 0.0, 0.0, 0.0, 0.0, 0.0, 0.0, 0.0, 0.0, 0.0, 0.0, 0.0, 0.0, 0.0, 0.0, 0.0, 0.0, 0.0, 0.0, 0.0, 0.0, 0.0, 0.0, 0.0, 0.0, 0.0, 0.0, 0.0, 0.0, 0.0, 0.0, 0.0, 0.0, 0.13, 0.0, 0.0, 0.0, 0.0, 0.0, 0.0, 0.0, 0.0, 0.0, 0.0, 0.0, 0.0, 0.0, 0.0, 0.0, 0.0, 0.0, 0.0, 0.0, 0.0, 0.0, 0.0, 0.0, 0.0, 0.0, 0.0, 0.0, 0.0, 0.0, 0.0, 0.0, 0.0, 0.0, 0.0, 0.0, 0.0, 0.0, 0.0, 0.0, 0.0, 0.0, 0.0, 0.0, 0.0]\n",
      "[0.0, 0.0, 0.0, 0.0, 0.0, 0.0, 0.0, 0.0, 0.0, 0.0, 0.0, 0.0, 0.0, 0.0, 0.0, 0.0, 0.0, 0.0, 0.0, 0.0, 0.0, 0.0, 0.0, 0.0, 0.0, 0.0, 0.0, 0.0, 0.0, 0.0, 0.0, 0.0, 0.0, 0.0, 0.0, 0.0, 0.0, 0.0, 0.0, 0.0, 0.0, 0.0, 0.0, 0.0, 0.0, 0.0, 0.0, 0.0, 0.0, 0.0, 0.0, 0.0, 0.0, 0.29, 0.29, 0.0, 0.0, 0.0, 0.0, 0.0, 0.0, 0.0, 0.0, 0.0, 0.0, 0.0, 0.0, 0.0, 0.0, 0.0, 0.0, 0.0, 0.0, 0.0, 0.0, 0.0, 0.0, 0.0, 0.0, 0.0, 0.0, 0.0, 0.0, 0.0, 0.0, 0.0, 0.0, 0.0, 0.0, 0.0, 0.0, 0.0, 0.0, 0.0, 1.39, 0.0, 0.0, 0.0, 2.08, 0.0, 0.0, 0.0, 0.0, 0.0, 0.0, 0.0, 0.0, 0.0, 0.0, 0.0, 0.0, 0.0, 0.0, 0.0, 0.0, 0.0, 0.0, 0.0, 0.0, 0.0, 0.0, 1.39, 0.0, 0.0, 0.0, 0.0, 0.0, 0.0, 0.0, 0.0, 0.0, 0.0, 0.0, 0.0, 0.0, 0.0, 0.0, 0.0, 0.0, 0.0, 0.0, 0.0, 0.0, 0.0, 0.0, 0.0, 0.0, 0.0, 0.0, 0.0, 0.0, 0.0, 0.0, 0.0, 0.0, 0.0, 0.0, 0.0, 0.0, 0.0, 0.0, 0.0, 0.0, 0.0, 0.0, 0.0, 0.0, 0.0, 0.0, 0.0, 0.0, 0.0, 0.0, 0.0, 0.0, 0.0, 0.0, 0.0, 0.0, 0.0, 0.0, 0.0, 0.0, 0.0, 0.0, 0.0, 0.0, 0.0, 0.0, 0.0, 0.0, 0.0, 0.0, 0.0, 0.0, 0.0, 0.0, 0.0, 0.0, 0.0, 1.39, 0.0, 0.0, 0.0, 0.0, 0.0, 0.0, 0.0, 0.0, 0.0, 0.0, 0.0, 0.0, 0.0, 0.0, 0.0, 0.0, 0.0, 0.0, 0.0, 0.0, 0.0, 0.0, 0.0, 0.0, 0.0, 0.0, 0.0, 0.0, 0.0]\n",
      "[0.0, 0.0, 0.0, 0.0, 0.0, 0.0, 0.0, 0.0, 0.0, 0.0, 0.0, 0.0, 0.0, 0.0, 0.0, 0.0, 2.08, 0.0, 0.0, 0.0, 0.0, 0.0, 0.0, 0.0, 0.0, 0.0, 0.0, 0.0, 0.0, 0.0, 0.0, 0.0, 0.0, 0.0, 0.0, 0.0, 0.0, 0.0, 0.0, 0.0, 0.0, 0.0, 0.0, 0.0, 0.0, 0.0, 0.0, 0.0, 0.0, 0.0, 0.0, 0.0, 0.0, 0.29, 0.29, 0.0, 0.0, 0.0, 0.0, 0.0, 0.0, 0.0, 0.0, 0.0, 0.0, 0.0, 0.0, 0.0, 0.0, 0.0, 0.0, 0.0, 0.0, 0.0, 0.0, 0.0, 0.0, 0.0, 0.0, 0.0, 0.0, 0.0, 0.0, 0.0, 0.0, 0.0, 0.0, 0.0, 0.0, 0.0, 0.0, 0.0, 0.0, 0.0, 0.0, 0.0, 0.0, 0.0, 0.0, 0.0, 0.0, 0.0, 0.0, 0.0, 0.0, 0.0, 0.0, 2.08, 0.0, 0.0, 0.0, 0.0, 0.0, 0.0, 0.0, 0.0, 0.0, 0.0, 0.0, 0.0, 0.0, 0.0, 0.0, 0.0, 0.0, 0.0, 0.0, 0.0, 0.0, 0.0, 0.0, 0.0, 0.0, 0.0, 0.0, 0.0, 0.0, 0.0, 0.0, 0.0, 0.0, 0.0, 0.0, 0.0, 0.0, 0.0, 0.0, 0.0, 0.0, 0.0, 0.0, 0.0, 0.0, 0.0, 0.0, 0.0, 0.0, 0.0, 0.0, 0.0, 0.0, 0.0, 0.0, 0.0, 0.0, 0.0, 0.0, 0.0, 0.0, 0.0, 0.0, 0.0, 0.0, 0.0, 0.0, 0.0, 0.0, 0.0, 0.0, 0.0, 0.0, 0.0, 0.0, 0.0, 0.0, 0.0, 0.0, 0.0, 0.0, 0.0, 0.0, 0.0, 0.0, 0.0, 0.0, 0.0, 0.0, 0.0, 0.0, 0.0, 0.0, 0.0, 0.0, 0.0, 0.0, 0.0, 0.0, 0.0, 0.0, 0.0, 0.0, 0.0, 0.0, 0.0, 0.0, 0.0, 0.0, 0.0, 0.0, 0.0, 0.0, 0.0, 0.0, 0.0, 0.0, 0.0, 0.0, 0.0, 0.0, 0.0]\n",
      "[0.0, 0.0, 0.0, 0.0, 2.08, 0.0, 0.0, 0.0, 0.0, 0.0, 0.0, 0.0, 0.0, 0.0, 0.0, 0.0, 0.0, 0.0, 0.0, 0.0, 0.0, 0.0, 0.0, 0.0, 0.0, 0.0, 0.0, 0.0, 0.0, 0.0, 0.0, 0.0, 0.0, 0.0, 0.0, 0.0, 0.0, 0.0, 0.0, 0.0, 0.0, 0.0, 0.0, 0.0, 0.0, 0.0, 0.0, 0.0, 0.0, 0.0, 0.0, 0.0, 0.0, 0.0, 0.29, 0.0, 0.0, 0.0, 0.0, 0.0, 0.0, 0.0, 0.0, 0.0, 0.0, 0.0, 0.0, 0.0, 0.0, 0.0, 0.0, 0.0, 0.0, 0.0, 0.0, 0.0, 0.69, 0.0, 0.0, 0.0, 0.0, 0.0, 0.0, 0.0, 0.0, 0.0, 0.0, 0.0, 0.0, 0.0, 0.0, 0.0, 0.0, 0.0, 0.0, 0.0, 0.0, 0.0, 0.0, 0.0, 0.0, 0.0, 0.0, 0.0, 0.0, 0.0, 0.0, 0.0, 0.0, 0.0, 0.0, 0.0, 0.0, 0.0, 0.0, 0.0, 0.0, 0.0, 0.0, 0.0, 0.0, 0.0, 0.0, 0.0, 0.0, 0.0, 0.0, 0.0, 0.0, 0.0, 0.0, 0.0, 0.0, 0.0, 0.0, 0.0, 0.0, 0.0, 0.0, 0.0, 0.0, 0.0, 0.47, 0.0, 0.0, 0.0, 0.0, 0.0, 0.0, 0.0, 0.0, 0.0, 0.0, 0.0, 0.0, 0.0, 0.0, 0.0, 0.0, 0.0, 0.0, 0.0, 0.0, 0.0, 0.0, 0.0, 0.0, 0.0, 0.0, 0.0, 0.0, 0.0, 0.0, 0.0, 0.0, 0.0, 2.08, 0.0, 0.0, 0.0, 0.0, 0.0, 0.0, 0.0, 0.0, 0.0, 0.0, 0.0, 0.0, 0.0, 0.0, 0.0, 0.0, 0.0, 0.0, 0.0, 0.0, 0.0, 0.0, 0.0, 0.0, 0.0, 0.0, 0.0, 0.0, 0.0, 0.0, 0.0, 0.0, 0.0, 0.0, 0.0, 0.0, 0.0, 0.0, 0.0, 0.0, 0.0, 0.0, 0.0, 0.0, 0.0, 0.0, 0.0, 0.0, 0.0, 0.0, 0.0, 0.0, 0.0]\n",
      "[0.0, 0.0, 0.0, 0.0, 0.0, 0.0, 0.0, 0.0, 0.0, 0.0, 0.0, 0.0, 0.0, 0.0, 0.0, 0.0, 0.0, 0.0, 0.0, 0.0, 0.0, 0.0, 0.0, 0.0, 0.0, 0.0, 0.0, 0.0, 0.0, 0.0, 0.0, 0.0, 0.0, 0.0, 0.0, 0.0, 0.0, 0.0, 0.0, 0.0, 0.0, 0.0, 0.0, 0.0, 0.0, 0.0, 0.0, 0.0, 0.0, 0.0, 0.0, 0.0, 0.0, 0.29, 0.29, 0.0, 0.0, 0.0, 0.0, 0.0, 0.0, 0.0, 0.0, 0.0, 0.0, 0.0, 0.0, 0.0, 0.0, 0.0, 0.0, 0.0, 0.0, 0.0, 0.0, 0.0, 0.0, 0.0, 0.0, 0.0, 0.0, 0.0, 0.0, 0.0, 0.0, 0.0, 0.0, 0.0, 0.0, 0.0, 0.0, 0.0, 0.0, 0.0, 0.0, 0.0, 0.0, 0.0, 0.0, 0.0, 0.0, 0.0, 0.0, 0.0, 0.0, 0.0, 0.0, 0.0, 0.0, 0.0, 0.0, 0.0, 0.0, 0.0, 0.0, 0.0, 0.0, 0.0, 0.0, 0.0, 0.0, 0.0, 0.0, 0.0, 0.0, 0.0, 0.0, 0.0, 0.0, 0.0, 0.0, 0.0, 0.0, 0.0, 0.0, 0.0, 0.0, 0.0, 0.0, 0.0, 0.0, 0.0, 0.0, 0.0, 0.0, 0.0, 0.0, 0.0, 0.0, 0.0, 0.0, 0.0, 0.0, 0.0, 0.0, 0.0, 0.0, 0.0, 0.0, 0.0, 0.0, 0.0, 0.0, 0.0, 0.0, 0.0, 0.0, 0.0, 0.0, 0.0, 0.0, 0.0, 0.0, 0.0, 0.0, 0.0, 0.0, 0.0, 0.0, 0.0, 0.0, 0.0, 0.0, 0.0, 0.0, 0.0, 0.0, 0.0, 0.0, 0.0, 0.0, 0.0, 0.0, 0.0, 0.0, 0.0, 0.0, 0.0, 0.0, 0.0, 0.0, 0.0, 0.0, 0.0, 0.0, 0.0, 0.0, 0.0, 0.0, 0.0, 0.0, 0.0, 2.08, 0.0, 0.0, 0.0, 0.0, 0.0, 0.0, 0.0, 0.0, 0.0, 0.0, 0.0, 0.0, 2.08, 0.0, 0.0, 0.0, 0.0]\n",
      "[0.0, 0.0, 0.0, 0.0, 0.0, 0.0, 0.0, 0.0, 0.0, 0.0, 0.0, 0.0, 0.0, 0.0, 0.0, 0.0, 0.0, 0.0, 0.0, 0.0, 0.0, 0.0, 0.0, 0.0, 0.0, 0.0, 0.0, 0.0, 0.0, 0.0, 0.0, 0.0, 0.0, 0.0, 0.0, 0.0, 0.0, 0.0, 0.0, 0.0, 0.0, 0.0, 0.0, 0.0, 0.0, 0.0, 1.39, 0.0, 0.0, 0.0, 0.0, 0.0, 0.0, 0.0, 0.29, 0.0, 0.0, 0.0, 0.0, 0.0, 0.0, 0.0, 0.0, 0.0, 0.0, 0.0, 0.0, 0.0, 0.0, 0.0, 0.0, 0.0, 0.0, 0.0, 0.0, 0.0, 0.0, 0.0, 0.0, 0.0, 0.0, 0.0, 0.0, 0.0, 0.0, 0.0, 0.0, 0.0, 0.0, 0.0, 0.0, 0.0, 0.0, 0.0, 0.0, 0.0, 0.0, 0.0, 0.0, 0.0, 0.0, 0.0, 0.0, 0.0, 0.0, 0.0, 0.0, 0.0, 0.0, 0.0, 0.0, 0.0, 0.0, 2.08, 0.0, 0.0, 0.0, 0.0, 0.0, 0.0, 0.0, 0.0, 0.0, 0.0, 0.0, 0.0, 0.0, 0.0, 0.0, 0.0, 0.0, 0.0, 0.0, 0.0, 0.0, 0.0, 0.0, 0.0, 0.0, 0.0, 0.0, 1.39, 0.0, 0.0, 0.0, 0.0, 0.0, 0.0, 0.0, 0.0, 0.0, 0.0, 0.0, 0.0, 0.0, 0.0, 0.0, 0.0, 0.0, 0.0, 0.0, 0.0, 0.0, 0.0, 0.0, 0.0, 0.0, 0.0, 0.0, 0.0, 0.0, 0.0, 0.0, 0.0, 0.0, 0.0, 0.0, 0.0, 0.0, 0.0, 0.0, 0.0, 0.0, 0.0, 0.0, 0.0, 0.0, 0.0, 0.0, 0.0, 0.0, 0.0, 0.0, 0.0, 0.0, 0.0, 0.0, 0.0, 0.0, 0.0, 0.0, 0.0, 0.0, 0.0, 0.0, 0.0, 0.0, 0.0, 0.0, 0.0, 0.0, 0.0, 0.0, 0.0, 0.0, 0.0, 0.0, 0.0, 0.0, 0.0, 0.0, 0.0, 0.0, 0.0, 0.0, 0.0, 0.0, 0.0, 0.0, 0.0]\n"
     ]
    }
   ],
   "source": [
    "for i in range(0,len(qr_tfidf_matrix)):\n",
    "  print(qr_tfidf_matrix[i])"
   ]
  },
  {
   "cell_type": "markdown",
   "id": "6484fcda",
   "metadata": {},
   "source": [
    "## 4. Cálculo de similitudes\n",
    "\n",
    "Se usará la similitud coseno"
   ]
  },
  {
   "cell_type": "code",
   "execution_count": 26,
   "id": "e932d18f",
   "metadata": {},
   "outputs": [],
   "source": [
    "from math import sqrt\n",
    "def similitudCoseno(v1, v2):\n",
    "    similitud = []\n",
    "\n",
    "    for i in range(0, len(v1)):\n",
    "        producto = 0\n",
    "        sum1 = 0\n",
    "        sum2 = 0\n",
    "        for j in range(0, len(v1[0])):\n",
    "            producto += v1[i][j] *v2[j]\n",
    "            sum1 += v1[i][j] ** 2\n",
    "            sum2 +=  v2[j] ** 2\n",
    "\n",
    "        sim = producto/(sqrt(sum1) * sqrt(sum2))\n",
    "        similitud.append(round(sim,3))\n",
    "    return similitud"
   ]
  },
  {
   "cell_type": "code",
   "execution_count": 27,
   "id": "50ed6234",
   "metadata": {},
   "outputs": [],
   "source": [
    "similitudMatrix = []\n",
    "for i in range(0,len(qr_tfidf_matrix)):\n",
    "  similitudMatrix.append(similitudCoseno(tfidf_matrix, qr_tfidf_matrix[i]))"
   ]
  },
  {
   "cell_type": "code",
   "execution_count": 28,
   "id": "252cd5e6",
   "metadata": {},
   "outputs": [
    {
     "name": "stdout",
     "output_type": "stream",
     "text": [
      "[0.073, 0.082, 0.01, 0.012, 0.008, 0.086, 0.015, 0.329]\n",
      "[0.004, 0.007, 0.007, 0.331, 0.004, 0.007, 0.009, 0.009]\n",
      "[0.004, 0.262, 0.006, 0.008, 0.045, 0.006, 0.008, 0.111]\n",
      "[0.054, 0.047, 0.0, 0.028, 0.007, 0.017, 0.332, 0.059]\n",
      "[0.0, 0.001, 0.257, 0.0, 0.002, 0.06, 0.002, 0.055]\n",
      "[0.057, 0.064, 0.066, 0.009, 0.168, 0.067, 0.01, 0.066]\n",
      "[0.005, 0.281, 0.008, 0.01, 0.005, 0.008, 0.01, 0.01]\n",
      "[0.014, 0.009, 0.007, 0.044, 0.011, 0.018, 0.003, 0.285]\n",
      "[0.005, 0.008, 0.008, 0.01, 0.005, 0.294, 0.01, 0.01]\n",
      "[0.0, 0.003, 0.129, 0.011, 0.187, 0.003, 0.003, 0.065]\n"
     ]
    }
   ],
   "source": [
    "for i in range(0,len(similitudMatrix)):\n",
    "  print(similitudMatrix[i])"
   ]
  },
  {
   "cell_type": "markdown",
   "id": "587ebcd2",
   "metadata": {},
   "source": [
    "## 5. Ranking de documentos\n",
    "Se debe ordenar las queries por orden de relevancia"
   ]
  },
  {
   "cell_type": "code",
   "execution_count": 29,
   "id": "c138f5ac",
   "metadata": {},
   "outputs": [
    {
     "name": "stdout",
     "output_type": "stream",
     "text": [
      "[{7: 0.329, 5: 0.086, 1: 0.082, 0: 0.073, 6: 0.015, 3: 0.012, 2: 0.01, 4: 0.008}, {3: 0.331, 6: 0.009, 7: 0.009, 1: 0.007, 2: 0.007, 5: 0.007, 0: 0.004, 4: 0.004}, {1: 0.262, 7: 0.111, 4: 0.045, 3: 0.008, 6: 0.008, 2: 0.006, 5: 0.006, 0: 0.004}, {6: 0.332, 7: 0.059, 0: 0.054, 1: 0.047, 3: 0.028, 5: 0.017, 4: 0.007, 2: 0.0}, {2: 0.257, 5: 0.06, 7: 0.055, 4: 0.002, 6: 0.002, 1: 0.001, 0: 0.0, 3: 0.0}, {4: 0.168, 5: 0.067, 2: 0.066, 7: 0.066, 1: 0.064, 0: 0.057, 6: 0.01, 3: 0.009}, {1: 0.281, 3: 0.01, 6: 0.01, 7: 0.01, 2: 0.008, 5: 0.008, 0: 0.005, 4: 0.005}, {7: 0.285, 3: 0.044, 5: 0.018, 0: 0.014, 4: 0.011, 1: 0.009, 2: 0.007, 6: 0.003}, {5: 0.294, 3: 0.01, 6: 0.01, 7: 0.01, 1: 0.008, 2: 0.008, 0: 0.005, 4: 0.005}, {4: 0.187, 2: 0.129, 7: 0.065, 3: 0.011, 1: 0.003, 5: 0.003, 6: 0.003, 0: 0.0}]\n",
      "10\n"
     ]
    }
   ],
   "source": [
    "ranking = []\n",
    "\n",
    "for i in range(0,len(similitudMatrix)):\n",
    "  indices = {}\n",
    "  for j in range(0,len(similitudMatrix[i])):\n",
    "    indiceqr = j\n",
    "    indices[indiceqr] = similitudMatrix[i][j]\n",
    "  ranking.append(dict(sorted(indices.items(), key=lambda item: item[1], reverse=True)))\n",
    "\n",
    "print(ranking)\n",
    "\n",
    "print(len(ranking))"
   ]
  },
  {
   "cell_type": "code",
   "execution_count": 30,
   "id": "75bb325e",
   "metadata": {},
   "outputs": [
    {
     "name": "stdout",
     "output_type": "stream",
     "text": [
      "Query 1: inteligencia artificial en medicina\n",
      "\n",
      "Similitud: 0.329 | Documento 8: Los avances en la medicina están cambiando la forma en que se diagnostican y tratan las enfermedades. Desde la telemedicina hasta los dispositivos portátiles que monitorean la salud en tiempo real, la tecnología está permitiendo a los médicos ofrecer cuidados más personalizados. El futuro de la medicina es prometedor, con tratamientos más accesibles y eficaces.\n",
      "\n",
      "Similitud: 0.086 | Documento 6: La ciencia ficción es uno de los géneros literarios más populares, explorando temas como el viaje en el tiempo, la inteligencia artificial y la vida en otros planetas. Este género no solo entretiene, sino que también invita a reflexionar sobre el futuro de la humanidad y las implicaciones de los avances tecnológicos.\n",
      "\n",
      "Similitud: 0.082 | Documento 2: El desarrollo de videojuegos ha alcanzado un nuevo nivel con tecnologías como la realidad aumentada y la inteligencia artificial. Los jugadores ahora pueden interactuar en mundos virtuales más inmersivos. Este crecimiento también impulsa el mercado de los e-sports, donde las competencias profesionales atraen a millones de espectadores en todo el mundo.\n",
      "\n",
      "Similitud: 0.073 | Documento 1: La inteligencia artificial continúa avanzando rápidamente, transformando sectores como la salud y las finanzas. Las empresas están adoptando algoritmos de aprendizaje automático para mejorar la eficiencia. Sin embargo, el desafío principal sigue siendo garantizar que las decisiones basadas en datos sean justas y no perpetúen sesgos. La ética es fundamental en este contexto.\n",
      "\n",
      "Similitud: 0.015 | Documento 7: El desarrollo personal se ha convertido en una prioridad para muchas personas que buscan mejorar su calidad de vida. Desde la adopción de hábitos saludables hasta el aprendizaje de nuevas habilidades, el enfoque en el crecimiento individual ha llevado a un aumento en la demanda de libros, cursos y aplicaciones que promueven el bienestar integral.\n",
      "\n",
      "Similitud: 0.012 | Documento 4: La educación a distancia ha permitido a millones de estudiantes acceder a programas de calidad sin importar su ubicación. La flexibilidad es uno de los mayores beneficios, especialmente para aquellos con trabajos a tiempo completo. Aunque la falta de interacción presencial es un reto, las herramientas digitales siguen mejorando la experiencia educativa.\n",
      "\n",
      "Similitud: 0.01 | Documento 3: El comercio electrónico ha cambiado la forma en que compramos. Con la creciente demanda de compras en línea, las empresas están optimizando sus plataformas digitales para ofrecer mejores experiencias de usuario. Desde recomendaciones personalizadas hasta pagos rápidos, los avances en tecnología siguen facilitando las transacciones diarias de los consumidores.\n",
      "\n",
      "Similitud: 0.008 | Documento 5: El cine ha evolucionado con los años, incorporando efectos visuales cada vez más realistas. Las producciones cinematográficas utilizan tecnologías avanzadas para crear escenas que desafían la realidad. Además, el acceso a plataformas de streaming ha transformado cómo y cuándo el público consume contenido, democratizando el acceso a películas y series.\n",
      "\n",
      "------------------------------------------------------------\n",
      "Query 2: beneficios de la educación a distancia\n",
      "\n",
      "Similitud: 0.331 | Documento 4: La educación a distancia ha permitido a millones de estudiantes acceder a programas de calidad sin importar su ubicación. La flexibilidad es uno de los mayores beneficios, especialmente para aquellos con trabajos a tiempo completo. Aunque la falta de interacción presencial es un reto, las herramientas digitales siguen mejorando la experiencia educativa.\n",
      "\n",
      "Similitud: 0.009 | Documento 7: El desarrollo personal se ha convertido en una prioridad para muchas personas que buscan mejorar su calidad de vida. Desde la adopción de hábitos saludables hasta el aprendizaje de nuevas habilidades, el enfoque en el crecimiento individual ha llevado a un aumento en la demanda de libros, cursos y aplicaciones que promueven el bienestar integral.\n",
      "\n",
      "Similitud: 0.009 | Documento 8: Los avances en la medicina están cambiando la forma en que se diagnostican y tratan las enfermedades. Desde la telemedicina hasta los dispositivos portátiles que monitorean la salud en tiempo real, la tecnología está permitiendo a los médicos ofrecer cuidados más personalizados. El futuro de la medicina es prometedor, con tratamientos más accesibles y eficaces.\n",
      "\n",
      "Similitud: 0.007 | Documento 2: El desarrollo de videojuegos ha alcanzado un nuevo nivel con tecnologías como la realidad aumentada y la inteligencia artificial. Los jugadores ahora pueden interactuar en mundos virtuales más inmersivos. Este crecimiento también impulsa el mercado de los e-sports, donde las competencias profesionales atraen a millones de espectadores en todo el mundo.\n",
      "\n",
      "Similitud: 0.007 | Documento 3: El comercio electrónico ha cambiado la forma en que compramos. Con la creciente demanda de compras en línea, las empresas están optimizando sus plataformas digitales para ofrecer mejores experiencias de usuario. Desde recomendaciones personalizadas hasta pagos rápidos, los avances en tecnología siguen facilitando las transacciones diarias de los consumidores.\n",
      "\n",
      "Similitud: 0.007 | Documento 6: La ciencia ficción es uno de los géneros literarios más populares, explorando temas como el viaje en el tiempo, la inteligencia artificial y la vida en otros planetas. Este género no solo entretiene, sino que también invita a reflexionar sobre el futuro de la humanidad y las implicaciones de los avances tecnológicos.\n",
      "\n",
      "Similitud: 0.004 | Documento 1: La inteligencia artificial continúa avanzando rápidamente, transformando sectores como la salud y las finanzas. Las empresas están adoptando algoritmos de aprendizaje automático para mejorar la eficiencia. Sin embargo, el desafío principal sigue siendo garantizar que las decisiones basadas en datos sean justas y no perpetúen sesgos. La ética es fundamental en este contexto.\n",
      "\n",
      "Similitud: 0.004 | Documento 5: El cine ha evolucionado con los años, incorporando efectos visuales cada vez más realistas. Las producciones cinematográficas utilizan tecnologías avanzadas para crear escenas que desafían la realidad. Además, el acceso a plataformas de streaming ha transformado cómo y cuándo el público consume contenido, democratizando el acceso a películas y series.\n",
      "\n",
      "------------------------------------------------------------\n",
      "Query 3: realidad aumentada en videojuegos\n",
      "\n",
      "Similitud: 0.262 | Documento 2: El desarrollo de videojuegos ha alcanzado un nuevo nivel con tecnologías como la realidad aumentada y la inteligencia artificial. Los jugadores ahora pueden interactuar en mundos virtuales más inmersivos. Este crecimiento también impulsa el mercado de los e-sports, donde las competencias profesionales atraen a millones de espectadores en todo el mundo.\n",
      "\n",
      "Similitud: 0.111 | Documento 8: Los avances en la medicina están cambiando la forma en que se diagnostican y tratan las enfermedades. Desde la telemedicina hasta los dispositivos portátiles que monitorean la salud en tiempo real, la tecnología está permitiendo a los médicos ofrecer cuidados más personalizados. El futuro de la medicina es prometedor, con tratamientos más accesibles y eficaces.\n",
      "\n",
      "Similitud: 0.045 | Documento 5: El cine ha evolucionado con los años, incorporando efectos visuales cada vez más realistas. Las producciones cinematográficas utilizan tecnologías avanzadas para crear escenas que desafían la realidad. Además, el acceso a plataformas de streaming ha transformado cómo y cuándo el público consume contenido, democratizando el acceso a películas y series.\n",
      "\n",
      "Similitud: 0.008 | Documento 4: La educación a distancia ha permitido a millones de estudiantes acceder a programas de calidad sin importar su ubicación. La flexibilidad es uno de los mayores beneficios, especialmente para aquellos con trabajos a tiempo completo. Aunque la falta de interacción presencial es un reto, las herramientas digitales siguen mejorando la experiencia educativa.\n",
      "\n",
      "Similitud: 0.008 | Documento 7: El desarrollo personal se ha convertido en una prioridad para muchas personas que buscan mejorar su calidad de vida. Desde la adopción de hábitos saludables hasta el aprendizaje de nuevas habilidades, el enfoque en el crecimiento individual ha llevado a un aumento en la demanda de libros, cursos y aplicaciones que promueven el bienestar integral.\n",
      "\n",
      "Similitud: 0.006 | Documento 3: El comercio electrónico ha cambiado la forma en que compramos. Con la creciente demanda de compras en línea, las empresas están optimizando sus plataformas digitales para ofrecer mejores experiencias de usuario. Desde recomendaciones personalizadas hasta pagos rápidos, los avances en tecnología siguen facilitando las transacciones diarias de los consumidores.\n",
      "\n",
      "Similitud: 0.006 | Documento 6: La ciencia ficción es uno de los géneros literarios más populares, explorando temas como el viaje en el tiempo, la inteligencia artificial y la vida en otros planetas. Este género no solo entretiene, sino que también invita a reflexionar sobre el futuro de la humanidad y las implicaciones de los avances tecnológicos.\n",
      "\n",
      "Similitud: 0.004 | Documento 1: La inteligencia artificial continúa avanzando rápidamente, transformando sectores como la salud y las finanzas. Las empresas están adoptando algoritmos de aprendizaje automático para mejorar la eficiencia. Sin embargo, el desafío principal sigue siendo garantizar que las decisiones basadas en datos sean justas y no perpetúen sesgos. La ética es fundamental en este contexto.\n",
      "\n",
      "------------------------------------------------------------\n",
      "Query 4: desarrollo personal y hábitos saludables\n",
      "\n",
      "Similitud: 0.332 | Documento 7: El desarrollo personal se ha convertido en una prioridad para muchas personas que buscan mejorar su calidad de vida. Desde la adopción de hábitos saludables hasta el aprendizaje de nuevas habilidades, el enfoque en el crecimiento individual ha llevado a un aumento en la demanda de libros, cursos y aplicaciones que promueven el bienestar integral.\n",
      "\n",
      "Similitud: 0.059 | Documento 8: Los avances en la medicina están cambiando la forma en que se diagnostican y tratan las enfermedades. Desde la telemedicina hasta los dispositivos portátiles que monitorean la salud en tiempo real, la tecnología está permitiendo a los médicos ofrecer cuidados más personalizados. El futuro de la medicina es prometedor, con tratamientos más accesibles y eficaces.\n",
      "\n",
      "Similitud: 0.054 | Documento 1: La inteligencia artificial continúa avanzando rápidamente, transformando sectores como la salud y las finanzas. Las empresas están adoptando algoritmos de aprendizaje automático para mejorar la eficiencia. Sin embargo, el desafío principal sigue siendo garantizar que las decisiones basadas en datos sean justas y no perpetúen sesgos. La ética es fundamental en este contexto.\n",
      "\n",
      "Similitud: 0.047 | Documento 2: El desarrollo de videojuegos ha alcanzado un nuevo nivel con tecnologías como la realidad aumentada y la inteligencia artificial. Los jugadores ahora pueden interactuar en mundos virtuales más inmersivos. Este crecimiento también impulsa el mercado de los e-sports, donde las competencias profesionales atraen a millones de espectadores en todo el mundo.\n",
      "\n",
      "Similitud: 0.028 | Documento 4: La educación a distancia ha permitido a millones de estudiantes acceder a programas de calidad sin importar su ubicación. La flexibilidad es uno de los mayores beneficios, especialmente para aquellos con trabajos a tiempo completo. Aunque la falta de interacción presencial es un reto, las herramientas digitales siguen mejorando la experiencia educativa.\n",
      "\n",
      "Similitud: 0.017 | Documento 6: La ciencia ficción es uno de los géneros literarios más populares, explorando temas como el viaje en el tiempo, la inteligencia artificial y la vida en otros planetas. Este género no solo entretiene, sino que también invita a reflexionar sobre el futuro de la humanidad y las implicaciones de los avances tecnológicos.\n",
      "\n",
      "Similitud: 0.007 | Documento 5: El cine ha evolucionado con los años, incorporando efectos visuales cada vez más realistas. Las producciones cinematográficas utilizan tecnologías avanzadas para crear escenas que desafían la realidad. Además, el acceso a plataformas de streaming ha transformado cómo y cuándo el público consume contenido, democratizando el acceso a películas y series.\n",
      "\n",
      "Similitud: 0.0 | Documento 3: El comercio electrónico ha cambiado la forma en que compramos. Con la creciente demanda de compras en línea, las empresas están optimizando sus plataformas digitales para ofrecer mejores experiencias de usuario. Desde recomendaciones personalizadas hasta pagos rápidos, los avances en tecnología siguen facilitando las transacciones diarias de los consumidores.\n",
      "\n",
      "------------------------------------------------------------\n",
      "Query 5: futuro del comercio electrónico\n",
      "\n",
      "Similitud: 0.257 | Documento 3: El comercio electrónico ha cambiado la forma en que compramos. Con la creciente demanda de compras en línea, las empresas están optimizando sus plataformas digitales para ofrecer mejores experiencias de usuario. Desde recomendaciones personalizadas hasta pagos rápidos, los avances en tecnología siguen facilitando las transacciones diarias de los consumidores.\n",
      "\n",
      "Similitud: 0.06 | Documento 6: La ciencia ficción es uno de los géneros literarios más populares, explorando temas como el viaje en el tiempo, la inteligencia artificial y la vida en otros planetas. Este género no solo entretiene, sino que también invita a reflexionar sobre el futuro de la humanidad y las implicaciones de los avances tecnológicos.\n",
      "\n",
      "Similitud: 0.055 | Documento 8: Los avances en la medicina están cambiando la forma en que se diagnostican y tratan las enfermedades. Desde la telemedicina hasta los dispositivos portátiles que monitorean la salud en tiempo real, la tecnología está permitiendo a los médicos ofrecer cuidados más personalizados. El futuro de la medicina es prometedor, con tratamientos más accesibles y eficaces.\n",
      "\n",
      "Similitud: 0.002 | Documento 5: El cine ha evolucionado con los años, incorporando efectos visuales cada vez más realistas. Las producciones cinematográficas utilizan tecnologías avanzadas para crear escenas que desafían la realidad. Además, el acceso a plataformas de streaming ha transformado cómo y cuándo el público consume contenido, democratizando el acceso a películas y series.\n",
      "\n",
      "Similitud: 0.002 | Documento 7: El desarrollo personal se ha convertido en una prioridad para muchas personas que buscan mejorar su calidad de vida. Desde la adopción de hábitos saludables hasta el aprendizaje de nuevas habilidades, el enfoque en el crecimiento individual ha llevado a un aumento en la demanda de libros, cursos y aplicaciones que promueven el bienestar integral.\n",
      "\n",
      "Similitud: 0.001 | Documento 2: El desarrollo de videojuegos ha alcanzado un nuevo nivel con tecnologías como la realidad aumentada y la inteligencia artificial. Los jugadores ahora pueden interactuar en mundos virtuales más inmersivos. Este crecimiento también impulsa el mercado de los e-sports, donde las competencias profesionales atraen a millones de espectadores en todo el mundo.\n",
      "\n",
      "Similitud: 0.0 | Documento 1: La inteligencia artificial continúa avanzando rápidamente, transformando sectores como la salud y las finanzas. Las empresas están adoptando algoritmos de aprendizaje automático para mejorar la eficiencia. Sin embargo, el desafío principal sigue siendo garantizar que las decisiones basadas en datos sean justas y no perpetúen sesgos. La ética es fundamental en este contexto.\n",
      "\n",
      "Similitud: 0.0 | Documento 4: La educación a distancia ha permitido a millones de estudiantes acceder a programas de calidad sin importar su ubicación. La flexibilidad es uno de los mayores beneficios, especialmente para aquellos con trabajos a tiempo completo. Aunque la falta de interacción presencial es un reto, las herramientas digitales siguen mejorando la experiencia educativa.\n",
      "\n",
      "------------------------------------------------------------\n",
      "Query 6: tecnologías en cine moderno\n",
      "\n",
      "Similitud: 0.168 | Documento 5: El cine ha evolucionado con los años, incorporando efectos visuales cada vez más realistas. Las producciones cinematográficas utilizan tecnologías avanzadas para crear escenas que desafían la realidad. Además, el acceso a plataformas de streaming ha transformado cómo y cuándo el público consume contenido, democratizando el acceso a películas y series.\n",
      "\n",
      "Similitud: 0.067 | Documento 6: La ciencia ficción es uno de los géneros literarios más populares, explorando temas como el viaje en el tiempo, la inteligencia artificial y la vida en otros planetas. Este género no solo entretiene, sino que también invita a reflexionar sobre el futuro de la humanidad y las implicaciones de los avances tecnológicos.\n",
      "\n",
      "Similitud: 0.066 | Documento 3: El comercio electrónico ha cambiado la forma en que compramos. Con la creciente demanda de compras en línea, las empresas están optimizando sus plataformas digitales para ofrecer mejores experiencias de usuario. Desde recomendaciones personalizadas hasta pagos rápidos, los avances en tecnología siguen facilitando las transacciones diarias de los consumidores.\n",
      "\n",
      "Similitud: 0.066 | Documento 8: Los avances en la medicina están cambiando la forma en que se diagnostican y tratan las enfermedades. Desde la telemedicina hasta los dispositivos portátiles que monitorean la salud en tiempo real, la tecnología está permitiendo a los médicos ofrecer cuidados más personalizados. El futuro de la medicina es prometedor, con tratamientos más accesibles y eficaces.\n",
      "\n",
      "Similitud: 0.064 | Documento 2: El desarrollo de videojuegos ha alcanzado un nuevo nivel con tecnologías como la realidad aumentada y la inteligencia artificial. Los jugadores ahora pueden interactuar en mundos virtuales más inmersivos. Este crecimiento también impulsa el mercado de los e-sports, donde las competencias profesionales atraen a millones de espectadores en todo el mundo.\n",
      "\n",
      "Similitud: 0.057 | Documento 1: La inteligencia artificial continúa avanzando rápidamente, transformando sectores como la salud y las finanzas. Las empresas están adoptando algoritmos de aprendizaje automático para mejorar la eficiencia. Sin embargo, el desafío principal sigue siendo garantizar que las decisiones basadas en datos sean justas y no perpetúen sesgos. La ética es fundamental en este contexto.\n",
      "\n",
      "Similitud: 0.01 | Documento 7: El desarrollo personal se ha convertido en una prioridad para muchas personas que buscan mejorar su calidad de vida. Desde la adopción de hábitos saludables hasta el aprendizaje de nuevas habilidades, el enfoque en el crecimiento individual ha llevado a un aumento en la demanda de libros, cursos y aplicaciones que promueven el bienestar integral.\n",
      "\n",
      "Similitud: 0.009 | Documento 4: La educación a distancia ha permitido a millones de estudiantes acceder a programas de calidad sin importar su ubicación. La flexibilidad es uno de los mayores beneficios, especialmente para aquellos con trabajos a tiempo completo. Aunque la falta de interacción presencial es un reto, las herramientas digitales siguen mejorando la experiencia educativa.\n",
      "\n",
      "------------------------------------------------------------\n",
      "Query 7: competencias de e-sports\n",
      "\n",
      "Similitud: 0.281 | Documento 2: El desarrollo de videojuegos ha alcanzado un nuevo nivel con tecnologías como la realidad aumentada y la inteligencia artificial. Los jugadores ahora pueden interactuar en mundos virtuales más inmersivos. Este crecimiento también impulsa el mercado de los e-sports, donde las competencias profesionales atraen a millones de espectadores en todo el mundo.\n",
      "\n",
      "Similitud: 0.01 | Documento 4: La educación a distancia ha permitido a millones de estudiantes acceder a programas de calidad sin importar su ubicación. La flexibilidad es uno de los mayores beneficios, especialmente para aquellos con trabajos a tiempo completo. Aunque la falta de interacción presencial es un reto, las herramientas digitales siguen mejorando la experiencia educativa.\n",
      "\n",
      "Similitud: 0.01 | Documento 7: El desarrollo personal se ha convertido en una prioridad para muchas personas que buscan mejorar su calidad de vida. Desde la adopción de hábitos saludables hasta el aprendizaje de nuevas habilidades, el enfoque en el crecimiento individual ha llevado a un aumento en la demanda de libros, cursos y aplicaciones que promueven el bienestar integral.\n",
      "\n",
      "Similitud: 0.01 | Documento 8: Los avances en la medicina están cambiando la forma en que se diagnostican y tratan las enfermedades. Desde la telemedicina hasta los dispositivos portátiles que monitorean la salud en tiempo real, la tecnología está permitiendo a los médicos ofrecer cuidados más personalizados. El futuro de la medicina es prometedor, con tratamientos más accesibles y eficaces.\n",
      "\n",
      "Similitud: 0.008 | Documento 3: El comercio electrónico ha cambiado la forma en que compramos. Con la creciente demanda de compras en línea, las empresas están optimizando sus plataformas digitales para ofrecer mejores experiencias de usuario. Desde recomendaciones personalizadas hasta pagos rápidos, los avances en tecnología siguen facilitando las transacciones diarias de los consumidores.\n",
      "\n",
      "Similitud: 0.008 | Documento 6: La ciencia ficción es uno de los géneros literarios más populares, explorando temas como el viaje en el tiempo, la inteligencia artificial y la vida en otros planetas. Este género no solo entretiene, sino que también invita a reflexionar sobre el futuro de la humanidad y las implicaciones de los avances tecnológicos.\n",
      "\n",
      "Similitud: 0.005 | Documento 1: La inteligencia artificial continúa avanzando rápidamente, transformando sectores como la salud y las finanzas. Las empresas están adoptando algoritmos de aprendizaje automático para mejorar la eficiencia. Sin embargo, el desafío principal sigue siendo garantizar que las decisiones basadas en datos sean justas y no perpetúen sesgos. La ética es fundamental en este contexto.\n",
      "\n",
      "Similitud: 0.005 | Documento 5: El cine ha evolucionado con los años, incorporando efectos visuales cada vez más realistas. Las producciones cinematográficas utilizan tecnologías avanzadas para crear escenas que desafían la realidad. Además, el acceso a plataformas de streaming ha transformado cómo y cuándo el público consume contenido, democratizando el acceso a películas y series.\n",
      "\n",
      "------------------------------------------------------------\n",
      "Query 8: diagnóstico con dispositivos portátiles\n",
      "\n",
      "Similitud: 0.285 | Documento 8: Los avances en la medicina están cambiando la forma en que se diagnostican y tratan las enfermedades. Desde la telemedicina hasta los dispositivos portátiles que monitorean la salud en tiempo real, la tecnología está permitiendo a los médicos ofrecer cuidados más personalizados. El futuro de la medicina es prometedor, con tratamientos más accesibles y eficaces.\n",
      "\n",
      "Similitud: 0.044 | Documento 4: La educación a distancia ha permitido a millones de estudiantes acceder a programas de calidad sin importar su ubicación. La flexibilidad es uno de los mayores beneficios, especialmente para aquellos con trabajos a tiempo completo. Aunque la falta de interacción presencial es un reto, las herramientas digitales siguen mejorando la experiencia educativa.\n",
      "\n",
      "Similitud: 0.018 | Documento 6: La ciencia ficción es uno de los géneros literarios más populares, explorando temas como el viaje en el tiempo, la inteligencia artificial y la vida en otros planetas. Este género no solo entretiene, sino que también invita a reflexionar sobre el futuro de la humanidad y las implicaciones de los avances tecnológicos.\n",
      "\n",
      "Similitud: 0.014 | Documento 1: La inteligencia artificial continúa avanzando rápidamente, transformando sectores como la salud y las finanzas. Las empresas están adoptando algoritmos de aprendizaje automático para mejorar la eficiencia. Sin embargo, el desafío principal sigue siendo garantizar que las decisiones basadas en datos sean justas y no perpetúen sesgos. La ética es fundamental en este contexto.\n",
      "\n",
      "Similitud: 0.011 | Documento 5: El cine ha evolucionado con los años, incorporando efectos visuales cada vez más realistas. Las producciones cinematográficas utilizan tecnologías avanzadas para crear escenas que desafían la realidad. Además, el acceso a plataformas de streaming ha transformado cómo y cuándo el público consume contenido, democratizando el acceso a películas y series.\n",
      "\n",
      "Similitud: 0.009 | Documento 2: El desarrollo de videojuegos ha alcanzado un nuevo nivel con tecnologías como la realidad aumentada y la inteligencia artificial. Los jugadores ahora pueden interactuar en mundos virtuales más inmersivos. Este crecimiento también impulsa el mercado de los e-sports, donde las competencias profesionales atraen a millones de espectadores en todo el mundo.\n",
      "\n",
      "Similitud: 0.007 | Documento 3: El comercio electrónico ha cambiado la forma en que compramos. Con la creciente demanda de compras en línea, las empresas están optimizando sus plataformas digitales para ofrecer mejores experiencias de usuario. Desde recomendaciones personalizadas hasta pagos rápidos, los avances en tecnología siguen facilitando las transacciones diarias de los consumidores.\n",
      "\n",
      "Similitud: 0.003 | Documento 7: El desarrollo personal se ha convertido en una prioridad para muchas personas que buscan mejorar su calidad de vida. Desde la adopción de hábitos saludables hasta el aprendizaje de nuevas habilidades, el enfoque en el crecimiento individual ha llevado a un aumento en la demanda de libros, cursos y aplicaciones que promueven el bienestar integral.\n",
      "\n",
      "------------------------------------------------------------\n",
      "Query 9: literatura de ciencia ficción\n",
      "\n",
      "Similitud: 0.294 | Documento 6: La ciencia ficción es uno de los géneros literarios más populares, explorando temas como el viaje en el tiempo, la inteligencia artificial y la vida en otros planetas. Este género no solo entretiene, sino que también invita a reflexionar sobre el futuro de la humanidad y las implicaciones de los avances tecnológicos.\n",
      "\n",
      "Similitud: 0.01 | Documento 4: La educación a distancia ha permitido a millones de estudiantes acceder a programas de calidad sin importar su ubicación. La flexibilidad es uno de los mayores beneficios, especialmente para aquellos con trabajos a tiempo completo. Aunque la falta de interacción presencial es un reto, las herramientas digitales siguen mejorando la experiencia educativa.\n",
      "\n",
      "Similitud: 0.01 | Documento 7: El desarrollo personal se ha convertido en una prioridad para muchas personas que buscan mejorar su calidad de vida. Desde la adopción de hábitos saludables hasta el aprendizaje de nuevas habilidades, el enfoque en el crecimiento individual ha llevado a un aumento en la demanda de libros, cursos y aplicaciones que promueven el bienestar integral.\n",
      "\n",
      "Similitud: 0.01 | Documento 8: Los avances en la medicina están cambiando la forma en que se diagnostican y tratan las enfermedades. Desde la telemedicina hasta los dispositivos portátiles que monitorean la salud en tiempo real, la tecnología está permitiendo a los médicos ofrecer cuidados más personalizados. El futuro de la medicina es prometedor, con tratamientos más accesibles y eficaces.\n",
      "\n",
      "Similitud: 0.008 | Documento 2: El desarrollo de videojuegos ha alcanzado un nuevo nivel con tecnologías como la realidad aumentada y la inteligencia artificial. Los jugadores ahora pueden interactuar en mundos virtuales más inmersivos. Este crecimiento también impulsa el mercado de los e-sports, donde las competencias profesionales atraen a millones de espectadores en todo el mundo.\n",
      "\n",
      "Similitud: 0.008 | Documento 3: El comercio electrónico ha cambiado la forma en que compramos. Con la creciente demanda de compras en línea, las empresas están optimizando sus plataformas digitales para ofrecer mejores experiencias de usuario. Desde recomendaciones personalizadas hasta pagos rápidos, los avances en tecnología siguen facilitando las transacciones diarias de los consumidores.\n",
      "\n",
      "Similitud: 0.005 | Documento 1: La inteligencia artificial continúa avanzando rápidamente, transformando sectores como la salud y las finanzas. Las empresas están adoptando algoritmos de aprendizaje automático para mejorar la eficiencia. Sin embargo, el desafío principal sigue siendo garantizar que las decisiones basadas en datos sean justas y no perpetúen sesgos. La ética es fundamental en este contexto.\n",
      "\n",
      "Similitud: 0.005 | Documento 5: El cine ha evolucionado con los años, incorporando efectos visuales cada vez más realistas. Las producciones cinematográficas utilizan tecnologías avanzadas para crear escenas que desafían la realidad. Además, el acceso a plataformas de streaming ha transformado cómo y cuándo el público consume contenido, democratizando el acceso a películas y series.\n",
      "\n",
      "------------------------------------------------------------\n",
      "Query 10: plataformas de streaming\n",
      "\n",
      "Similitud: 0.187 | Documento 5: El cine ha evolucionado con los años, incorporando efectos visuales cada vez más realistas. Las producciones cinematográficas utilizan tecnologías avanzadas para crear escenas que desafían la realidad. Además, el acceso a plataformas de streaming ha transformado cómo y cuándo el público consume contenido, democratizando el acceso a películas y series.\n",
      "\n",
      "Similitud: 0.129 | Documento 3: El comercio electrónico ha cambiado la forma en que compramos. Con la creciente demanda de compras en línea, las empresas están optimizando sus plataformas digitales para ofrecer mejores experiencias de usuario. Desde recomendaciones personalizadas hasta pagos rápidos, los avances en tecnología siguen facilitando las transacciones diarias de los consumidores.\n",
      "\n",
      "Similitud: 0.065 | Documento 8: Los avances en la medicina están cambiando la forma en que se diagnostican y tratan las enfermedades. Desde la telemedicina hasta los dispositivos portátiles que monitorean la salud en tiempo real, la tecnología está permitiendo a los médicos ofrecer cuidados más personalizados. El futuro de la medicina es prometedor, con tratamientos más accesibles y eficaces.\n",
      "\n",
      "Similitud: 0.011 | Documento 4: La educación a distancia ha permitido a millones de estudiantes acceder a programas de calidad sin importar su ubicación. La flexibilidad es uno de los mayores beneficios, especialmente para aquellos con trabajos a tiempo completo. Aunque la falta de interacción presencial es un reto, las herramientas digitales siguen mejorando la experiencia educativa.\n",
      "\n",
      "Similitud: 0.003 | Documento 2: El desarrollo de videojuegos ha alcanzado un nuevo nivel con tecnologías como la realidad aumentada y la inteligencia artificial. Los jugadores ahora pueden interactuar en mundos virtuales más inmersivos. Este crecimiento también impulsa el mercado de los e-sports, donde las competencias profesionales atraen a millones de espectadores en todo el mundo.\n",
      "\n",
      "Similitud: 0.003 | Documento 6: La ciencia ficción es uno de los géneros literarios más populares, explorando temas como el viaje en el tiempo, la inteligencia artificial y la vida en otros planetas. Este género no solo entretiene, sino que también invita a reflexionar sobre el futuro de la humanidad y las implicaciones de los avances tecnológicos.\n",
      "\n",
      "Similitud: 0.003 | Documento 7: El desarrollo personal se ha convertido en una prioridad para muchas personas que buscan mejorar su calidad de vida. Desde la adopción de hábitos saludables hasta el aprendizaje de nuevas habilidades, el enfoque en el crecimiento individual ha llevado a un aumento en la demanda de libros, cursos y aplicaciones que promueven el bienestar integral.\n",
      "\n",
      "Similitud: 0.0 | Documento 1: La inteligencia artificial continúa avanzando rápidamente, transformando sectores como la salud y las finanzas. Las empresas están adoptando algoritmos de aprendizaje automático para mejorar la eficiencia. Sin embargo, el desafío principal sigue siendo garantizar que las decisiones basadas en datos sean justas y no perpetúen sesgos. La ética es fundamental en este contexto.\n",
      "\n",
      "------------------------------------------------------------\n"
     ]
    }
   ],
   "source": [
    "for i in range(len(ranking)):\n",
    "  print(f'Query {i+1}: {queries[i]}\\n')\n",
    "  for j in range(len(ranking[i])):\n",
    "    documento = list(ranking[i].keys())[j] #Para obtener los indices para buscar los documentos\n",
    "    similitud = list(ranking[i].values())[j]\n",
    "    print(f'Similitud: {similitud} | Documento {documento + 1}:{corpus[documento]}')\n",
    "  print('------------------------------------------------------------')"
   ]
  }
 ],
 "metadata": {
  "kernelspec": {
   "display_name": "Python 3",
   "language": "python",
   "name": "python3"
  },
  "language_info": {
   "codemirror_mode": {
    "name": "ipython",
    "version": 3
   },
   "file_extension": ".py",
   "mimetype": "text/x-python",
   "name": "python",
   "nbconvert_exporter": "python",
   "pygments_lexer": "ipython3",
   "version": "3.12.4"
  }
 },
 "nbformat": 4,
 "nbformat_minor": 5
}
