{
  "cells": [
    {
      "cell_type": "markdown",
      "metadata": {
        "id": "M4Vvs3umyF-T"
      },
      "source": [
        "# Preparacion del Dataset\n"
      ]
    },
    {
      "cell_type": "markdown",
      "metadata": {
        "id": "FMvkmRMGoGDi"
      },
      "source": [
        "Almacenar el csv en un dataframe"
      ]
    },
    {
      "cell_type": "code",
      "execution_count": 1,
      "metadata": {
        "id": "-7aDLHtnvV7B"
      },
      "outputs": [],
      "source": [
        "import pandas as pd\n",
        "archivo_csv = 'wiki_movie_plots_deduped.csv'\n",
        "df = pd.read_csv(archivo_csv)"
      ]
    },
    {
      "cell_type": "markdown",
      "metadata": {
        "id": "ijLaGPoTzEE9"
      },
      "source": [
        "Mantener solo las columnas relevantes"
      ]
    },
    {
      "cell_type": "code",
      "execution_count": 2,
      "metadata": {
        "colab": {
          "base_uri": "https://localhost:8080/",
          "height": 310
        },
        "id": "bsPoO0TmyVep",
        "outputId": "5f027a45-91a2-4d03-f69a-b86d4e1cd7bb"
      },
      "outputs": [
        {
          "data": {
            "text/html": [
              "<div>\n",
              "<style scoped>\n",
              "    .dataframe tbody tr th:only-of-type {\n",
              "        vertical-align: middle;\n",
              "    }\n",
              "\n",
              "    .dataframe tbody tr th {\n",
              "        vertical-align: top;\n",
              "    }\n",
              "\n",
              "    .dataframe thead th {\n",
              "        text-align: right;\n",
              "    }\n",
              "</style>\n",
              "<table border=\"1\" class=\"dataframe\">\n",
              "  <thead>\n",
              "    <tr style=\"text-align: right;\">\n",
              "      <th></th>\n",
              "      <th>Release Year</th>\n",
              "      <th>Title</th>\n",
              "      <th>Plot</th>\n",
              "    </tr>\n",
              "  </thead>\n",
              "  <tbody>\n",
              "    <tr>\n",
              "      <th>0</th>\n",
              "      <td>1901</td>\n",
              "      <td>Kansas Saloon Smashers</td>\n",
              "      <td>A bartender is working at a saloon, serving dr...</td>\n",
              "    </tr>\n",
              "    <tr>\n",
              "      <th>1</th>\n",
              "      <td>1901</td>\n",
              "      <td>Love by the Light of the Moon</td>\n",
              "      <td>The moon, painted with a smiling face hangs ov...</td>\n",
              "    </tr>\n",
              "    <tr>\n",
              "      <th>2</th>\n",
              "      <td>1901</td>\n",
              "      <td>The Martyred Presidents</td>\n",
              "      <td>The film, just over a minute long, is composed...</td>\n",
              "    </tr>\n",
              "    <tr>\n",
              "      <th>3</th>\n",
              "      <td>1901</td>\n",
              "      <td>Terrible Teddy, the Grizzly King</td>\n",
              "      <td>Lasting just 61 seconds and consisting of two ...</td>\n",
              "    </tr>\n",
              "    <tr>\n",
              "      <th>4</th>\n",
              "      <td>1902</td>\n",
              "      <td>Jack and the Beanstalk</td>\n",
              "      <td>The earliest known adaptation of the classic f...</td>\n",
              "    </tr>\n",
              "  </tbody>\n",
              "</table>\n",
              "</div>"
            ],
            "text/plain": [
              "   Release Year                             Title  \\\n",
              "0          1901            Kansas Saloon Smashers   \n",
              "1          1901     Love by the Light of the Moon   \n",
              "2          1901           The Martyred Presidents   \n",
              "3          1901  Terrible Teddy, the Grizzly King   \n",
              "4          1902            Jack and the Beanstalk   \n",
              "\n",
              "                                                Plot  \n",
              "0  A bartender is working at a saloon, serving dr...  \n",
              "1  The moon, painted with a smiling face hangs ov...  \n",
              "2  The film, just over a minute long, is composed...  \n",
              "3  Lasting just 61 seconds and consisting of two ...  \n",
              "4  The earliest known adaptation of the classic f...  "
            ]
          },
          "execution_count": 2,
          "metadata": {},
          "output_type": "execute_result"
        }
      ],
      "source": [
        "df_final = df[['Release Year','Title', 'Plot']]\n",
        "df_final.head()"
      ]
    },
    {
      "cell_type": "markdown",
      "metadata": {
        "id": "IkKsBYMy00My"
      },
      "source": [
        "Verificar si existen valores nulos"
      ]
    },
    {
      "cell_type": "code",
      "execution_count": 3,
      "metadata": {
        "colab": {
          "base_uri": "https://localhost:8080/",
          "height": 178
        },
        "id": "8sBx26ioyVlx",
        "outputId": "0e7ea3ea-8a7d-4521-b028-acc0b2ffe17f"
      },
      "outputs": [
        {
          "data": {
            "text/plain": [
              "Release Year    0\n",
              "Title           0\n",
              "Plot            0\n",
              "dtype: int64"
            ]
          },
          "execution_count": 3,
          "metadata": {},
          "output_type": "execute_result"
        }
      ],
      "source": [
        "df_final.isna().sum()"
      ]
    },
    {
      "cell_type": "markdown",
      "metadata": {
        "id": "XM8K9SlA189z"
      },
      "source": [
        "Convertir a minusculas y eliminar signos de puntuación"
      ]
    },
    {
      "cell_type": "code",
      "execution_count": 4,
      "metadata": {
        "colab": {
          "base_uri": "https://localhost:8080/"
        },
        "id": "X461K_4tyVpN",
        "outputId": "c69ad699-a77e-4b9c-cad5-c654a23078b6"
      },
      "outputs": [
        {
          "name": "stderr",
          "output_type": "stream",
          "text": [
            "C:\\Users\\glenn\\AppData\\Local\\Temp\\ipykernel_34380\\2429903571.py:1: SettingWithCopyWarning: \n",
            "A value is trying to be set on a copy of a slice from a DataFrame.\n",
            "Try using .loc[row_indexer,col_indexer] = value instead\n",
            "\n",
            "See the caveats in the documentation: https://pandas.pydata.org/pandas-docs/stable/user_guide/indexing.html#returning-a-view-versus-a-copy\n",
            "  df_final.loc[:, 'textoLimpio'] = df_final['Plot'].str.lower().str.replace('.', '', regex=False).str.replace(',', '', regex=False)\n"
          ]
        }
      ],
      "source": [
        "df_final.loc[:, 'textoLimpio'] = df_final['Plot'].str.lower().str.replace('.', '', regex=False).str.replace(',', '', regex=False)\n"
      ]
    },
    {
      "cell_type": "code",
      "execution_count": 5,
      "metadata": {
        "colab": {
          "base_uri": "https://localhost:8080/",
          "height": 345
        },
        "id": "LmzVAfx42tRB",
        "outputId": "52eda5a7-1b4a-4b76-eceb-840b78681ec6"
      },
      "outputs": [
        {
          "data": {
            "text/html": [
              "<div>\n",
              "<style scoped>\n",
              "    .dataframe tbody tr th:only-of-type {\n",
              "        vertical-align: middle;\n",
              "    }\n",
              "\n",
              "    .dataframe tbody tr th {\n",
              "        vertical-align: top;\n",
              "    }\n",
              "\n",
              "    .dataframe thead th {\n",
              "        text-align: right;\n",
              "    }\n",
              "</style>\n",
              "<table border=\"1\" class=\"dataframe\">\n",
              "  <thead>\n",
              "    <tr style=\"text-align: right;\">\n",
              "      <th></th>\n",
              "      <th>Release Year</th>\n",
              "      <th>Title</th>\n",
              "      <th>Plot</th>\n",
              "      <th>textoLimpio</th>\n",
              "    </tr>\n",
              "  </thead>\n",
              "  <tbody>\n",
              "    <tr>\n",
              "      <th>0</th>\n",
              "      <td>1901</td>\n",
              "      <td>Kansas Saloon Smashers</td>\n",
              "      <td>A bartender is working at a saloon, serving dr...</td>\n",
              "      <td>a bartender is working at a saloon serving dri...</td>\n",
              "    </tr>\n",
              "    <tr>\n",
              "      <th>1</th>\n",
              "      <td>1901</td>\n",
              "      <td>Love by the Light of the Moon</td>\n",
              "      <td>The moon, painted with a smiling face hangs ov...</td>\n",
              "      <td>the moon painted with a smiling face hangs ove...</td>\n",
              "    </tr>\n",
              "    <tr>\n",
              "      <th>2</th>\n",
              "      <td>1901</td>\n",
              "      <td>The Martyred Presidents</td>\n",
              "      <td>The film, just over a minute long, is composed...</td>\n",
              "      <td>the film just over a minute long is composed o...</td>\n",
              "    </tr>\n",
              "    <tr>\n",
              "      <th>3</th>\n",
              "      <td>1901</td>\n",
              "      <td>Terrible Teddy, the Grizzly King</td>\n",
              "      <td>Lasting just 61 seconds and consisting of two ...</td>\n",
              "      <td>lasting just 61 seconds and consisting of two ...</td>\n",
              "    </tr>\n",
              "    <tr>\n",
              "      <th>4</th>\n",
              "      <td>1902</td>\n",
              "      <td>Jack and the Beanstalk</td>\n",
              "      <td>The earliest known adaptation of the classic f...</td>\n",
              "      <td>the earliest known adaptation of the classic f...</td>\n",
              "    </tr>\n",
              "  </tbody>\n",
              "</table>\n",
              "</div>"
            ],
            "text/plain": [
              "   Release Year                             Title  \\\n",
              "0          1901            Kansas Saloon Smashers   \n",
              "1          1901     Love by the Light of the Moon   \n",
              "2          1901           The Martyred Presidents   \n",
              "3          1901  Terrible Teddy, the Grizzly King   \n",
              "4          1902            Jack and the Beanstalk   \n",
              "\n",
              "                                                Plot  \\\n",
              "0  A bartender is working at a saloon, serving dr...   \n",
              "1  The moon, painted with a smiling face hangs ov...   \n",
              "2  The film, just over a minute long, is composed...   \n",
              "3  Lasting just 61 seconds and consisting of two ...   \n",
              "4  The earliest known adaptation of the classic f...   \n",
              "\n",
              "                                         textoLimpio  \n",
              "0  a bartender is working at a saloon serving dri...  \n",
              "1  the moon painted with a smiling face hangs ove...  \n",
              "2  the film just over a minute long is composed o...  \n",
              "3  lasting just 61 seconds and consisting of two ...  \n",
              "4  the earliest known adaptation of the classic f...  "
            ]
          },
          "execution_count": 5,
          "metadata": {},
          "output_type": "execute_result"
        }
      ],
      "source": [
        "df_final.head()"
      ]
    },
    {
      "cell_type": "markdown",
      "metadata": {
        "id": "VMkJCqn16xU1"
      },
      "source": [
        "## Tokenizacion"
      ]
    },
    {
      "cell_type": "code",
      "execution_count": 6,
      "metadata": {
        "colab": {
          "base_uri": "https://localhost:8080/"
        },
        "id": "ENFHMWJe6QuF",
        "outputId": "de7e018b-5ae0-42b3-821f-b39c2f75347e"
      },
      "outputs": [
        {
          "name": "stderr",
          "output_type": "stream",
          "text": [
            "[nltk_data] Downloading package punkt_tab to\n",
            "[nltk_data]     C:\\Users\\glenn\\AppData\\Roaming\\nltk_data...\n",
            "[nltk_data]   Unzipping tokenizers\\punkt_tab.zip.\n",
            "C:\\Users\\glenn\\AppData\\Local\\Temp\\ipykernel_34380\\2161189076.py:5: SettingWithCopyWarning: \n",
            "A value is trying to be set on a copy of a slice from a DataFrame.\n",
            "Try using .loc[row_indexer,col_indexer] = value instead\n",
            "\n",
            "See the caveats in the documentation: https://pandas.pydata.org/pandas-docs/stable/user_guide/indexing.html#returning-a-view-versus-a-copy\n",
            "  df_final.loc[:, 'tokens'] = df_final['textoLimpio'].apply(word_tokenize)\n"
          ]
        }
      ],
      "source": [
        "import nltk\n",
        "nltk.download('punkt_tab')\n",
        "from nltk.tokenize import word_tokenize\n",
        "\n",
        "df_final.loc[:, 'tokens'] = df_final['textoLimpio'].apply(word_tokenize)"
      ]
    },
    {
      "cell_type": "code",
      "execution_count": 7,
      "metadata": {
        "colab": {
          "base_uri": "https://localhost:8080/",
          "height": 467
        },
        "id": "LRlas9P87GHN",
        "outputId": "0a6f4000-d96a-442a-9ca8-7ecf6b7f07a8"
      },
      "outputs": [
        {
          "data": {
            "text/html": [
              "<div>\n",
              "<style scoped>\n",
              "    .dataframe tbody tr th:only-of-type {\n",
              "        vertical-align: middle;\n",
              "    }\n",
              "\n",
              "    .dataframe tbody tr th {\n",
              "        vertical-align: top;\n",
              "    }\n",
              "\n",
              "    .dataframe thead th {\n",
              "        text-align: right;\n",
              "    }\n",
              "</style>\n",
              "<table border=\"1\" class=\"dataframe\">\n",
              "  <thead>\n",
              "    <tr style=\"text-align: right;\">\n",
              "      <th></th>\n",
              "      <th>Release Year</th>\n",
              "      <th>Title</th>\n",
              "      <th>Plot</th>\n",
              "      <th>textoLimpio</th>\n",
              "      <th>tokens</th>\n",
              "    </tr>\n",
              "  </thead>\n",
              "  <tbody>\n",
              "    <tr>\n",
              "      <th>0</th>\n",
              "      <td>1901</td>\n",
              "      <td>Kansas Saloon Smashers</td>\n",
              "      <td>A bartender is working at a saloon, serving dr...</td>\n",
              "      <td>a bartender is working at a saloon serving dri...</td>\n",
              "      <td>[a, bartender, is, working, at, a, saloon, ser...</td>\n",
              "    </tr>\n",
              "    <tr>\n",
              "      <th>1</th>\n",
              "      <td>1901</td>\n",
              "      <td>Love by the Light of the Moon</td>\n",
              "      <td>The moon, painted with a smiling face hangs ov...</td>\n",
              "      <td>the moon painted with a smiling face hangs ove...</td>\n",
              "      <td>[the, moon, painted, with, a, smiling, face, h...</td>\n",
              "    </tr>\n",
              "    <tr>\n",
              "      <th>2</th>\n",
              "      <td>1901</td>\n",
              "      <td>The Martyred Presidents</td>\n",
              "      <td>The film, just over a minute long, is composed...</td>\n",
              "      <td>the film just over a minute long is composed o...</td>\n",
              "      <td>[the, film, just, over, a, minute, long, is, c...</td>\n",
              "    </tr>\n",
              "    <tr>\n",
              "      <th>3</th>\n",
              "      <td>1901</td>\n",
              "      <td>Terrible Teddy, the Grizzly King</td>\n",
              "      <td>Lasting just 61 seconds and consisting of two ...</td>\n",
              "      <td>lasting just 61 seconds and consisting of two ...</td>\n",
              "      <td>[lasting, just, 61, seconds, and, consisting, ...</td>\n",
              "    </tr>\n",
              "    <tr>\n",
              "      <th>4</th>\n",
              "      <td>1902</td>\n",
              "      <td>Jack and the Beanstalk</td>\n",
              "      <td>The earliest known adaptation of the classic f...</td>\n",
              "      <td>the earliest known adaptation of the classic f...</td>\n",
              "      <td>[the, earliest, known, adaptation, of, the, cl...</td>\n",
              "    </tr>\n",
              "  </tbody>\n",
              "</table>\n",
              "</div>"
            ],
            "text/plain": [
              "   Release Year                             Title  \\\n",
              "0          1901            Kansas Saloon Smashers   \n",
              "1          1901     Love by the Light of the Moon   \n",
              "2          1901           The Martyred Presidents   \n",
              "3          1901  Terrible Teddy, the Grizzly King   \n",
              "4          1902            Jack and the Beanstalk   \n",
              "\n",
              "                                                Plot  \\\n",
              "0  A bartender is working at a saloon, serving dr...   \n",
              "1  The moon, painted with a smiling face hangs ov...   \n",
              "2  The film, just over a minute long, is composed...   \n",
              "3  Lasting just 61 seconds and consisting of two ...   \n",
              "4  The earliest known adaptation of the classic f...   \n",
              "\n",
              "                                         textoLimpio  \\\n",
              "0  a bartender is working at a saloon serving dri...   \n",
              "1  the moon painted with a smiling face hangs ove...   \n",
              "2  the film just over a minute long is composed o...   \n",
              "3  lasting just 61 seconds and consisting of two ...   \n",
              "4  the earliest known adaptation of the classic f...   \n",
              "\n",
              "                                              tokens  \n",
              "0  [a, bartender, is, working, at, a, saloon, ser...  \n",
              "1  [the, moon, painted, with, a, smiling, face, h...  \n",
              "2  [the, film, just, over, a, minute, long, is, c...  \n",
              "3  [lasting, just, 61, seconds, and, consisting, ...  \n",
              "4  [the, earliest, known, adaptation, of, the, cl...  "
            ]
          },
          "execution_count": 7,
          "metadata": {},
          "output_type": "execute_result"
        }
      ],
      "source": [
        "df_final.head()"
      ]
    },
    {
      "cell_type": "markdown",
      "metadata": {
        "id": "CQ-9fcB__7r5"
      },
      "source": [
        "# Eliminar Stopwords"
      ]
    },
    {
      "cell_type": "code",
      "execution_count": 8,
      "metadata": {
        "colab": {
          "base_uri": "https://localhost:8080/"
        },
        "id": "Dcpsueam_6m8",
        "outputId": "30ae3ac1-5593-4b7f-c97d-7ab223153797"
      },
      "outputs": [
        {
          "name": "stderr",
          "output_type": "stream",
          "text": [
            "[nltk_data] Downloading package stopwords to\n",
            "[nltk_data]     C:\\Users\\glenn\\AppData\\Roaming\\nltk_data...\n",
            "[nltk_data]   Package stopwords is already up-to-date!\n"
          ]
        }
      ],
      "source": [
        "nltk.download('stopwords')\n",
        "from nltk.corpus import stopwords\n",
        "stop_words = set(stopwords.words('english'))\n",
        "df_final.loc[:, 'tokens'] = df_final['tokens'].apply(lambda tokens: [token for token in tokens if token not in stop_words])"
      ]
    },
    {
      "cell_type": "code",
      "execution_count": 9,
      "metadata": {
        "colab": {
          "base_uri": "https://localhost:8080/",
          "height": 449
        },
        "id": "7vKSTdFZAcuP",
        "outputId": "a3e4eeb4-f0f8-443f-d206-273d34e56201"
      },
      "outputs": [
        {
          "data": {
            "text/html": [
              "<div>\n",
              "<style scoped>\n",
              "    .dataframe tbody tr th:only-of-type {\n",
              "        vertical-align: middle;\n",
              "    }\n",
              "\n",
              "    .dataframe tbody tr th {\n",
              "        vertical-align: top;\n",
              "    }\n",
              "\n",
              "    .dataframe thead th {\n",
              "        text-align: right;\n",
              "    }\n",
              "</style>\n",
              "<table border=\"1\" class=\"dataframe\">\n",
              "  <thead>\n",
              "    <tr style=\"text-align: right;\">\n",
              "      <th></th>\n",
              "      <th>Release Year</th>\n",
              "      <th>Title</th>\n",
              "      <th>Plot</th>\n",
              "      <th>textoLimpio</th>\n",
              "      <th>tokens</th>\n",
              "    </tr>\n",
              "  </thead>\n",
              "  <tbody>\n",
              "    <tr>\n",
              "      <th>0</th>\n",
              "      <td>1901</td>\n",
              "      <td>Kansas Saloon Smashers</td>\n",
              "      <td>A bartender is working at a saloon, serving dr...</td>\n",
              "      <td>a bartender is working at a saloon serving dri...</td>\n",
              "      <td>[bartender, working, saloon, serving, drinks, ...</td>\n",
              "    </tr>\n",
              "    <tr>\n",
              "      <th>1</th>\n",
              "      <td>1901</td>\n",
              "      <td>Love by the Light of the Moon</td>\n",
              "      <td>The moon, painted with a smiling face hangs ov...</td>\n",
              "      <td>the moon painted with a smiling face hangs ove...</td>\n",
              "      <td>[moon, painted, smiling, face, hangs, park, ni...</td>\n",
              "    </tr>\n",
              "    <tr>\n",
              "      <th>2</th>\n",
              "      <td>1901</td>\n",
              "      <td>The Martyred Presidents</td>\n",
              "      <td>The film, just over a minute long, is composed...</td>\n",
              "      <td>the film just over a minute long is composed o...</td>\n",
              "      <td>[film, minute, long, composed, two, shots, fir...</td>\n",
              "    </tr>\n",
              "    <tr>\n",
              "      <th>3</th>\n",
              "      <td>1901</td>\n",
              "      <td>Terrible Teddy, the Grizzly King</td>\n",
              "      <td>Lasting just 61 seconds and consisting of two ...</td>\n",
              "      <td>lasting just 61 seconds and consisting of two ...</td>\n",
              "      <td>[lasting, 61, seconds, consisting, two, shots,...</td>\n",
              "    </tr>\n",
              "    <tr>\n",
              "      <th>4</th>\n",
              "      <td>1902</td>\n",
              "      <td>Jack and the Beanstalk</td>\n",
              "      <td>The earliest known adaptation of the classic f...</td>\n",
              "      <td>the earliest known adaptation of the classic f...</td>\n",
              "      <td>[earliest, known, adaptation, classic, fairyta...</td>\n",
              "    </tr>\n",
              "  </tbody>\n",
              "</table>\n",
              "</div>"
            ],
            "text/plain": [
              "   Release Year                             Title  \\\n",
              "0          1901            Kansas Saloon Smashers   \n",
              "1          1901     Love by the Light of the Moon   \n",
              "2          1901           The Martyred Presidents   \n",
              "3          1901  Terrible Teddy, the Grizzly King   \n",
              "4          1902            Jack and the Beanstalk   \n",
              "\n",
              "                                                Plot  \\\n",
              "0  A bartender is working at a saloon, serving dr...   \n",
              "1  The moon, painted with a smiling face hangs ov...   \n",
              "2  The film, just over a minute long, is composed...   \n",
              "3  Lasting just 61 seconds and consisting of two ...   \n",
              "4  The earliest known adaptation of the classic f...   \n",
              "\n",
              "                                         textoLimpio  \\\n",
              "0  a bartender is working at a saloon serving dri...   \n",
              "1  the moon painted with a smiling face hangs ove...   \n",
              "2  the film just over a minute long is composed o...   \n",
              "3  lasting just 61 seconds and consisting of two ...   \n",
              "4  the earliest known adaptation of the classic f...   \n",
              "\n",
              "                                              tokens  \n",
              "0  [bartender, working, saloon, serving, drinks, ...  \n",
              "1  [moon, painted, smiling, face, hangs, park, ni...  \n",
              "2  [film, minute, long, composed, two, shots, fir...  \n",
              "3  [lasting, 61, seconds, consisting, two, shots,...  \n",
              "4  [earliest, known, adaptation, classic, fairyta...  "
            ]
          },
          "execution_count": 9,
          "metadata": {},
          "output_type": "execute_result"
        }
      ],
      "source": [
        "df_final.head()"
      ]
    },
    {
      "cell_type": "markdown",
      "metadata": {
        "id": "T2VVixzB7hC-"
      },
      "source": [
        "# Indice Invertido"
      ]
    },
    {
      "cell_type": "code",
      "execution_count": 10,
      "metadata": {
        "id": "IMvKw0Gw7K2_"
      },
      "outputs": [],
      "source": [
        "def indiceInvertido(df, columna_tokens):\n",
        "    indice = {}\n",
        "    for index, row in df.iterrows():\n",
        "        tokens = row[columna_tokens]\n",
        "        for token in tokens:\n",
        "            if token not in indice:\n",
        "                indice[token] = []\n",
        "            indice[token].append(index)\n",
        "    return indice\n"
      ]
    },
    {
      "cell_type": "code",
      "execution_count": 11,
      "metadata": {
        "id": "ylTpY4q6_LxP"
      },
      "outputs": [],
      "source": [
        "indice = indiceInvertido(df_final, 'tokens')"
      ]
    },
    {
      "cell_type": "code",
      "execution_count": 12,
      "metadata": {
        "id": "J3-ZYuieuGOl"
      },
      "outputs": [],
      "source": [
        "def buscarTitulos(indice_invertido, df, columna_title, columna_plot, palabra):\n",
        "    documentos = indice_invertido.get(palabra, [])\n",
        "    titulos_encontrados = []\n",
        "    for documento in documentos:\n",
        "        titulo = df.loc[documento, columna_title]\n",
        "        plot = df.loc[documento, columna_plot]\n",
        "        titulos_encontrados.append(titulo)\n",
        "    return titulos_encontrados\n"
      ]
    },
    {
      "cell_type": "code",
      "execution_count": 13,
      "metadata": {
        "id": "Kf0PKkmM5URw"
      },
      "outputs": [],
      "source": [
        "def busquedaIndiceInvertido(indice, df, texto_busqueda):\n",
        "    # Tokenizamos el texto de búsqueda\n",
        "    tokens_busqueda = texto_busqueda.split()\n",
        "    resultados = set()  # Usamos un set para evitar duplicados\n",
        "\n",
        "    # Para cada token en el texto de búsqueda, encontramos los documentos que lo contienen\n",
        "    for token in tokens_busqueda:\n",
        "        if token in indice:\n",
        "            # Añadimos los títulos y tramas correspondientes a los índices encontrados\n",
        "            for index in indice[token]:\n",
        "                titulo = df.iloc[index][\"Title\"]\n",
        "                plot = df.iloc[index][\"Plot\"]\n",
        "                resultados.add((titulo, plot))  # Usamos una tupla para asegurarnos de que no se repitan\n",
        "\n",
        "    # Convertimos el set de resultados en una lista de diccionarios y devolvemos los primeros 5\n",
        "    return [{\"Title\": titulo, \"Plot\": plot} for titulo, plot in list(resultados)[:5]]\n",
        "\n"
      ]
    },
    {
      "cell_type": "code",
      "execution_count": 14,
      "metadata": {},
      "outputs": [
        {
          "name": "stdout",
          "output_type": "stream",
          "text": [
            "Título: Brewster's Millions\n",
            "Trama: As summarized in a film publication,[4] Monte Brewster's (Arbuckle) two grandfathers, one rich and the other a self-made man, squabble as to the way the infant should be raised. The mother steps in and decides to raise the child her way, which results in Monte being a clerk in a steamship office at the age of 21. At this point the grandfathers get together again, with one grandfather giving him $1 million, and the other offering $4 million provided that at the end of one year Monte spends the $1 million given by the other grandfather. Other conditions include that he be absolutely \"broke\" at the end of one year, that he not marry for five years, and not to tell any one of the arrangement. Young Brewster tries everything he can to get rid of the money, but everything he does and the wildest chances he takes result in more money for him. He hires three men to help him spend the money, but they take too much interest in investing it wisely. They hire Peggy Gray (Clarke) for a position in Monte's office to manage his affairs so that he will not lose his money. Peggy purchases some mines in Peru and a ship Monte has hired for a pleasure cruise is used to go to Peru, but they never get there. They rescue a ship in distress and then are forced to turn back. At the last minute Monte is dead broke but married to Peggy. But the salvage on the ship Monte rescued brings him $2 million, and the Peruvian government extends the time for working the mines, so everything ends happy.\n",
            "\n",
            "Título: Best Foot Forward\n",
            "Trama: The story centers around Lucille Ball, who plays herself against the backdrop of a military academy full of frisky boys. Ball is the reluctant guest of a diminutive cadet, Bud Hooper, who wrote her a \"mash note\" and invitation to be his date at a school prom.\n",
            "Ball's publicity man, Jack O'Riley, seizes upon the situation as a perfect PR stunt, and convinces her to travel 3,000 miles to join Hooper at Winsocki Military Academy's dance. When Ball actually shows up, mayhem ensues. Hooper, who never dreamed she would accept, has to disinvite his girlfriend, Helen Schlesinger, and ask Ball to pretend to be Helen, lest the actress herself not pass muster with the institution's screening committee.\n",
            "Helen fights back while Hooper tries to keep Ball from the clutches of other cadets who want to steal her for themselves. Meanwhile, Harry James and his orchestra perform various songs, including \"The Flight of the Bumblebee\". The cast also sing and dance their way through such numbers as \"Buckle Down, Winsocki\" (the tune co-opted in the 1960s for \"Buckle Up for Safety\"), \"Wish I May\", \"Three Men on a Date\", \"Alive and Kickin'\", \"The Barrelhouse, the Boogie-Woogie, and the Blues\", and \"Ev'ry time\". (The soundtrack CD also includes the cut \"What Do You Think I Am?\".)\n",
            "\n",
            "Título: Leatherface: The Texas Chainsaw Massacre III\n",
            "Trama: Leatherface bludgeons a young woman, Gina, to death with a sledgehammer and cuts off her face to make it into a mask while Gina's sister Sara watches from a nearby window. Sometime later, a couple traveling through Texas, Michelle and Ryan, reach the Last Chance Gas Station, where they meet a hitchhiker named Tex and the station's owner Alfredo. A fight soon breaks out between Tex and Alfredo when Tex finds Alfredo spying on Michelle as she uses the station restroom. As Michelle and Ryan flee in their car, they witness Alfredo apparently killing Tex with a shotgun. When Ryan and Michelle become lost, the driver of a large truck throws a dead coyote at their windshield. As Ryan changes the car's flat tire, Leatherface ambushes them, but they manage to drive off unscathed.\n",
            "Afterwards, Michelle, Ryan, and another driver, a survivalist named Benny, crash when a bloodied Tex leaps in front of the car. Michelle, Ryan, and Benny decide to find Tex. On the way, Benny discovers a hook-handed man named Tinker, who offers his assistance in setting down road flares. Benny soon realizes Tinker's real intentions after he finds a damaged chainsaw in the back of his truck. He flees and encounters Leatherface, but is saved by Sara, who had earlier escaped Leatherface. Benny learns that Sara's entire family was killed, and that Leatherface and his family are watching the roads. Benny hears Michelle and Ryan calling for him and leaves Sara; Leatherface kills her with his chainsaw a short time later. Leatherface then attacks Michelle and Ryan, capturing the latter when he gets caught in a bear trap.\n",
            "Escaping, Michelle locates a house and is captured by Tex, who brings her into the kitchen and introduces her to the already deceased and decomposed \"Grandpa\". Tinker then drags in the badly injured Ryan, whom he and Tex suspend upside-down with a pair of meat hooks. When Leatherface returns home, Tex equips him a large golden chainsaw with the words \"The saw is family\" engraved on it. Outside the house, Benny finds and attempts to interrogate Alfredo but is unsuccessful, eventually knocking Alfredo into the bog and leaving him to drown. As the family prepare for dinner in the kitchen, the Little Girl kills Ryan with a sledgehammer-swinging device. Leatherface prepares to kill Michelle as well, but Benny opens fire on the house with an automatic rifle. In the process, Anne is killed, Tinker and Tex are injured, and Michelle escapes.\n",
            "Michelle flees to the woods, pursued by Leatherface, while Benny fights and eventually burns Tex alive. Benny rushes to Michelle's aid, but is apparently killed by Leatherface. As dawn breaks, Michelle reaches the main road and rests on an abandoned tire, before Alfredo's pickup truck, driven by a surviving Benny, stops in front of her. As Benny helps her into the truck, Alfredo appears and attacks him from behind with a sledgehammer. Benny avoids Alfredo's attacks, and Michelle shoots Alfredo in the chest with a shotgun before the pair drive away, unaware that Leatherface is revving his chainsaw some distance away.\n",
            "\n",
            "Título: Broken Bridges\n",
            "Trama: Bo Price (Keith), a down-and-out country singer, has returned home for his brother's funeral following a military training accident. While there, he reunites with his true love, Angela Delton (Preston), a Miami news reporter who has also returned home for her brother's funeral. Bo also meets their 16-year-old daughter, Dixie Leigh Delton (Haun), for the first time. Since Bo walked away from Angela while she was still pregnant, Dixie has never met him or his side of the family. Dixie has experimented with alcohol, but is able to break free with the help of her now-sober father. With her father's musical blood running through her veins, Dixie closes the movie by singing a song she wrote at the memorial for the fallen soldiers.\n",
            "\n",
            "Título: Sri Venkateswara Mahatyam\n",
            "Trama: The film begins with the advent of Kaliyuga, the earth faces threats of all sorts. To reduce its burden Saptharishis helmed by Kasyapa Muni perform a Yagna, Narada Maharshi (P. Suribabu) arrives their and asks who is the patron deity of the sacrifice. Unable to answer, the sages sends Bhrigu Maharshi (Gummadi) to test Trimurthi's. After testing Lord Siva (Vempati Pedha Satyam) & Brahma (A. V. Subba Rao Jr.) Bhrigu reaches Vaikuntha when the Lord Vishnu (N. T. Rama Rao) and his consort Lakshmi (S. Varalakshmi) are in a playful mood and ignore Bhrigu. Angered by this, Bhrigu kicks Vishnu on his chest. To pacify the sage, Vishnu held his legs and pressed the extra eye in his foot the symbol of his egotism where sage realized his folly and apologized to Vishnu. But Lakshmi gets upsets. In that anger, she leaves to earth, Vishnu goes in search of her and settles in an anthill without food & water. Taking pity on Vishnu, Brahma & Shiva assumed the forms of a cow and its calf to serve him. Lakshmi in the form of a cowherdess sold them to the king. Discovering Vishnu on the ant-hill, the cow provided its milk, and thus fed him. Meanwhile, at the palace, the cow was not yielding any milk, for which the queen chastised the royal cow herder Sarabha (Ramana Reddy) severely. To find out the cause Sarabha follows the cow secretly and discovered the cow emptying her udder over the ant-hill. Angered Sarabha flung his axe to harm the cow. However, Vishnu rose from the ant-hill to receive the blow then he curses Sarabha to roam as a ghost until he forms as a diety at this place.\n",
            "After that Vishnu reaches to his ardent devotee Vakulamatha’s (Anjali Devi) ashram calls her as the mother, She names him as Srinivasa and starts staying with her. Once Srinivasa on hunting chases a wild elephant. In its pursuit, he was led into a garden, where he meets Padmavati (Savitri), daughter of Aakasa Raju (A. V. Subba Rao) and both of them fall in love. After initial hesitation, Aakasa Raju and his wife Dharani Devi (Rushyendramani) agrees to their marriage. For the marriage expenses, Srinivasa takes debt from Kubera and promises to repay the loan with interest till the end of Kaliyuga. After the marriage, Sage Narada informed Lakshmi about the wedding, then fuming Lakshmi confronts with Vishnu and Padmavathi. The clash between his two consorts leads Vishnu, Srinivasa, to turn his self into a stone statue. Padmavathi & Lakshmi also becomes stone on his either sides and Vakula Devi as garland. Everyone feels happy that the deity was revealed as Swayambhu to protect the earth.\n",
            "Generations Pass, Once a devotee called Bhavaji (Chittoor V. Nagaiah), arrives from North India and starts calling the Lord as Balaji. But he is not allowed to see the god and thrown out of the temple. From that time the god visits every day to spend some time with him by playing dice. One day, in the game Balaji Lord loses his ornament in the bet. Next day, when the temple doors are opened, the ornament is missing. The King (Rajanala) arrives to conduct interrogation and Bhavaji says the truth that God himself has given to him. Everybody says that it's a cock & bull story, so King keeps a test to him to prove his innocence keeping him in a prison with full of sugar cane inside, and asks him to eat every bit of it before dawn. Lord Venkateswara arrives in a form of an elephant and finishes the sugar cane within moments, and disappears. In the morning, the king was surprised to see all the sugar cane eaten. From that day he becomes famous in the name of Hathiram Bhavaji and the entire authority of the temple is given to him. At last, generations go on passing and number of devotees increasing to the temple. Finally, the movie ends by showing the Srivari Brahmotsavam.\n",
            "\n"
          ]
        }
      ],
      "source": [
        "resultados = busquedaIndiceInvertido(indice,df_final,\"time travel\")\n",
        "for resultado in resultados:\n",
        "    print(f\"Título: {resultado['Title']}\")\n",
        "    print(f\"Trama: {resultado['Plot']}\\n\")"
      ]
    },
    {
      "cell_type": "markdown",
      "metadata": {
        "id": "WaRObZjTBMnv"
      },
      "source": [
        "# Woosh"
      ]
    },
    {
      "cell_type": "code",
      "execution_count": 15,
      "metadata": {
        "colab": {
          "base_uri": "https://localhost:8080/"
        },
        "id": "QyLPoObe-yr_",
        "outputId": "42006a1e-279e-48bd-c840-59835056e155"
      },
      "outputs": [
        {
          "name": "stdout",
          "output_type": "stream",
          "text": [
            "Collecting whoosh\n",
            "  Downloading Whoosh-2.7.4-py2.py3-none-any.whl.metadata (3.1 kB)\n",
            "Downloading Whoosh-2.7.4-py2.py3-none-any.whl (468 kB)\n",
            "Installing collected packages: whoosh\n",
            "Successfully installed whoosh-2.7.4\n",
            "Note: you may need to restart the kernel to use updated packages.\n"
          ]
        }
      ],
      "source": [
        "pip install whoosh"
      ]
    },
    {
      "cell_type": "code",
      "execution_count": 16,
      "metadata": {
        "id": "JKr0gmzqBGrn"
      },
      "outputs": [],
      "source": [
        "from whoosh import index\n",
        "from whoosh.fields import Schema, TEXT, ID\n",
        "from whoosh.qparser import QueryParser\n",
        "import os"
      ]
    },
    {
      "cell_type": "code",
      "execution_count": 17,
      "metadata": {
        "id": "DezfpD20Ddqh"
      },
      "outputs": [],
      "source": [
        "schema = Schema(\n",
        "    Title=TEXT(stored=True),  # Almacenar el título\n",
        "    Plot=TEXT(stored=True)    # Almacenar la trama\n",
        ")"
      ]
    },
    {
      "cell_type": "code",
      "execution_count": 18,
      "metadata": {
        "id": "hk09t4br_cZn"
      },
      "outputs": [],
      "source": [
        "# Paso 2: Crear el índice\n",
        "index_dir = \"whoosh_index\"\n",
        "if not os.path.exists(index_dir):\n",
        "    os.mkdir(index_dir)\n",
        "index_whoosh = index.create_in(index_dir, schema)\n"
      ]
    },
    {
      "cell_type": "code",
      "execution_count": 19,
      "metadata": {
        "id": "ZqOVlzKk_fEG"
      },
      "outputs": [],
      "source": [
        "writer = index_whoosh.writer()\n",
        "for _, row in df_final.iterrows():\n",
        "    writer.add_document(\n",
        "        Title=row[\"Title\"],\n",
        "        Plot=row[\"Plot\"]\n",
        "    )\n",
        "writer.commit()\n"
      ]
    },
    {
      "cell_type": "code",
      "execution_count": 20,
      "metadata": {
        "id": "QwCFULpt_ikV"
      },
      "outputs": [],
      "source": [
        "\n",
        "# Paso 4: Realizar búsquedas\n",
        "def buscar_peliculas_whoosh(texto_busqueda):\n",
        "    with index_whoosh.searcher() as searcher:\n",
        "        query = QueryParser(\"Plot\", index_whoosh.schema).parse(texto_busqueda)\n",
        "        resultados = searcher.search(query, limit=5)  # Limitar a los 10 resultados más relevantes\n",
        "        return [dict(result) for result in resultados]\n"
      ]
    },
    {
      "cell_type": "code",
      "execution_count": 21,
      "metadata": {
        "colab": {
          "base_uri": "https://localhost:8080/"
        },
        "id": "cytCdh4hGgZh",
        "outputId": "f44cb194-27d2-4d14-ffa7-f12a0670b631"
      },
      "outputs": [
        {
          "name": "stdout",
          "output_type": "stream",
          "text": [
            "Título: Time Chasers\n",
            "Trama: Physics teacher and amateur pilot Nick Miller (Matthew Bruch) has finally completed his quest of enabling time travel, via a Commodore 64 and his small airplane. After being inspired by a television commercial for GenCorp, he uses a ruse to bring out both a GenCorp executive and a reporter from a local paper. To Nick's surprise, the reporter is Lisa Hansen (Bonnie Pritchard), an old high school flame. One trip to 2041 later and Gencorp's executive, Matthew Paul (Peter Harrington), quickly arranges Nick a meeting with CEO J.K. Robertson (George Woodard). Impressed by the potential of time travel, Robertson offers Nick a licensing agreement on the technology.\n",
            "The following week, Nick and Lisa meet at the supermarket and go on a date to the 1950s. However, another trip to 2041 reveals that GenCorp abused Nick's time travel technology, creating a dystopian future. In an attempt to tell J.K. about how GenCorp inadvertently ruined the future. J.K. dismisses the eventuality, and states that there's enough time to worry about how to fix it before it happens. J.K. sees Nick as a threat to GenCorp, and due to the association with the U.S. Government, considers Nick's actions as treason. Nick and Lisa escape GenCorp and spend the remainder of the film trying to reverse the damage to the future. When J.K. finds out about this, he and Matt try to shoot down Nick's plane, killing Lisa in the process while Nick jumps out before the plane crashes. This ultimately culminates in a fight in 1777 during the American Revolution, the deaths of the present Nick and Robertson, and the destruction of the time machine before the original demo, thus ensuring that the majority of the film's events never happen in the first place. The film ends with the now current Nick (now aware of the danger of his time machine) sabotaging his demonstration, and doing a pitch of how an elderly skydiver would be a better ad campaign for J.K.'s company. Furious about being misled, J.K. fires Matt. Nick deletes the eight 5¼\" floppy disks that make time travel possible. At the end of the film, Nick talks to Lisa in the supermarket as he did in the previous timeline.\n",
            "\n",
            "Título: Love Story 2050\n",
            "Trama: Karan Malhotra (Harman Baweja) is a spirited and happy-go-lucky boy who does not follow the rules. Sana (Priyanka Chopra) is the opposite of Karan: a sweet and shy girl who lives life by the rules. Even though they are completely opposite, they fall in love, leading to a magical love story.[9]\n",
            "A scientist, Dr. Yatinder Khanna (Boman Irani), has dedicated 15 years of his life to building a time machine. Sana expresses a wish to time-travel to Mumbai in the year 2050, but she is killed in an accident before her marriage to Karan. Karan wishes to travel back in time and find Sana. Dr. Yatinder, Karan, and Sana's siblings, Rahul and Thea, travel forward in time and reach Mumbai in 2050. They are fascinated by the futuristic Mumbai, with its flying cars, holograms, robots, 200-story buildings and more.\n",
            "Twists and turns lead to the introduction of Ziesha (Priyanka Chopra), the reincarnation of Sana. Ziesha is a popular singer in 2050 who does not remember her past life, but gets flashbacks of it after meeting Karan. Unlike Sana, Ziesha is an arrogant, headstrong and rebellious girl who does not believe in love. She leads a lonely life after the death of her parents, which has embittered her.\n",
            "Karan and the others find themselves under the threat of the demi-god, Dr. Hoshi. After Karan tells Ziesha he loves her, he is taken away from her by the guards. Ziesha does not believe him when he tells her about his time travel. However, after reading Sana's diary, Ziesha ultimately remembers her past life. Karan returns to her and she declares her love for him and tells him she is Sana. Dr. Hoshi tries to capture Karan because he wants the time machine. After a wild attempt to catch Karan and Ziesha, Hoshi crashes into a nuclear substance truck and dies. Karan goes back to 2008 in the time machine with Ziesha and the rest of his family. Everyone is overjoyed to see their beloved Sana again and Karan proposes to her.[9][10]\n",
            "\n",
            "Título: Timeranger vs. GoGoV\n",
            "Trama: In the 30th century, time travel becomes illegal after a time paradox crisis. The Time Protection Department (TPD) is established to watch for and stop time crimes. Four new enlistee cadets of the TPD are tricked by Don Dolnero and his gang into letting them time-travel to the year 2000 to commit various crimes and, to protect history, the four cadets pursue them. They encounter a severe problem: the Timeranger program requires five members for the first operation. They force a present-day martial artist, Tatsuya Asami, to join them, and they become the Timerangers. Tatsuya rents a building for them to live in, and they start a small odd-jobs business called Tomorrow Research to financially support themselves.\n",
            "Over time, the four cadets begin to realize that their presence would inevitably change the future in the form of the City Guardians, a security force under the employment of the Asami Corporation to protect the city from the Londers. The City Guardians form a tenuous relationship with the Timerangers, especially when Tatsuya's college acquaintance Naoto becomes Time Fire and later also becomes the City Guardian's captain.\n",
            "\n",
            "Título: Abby Sen\n",
            "Trama: Kolkata 2013. Abby Sen is a 30-year-old television producer. He is academically brilliant, has a strong background in science and watching science fiction films is his greatest passion. But his programmes on television are never popular and fail to make a mark on the TRP ratings. And that is perhaps the only reason why Abby has lost no less than seven jobs. Every time he is fired, his wife Somy gets hysterical and throws down everything that she could lay her hands on. So Abby has not disclosed his last dismissal to her.\n",
            "By sheer coincidence, Abby meets a self-styled scientist who claims to have discovered a time-travel capsule. The scientist volunteers to take Abby back in time when getting a job was not that difficult. But he has certain conditions, which Abby must fulfill. Finding all options bleak, Abby decides to agree to his conditions and travel 33 years back in time, that is, in 1980.\n",
            "Thereafter, a series of unforeseen incidents and intricacies of relationships make Abby’s life in 1980 as eventful as ever. But flung between the two worlds of 1980 and 2013 both in his personal and professional life, Abby represents the predicament of a man struggling to survive in this competitive world.\n",
            "\n",
            "Título: Dimensions\n",
            "Trama: The film follows Stephen, a brilliant young scientist who lives in Cambridge, England, in what appears to be the 1920s. His world is turned upside down upon meeting a charismatic and inspirational professor at a garden party, who demonstrates to Stephen and his friends what life would be like if they were one-, or two-dimensional beings. He then proceeds to explain that by manipulating other dimensions, time travel may actually be possible.\n",
            "Soon after the professor's visit, Stephan,his cousin, Conrad, and his neighbor, Victoria, were fooling around by a well. Conrad throws Victoria's skipping rope down the well. The nanny catches the boys rolling around fighting and drags them in the house by the ears leaving Victoria alone to play outside by herself. After some time, she decides to climb down the well to get her skipping rope. She never climbs out of the well and her body is never found.\n",
            "As Stephen’s life unfolds, events lead him to dedicate himself to turning the Professor’s theories of time travel into reality. Jealousy, love, obsession, temptation and greed surround him, influencing his fragile mind and the direction of his work.\n",
            "\n"
          ]
        }
      ],
      "source": [
        "# Ejemplo de búsqueda\n",
        "resultados = buscar_peliculas_whoosh(\"time travel\")\n",
        "for resultado in resultados:\n",
        "    print(f\"Título: {resultado['Title']}\")\n",
        "    print(f\"Trama: {resultado['Plot']}\\n\")"
      ]
    },
    {
      "cell_type": "markdown",
      "metadata": {
        "id": "i1Si6bbVKFwO"
      },
      "source": [
        "# Elasticsearch"
      ]
    },
    {
      "cell_type": "code",
      "execution_count": 22,
      "metadata": {
        "colab": {
          "base_uri": "https://localhost:8080/"
        },
        "id": "JPYoBU_MKEj_",
        "outputId": "c2bd2af7-9c9e-43dd-f309-67ee186c2ac9"
      },
      "outputs": [
        {
          "name": "stdout",
          "output_type": "stream",
          "text": [
            "Collecting elasticsearch\n",
            "  Downloading elasticsearch-8.17.0-py3-none-any.whl.metadata (8.8 kB)\n",
            "Collecting elastic-transport<9,>=8.15.1 (from elasticsearch)\n",
            "  Downloading elastic_transport-8.17.0-py3-none-any.whl.metadata (3.6 kB)\n",
            "Requirement already satisfied: urllib3<3,>=1.26.2 in c:\\users\\glenn\\appdata\\local\\programs\\python\\python312\\lib\\site-packages (from elastic-transport<9,>=8.15.1->elasticsearch) (2.2.1)\n",
            "Requirement already satisfied: certifi in c:\\users\\glenn\\appdata\\local\\programs\\python\\python312\\lib\\site-packages (from elastic-transport<9,>=8.15.1->elasticsearch) (2024.2.2)\n",
            "Downloading elasticsearch-8.17.0-py3-none-any.whl (571 kB)\n",
            "   ---------------------------------------- 0.0/571.2 kB ? eta -:--:--\n",
            "   ---------------------------------------- 0.0/571.2 kB ? eta -:--:--\n",
            "   ---------------------------------------- 571.2/571.2 kB 2.5 MB/s eta 0:00:00\n",
            "Downloading elastic_transport-8.17.0-py3-none-any.whl (64 kB)\n",
            "Installing collected packages: elastic-transport, elasticsearch\n",
            "Successfully installed elastic-transport-8.17.0 elasticsearch-8.17.0\n"
          ]
        }
      ],
      "source": [
        "!pip install elasticsearch"
      ]
    },
    {
      "cell_type": "markdown",
      "metadata": {},
      "source": [
        "### Conexion a Docker\n",
        "\n",
        "docker network create elastic\n",
        "\n",
        "docker pull docker.elastic.co/elasticsearch/elasticsearch:8.17.0\n",
        "\n",
        "docker run -d --name elasticsearch -p 9200:9200 -e \"discovery.type=single-node\" -e \"xpack.security.enabled=false\" docker.elastic.co/elasticsearch/elasticsearch:8.17.0\n",
        "\n",
        "curl http://localhost:9200"
      ]
    },
    {
      "cell_type": "code",
      "execution_count": 23,
      "metadata": {
        "colab": {
          "base_uri": "https://localhost:8080/"
        },
        "id": "bo7Zdm7VwnUt",
        "outputId": "71bc977c-bace-46ea-c26c-df659a2b3b97"
      },
      "outputs": [
        {
          "name": "stdout",
          "output_type": "stream",
          "text": [
            "Error al conectar con Elasticsearch\n"
          ]
        }
      ],
      "source": [
        "from elasticsearch import Elasticsearch\n",
        "\n",
        "# Conexión al cliente Elasticsearch\n",
        "es = Elasticsearch(\"http://localhost:9200\")\n",
        "\n",
        "# Verificar si está conectado\n",
        "if es.ping():\n",
        "    print(\"Conexión exitosa a Elasticsearch\")\n",
        "else:\n",
        "    print(\"Error al conectar con Elasticsearch\")\n"
      ]
    },
    {
      "cell_type": "code",
      "execution_count": 24,
      "metadata": {
        "id": "ZADSnK4AwnZG"
      },
      "outputs": [
        {
          "ename": "ConnectionError",
          "evalue": "Connection error caused by: ConnectionError(Connection error caused by: NewConnectionError(<urllib3.connection.HTTPConnection object at 0x000001B2BC5BFD70>: Failed to establish a new connection: [WinError 10061] No se puede establecer una conexión ya que el equipo de destino denegó expresamente dicha conexión))",
          "output_type": "error",
          "traceback": [
            "\u001b[1;31m---------------------------------------------------------------------------\u001b[0m",
            "\u001b[1;31mConnectionRefusedError\u001b[0m                    Traceback (most recent call last)",
            "File \u001b[1;32mc:\\Users\\glenn\\AppData\\Local\\Programs\\Python\\Python312\\Lib\\site-packages\\urllib3\\connection.py:198\u001b[0m, in \u001b[0;36mHTTPConnection._new_conn\u001b[1;34m(self)\u001b[0m\n\u001b[0;32m    197\u001b[0m \u001b[38;5;28;01mtry\u001b[39;00m:\n\u001b[1;32m--> 198\u001b[0m     sock \u001b[38;5;241m=\u001b[39m \u001b[43mconnection\u001b[49m\u001b[38;5;241;43m.\u001b[39;49m\u001b[43mcreate_connection\u001b[49m\u001b[43m(\u001b[49m\n\u001b[0;32m    199\u001b[0m \u001b[43m        \u001b[49m\u001b[43m(\u001b[49m\u001b[38;5;28;43mself\u001b[39;49m\u001b[38;5;241;43m.\u001b[39;49m\u001b[43m_dns_host\u001b[49m\u001b[43m,\u001b[49m\u001b[43m \u001b[49m\u001b[38;5;28;43mself\u001b[39;49m\u001b[38;5;241;43m.\u001b[39;49m\u001b[43mport\u001b[49m\u001b[43m)\u001b[49m\u001b[43m,\u001b[49m\n\u001b[0;32m    200\u001b[0m \u001b[43m        \u001b[49m\u001b[38;5;28;43mself\u001b[39;49m\u001b[38;5;241;43m.\u001b[39;49m\u001b[43mtimeout\u001b[49m\u001b[43m,\u001b[49m\n\u001b[0;32m    201\u001b[0m \u001b[43m        \u001b[49m\u001b[43msource_address\u001b[49m\u001b[38;5;241;43m=\u001b[39;49m\u001b[38;5;28;43mself\u001b[39;49m\u001b[38;5;241;43m.\u001b[39;49m\u001b[43msource_address\u001b[49m\u001b[43m,\u001b[49m\n\u001b[0;32m    202\u001b[0m \u001b[43m        \u001b[49m\u001b[43msocket_options\u001b[49m\u001b[38;5;241;43m=\u001b[39;49m\u001b[38;5;28;43mself\u001b[39;49m\u001b[38;5;241;43m.\u001b[39;49m\u001b[43msocket_options\u001b[49m\u001b[43m,\u001b[49m\n\u001b[0;32m    203\u001b[0m \u001b[43m    \u001b[49m\u001b[43m)\u001b[49m\n\u001b[0;32m    204\u001b[0m \u001b[38;5;28;01mexcept\u001b[39;00m socket\u001b[38;5;241m.\u001b[39mgaierror \u001b[38;5;28;01mas\u001b[39;00m e:\n",
            "File \u001b[1;32mc:\\Users\\glenn\\AppData\\Local\\Programs\\Python\\Python312\\Lib\\site-packages\\urllib3\\util\\connection.py:85\u001b[0m, in \u001b[0;36mcreate_connection\u001b[1;34m(address, timeout, source_address, socket_options)\u001b[0m\n\u001b[0;32m     84\u001b[0m \u001b[38;5;28;01mtry\u001b[39;00m:\n\u001b[1;32m---> 85\u001b[0m     \u001b[38;5;28;01mraise\u001b[39;00m err\n\u001b[0;32m     86\u001b[0m \u001b[38;5;28;01mfinally\u001b[39;00m:\n\u001b[0;32m     87\u001b[0m     \u001b[38;5;66;03m# Break explicitly a reference cycle\u001b[39;00m\n",
            "File \u001b[1;32mc:\\Users\\glenn\\AppData\\Local\\Programs\\Python\\Python312\\Lib\\site-packages\\urllib3\\util\\connection.py:73\u001b[0m, in \u001b[0;36mcreate_connection\u001b[1;34m(address, timeout, source_address, socket_options)\u001b[0m\n\u001b[0;32m     72\u001b[0m     sock\u001b[38;5;241m.\u001b[39mbind(source_address)\n\u001b[1;32m---> 73\u001b[0m \u001b[43msock\u001b[49m\u001b[38;5;241;43m.\u001b[39;49m\u001b[43mconnect\u001b[49m\u001b[43m(\u001b[49m\u001b[43msa\u001b[49m\u001b[43m)\u001b[49m\n\u001b[0;32m     74\u001b[0m \u001b[38;5;66;03m# Break explicitly a reference cycle\u001b[39;00m\n",
            "\u001b[1;31mConnectionRefusedError\u001b[0m: [WinError 10061] No se puede establecer una conexión ya que el equipo de destino denegó expresamente dicha conexión",
            "\nThe above exception was the direct cause of the following exception:\n",
            "\u001b[1;31mNewConnectionError\u001b[0m                        Traceback (most recent call last)",
            "File \u001b[1;32mc:\\Users\\glenn\\AppData\\Local\\Programs\\Python\\Python312\\Lib\\site-packages\\elastic_transport\\_node\\_http_urllib3.py:167\u001b[0m, in \u001b[0;36mUrllib3HttpNode.perform_request\u001b[1;34m(self, method, target, body, headers, request_timeout)\u001b[0m\n\u001b[0;32m    165\u001b[0m     body_to_send \u001b[38;5;241m=\u001b[39m \u001b[38;5;28;01mNone\u001b[39;00m\n\u001b[1;32m--> 167\u001b[0m response \u001b[38;5;241m=\u001b[39m \u001b[38;5;28;43mself\u001b[39;49m\u001b[38;5;241;43m.\u001b[39;49m\u001b[43mpool\u001b[49m\u001b[38;5;241;43m.\u001b[39;49m\u001b[43murlopen\u001b[49m\u001b[43m(\u001b[49m\n\u001b[0;32m    168\u001b[0m \u001b[43m    \u001b[49m\u001b[43mmethod\u001b[49m\u001b[43m,\u001b[49m\n\u001b[0;32m    169\u001b[0m \u001b[43m    \u001b[49m\u001b[43mtarget\u001b[49m\u001b[43m,\u001b[49m\n\u001b[0;32m    170\u001b[0m \u001b[43m    \u001b[49m\u001b[43mbody\u001b[49m\u001b[38;5;241;43m=\u001b[39;49m\u001b[43mbody_to_send\u001b[49m\u001b[43m,\u001b[49m\n\u001b[0;32m    171\u001b[0m \u001b[43m    \u001b[49m\u001b[43mretries\u001b[49m\u001b[38;5;241;43m=\u001b[39;49m\u001b[43mRetry\u001b[49m\u001b[43m(\u001b[49m\u001b[38;5;28;43;01mFalse\u001b[39;49;00m\u001b[43m)\u001b[49m\u001b[43m,\u001b[49m\n\u001b[0;32m    172\u001b[0m \u001b[43m    \u001b[49m\u001b[43mheaders\u001b[49m\u001b[38;5;241;43m=\u001b[39;49m\u001b[43mrequest_headers\u001b[49m\u001b[43m,\u001b[49m\n\u001b[0;32m    173\u001b[0m \u001b[43m    \u001b[49m\u001b[38;5;241;43m*\u001b[39;49m\u001b[38;5;241;43m*\u001b[39;49m\u001b[43mkw\u001b[49m\u001b[43m,\u001b[49m\u001b[43m  \u001b[49m\u001b[38;5;66;43;03m# type: ignore[arg-type]\u001b[39;49;00m\n\u001b[0;32m    174\u001b[0m \u001b[43m\u001b[49m\u001b[43m)\u001b[49m\n\u001b[0;32m    175\u001b[0m response_headers \u001b[38;5;241m=\u001b[39m HttpHeaders(response\u001b[38;5;241m.\u001b[39mheaders)\n",
            "File \u001b[1;32mc:\\Users\\glenn\\AppData\\Local\\Programs\\Python\\Python312\\Lib\\site-packages\\urllib3\\connectionpool.py:847\u001b[0m, in \u001b[0;36mHTTPConnectionPool.urlopen\u001b[1;34m(self, method, url, body, headers, retries, redirect, assert_same_host, timeout, pool_timeout, release_conn, chunked, body_pos, preload_content, decode_content, **response_kw)\u001b[0m\n\u001b[0;32m    845\u001b[0m     new_e \u001b[38;5;241m=\u001b[39m ProtocolError(\u001b[38;5;124m\"\u001b[39m\u001b[38;5;124mConnection aborted.\u001b[39m\u001b[38;5;124m\"\u001b[39m, new_e)\n\u001b[1;32m--> 847\u001b[0m retries \u001b[38;5;241m=\u001b[39m \u001b[43mretries\u001b[49m\u001b[38;5;241;43m.\u001b[39;49m\u001b[43mincrement\u001b[49m\u001b[43m(\u001b[49m\n\u001b[0;32m    848\u001b[0m \u001b[43m    \u001b[49m\u001b[43mmethod\u001b[49m\u001b[43m,\u001b[49m\u001b[43m \u001b[49m\u001b[43murl\u001b[49m\u001b[43m,\u001b[49m\u001b[43m \u001b[49m\u001b[43merror\u001b[49m\u001b[38;5;241;43m=\u001b[39;49m\u001b[43mnew_e\u001b[49m\u001b[43m,\u001b[49m\u001b[43m \u001b[49m\u001b[43m_pool\u001b[49m\u001b[38;5;241;43m=\u001b[39;49m\u001b[38;5;28;43mself\u001b[39;49m\u001b[43m,\u001b[49m\u001b[43m \u001b[49m\u001b[43m_stacktrace\u001b[49m\u001b[38;5;241;43m=\u001b[39;49m\u001b[43msys\u001b[49m\u001b[38;5;241;43m.\u001b[39;49m\u001b[43mexc_info\u001b[49m\u001b[43m(\u001b[49m\u001b[43m)\u001b[49m\u001b[43m[\u001b[49m\u001b[38;5;241;43m2\u001b[39;49m\u001b[43m]\u001b[49m\n\u001b[0;32m    849\u001b[0m \u001b[43m\u001b[49m\u001b[43m)\u001b[49m\n\u001b[0;32m    850\u001b[0m retries\u001b[38;5;241m.\u001b[39msleep()\n",
            "File \u001b[1;32mc:\\Users\\glenn\\AppData\\Local\\Programs\\Python\\Python312\\Lib\\site-packages\\urllib3\\util\\retry.py:445\u001b[0m, in \u001b[0;36mRetry.increment\u001b[1;34m(self, method, url, response, error, _pool, _stacktrace)\u001b[0m\n\u001b[0;32m    443\u001b[0m \u001b[38;5;28;01mif\u001b[39;00m \u001b[38;5;28mself\u001b[39m\u001b[38;5;241m.\u001b[39mtotal \u001b[38;5;129;01mis\u001b[39;00m \u001b[38;5;28;01mFalse\u001b[39;00m \u001b[38;5;129;01mand\u001b[39;00m error:\n\u001b[0;32m    444\u001b[0m     \u001b[38;5;66;03m# Disabled, indicate to re-raise the error.\u001b[39;00m\n\u001b[1;32m--> 445\u001b[0m     \u001b[38;5;28;01mraise\u001b[39;00m \u001b[43mreraise\u001b[49m\u001b[43m(\u001b[49m\u001b[38;5;28;43mtype\u001b[39;49m\u001b[43m(\u001b[49m\u001b[43merror\u001b[49m\u001b[43m)\u001b[49m\u001b[43m,\u001b[49m\u001b[43m \u001b[49m\u001b[43merror\u001b[49m\u001b[43m,\u001b[49m\u001b[43m \u001b[49m\u001b[43m_stacktrace\u001b[49m\u001b[43m)\u001b[49m\n\u001b[0;32m    447\u001b[0m total \u001b[38;5;241m=\u001b[39m \u001b[38;5;28mself\u001b[39m\u001b[38;5;241m.\u001b[39mtotal\n",
            "File \u001b[1;32mc:\\Users\\glenn\\AppData\\Local\\Programs\\Python\\Python312\\Lib\\site-packages\\urllib3\\util\\util.py:39\u001b[0m, in \u001b[0;36mreraise\u001b[1;34m(tp, value, tb)\u001b[0m\n\u001b[0;32m     38\u001b[0m         \u001b[38;5;28;01mraise\u001b[39;00m value\u001b[38;5;241m.\u001b[39mwith_traceback(tb)\n\u001b[1;32m---> 39\u001b[0m     \u001b[38;5;28;01mraise\u001b[39;00m value\n\u001b[0;32m     40\u001b[0m \u001b[38;5;28;01mfinally\u001b[39;00m:\n",
            "File \u001b[1;32mc:\\Users\\glenn\\AppData\\Local\\Programs\\Python\\Python312\\Lib\\site-packages\\urllib3\\connectionpool.py:793\u001b[0m, in \u001b[0;36mHTTPConnectionPool.urlopen\u001b[1;34m(self, method, url, body, headers, retries, redirect, assert_same_host, timeout, pool_timeout, release_conn, chunked, body_pos, preload_content, decode_content, **response_kw)\u001b[0m\n\u001b[0;32m    792\u001b[0m \u001b[38;5;66;03m# Make the request on the HTTPConnection object\u001b[39;00m\n\u001b[1;32m--> 793\u001b[0m response \u001b[38;5;241m=\u001b[39m \u001b[38;5;28;43mself\u001b[39;49m\u001b[38;5;241;43m.\u001b[39;49m\u001b[43m_make_request\u001b[49m\u001b[43m(\u001b[49m\n\u001b[0;32m    794\u001b[0m \u001b[43m    \u001b[49m\u001b[43mconn\u001b[49m\u001b[43m,\u001b[49m\n\u001b[0;32m    795\u001b[0m \u001b[43m    \u001b[49m\u001b[43mmethod\u001b[49m\u001b[43m,\u001b[49m\n\u001b[0;32m    796\u001b[0m \u001b[43m    \u001b[49m\u001b[43murl\u001b[49m\u001b[43m,\u001b[49m\n\u001b[0;32m    797\u001b[0m \u001b[43m    \u001b[49m\u001b[43mtimeout\u001b[49m\u001b[38;5;241;43m=\u001b[39;49m\u001b[43mtimeout_obj\u001b[49m\u001b[43m,\u001b[49m\n\u001b[0;32m    798\u001b[0m \u001b[43m    \u001b[49m\u001b[43mbody\u001b[49m\u001b[38;5;241;43m=\u001b[39;49m\u001b[43mbody\u001b[49m\u001b[43m,\u001b[49m\n\u001b[0;32m    799\u001b[0m \u001b[43m    \u001b[49m\u001b[43mheaders\u001b[49m\u001b[38;5;241;43m=\u001b[39;49m\u001b[43mheaders\u001b[49m\u001b[43m,\u001b[49m\n\u001b[0;32m    800\u001b[0m \u001b[43m    \u001b[49m\u001b[43mchunked\u001b[49m\u001b[38;5;241;43m=\u001b[39;49m\u001b[43mchunked\u001b[49m\u001b[43m,\u001b[49m\n\u001b[0;32m    801\u001b[0m \u001b[43m    \u001b[49m\u001b[43mretries\u001b[49m\u001b[38;5;241;43m=\u001b[39;49m\u001b[43mretries\u001b[49m\u001b[43m,\u001b[49m\n\u001b[0;32m    802\u001b[0m \u001b[43m    \u001b[49m\u001b[43mresponse_conn\u001b[49m\u001b[38;5;241;43m=\u001b[39;49m\u001b[43mresponse_conn\u001b[49m\u001b[43m,\u001b[49m\n\u001b[0;32m    803\u001b[0m \u001b[43m    \u001b[49m\u001b[43mpreload_content\u001b[49m\u001b[38;5;241;43m=\u001b[39;49m\u001b[43mpreload_content\u001b[49m\u001b[43m,\u001b[49m\n\u001b[0;32m    804\u001b[0m \u001b[43m    \u001b[49m\u001b[43mdecode_content\u001b[49m\u001b[38;5;241;43m=\u001b[39;49m\u001b[43mdecode_content\u001b[49m\u001b[43m,\u001b[49m\n\u001b[0;32m    805\u001b[0m \u001b[43m    \u001b[49m\u001b[38;5;241;43m*\u001b[39;49m\u001b[38;5;241;43m*\u001b[39;49m\u001b[43mresponse_kw\u001b[49m\u001b[43m,\u001b[49m\n\u001b[0;32m    806\u001b[0m \u001b[43m\u001b[49m\u001b[43m)\u001b[49m\n\u001b[0;32m    808\u001b[0m \u001b[38;5;66;03m# Everything went great!\u001b[39;00m\n",
            "File \u001b[1;32mc:\\Users\\glenn\\AppData\\Local\\Programs\\Python\\Python312\\Lib\\site-packages\\urllib3\\connectionpool.py:496\u001b[0m, in \u001b[0;36mHTTPConnectionPool._make_request\u001b[1;34m(self, conn, method, url, body, headers, retries, timeout, chunked, response_conn, preload_content, decode_content, enforce_content_length)\u001b[0m\n\u001b[0;32m    495\u001b[0m \u001b[38;5;28;01mtry\u001b[39;00m:\n\u001b[1;32m--> 496\u001b[0m     \u001b[43mconn\u001b[49m\u001b[38;5;241;43m.\u001b[39;49m\u001b[43mrequest\u001b[49m\u001b[43m(\u001b[49m\n\u001b[0;32m    497\u001b[0m \u001b[43m        \u001b[49m\u001b[43mmethod\u001b[49m\u001b[43m,\u001b[49m\n\u001b[0;32m    498\u001b[0m \u001b[43m        \u001b[49m\u001b[43murl\u001b[49m\u001b[43m,\u001b[49m\n\u001b[0;32m    499\u001b[0m \u001b[43m        \u001b[49m\u001b[43mbody\u001b[49m\u001b[38;5;241;43m=\u001b[39;49m\u001b[43mbody\u001b[49m\u001b[43m,\u001b[49m\n\u001b[0;32m    500\u001b[0m \u001b[43m        \u001b[49m\u001b[43mheaders\u001b[49m\u001b[38;5;241;43m=\u001b[39;49m\u001b[43mheaders\u001b[49m\u001b[43m,\u001b[49m\n\u001b[0;32m    501\u001b[0m \u001b[43m        \u001b[49m\u001b[43mchunked\u001b[49m\u001b[38;5;241;43m=\u001b[39;49m\u001b[43mchunked\u001b[49m\u001b[43m,\u001b[49m\n\u001b[0;32m    502\u001b[0m \u001b[43m        \u001b[49m\u001b[43mpreload_content\u001b[49m\u001b[38;5;241;43m=\u001b[39;49m\u001b[43mpreload_content\u001b[49m\u001b[43m,\u001b[49m\n\u001b[0;32m    503\u001b[0m \u001b[43m        \u001b[49m\u001b[43mdecode_content\u001b[49m\u001b[38;5;241;43m=\u001b[39;49m\u001b[43mdecode_content\u001b[49m\u001b[43m,\u001b[49m\n\u001b[0;32m    504\u001b[0m \u001b[43m        \u001b[49m\u001b[43menforce_content_length\u001b[49m\u001b[38;5;241;43m=\u001b[39;49m\u001b[43menforce_content_length\u001b[49m\u001b[43m,\u001b[49m\n\u001b[0;32m    505\u001b[0m \u001b[43m    \u001b[49m\u001b[43m)\u001b[49m\n\u001b[0;32m    507\u001b[0m \u001b[38;5;66;03m# We are swallowing BrokenPipeError (errno.EPIPE) since the server is\u001b[39;00m\n\u001b[0;32m    508\u001b[0m \u001b[38;5;66;03m# legitimately able to close the connection after sending a valid response.\u001b[39;00m\n\u001b[0;32m    509\u001b[0m \u001b[38;5;66;03m# With this behaviour, the received response is still readable.\u001b[39;00m\n",
            "File \u001b[1;32mc:\\Users\\glenn\\AppData\\Local\\Programs\\Python\\Python312\\Lib\\site-packages\\urllib3\\connection.py:400\u001b[0m, in \u001b[0;36mHTTPConnection.request\u001b[1;34m(self, method, url, body, headers, chunked, preload_content, decode_content, enforce_content_length)\u001b[0m\n\u001b[0;32m    399\u001b[0m     \u001b[38;5;28mself\u001b[39m\u001b[38;5;241m.\u001b[39mputheader(header, value)\n\u001b[1;32m--> 400\u001b[0m \u001b[38;5;28;43mself\u001b[39;49m\u001b[38;5;241;43m.\u001b[39;49m\u001b[43mendheaders\u001b[49m\u001b[43m(\u001b[49m\u001b[43m)\u001b[49m\n\u001b[0;32m    402\u001b[0m \u001b[38;5;66;03m# If we're given a body we start sending that in chunks.\u001b[39;00m\n",
            "File \u001b[1;32mc:\\Users\\glenn\\AppData\\Local\\Programs\\Python\\Python312\\Lib\\http\\client.py:1331\u001b[0m, in \u001b[0;36mHTTPConnection.endheaders\u001b[1;34m(self, message_body, encode_chunked)\u001b[0m\n\u001b[0;32m   1330\u001b[0m     \u001b[38;5;28;01mraise\u001b[39;00m CannotSendHeader()\n\u001b[1;32m-> 1331\u001b[0m \u001b[38;5;28;43mself\u001b[39;49m\u001b[38;5;241;43m.\u001b[39;49m\u001b[43m_send_output\u001b[49m\u001b[43m(\u001b[49m\u001b[43mmessage_body\u001b[49m\u001b[43m,\u001b[49m\u001b[43m \u001b[49m\u001b[43mencode_chunked\u001b[49m\u001b[38;5;241;43m=\u001b[39;49m\u001b[43mencode_chunked\u001b[49m\u001b[43m)\u001b[49m\n",
            "File \u001b[1;32mc:\\Users\\glenn\\AppData\\Local\\Programs\\Python\\Python312\\Lib\\http\\client.py:1091\u001b[0m, in \u001b[0;36mHTTPConnection._send_output\u001b[1;34m(self, message_body, encode_chunked)\u001b[0m\n\u001b[0;32m   1090\u001b[0m \u001b[38;5;28;01mdel\u001b[39;00m \u001b[38;5;28mself\u001b[39m\u001b[38;5;241m.\u001b[39m_buffer[:]\n\u001b[1;32m-> 1091\u001b[0m \u001b[38;5;28;43mself\u001b[39;49m\u001b[38;5;241;43m.\u001b[39;49m\u001b[43msend\u001b[49m\u001b[43m(\u001b[49m\u001b[43mmsg\u001b[49m\u001b[43m)\u001b[49m\n\u001b[0;32m   1093\u001b[0m \u001b[38;5;28;01mif\u001b[39;00m message_body \u001b[38;5;129;01mis\u001b[39;00m \u001b[38;5;129;01mnot\u001b[39;00m \u001b[38;5;28;01mNone\u001b[39;00m:\n\u001b[0;32m   1094\u001b[0m \n\u001b[0;32m   1095\u001b[0m     \u001b[38;5;66;03m# create a consistent interface to message_body\u001b[39;00m\n",
            "File \u001b[1;32mc:\\Users\\glenn\\AppData\\Local\\Programs\\Python\\Python312\\Lib\\http\\client.py:1035\u001b[0m, in \u001b[0;36mHTTPConnection.send\u001b[1;34m(self, data)\u001b[0m\n\u001b[0;32m   1034\u001b[0m \u001b[38;5;28;01mif\u001b[39;00m \u001b[38;5;28mself\u001b[39m\u001b[38;5;241m.\u001b[39mauto_open:\n\u001b[1;32m-> 1035\u001b[0m     \u001b[38;5;28;43mself\u001b[39;49m\u001b[38;5;241;43m.\u001b[39;49m\u001b[43mconnect\u001b[49m\u001b[43m(\u001b[49m\u001b[43m)\u001b[49m\n\u001b[0;32m   1036\u001b[0m \u001b[38;5;28;01melse\u001b[39;00m:\n",
            "File \u001b[1;32mc:\\Users\\glenn\\AppData\\Local\\Programs\\Python\\Python312\\Lib\\site-packages\\urllib3\\connection.py:238\u001b[0m, in \u001b[0;36mHTTPConnection.connect\u001b[1;34m(self)\u001b[0m\n\u001b[0;32m    237\u001b[0m \u001b[38;5;28;01mdef\u001b[39;00m \u001b[38;5;21mconnect\u001b[39m(\u001b[38;5;28mself\u001b[39m) \u001b[38;5;241m-\u001b[39m\u001b[38;5;241m>\u001b[39m \u001b[38;5;28;01mNone\u001b[39;00m:\n\u001b[1;32m--> 238\u001b[0m     \u001b[38;5;28mself\u001b[39m\u001b[38;5;241m.\u001b[39msock \u001b[38;5;241m=\u001b[39m \u001b[38;5;28;43mself\u001b[39;49m\u001b[38;5;241;43m.\u001b[39;49m\u001b[43m_new_conn\u001b[49m\u001b[43m(\u001b[49m\u001b[43m)\u001b[49m\n\u001b[0;32m    239\u001b[0m     \u001b[38;5;28;01mif\u001b[39;00m \u001b[38;5;28mself\u001b[39m\u001b[38;5;241m.\u001b[39m_tunnel_host:\n\u001b[0;32m    240\u001b[0m         \u001b[38;5;66;03m# If we're tunneling it means we're connected to our proxy.\u001b[39;00m\n",
            "File \u001b[1;32mc:\\Users\\glenn\\AppData\\Local\\Programs\\Python\\Python312\\Lib\\site-packages\\urllib3\\connection.py:213\u001b[0m, in \u001b[0;36mHTTPConnection._new_conn\u001b[1;34m(self)\u001b[0m\n\u001b[0;32m    212\u001b[0m \u001b[38;5;28;01mexcept\u001b[39;00m \u001b[38;5;167;01mOSError\u001b[39;00m \u001b[38;5;28;01mas\u001b[39;00m e:\n\u001b[1;32m--> 213\u001b[0m     \u001b[38;5;28;01mraise\u001b[39;00m NewConnectionError(\n\u001b[0;32m    214\u001b[0m         \u001b[38;5;28mself\u001b[39m, \u001b[38;5;124mf\u001b[39m\u001b[38;5;124m\"\u001b[39m\u001b[38;5;124mFailed to establish a new connection: \u001b[39m\u001b[38;5;132;01m{\u001b[39;00me\u001b[38;5;132;01m}\u001b[39;00m\u001b[38;5;124m\"\u001b[39m\n\u001b[0;32m    215\u001b[0m     ) \u001b[38;5;28;01mfrom\u001b[39;00m \u001b[38;5;21;01me\u001b[39;00m\n\u001b[0;32m    217\u001b[0m \u001b[38;5;66;03m# Audit hooks are only available in Python 3.8+\u001b[39;00m\n",
            "\u001b[1;31mNewConnectionError\u001b[0m: <urllib3.connection.HTTPConnection object at 0x000001B2B8058170>: Failed to establish a new connection: [WinError 10061] No se puede establecer una conexión ya que el equipo de destino denegó expresamente dicha conexión",
            "\nThe above exception was the direct cause of the following exception:\n",
            "\u001b[1;31mConnectionError\u001b[0m                           Traceback (most recent call last)",
            "Cell \u001b[1;32mIn[24], line 3\u001b[0m\n\u001b[0;32m      1\u001b[0m \u001b[38;5;66;03m# Definimos el esquema del índice\u001b[39;00m\n\u001b[0;32m      2\u001b[0m index_name \u001b[38;5;241m=\u001b[39m \u001b[38;5;124m\"\u001b[39m\u001b[38;5;124mmovies\u001b[39m\u001b[38;5;124m\"\u001b[39m\n\u001b[1;32m----> 3\u001b[0m \u001b[38;5;28;01mif\u001b[39;00m \u001b[38;5;129;01mnot\u001b[39;00m \u001b[43mes\u001b[49m\u001b[38;5;241;43m.\u001b[39;49m\u001b[43mindices\u001b[49m\u001b[38;5;241;43m.\u001b[39;49m\u001b[43mexists\u001b[49m\u001b[43m(\u001b[49m\u001b[43mindex\u001b[49m\u001b[38;5;241;43m=\u001b[39;49m\u001b[43mindex_name\u001b[49m\u001b[43m)\u001b[49m:\n\u001b[0;32m      4\u001b[0m     es\u001b[38;5;241m.\u001b[39mindices\u001b[38;5;241m.\u001b[39mcreate(\n\u001b[0;32m      5\u001b[0m         index\u001b[38;5;241m=\u001b[39mindex_name,\n\u001b[0;32m      6\u001b[0m         body\u001b[38;5;241m=\u001b[39m{\n\u001b[1;32m   (...)\u001b[0m\n\u001b[0;32m     13\u001b[0m         }\n\u001b[0;32m     14\u001b[0m     )\n\u001b[0;32m     15\u001b[0m     \u001b[38;5;28mprint\u001b[39m(\u001b[38;5;124mf\u001b[39m\u001b[38;5;124m\"\u001b[39m\u001b[38;5;124mÍndice \u001b[39m\u001b[38;5;124m'\u001b[39m\u001b[38;5;132;01m{\u001b[39;00mindex_name\u001b[38;5;132;01m}\u001b[39;00m\u001b[38;5;124m'\u001b[39m\u001b[38;5;124m creado.\u001b[39m\u001b[38;5;124m\"\u001b[39m)\n",
            "File \u001b[1;32mc:\\Users\\glenn\\AppData\\Local\\Programs\\Python\\Python312\\Lib\\site-packages\\elasticsearch\\_sync\\client\\utils.py:455\u001b[0m, in \u001b[0;36m_rewrite_parameters.<locals>.wrapper.<locals>.wrapped\u001b[1;34m(*args, **kwargs)\u001b[0m\n\u001b[0;32m    452\u001b[0m         \u001b[38;5;28;01mexcept\u001b[39;00m \u001b[38;5;167;01mKeyError\u001b[39;00m:\n\u001b[0;32m    453\u001b[0m             \u001b[38;5;28;01mpass\u001b[39;00m\n\u001b[1;32m--> 455\u001b[0m \u001b[38;5;28;01mreturn\u001b[39;00m \u001b[43mapi\u001b[49m\u001b[43m(\u001b[49m\u001b[38;5;241;43m*\u001b[39;49m\u001b[43margs\u001b[49m\u001b[43m,\u001b[49m\u001b[43m \u001b[49m\u001b[38;5;241;43m*\u001b[39;49m\u001b[38;5;241;43m*\u001b[39;49m\u001b[43mkwargs\u001b[49m\u001b[43m)\u001b[49m\n",
            "File \u001b[1;32mc:\\Users\\glenn\\AppData\\Local\\Programs\\Python\\Python312\\Lib\\site-packages\\elasticsearch\\_sync\\client\\indices.py:1299\u001b[0m, in \u001b[0;36mIndicesClient.exists\u001b[1;34m(self, index, allow_no_indices, error_trace, expand_wildcards, filter_path, flat_settings, human, ignore_unavailable, include_defaults, local, pretty)\u001b[0m\n\u001b[0;32m   1297\u001b[0m     __query[\u001b[38;5;124m\"\u001b[39m\u001b[38;5;124mpretty\u001b[39m\u001b[38;5;124m\"\u001b[39m] \u001b[38;5;241m=\u001b[39m pretty\n\u001b[0;32m   1298\u001b[0m __headers \u001b[38;5;241m=\u001b[39m {\u001b[38;5;124m\"\u001b[39m\u001b[38;5;124maccept\u001b[39m\u001b[38;5;124m\"\u001b[39m: \u001b[38;5;124m\"\u001b[39m\u001b[38;5;124mapplication/json\u001b[39m\u001b[38;5;124m\"\u001b[39m}\n\u001b[1;32m-> 1299\u001b[0m \u001b[38;5;28;01mreturn\u001b[39;00m \u001b[38;5;28;43mself\u001b[39;49m\u001b[38;5;241;43m.\u001b[39;49m\u001b[43mperform_request\u001b[49m\u001b[43m(\u001b[49m\u001b[43m  \u001b[49m\u001b[38;5;66;43;03m# type: ignore[return-value]\u001b[39;49;00m\n\u001b[0;32m   1300\u001b[0m \u001b[43m    \u001b[49m\u001b[38;5;124;43m\"\u001b[39;49m\u001b[38;5;124;43mHEAD\u001b[39;49m\u001b[38;5;124;43m\"\u001b[39;49m\u001b[43m,\u001b[49m\n\u001b[0;32m   1301\u001b[0m \u001b[43m    \u001b[49m\u001b[43m__path\u001b[49m\u001b[43m,\u001b[49m\n\u001b[0;32m   1302\u001b[0m \u001b[43m    \u001b[49m\u001b[43mparams\u001b[49m\u001b[38;5;241;43m=\u001b[39;49m\u001b[43m__query\u001b[49m\u001b[43m,\u001b[49m\n\u001b[0;32m   1303\u001b[0m \u001b[43m    \u001b[49m\u001b[43mheaders\u001b[49m\u001b[38;5;241;43m=\u001b[39;49m\u001b[43m__headers\u001b[49m\u001b[43m,\u001b[49m\n\u001b[0;32m   1304\u001b[0m \u001b[43m    \u001b[49m\u001b[43mendpoint_id\u001b[49m\u001b[38;5;241;43m=\u001b[39;49m\u001b[38;5;124;43m\"\u001b[39;49m\u001b[38;5;124;43mindices.exists\u001b[39;49m\u001b[38;5;124;43m\"\u001b[39;49m\u001b[43m,\u001b[49m\n\u001b[0;32m   1305\u001b[0m \u001b[43m    \u001b[49m\u001b[43mpath_parts\u001b[49m\u001b[38;5;241;43m=\u001b[39;49m\u001b[43m__path_parts\u001b[49m\u001b[43m,\u001b[49m\n\u001b[0;32m   1306\u001b[0m \u001b[43m\u001b[49m\u001b[43m)\u001b[49m\n",
            "File \u001b[1;32mc:\\Users\\glenn\\AppData\\Local\\Programs\\Python\\Python312\\Lib\\site-packages\\elasticsearch\\_sync\\client\\_base.py:423\u001b[0m, in \u001b[0;36mNamespacedClient.perform_request\u001b[1;34m(self, method, path, params, headers, body, endpoint_id, path_parts)\u001b[0m\n\u001b[0;32m    410\u001b[0m \u001b[38;5;28;01mdef\u001b[39;00m \u001b[38;5;21mperform_request\u001b[39m(\n\u001b[0;32m    411\u001b[0m     \u001b[38;5;28mself\u001b[39m,\n\u001b[0;32m    412\u001b[0m     method: \u001b[38;5;28mstr\u001b[39m,\n\u001b[1;32m   (...)\u001b[0m\n\u001b[0;32m    421\u001b[0m     \u001b[38;5;66;03m# Use the internal clients .perform_request() implementation\u001b[39;00m\n\u001b[0;32m    422\u001b[0m     \u001b[38;5;66;03m# so we take advantage of their transport options.\u001b[39;00m\n\u001b[1;32m--> 423\u001b[0m     \u001b[38;5;28;01mreturn\u001b[39;00m \u001b[38;5;28;43mself\u001b[39;49m\u001b[38;5;241;43m.\u001b[39;49m\u001b[43m_client\u001b[49m\u001b[38;5;241;43m.\u001b[39;49m\u001b[43mperform_request\u001b[49m\u001b[43m(\u001b[49m\n\u001b[0;32m    424\u001b[0m \u001b[43m        \u001b[49m\u001b[43mmethod\u001b[49m\u001b[43m,\u001b[49m\n\u001b[0;32m    425\u001b[0m \u001b[43m        \u001b[49m\u001b[43mpath\u001b[49m\u001b[43m,\u001b[49m\n\u001b[0;32m    426\u001b[0m \u001b[43m        \u001b[49m\u001b[43mparams\u001b[49m\u001b[38;5;241;43m=\u001b[39;49m\u001b[43mparams\u001b[49m\u001b[43m,\u001b[49m\n\u001b[0;32m    427\u001b[0m \u001b[43m        \u001b[49m\u001b[43mheaders\u001b[49m\u001b[38;5;241;43m=\u001b[39;49m\u001b[43mheaders\u001b[49m\u001b[43m,\u001b[49m\n\u001b[0;32m    428\u001b[0m \u001b[43m        \u001b[49m\u001b[43mbody\u001b[49m\u001b[38;5;241;43m=\u001b[39;49m\u001b[43mbody\u001b[49m\u001b[43m,\u001b[49m\n\u001b[0;32m    429\u001b[0m \u001b[43m        \u001b[49m\u001b[43mendpoint_id\u001b[49m\u001b[38;5;241;43m=\u001b[39;49m\u001b[43mendpoint_id\u001b[49m\u001b[43m,\u001b[49m\n\u001b[0;32m    430\u001b[0m \u001b[43m        \u001b[49m\u001b[43mpath_parts\u001b[49m\u001b[38;5;241;43m=\u001b[39;49m\u001b[43mpath_parts\u001b[49m\u001b[43m,\u001b[49m\n\u001b[0;32m    431\u001b[0m \u001b[43m    \u001b[49m\u001b[43m)\u001b[49m\n",
            "File \u001b[1;32mc:\\Users\\glenn\\AppData\\Local\\Programs\\Python\\Python312\\Lib\\site-packages\\elasticsearch\\_sync\\client\\_base.py:271\u001b[0m, in \u001b[0;36mBaseClient.perform_request\u001b[1;34m(self, method, path, params, headers, body, endpoint_id, path_parts)\u001b[0m\n\u001b[0;32m    255\u001b[0m \u001b[38;5;28;01mdef\u001b[39;00m \u001b[38;5;21mperform_request\u001b[39m(\n\u001b[0;32m    256\u001b[0m     \u001b[38;5;28mself\u001b[39m,\n\u001b[0;32m    257\u001b[0m     method: \u001b[38;5;28mstr\u001b[39m,\n\u001b[1;32m   (...)\u001b[0m\n\u001b[0;32m    264\u001b[0m     path_parts: Optional[Mapping[\u001b[38;5;28mstr\u001b[39m, Any]] \u001b[38;5;241m=\u001b[39m \u001b[38;5;28;01mNone\u001b[39;00m,\n\u001b[0;32m    265\u001b[0m ) \u001b[38;5;241m-\u001b[39m\u001b[38;5;241m>\u001b[39m ApiResponse[Any]:\n\u001b[0;32m    266\u001b[0m     \u001b[38;5;28;01mwith\u001b[39;00m \u001b[38;5;28mself\u001b[39m\u001b[38;5;241m.\u001b[39m_otel\u001b[38;5;241m.\u001b[39mspan(\n\u001b[0;32m    267\u001b[0m         method,\n\u001b[0;32m    268\u001b[0m         endpoint_id\u001b[38;5;241m=\u001b[39mendpoint_id,\n\u001b[0;32m    269\u001b[0m         path_parts\u001b[38;5;241m=\u001b[39mpath_parts \u001b[38;5;129;01mor\u001b[39;00m {},\n\u001b[0;32m    270\u001b[0m     ) \u001b[38;5;28;01mas\u001b[39;00m otel_span:\n\u001b[1;32m--> 271\u001b[0m         response \u001b[38;5;241m=\u001b[39m \u001b[38;5;28;43mself\u001b[39;49m\u001b[38;5;241;43m.\u001b[39;49m\u001b[43m_perform_request\u001b[49m\u001b[43m(\u001b[49m\n\u001b[0;32m    272\u001b[0m \u001b[43m            \u001b[49m\u001b[43mmethod\u001b[49m\u001b[43m,\u001b[49m\n\u001b[0;32m    273\u001b[0m \u001b[43m            \u001b[49m\u001b[43mpath\u001b[49m\u001b[43m,\u001b[49m\n\u001b[0;32m    274\u001b[0m \u001b[43m            \u001b[49m\u001b[43mparams\u001b[49m\u001b[38;5;241;43m=\u001b[39;49m\u001b[43mparams\u001b[49m\u001b[43m,\u001b[49m\n\u001b[0;32m    275\u001b[0m \u001b[43m            \u001b[49m\u001b[43mheaders\u001b[49m\u001b[38;5;241;43m=\u001b[39;49m\u001b[43mheaders\u001b[49m\u001b[43m,\u001b[49m\n\u001b[0;32m    276\u001b[0m \u001b[43m            \u001b[49m\u001b[43mbody\u001b[49m\u001b[38;5;241;43m=\u001b[39;49m\u001b[43mbody\u001b[49m\u001b[43m,\u001b[49m\n\u001b[0;32m    277\u001b[0m \u001b[43m            \u001b[49m\u001b[43motel_span\u001b[49m\u001b[38;5;241;43m=\u001b[39;49m\u001b[43motel_span\u001b[49m\u001b[43m,\u001b[49m\n\u001b[0;32m    278\u001b[0m \u001b[43m        \u001b[49m\u001b[43m)\u001b[49m\n\u001b[0;32m    279\u001b[0m         otel_span\u001b[38;5;241m.\u001b[39mset_elastic_cloud_metadata(response\u001b[38;5;241m.\u001b[39mmeta\u001b[38;5;241m.\u001b[39mheaders)\n\u001b[0;32m    280\u001b[0m         \u001b[38;5;28;01mreturn\u001b[39;00m response\n",
            "File \u001b[1;32mc:\\Users\\glenn\\AppData\\Local\\Programs\\Python\\Python312\\Lib\\site-packages\\elasticsearch\\_sync\\client\\_base.py:316\u001b[0m, in \u001b[0;36mBaseClient._perform_request\u001b[1;34m(self, method, path, params, headers, body, otel_span)\u001b[0m\n\u001b[0;32m    313\u001b[0m \u001b[38;5;28;01melse\u001b[39;00m:\n\u001b[0;32m    314\u001b[0m     target \u001b[38;5;241m=\u001b[39m path\n\u001b[1;32m--> 316\u001b[0m meta, resp_body \u001b[38;5;241m=\u001b[39m \u001b[38;5;28;43mself\u001b[39;49m\u001b[38;5;241;43m.\u001b[39;49m\u001b[43mtransport\u001b[49m\u001b[38;5;241;43m.\u001b[39;49m\u001b[43mperform_request\u001b[49m\u001b[43m(\u001b[49m\n\u001b[0;32m    317\u001b[0m \u001b[43m    \u001b[49m\u001b[43mmethod\u001b[49m\u001b[43m,\u001b[49m\n\u001b[0;32m    318\u001b[0m \u001b[43m    \u001b[49m\u001b[43mtarget\u001b[49m\u001b[43m,\u001b[49m\n\u001b[0;32m    319\u001b[0m \u001b[43m    \u001b[49m\u001b[43mheaders\u001b[49m\u001b[38;5;241;43m=\u001b[39;49m\u001b[43mrequest_headers\u001b[49m\u001b[43m,\u001b[49m\n\u001b[0;32m    320\u001b[0m \u001b[43m    \u001b[49m\u001b[43mbody\u001b[49m\u001b[38;5;241;43m=\u001b[39;49m\u001b[43mbody\u001b[49m\u001b[43m,\u001b[49m\n\u001b[0;32m    321\u001b[0m \u001b[43m    \u001b[49m\u001b[43mrequest_timeout\u001b[49m\u001b[38;5;241;43m=\u001b[39;49m\u001b[38;5;28;43mself\u001b[39;49m\u001b[38;5;241;43m.\u001b[39;49m\u001b[43m_request_timeout\u001b[49m\u001b[43m,\u001b[49m\n\u001b[0;32m    322\u001b[0m \u001b[43m    \u001b[49m\u001b[43mmax_retries\u001b[49m\u001b[38;5;241;43m=\u001b[39;49m\u001b[38;5;28;43mself\u001b[39;49m\u001b[38;5;241;43m.\u001b[39;49m\u001b[43m_max_retries\u001b[49m\u001b[43m,\u001b[49m\n\u001b[0;32m    323\u001b[0m \u001b[43m    \u001b[49m\u001b[43mretry_on_status\u001b[49m\u001b[38;5;241;43m=\u001b[39;49m\u001b[38;5;28;43mself\u001b[39;49m\u001b[38;5;241;43m.\u001b[39;49m\u001b[43m_retry_on_status\u001b[49m\u001b[43m,\u001b[49m\n\u001b[0;32m    324\u001b[0m \u001b[43m    \u001b[49m\u001b[43mretry_on_timeout\u001b[49m\u001b[38;5;241;43m=\u001b[39;49m\u001b[38;5;28;43mself\u001b[39;49m\u001b[38;5;241;43m.\u001b[39;49m\u001b[43m_retry_on_timeout\u001b[49m\u001b[43m,\u001b[49m\n\u001b[0;32m    325\u001b[0m \u001b[43m    \u001b[49m\u001b[43mclient_meta\u001b[49m\u001b[38;5;241;43m=\u001b[39;49m\u001b[38;5;28;43mself\u001b[39;49m\u001b[38;5;241;43m.\u001b[39;49m\u001b[43m_client_meta\u001b[49m\u001b[43m,\u001b[49m\n\u001b[0;32m    326\u001b[0m \u001b[43m    \u001b[49m\u001b[43motel_span\u001b[49m\u001b[38;5;241;43m=\u001b[39;49m\u001b[43motel_span\u001b[49m\u001b[43m,\u001b[49m\n\u001b[0;32m    327\u001b[0m \u001b[43m\u001b[49m\u001b[43m)\u001b[49m\n\u001b[0;32m    329\u001b[0m \u001b[38;5;66;03m# HEAD with a 404 is returned as a normal response\u001b[39;00m\n\u001b[0;32m    330\u001b[0m \u001b[38;5;66;03m# since this is used as an 'exists' functionality.\u001b[39;00m\n\u001b[0;32m    331\u001b[0m \u001b[38;5;28;01mif\u001b[39;00m \u001b[38;5;129;01mnot\u001b[39;00m (method \u001b[38;5;241m==\u001b[39m \u001b[38;5;124m\"\u001b[39m\u001b[38;5;124mHEAD\u001b[39m\u001b[38;5;124m\"\u001b[39m \u001b[38;5;129;01mand\u001b[39;00m meta\u001b[38;5;241m.\u001b[39mstatus \u001b[38;5;241m==\u001b[39m \u001b[38;5;241m404\u001b[39m) \u001b[38;5;129;01mand\u001b[39;00m (\n\u001b[0;32m    332\u001b[0m     \u001b[38;5;129;01mnot\u001b[39;00m \u001b[38;5;241m200\u001b[39m \u001b[38;5;241m<\u001b[39m\u001b[38;5;241m=\u001b[39m meta\u001b[38;5;241m.\u001b[39mstatus \u001b[38;5;241m<\u001b[39m \u001b[38;5;241m299\u001b[39m\n\u001b[0;32m    333\u001b[0m     \u001b[38;5;129;01mand\u001b[39;00m (\n\u001b[1;32m   (...)\u001b[0m\n\u001b[0;32m    337\u001b[0m     )\n\u001b[0;32m    338\u001b[0m ):\n",
            "File \u001b[1;32mc:\\Users\\glenn\\AppData\\Local\\Programs\\Python\\Python312\\Lib\\site-packages\\elastic_transport\\_transport.py:342\u001b[0m, in \u001b[0;36mTransport.perform_request\u001b[1;34m(self, method, target, body, headers, max_retries, retry_on_status, retry_on_timeout, request_timeout, client_meta, otel_span)\u001b[0m\n\u001b[0;32m    340\u001b[0m \u001b[38;5;28;01mtry\u001b[39;00m:\n\u001b[0;32m    341\u001b[0m     otel_span\u001b[38;5;241m.\u001b[39mset_node_metadata(node\u001b[38;5;241m.\u001b[39mhost, node\u001b[38;5;241m.\u001b[39mport, node\u001b[38;5;241m.\u001b[39mbase_url, target)\n\u001b[1;32m--> 342\u001b[0m     resp \u001b[38;5;241m=\u001b[39m \u001b[43mnode\u001b[49m\u001b[38;5;241;43m.\u001b[39;49m\u001b[43mperform_request\u001b[49m\u001b[43m(\u001b[49m\n\u001b[0;32m    343\u001b[0m \u001b[43m        \u001b[49m\u001b[43mmethod\u001b[49m\u001b[43m,\u001b[49m\n\u001b[0;32m    344\u001b[0m \u001b[43m        \u001b[49m\u001b[43mtarget\u001b[49m\u001b[43m,\u001b[49m\n\u001b[0;32m    345\u001b[0m \u001b[43m        \u001b[49m\u001b[43mbody\u001b[49m\u001b[38;5;241;43m=\u001b[39;49m\u001b[43mrequest_body\u001b[49m\u001b[43m,\u001b[49m\n\u001b[0;32m    346\u001b[0m \u001b[43m        \u001b[49m\u001b[43mheaders\u001b[49m\u001b[38;5;241;43m=\u001b[39;49m\u001b[43mrequest_headers\u001b[49m\u001b[43m,\u001b[49m\n\u001b[0;32m    347\u001b[0m \u001b[43m        \u001b[49m\u001b[43mrequest_timeout\u001b[49m\u001b[38;5;241;43m=\u001b[39;49m\u001b[43mrequest_timeout\u001b[49m\u001b[43m,\u001b[49m\n\u001b[0;32m    348\u001b[0m \u001b[43m    \u001b[49m\u001b[43m)\u001b[49m\n\u001b[0;32m    349\u001b[0m     _logger\u001b[38;5;241m.\u001b[39minfo(\n\u001b[0;32m    350\u001b[0m         \u001b[38;5;124m\"\u001b[39m\u001b[38;5;132;01m%s\u001b[39;00m\u001b[38;5;124m \u001b[39m\u001b[38;5;132;01m%s\u001b[39;00m\u001b[38;5;132;01m%s\u001b[39;00m\u001b[38;5;124m [status:\u001b[39m\u001b[38;5;132;01m%s\u001b[39;00m\u001b[38;5;124m duration:\u001b[39m\u001b[38;5;132;01m%.3f\u001b[39;00m\u001b[38;5;124ms]\u001b[39m\u001b[38;5;124m\"\u001b[39m\n\u001b[0;32m    351\u001b[0m         \u001b[38;5;241m%\u001b[39m (\n\u001b[1;32m   (...)\u001b[0m\n\u001b[0;32m    357\u001b[0m         )\n\u001b[0;32m    358\u001b[0m     )\n\u001b[0;32m    360\u001b[0m     \u001b[38;5;28;01mif\u001b[39;00m method \u001b[38;5;241m!=\u001b[39m \u001b[38;5;124m\"\u001b[39m\u001b[38;5;124mHEAD\u001b[39m\u001b[38;5;124m\"\u001b[39m:\n",
            "File \u001b[1;32mc:\\Users\\glenn\\AppData\\Local\\Programs\\Python\\Python312\\Lib\\site-packages\\elastic_transport\\_node\\_http_urllib3.py:202\u001b[0m, in \u001b[0;36mUrllib3HttpNode.perform_request\u001b[1;34m(self, method, target, body, headers, request_timeout)\u001b[0m\n\u001b[0;32m    194\u001b[0m         err \u001b[38;5;241m=\u001b[39m \u001b[38;5;167;01mConnectionError\u001b[39;00m(\u001b[38;5;28mstr\u001b[39m(e), errors\u001b[38;5;241m=\u001b[39m(e,))\n\u001b[0;32m    195\u001b[0m     \u001b[38;5;28mself\u001b[39m\u001b[38;5;241m.\u001b[39m_log_request(\n\u001b[0;32m    196\u001b[0m         method\u001b[38;5;241m=\u001b[39mmethod,\n\u001b[0;32m    197\u001b[0m         target\u001b[38;5;241m=\u001b[39mtarget,\n\u001b[1;32m   (...)\u001b[0m\n\u001b[0;32m    200\u001b[0m         exception\u001b[38;5;241m=\u001b[39merr,\n\u001b[0;32m    201\u001b[0m     )\n\u001b[1;32m--> 202\u001b[0m     \u001b[38;5;28;01mraise\u001b[39;00m err \u001b[38;5;28;01mfrom\u001b[39;00m \u001b[38;5;21;01me\u001b[39;00m\n\u001b[0;32m    204\u001b[0m meta \u001b[38;5;241m=\u001b[39m ApiResponseMeta(\n\u001b[0;32m    205\u001b[0m     node\u001b[38;5;241m=\u001b[39m\u001b[38;5;28mself\u001b[39m\u001b[38;5;241m.\u001b[39mconfig,\n\u001b[0;32m    206\u001b[0m     duration\u001b[38;5;241m=\u001b[39mduration,\n\u001b[1;32m   (...)\u001b[0m\n\u001b[0;32m    209\u001b[0m     headers\u001b[38;5;241m=\u001b[39mresponse_headers,\n\u001b[0;32m    210\u001b[0m )\n\u001b[0;32m    211\u001b[0m \u001b[38;5;28mself\u001b[39m\u001b[38;5;241m.\u001b[39m_log_request(\n\u001b[0;32m    212\u001b[0m     method\u001b[38;5;241m=\u001b[39mmethod,\n\u001b[0;32m    213\u001b[0m     target\u001b[38;5;241m=\u001b[39mtarget,\n\u001b[1;32m   (...)\u001b[0m\n\u001b[0;32m    217\u001b[0m     response\u001b[38;5;241m=\u001b[39mdata,\n\u001b[0;32m    218\u001b[0m )\n",
            "\u001b[1;31mConnectionError\u001b[0m: Connection error caused by: ConnectionError(Connection error caused by: NewConnectionError(<urllib3.connection.HTTPConnection object at 0x000001B2BC5BFD70>: Failed to establish a new connection: [WinError 10061] No se puede establecer una conexión ya que el equipo de destino denegó expresamente dicha conexión))"
          ]
        }
      ],
      "source": [
        "# Definimos el esquema del índice\n",
        "index_name = \"movies\"\n",
        "if not es.indices.exists(index=index_name):\n",
        "    es.indices.create(\n",
        "        index=index_name,\n",
        "        body={\n",
        "            \"mappings\": {\n",
        "                \"properties\": {\n",
        "                    \"title\": {\"type\": \"text\"},\n",
        "                    \"plot\": {\"type\": \"text\"}\n",
        "                }\n",
        "            }\n",
        "        }\n",
        "    )\n",
        "    print(f\"Índice '{index_name}' creado.\")\n",
        "else:\n",
        "    print(f\"Índice '{index_name}' ya existe.\")\n"
      ]
    },
    {
      "cell_type": "code",
      "execution_count": null,
      "metadata": {
        "id": "ak5C-iW6wnbo"
      },
      "outputs": [
        {
          "name": "stdout",
          "output_type": "stream",
          "text": [
            "Películas indexadas con éxito.\n"
          ]
        }
      ],
      "source": [
        "# Indexar los datos\n",
        "for _, row in df_final.iterrows():\n",
        "    doc = {\n",
        "        \"title\": row[\"Title\"],\n",
        "        \"plot\": row[\"Plot\"]\n",
        "    }\n",
        "    es.index(index=index_name, id=row[\"Title\"], document=doc)\n",
        "\n",
        "print(\"Películas indexadas con éxito.\")\n"
      ]
    },
    {
      "cell_type": "code",
      "execution_count": 65,
      "metadata": {
        "id": "4Q6hVATywneC"
      },
      "outputs": [],
      "source": [
        "# Función para realizar búsquedas\n",
        "def buscar_peliculas_elasticsearch(query):\n",
        "    body = {\n",
        "        \"size\": 5,\n",
        "        \"query\": {\n",
        "            \"match\": {\n",
        "                \"plot\": query\n",
        "            }\n",
        "        }\n",
        "    }\n",
        "    resultados = es.search(index=index_name, body=body)\n",
        "    return [\n",
        "        {\n",
        "            \"title\": hit[\"_source\"][\"title\"],\n",
        "            \n",
        "            \"plot\": hit[\"_source\"][\"plot\"]\n",
        "        }\n",
        "        for hit in resultados[\"hits\"][\"hits\"]\n",
        "    ]"
      ]
    },
    {
      "cell_type": "code",
      "execution_count": 66,
      "metadata": {
        "id": "imemQPKbwnhm"
      },
      "outputs": [
        {
          "name": "stdout",
          "output_type": "stream",
          "text": [
            "Título: Time Chasers\n",
            "Trama: Physics teacher and amateur pilot Nick Miller (Matthew Bruch) has finally completed his quest of enabling time travel, via a Commodore 64 and his small airplane. After being inspired by a television commercial for GenCorp, he uses a ruse to bring out both a GenCorp executive and a reporter from a local paper. To Nick's surprise, the reporter is Lisa Hansen (Bonnie Pritchard), an old high school flame. One trip to 2041 later and Gencorp's executive, Matthew Paul (Peter Harrington), quickly arranges Nick a meeting with CEO J.K. Robertson (George Woodard). Impressed by the potential of time travel, Robertson offers Nick a licensing agreement on the technology.\n",
            "The following week, Nick and Lisa meet at the supermarket and go on a date to the 1950s. However, another trip to 2041 reveals that GenCorp abused Nick's time travel technology, creating a dystopian future. In an attempt to tell J.K. about how GenCorp inadvertently ruined the future. J.K. dismisses the eventuality, and states that there's enough time to worry about how to fix it before it happens. J.K. sees Nick as a threat to GenCorp, and due to the association with the U.S. Government, considers Nick's actions as treason. Nick and Lisa escape GenCorp and spend the remainder of the film trying to reverse the damage to the future. When J.K. finds out about this, he and Matt try to shoot down Nick's plane, killing Lisa in the process while Nick jumps out before the plane crashes. This ultimately culminates in a fight in 1777 during the American Revolution, the deaths of the present Nick and Robertson, and the destruction of the time machine before the original demo, thus ensuring that the majority of the film's events never happen in the first place. The film ends with the now current Nick (now aware of the danger of his time machine) sabotaging his demonstration, and doing a pitch of how an elderly skydiver would be a better ad campaign for J.K.'s company. Furious about being misled, J.K. fires Matt. Nick deletes the eight 5¼\" floppy disks that make time travel possible. At the end of the film, Nick talks to Lisa in the supermarket as he did in the previous timeline.\n",
            "\n",
            "Título: Love Story 2050\n",
            "Trama: Karan Malhotra (Harman Baweja) is a spirited and happy-go-lucky boy who does not follow the rules. Sana (Priyanka Chopra) is the opposite of Karan: a sweet and shy girl who lives life by the rules. Even though they are completely opposite, they fall in love, leading to a magical love story.[9]\n",
            "A scientist, Dr. Yatinder Khanna (Boman Irani), has dedicated 15 years of his life to building a time machine. Sana expresses a wish to time-travel to Mumbai in the year 2050, but she is killed in an accident before her marriage to Karan. Karan wishes to travel back in time and find Sana. Dr. Yatinder, Karan, and Sana's siblings, Rahul and Thea, travel forward in time and reach Mumbai in 2050. They are fascinated by the futuristic Mumbai, with its flying cars, holograms, robots, 200-story buildings and more.\n",
            "Twists and turns lead to the introduction of Ziesha (Priyanka Chopra), the reincarnation of Sana. Ziesha is a popular singer in 2050 who does not remember her past life, but gets flashbacks of it after meeting Karan. Unlike Sana, Ziesha is an arrogant, headstrong and rebellious girl who does not believe in love. She leads a lonely life after the death of her parents, which has embittered her.\n",
            "Karan and the others find themselves under the threat of the demi-god, Dr. Hoshi. After Karan tells Ziesha he loves her, he is taken away from her by the guards. Ziesha does not believe him when he tells her about his time travel. However, after reading Sana's diary, Ziesha ultimately remembers her past life. Karan returns to her and she declares her love for him and tells him she is Sana. Dr. Hoshi tries to capture Karan because he wants the time machine. After a wild attempt to catch Karan and Ziesha, Hoshi crashes into a nuclear substance truck and dies. Karan goes back to 2008 in the time machine with Ziesha and the rest of his family. Everyone is overjoyed to see their beloved Sana again and Karan proposes to her.[9][10]\n",
            "\n",
            "Título: Timeranger vs. GoGoV\n",
            "Trama: In the 30th century, time travel becomes illegal after a time paradox crisis. The Time Protection Department (TPD) is established to watch for and stop time crimes. Four new enlistee cadets of the TPD are tricked by Don Dolnero and his gang into letting them time-travel to the year 2000 to commit various crimes and, to protect history, the four cadets pursue them. They encounter a severe problem: the Timeranger program requires five members for the first operation. They force a present-day martial artist, Tatsuya Asami, to join them, and they become the Timerangers. Tatsuya rents a building for them to live in, and they start a small odd-jobs business called Tomorrow Research to financially support themselves.\n",
            "Over time, the four cadets begin to realize that their presence would inevitably change the future in the form of the City Guardians, a security force under the employment of the Asami Corporation to protect the city from the Londers. The City Guardians form a tenuous relationship with the Timerangers, especially when Tatsuya's college acquaintance Naoto becomes Time Fire and later also becomes the City Guardian's captain.\n",
            "\n",
            "Título: Abby Sen\n",
            "Trama: Kolkata 2013. Abby Sen is a 30-year-old television producer. He is academically brilliant, has a strong background in science and watching science fiction films is his greatest passion. But his programmes on television are never popular and fail to make a mark on the TRP ratings. And that is perhaps the only reason why Abby has lost no less than seven jobs. Every time he is fired, his wife Somy gets hysterical and throws down everything that she could lay her hands on. So Abby has not disclosed his last dismissal to her.\n",
            "By sheer coincidence, Abby meets a self-styled scientist who claims to have discovered a time-travel capsule. The scientist volunteers to take Abby back in time when getting a job was not that difficult. But he has certain conditions, which Abby must fulfill. Finding all options bleak, Abby decides to agree to his conditions and travel 33 years back in time, that is, in 1980.\n",
            "Thereafter, a series of unforeseen incidents and intricacies of relationships make Abby’s life in 1980 as eventful as ever. But flung between the two worlds of 1980 and 2013 both in his personal and professional life, Abby represents the predicament of a man struggling to survive in this competitive world.\n",
            "\n",
            "Título: Dimensions\n",
            "Trama: The film follows Stephen, a brilliant young scientist who lives in Cambridge, England, in what appears to be the 1920s. His world is turned upside down upon meeting a charismatic and inspirational professor at a garden party, who demonstrates to Stephen and his friends what life would be like if they were one-, or two-dimensional beings. He then proceeds to explain that by manipulating other dimensions, time travel may actually be possible.\n",
            "Soon after the professor's visit, Stephan,his cousin, Conrad, and his neighbor, Victoria, were fooling around by a well. Conrad throws Victoria's skipping rope down the well. The nanny catches the boys rolling around fighting and drags them in the house by the ears leaving Victoria alone to play outside by herself. After some time, she decides to climb down the well to get her skipping rope. She never climbs out of the well and her body is never found.\n",
            "As Stephen’s life unfolds, events lead him to dedicate himself to turning the Professor’s theories of time travel into reality. Jealousy, love, obsession, temptation and greed surround him, influencing his fragile mind and the direction of his work.\n",
            "\n"
          ]
        }
      ],
      "source": [
        "# Ejemplo de búsqueda\n",
        "resultados = buscar_peliculas_elasticsearch(\"time travel\")\n",
        "for resultado in resultados:\n",
        "    print(f\"Título: {resultado['title']}\\nTrama: {resultado['plot']}\\n\")"
      ]
    }
  ],
  "metadata": {
    "colab": {
      "provenance": []
    },
    "kernelspec": {
      "display_name": "Python 3",
      "name": "python3"
    },
    "language_info": {
      "codemirror_mode": {
        "name": "ipython",
        "version": 3
      },
      "file_extension": ".py",
      "mimetype": "text/x-python",
      "name": "python",
      "nbconvert_exporter": "python",
      "pygments_lexer": "ipython3",
      "version": "3.12.4"
    }
  },
  "nbformat": 4,
  "nbformat_minor": 0
}
