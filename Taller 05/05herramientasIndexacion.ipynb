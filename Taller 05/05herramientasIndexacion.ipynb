{
  "cells": [
    {
      "cell_type": "markdown",
      "metadata": {
        "id": "FMvkmRMGoGDi"
      },
      "source": [
        "Almacenar el csv en un dataframe"
      ]
    },
    {
      "cell_type": "code",
      "execution_count": 39,
      "metadata": {
        "id": "-7aDLHtnvV7B"
      },
      "outputs": [],
      "source": [
        "import pandas as pd\n",
        "archivo_csv = 'wiki_movie_plots_deduped.csv'\n",
        "df = pd.read_csv(archivo_csv)"
      ]
    },
    {
      "cell_type": "markdown",
      "metadata": {
        "id": "ijLaGPoTzEE9"
      },
      "source": [
        "Mantener solo las columnas relevantes"
      ]
    },
    {
      "cell_type": "code",
      "execution_count": 40,
      "metadata": {
        "colab": {
          "base_uri": "https://localhost:8080/",
          "height": 310
        },
        "id": "bsPoO0TmyVep",
        "outputId": "5f027a45-91a2-4d03-f69a-b86d4e1cd7bb"
      },
      "outputs": [
        {
          "data": {
            "text/html": [
              "<div>\n",
              "<style scoped>\n",
              "    .dataframe tbody tr th:only-of-type {\n",
              "        vertical-align: middle;\n",
              "    }\n",
              "\n",
              "    .dataframe tbody tr th {\n",
              "        vertical-align: top;\n",
              "    }\n",
              "\n",
              "    .dataframe thead th {\n",
              "        text-align: right;\n",
              "    }\n",
              "</style>\n",
              "<table border=\"1\" class=\"dataframe\">\n",
              "  <thead>\n",
              "    <tr style=\"text-align: right;\">\n",
              "      <th></th>\n",
              "      <th>Release Year</th>\n",
              "      <th>Title</th>\n",
              "      <th>Plot</th>\n",
              "    </tr>\n",
              "  </thead>\n",
              "  <tbody>\n",
              "    <tr>\n",
              "      <th>0</th>\n",
              "      <td>1901</td>\n",
              "      <td>Kansas Saloon Smashers</td>\n",
              "      <td>A bartender is working at a saloon, serving dr...</td>\n",
              "    </tr>\n",
              "    <tr>\n",
              "      <th>1</th>\n",
              "      <td>1901</td>\n",
              "      <td>Love by the Light of the Moon</td>\n",
              "      <td>The moon, painted with a smiling face hangs ov...</td>\n",
              "    </tr>\n",
              "    <tr>\n",
              "      <th>2</th>\n",
              "      <td>1901</td>\n",
              "      <td>The Martyred Presidents</td>\n",
              "      <td>The film, just over a minute long, is composed...</td>\n",
              "    </tr>\n",
              "    <tr>\n",
              "      <th>3</th>\n",
              "      <td>1901</td>\n",
              "      <td>Terrible Teddy, the Grizzly King</td>\n",
              "      <td>Lasting just 61 seconds and consisting of two ...</td>\n",
              "    </tr>\n",
              "    <tr>\n",
              "      <th>4</th>\n",
              "      <td>1902</td>\n",
              "      <td>Jack and the Beanstalk</td>\n",
              "      <td>The earliest known adaptation of the classic f...</td>\n",
              "    </tr>\n",
              "  </tbody>\n",
              "</table>\n",
              "</div>"
            ],
            "text/plain": [
              "   Release Year                             Title  \\\n",
              "0          1901            Kansas Saloon Smashers   \n",
              "1          1901     Love by the Light of the Moon   \n",
              "2          1901           The Martyred Presidents   \n",
              "3          1901  Terrible Teddy, the Grizzly King   \n",
              "4          1902            Jack and the Beanstalk   \n",
              "\n",
              "                                                Plot  \n",
              "0  A bartender is working at a saloon, serving dr...  \n",
              "1  The moon, painted with a smiling face hangs ov...  \n",
              "2  The film, just over a minute long, is composed...  \n",
              "3  Lasting just 61 seconds and consisting of two ...  \n",
              "4  The earliest known adaptation of the classic f...  "
            ]
          },
          "execution_count": 40,
          "metadata": {},
          "output_type": "execute_result"
        }
      ],
      "source": [
        "df_final = df[['Release Year','Title', 'Plot']]\n",
        "df_final.head()"
      ]
    },
    {
      "cell_type": "markdown",
      "metadata": {
        "id": "IkKsBYMy00My"
      },
      "source": [
        "Verificar si existen valores nulos"
      ]
    },
    {
      "cell_type": "code",
      "execution_count": 41,
      "metadata": {
        "colab": {
          "base_uri": "https://localhost:8080/",
          "height": 178
        },
        "id": "8sBx26ioyVlx",
        "outputId": "0e7ea3ea-8a7d-4521-b028-acc0b2ffe17f"
      },
      "outputs": [
        {
          "data": {
            "text/plain": [
              "Release Year    0\n",
              "Title           0\n",
              "Plot            0\n",
              "dtype: int64"
            ]
          },
          "execution_count": 41,
          "metadata": {},
          "output_type": "execute_result"
        }
      ],
      "source": [
        "df_final.isna().sum()"
      ]
    },
    {
      "cell_type": "markdown",
      "metadata": {
        "id": "XM8K9SlA189z"
      },
      "source": [
        "Convertir a minusculas y eliminar signos de puntuación"
      ]
    },
    {
      "cell_type": "code",
      "execution_count": 42,
      "metadata": {
        "colab": {
          "base_uri": "https://localhost:8080/"
        },
        "id": "X461K_4tyVpN",
        "outputId": "c69ad699-a77e-4b9c-cad5-c654a23078b6"
      },
      "outputs": [
        {
          "name": "stderr",
          "output_type": "stream",
          "text": [
            "C:\\Users\\dicam\\AppData\\Local\\Temp\\ipykernel_16140\\2429903571.py:1: SettingWithCopyWarning: \n",
            "A value is trying to be set on a copy of a slice from a DataFrame.\n",
            "Try using .loc[row_indexer,col_indexer] = value instead\n",
            "\n",
            "See the caveats in the documentation: https://pandas.pydata.org/pandas-docs/stable/user_guide/indexing.html#returning-a-view-versus-a-copy\n",
            "  df_final.loc[:, 'textoLimpio'] = df_final['Plot'].str.lower().str.replace('.', '', regex=False).str.replace(',', '', regex=False)\n"
          ]
        }
      ],
      "source": [
        "df_final.loc[:, 'textoLimpio'] = df_final['Plot'].str.lower().str.replace('.', '', regex=False).str.replace(',', '', regex=False)\n"
      ]
    },
    {
      "cell_type": "code",
      "execution_count": 43,
      "metadata": {
        "colab": {
          "base_uri": "https://localhost:8080/",
          "height": 345
        },
        "id": "LmzVAfx42tRB",
        "outputId": "52eda5a7-1b4a-4b76-eceb-840b78681ec6"
      },
      "outputs": [
        {
          "data": {
            "text/html": [
              "<div>\n",
              "<style scoped>\n",
              "    .dataframe tbody tr th:only-of-type {\n",
              "        vertical-align: middle;\n",
              "    }\n",
              "\n",
              "    .dataframe tbody tr th {\n",
              "        vertical-align: top;\n",
              "    }\n",
              "\n",
              "    .dataframe thead th {\n",
              "        text-align: right;\n",
              "    }\n",
              "</style>\n",
              "<table border=\"1\" class=\"dataframe\">\n",
              "  <thead>\n",
              "    <tr style=\"text-align: right;\">\n",
              "      <th></th>\n",
              "      <th>Release Year</th>\n",
              "      <th>Title</th>\n",
              "      <th>Plot</th>\n",
              "      <th>textoLimpio</th>\n",
              "    </tr>\n",
              "  </thead>\n",
              "  <tbody>\n",
              "    <tr>\n",
              "      <th>0</th>\n",
              "      <td>1901</td>\n",
              "      <td>Kansas Saloon Smashers</td>\n",
              "      <td>A bartender is working at a saloon, serving dr...</td>\n",
              "      <td>a bartender is working at a saloon serving dri...</td>\n",
              "    </tr>\n",
              "    <tr>\n",
              "      <th>1</th>\n",
              "      <td>1901</td>\n",
              "      <td>Love by the Light of the Moon</td>\n",
              "      <td>The moon, painted with a smiling face hangs ov...</td>\n",
              "      <td>the moon painted with a smiling face hangs ove...</td>\n",
              "    </tr>\n",
              "    <tr>\n",
              "      <th>2</th>\n",
              "      <td>1901</td>\n",
              "      <td>The Martyred Presidents</td>\n",
              "      <td>The film, just over a minute long, is composed...</td>\n",
              "      <td>the film just over a minute long is composed o...</td>\n",
              "    </tr>\n",
              "    <tr>\n",
              "      <th>3</th>\n",
              "      <td>1901</td>\n",
              "      <td>Terrible Teddy, the Grizzly King</td>\n",
              "      <td>Lasting just 61 seconds and consisting of two ...</td>\n",
              "      <td>lasting just 61 seconds and consisting of two ...</td>\n",
              "    </tr>\n",
              "    <tr>\n",
              "      <th>4</th>\n",
              "      <td>1902</td>\n",
              "      <td>Jack and the Beanstalk</td>\n",
              "      <td>The earliest known adaptation of the classic f...</td>\n",
              "      <td>the earliest known adaptation of the classic f...</td>\n",
              "    </tr>\n",
              "  </tbody>\n",
              "</table>\n",
              "</div>"
            ],
            "text/plain": [
              "   Release Year                             Title  \\\n",
              "0          1901            Kansas Saloon Smashers   \n",
              "1          1901     Love by the Light of the Moon   \n",
              "2          1901           The Martyred Presidents   \n",
              "3          1901  Terrible Teddy, the Grizzly King   \n",
              "4          1902            Jack and the Beanstalk   \n",
              "\n",
              "                                                Plot  \\\n",
              "0  A bartender is working at a saloon, serving dr...   \n",
              "1  The moon, painted with a smiling face hangs ov...   \n",
              "2  The film, just over a minute long, is composed...   \n",
              "3  Lasting just 61 seconds and consisting of two ...   \n",
              "4  The earliest known adaptation of the classic f...   \n",
              "\n",
              "                                         textoLimpio  \n",
              "0  a bartender is working at a saloon serving dri...  \n",
              "1  the moon painted with a smiling face hangs ove...  \n",
              "2  the film just over a minute long is composed o...  \n",
              "3  lasting just 61 seconds and consisting of two ...  \n",
              "4  the earliest known adaptation of the classic f...  "
            ]
          },
          "execution_count": 43,
          "metadata": {},
          "output_type": "execute_result"
        }
      ],
      "source": [
        "df_final.head()"
      ]
    },
    {
      "cell_type": "markdown",
      "metadata": {
        "id": "VMkJCqn16xU1"
      },
      "source": [
        "## Tokenizacion"
      ]
    },
    {
      "cell_type": "code",
      "execution_count": 44,
      "metadata": {
        "colab": {
          "base_uri": "https://localhost:8080/"
        },
        "id": "ENFHMWJe6QuF",
        "outputId": "de7e018b-5ae0-42b3-821f-b39c2f75347e"
      },
      "outputs": [
        {
          "name": "stderr",
          "output_type": "stream",
          "text": [
            "[nltk_data] Downloading package punkt_tab to\n",
            "[nltk_data]     C:\\Users\\dicam\\AppData\\Roaming\\nltk_data...\n",
            "[nltk_data]   Package punkt_tab is already up-to-date!\n"
          ]
        },
        {
          "ename": "KeyboardInterrupt",
          "evalue": "",
          "output_type": "error",
          "traceback": [
            "\u001b[1;31m---------------------------------------------------------------------------\u001b[0m",
            "\u001b[1;31mKeyboardInterrupt\u001b[0m                         Traceback (most recent call last)",
            "Cell \u001b[1;32mIn[44], line 5\u001b[0m\n\u001b[0;32m      2\u001b[0m nltk\u001b[38;5;241m.\u001b[39mdownload(\u001b[38;5;124m'\u001b[39m\u001b[38;5;124mpunkt_tab\u001b[39m\u001b[38;5;124m'\u001b[39m)\n\u001b[0;32m      3\u001b[0m \u001b[38;5;28;01mfrom\u001b[39;00m \u001b[38;5;21;01mnltk\u001b[39;00m\u001b[38;5;21;01m.\u001b[39;00m\u001b[38;5;21;01mtokenize\u001b[39;00m \u001b[38;5;28;01mimport\u001b[39;00m word_tokenize\n\u001b[1;32m----> 5\u001b[0m df_final\u001b[38;5;241m.\u001b[39mloc[:, \u001b[38;5;124m'\u001b[39m\u001b[38;5;124mtokens\u001b[39m\u001b[38;5;124m'\u001b[39m] \u001b[38;5;241m=\u001b[39m \u001b[43mdf_final\u001b[49m\u001b[43m[\u001b[49m\u001b[38;5;124;43m'\u001b[39;49m\u001b[38;5;124;43mtextoLimpio\u001b[39;49m\u001b[38;5;124;43m'\u001b[39;49m\u001b[43m]\u001b[49m\u001b[38;5;241;43m.\u001b[39;49m\u001b[43mapply\u001b[49m\u001b[43m(\u001b[49m\u001b[43mword_tokenize\u001b[49m\u001b[43m)\u001b[49m\n",
            "File \u001b[1;32mc:\\Users\\dicam\\AppData\\Local\\Programs\\Python\\Python312\\Lib\\site-packages\\pandas\\core\\series.py:4924\u001b[0m, in \u001b[0;36mSeries.apply\u001b[1;34m(self, func, convert_dtype, args, by_row, **kwargs)\u001b[0m\n\u001b[0;32m   4789\u001b[0m \u001b[38;5;28;01mdef\u001b[39;00m \u001b[38;5;21mapply\u001b[39m(\n\u001b[0;32m   4790\u001b[0m     \u001b[38;5;28mself\u001b[39m,\n\u001b[0;32m   4791\u001b[0m     func: AggFuncType,\n\u001b[1;32m   (...)\u001b[0m\n\u001b[0;32m   4796\u001b[0m     \u001b[38;5;241m*\u001b[39m\u001b[38;5;241m*\u001b[39mkwargs,\n\u001b[0;32m   4797\u001b[0m ) \u001b[38;5;241m-\u001b[39m\u001b[38;5;241m>\u001b[39m DataFrame \u001b[38;5;241m|\u001b[39m Series:\n\u001b[0;32m   4798\u001b[0m \u001b[38;5;250m    \u001b[39m\u001b[38;5;124;03m\"\"\"\u001b[39;00m\n\u001b[0;32m   4799\u001b[0m \u001b[38;5;124;03m    Invoke function on values of Series.\u001b[39;00m\n\u001b[0;32m   4800\u001b[0m \n\u001b[1;32m   (...)\u001b[0m\n\u001b[0;32m   4915\u001b[0m \u001b[38;5;124;03m    dtype: float64\u001b[39;00m\n\u001b[0;32m   4916\u001b[0m \u001b[38;5;124;03m    \"\"\"\u001b[39;00m\n\u001b[0;32m   4917\u001b[0m     \u001b[38;5;28;01mreturn\u001b[39;00m \u001b[43mSeriesApply\u001b[49m\u001b[43m(\u001b[49m\n\u001b[0;32m   4918\u001b[0m \u001b[43m        \u001b[49m\u001b[38;5;28;43mself\u001b[39;49m\u001b[43m,\u001b[49m\n\u001b[0;32m   4919\u001b[0m \u001b[43m        \u001b[49m\u001b[43mfunc\u001b[49m\u001b[43m,\u001b[49m\n\u001b[0;32m   4920\u001b[0m \u001b[43m        \u001b[49m\u001b[43mconvert_dtype\u001b[49m\u001b[38;5;241;43m=\u001b[39;49m\u001b[43mconvert_dtype\u001b[49m\u001b[43m,\u001b[49m\n\u001b[0;32m   4921\u001b[0m \u001b[43m        \u001b[49m\u001b[43mby_row\u001b[49m\u001b[38;5;241;43m=\u001b[39;49m\u001b[43mby_row\u001b[49m\u001b[43m,\u001b[49m\n\u001b[0;32m   4922\u001b[0m \u001b[43m        \u001b[49m\u001b[43margs\u001b[49m\u001b[38;5;241;43m=\u001b[39;49m\u001b[43margs\u001b[49m\u001b[43m,\u001b[49m\n\u001b[0;32m   4923\u001b[0m \u001b[43m        \u001b[49m\u001b[43mkwargs\u001b[49m\u001b[38;5;241;43m=\u001b[39;49m\u001b[43mkwargs\u001b[49m\u001b[43m,\u001b[49m\n\u001b[1;32m-> 4924\u001b[0m \u001b[43m    \u001b[49m\u001b[43m)\u001b[49m\u001b[38;5;241;43m.\u001b[39;49m\u001b[43mapply\u001b[49m\u001b[43m(\u001b[49m\u001b[43m)\u001b[49m\n",
            "File \u001b[1;32mc:\\Users\\dicam\\AppData\\Local\\Programs\\Python\\Python312\\Lib\\site-packages\\pandas\\core\\apply.py:1427\u001b[0m, in \u001b[0;36mSeriesApply.apply\u001b[1;34m(self)\u001b[0m\n\u001b[0;32m   1424\u001b[0m     \u001b[38;5;28;01mreturn\u001b[39;00m \u001b[38;5;28mself\u001b[39m\u001b[38;5;241m.\u001b[39mapply_compat()\n\u001b[0;32m   1426\u001b[0m \u001b[38;5;66;03m# self.func is Callable\u001b[39;00m\n\u001b[1;32m-> 1427\u001b[0m \u001b[38;5;28;01mreturn\u001b[39;00m \u001b[38;5;28;43mself\u001b[39;49m\u001b[38;5;241;43m.\u001b[39;49m\u001b[43mapply_standard\u001b[49m\u001b[43m(\u001b[49m\u001b[43m)\u001b[49m\n",
            "File \u001b[1;32mc:\\Users\\dicam\\AppData\\Local\\Programs\\Python\\Python312\\Lib\\site-packages\\pandas\\core\\apply.py:1507\u001b[0m, in \u001b[0;36mSeriesApply.apply_standard\u001b[1;34m(self)\u001b[0m\n\u001b[0;32m   1501\u001b[0m \u001b[38;5;66;03m# row-wise access\u001b[39;00m\n\u001b[0;32m   1502\u001b[0m \u001b[38;5;66;03m# apply doesn't have a `na_action` keyword and for backward compat reasons\u001b[39;00m\n\u001b[0;32m   1503\u001b[0m \u001b[38;5;66;03m# we need to give `na_action=\"ignore\"` for categorical data.\u001b[39;00m\n\u001b[0;32m   1504\u001b[0m \u001b[38;5;66;03m# TODO: remove the `na_action=\"ignore\"` when that default has been changed in\u001b[39;00m\n\u001b[0;32m   1505\u001b[0m \u001b[38;5;66;03m#  Categorical (GH51645).\u001b[39;00m\n\u001b[0;32m   1506\u001b[0m action \u001b[38;5;241m=\u001b[39m \u001b[38;5;124m\"\u001b[39m\u001b[38;5;124mignore\u001b[39m\u001b[38;5;124m\"\u001b[39m \u001b[38;5;28;01mif\u001b[39;00m \u001b[38;5;28misinstance\u001b[39m(obj\u001b[38;5;241m.\u001b[39mdtype, CategoricalDtype) \u001b[38;5;28;01melse\u001b[39;00m \u001b[38;5;28;01mNone\u001b[39;00m\n\u001b[1;32m-> 1507\u001b[0m mapped \u001b[38;5;241m=\u001b[39m \u001b[43mobj\u001b[49m\u001b[38;5;241;43m.\u001b[39;49m\u001b[43m_map_values\u001b[49m\u001b[43m(\u001b[49m\n\u001b[0;32m   1508\u001b[0m \u001b[43m    \u001b[49m\u001b[43mmapper\u001b[49m\u001b[38;5;241;43m=\u001b[39;49m\u001b[43mcurried\u001b[49m\u001b[43m,\u001b[49m\u001b[43m \u001b[49m\u001b[43mna_action\u001b[49m\u001b[38;5;241;43m=\u001b[39;49m\u001b[43maction\u001b[49m\u001b[43m,\u001b[49m\u001b[43m \u001b[49m\u001b[43mconvert\u001b[49m\u001b[38;5;241;43m=\u001b[39;49m\u001b[38;5;28;43mself\u001b[39;49m\u001b[38;5;241;43m.\u001b[39;49m\u001b[43mconvert_dtype\u001b[49m\n\u001b[0;32m   1509\u001b[0m \u001b[43m\u001b[49m\u001b[43m)\u001b[49m\n\u001b[0;32m   1511\u001b[0m \u001b[38;5;28;01mif\u001b[39;00m \u001b[38;5;28mlen\u001b[39m(mapped) \u001b[38;5;129;01mand\u001b[39;00m \u001b[38;5;28misinstance\u001b[39m(mapped[\u001b[38;5;241m0\u001b[39m], ABCSeries):\n\u001b[0;32m   1512\u001b[0m     \u001b[38;5;66;03m# GH#43986 Need to do list(mapped) in order to get treated as nested\u001b[39;00m\n\u001b[0;32m   1513\u001b[0m     \u001b[38;5;66;03m#  See also GH#25959 regarding EA support\u001b[39;00m\n\u001b[0;32m   1514\u001b[0m     \u001b[38;5;28;01mreturn\u001b[39;00m obj\u001b[38;5;241m.\u001b[39m_constructor_expanddim(\u001b[38;5;28mlist\u001b[39m(mapped), index\u001b[38;5;241m=\u001b[39mobj\u001b[38;5;241m.\u001b[39mindex)\n",
            "File \u001b[1;32mc:\\Users\\dicam\\AppData\\Local\\Programs\\Python\\Python312\\Lib\\site-packages\\pandas\\core\\base.py:921\u001b[0m, in \u001b[0;36mIndexOpsMixin._map_values\u001b[1;34m(self, mapper, na_action, convert)\u001b[0m\n\u001b[0;32m    918\u001b[0m \u001b[38;5;28;01mif\u001b[39;00m \u001b[38;5;28misinstance\u001b[39m(arr, ExtensionArray):\n\u001b[0;32m    919\u001b[0m     \u001b[38;5;28;01mreturn\u001b[39;00m arr\u001b[38;5;241m.\u001b[39mmap(mapper, na_action\u001b[38;5;241m=\u001b[39mna_action)\n\u001b[1;32m--> 921\u001b[0m \u001b[38;5;28;01mreturn\u001b[39;00m \u001b[43malgorithms\u001b[49m\u001b[38;5;241;43m.\u001b[39;49m\u001b[43mmap_array\u001b[49m\u001b[43m(\u001b[49m\u001b[43marr\u001b[49m\u001b[43m,\u001b[49m\u001b[43m \u001b[49m\u001b[43mmapper\u001b[49m\u001b[43m,\u001b[49m\u001b[43m \u001b[49m\u001b[43mna_action\u001b[49m\u001b[38;5;241;43m=\u001b[39;49m\u001b[43mna_action\u001b[49m\u001b[43m,\u001b[49m\u001b[43m \u001b[49m\u001b[43mconvert\u001b[49m\u001b[38;5;241;43m=\u001b[39;49m\u001b[43mconvert\u001b[49m\u001b[43m)\u001b[49m\n",
            "File \u001b[1;32mc:\\Users\\dicam\\AppData\\Local\\Programs\\Python\\Python312\\Lib\\site-packages\\pandas\\core\\algorithms.py:1743\u001b[0m, in \u001b[0;36mmap_array\u001b[1;34m(arr, mapper, na_action, convert)\u001b[0m\n\u001b[0;32m   1741\u001b[0m values \u001b[38;5;241m=\u001b[39m arr\u001b[38;5;241m.\u001b[39mastype(\u001b[38;5;28mobject\u001b[39m, copy\u001b[38;5;241m=\u001b[39m\u001b[38;5;28;01mFalse\u001b[39;00m)\n\u001b[0;32m   1742\u001b[0m \u001b[38;5;28;01mif\u001b[39;00m na_action \u001b[38;5;129;01mis\u001b[39;00m \u001b[38;5;28;01mNone\u001b[39;00m:\n\u001b[1;32m-> 1743\u001b[0m     \u001b[38;5;28;01mreturn\u001b[39;00m \u001b[43mlib\u001b[49m\u001b[38;5;241;43m.\u001b[39;49m\u001b[43mmap_infer\u001b[49m\u001b[43m(\u001b[49m\u001b[43mvalues\u001b[49m\u001b[43m,\u001b[49m\u001b[43m \u001b[49m\u001b[43mmapper\u001b[49m\u001b[43m,\u001b[49m\u001b[43m \u001b[49m\u001b[43mconvert\u001b[49m\u001b[38;5;241;43m=\u001b[39;49m\u001b[43mconvert\u001b[49m\u001b[43m)\u001b[49m\n\u001b[0;32m   1744\u001b[0m \u001b[38;5;28;01melse\u001b[39;00m:\n\u001b[0;32m   1745\u001b[0m     \u001b[38;5;28;01mreturn\u001b[39;00m lib\u001b[38;5;241m.\u001b[39mmap_infer_mask(\n\u001b[0;32m   1746\u001b[0m         values, mapper, mask\u001b[38;5;241m=\u001b[39misna(values)\u001b[38;5;241m.\u001b[39mview(np\u001b[38;5;241m.\u001b[39muint8), convert\u001b[38;5;241m=\u001b[39mconvert\n\u001b[0;32m   1747\u001b[0m     )\n",
            "File \u001b[1;32mlib.pyx:2972\u001b[0m, in \u001b[0;36mpandas._libs.lib.map_infer\u001b[1;34m()\u001b[0m\n",
            "File \u001b[1;32mc:\\Users\\dicam\\AppData\\Local\\Programs\\Python\\Python312\\Lib\\site-packages\\nltk\\tokenize\\__init__.py:144\u001b[0m, in \u001b[0;36mword_tokenize\u001b[1;34m(text, language, preserve_line)\u001b[0m\n\u001b[0;32m    128\u001b[0m \u001b[38;5;250m\u001b[39m\u001b[38;5;124;03m\"\"\"\u001b[39;00m\n\u001b[0;32m    129\u001b[0m \u001b[38;5;124;03mReturn a tokenized copy of *text*,\u001b[39;00m\n\u001b[0;32m    130\u001b[0m \u001b[38;5;124;03musing NLTK's recommended word tokenizer\u001b[39;00m\n\u001b[1;32m   (...)\u001b[0m\n\u001b[0;32m    140\u001b[0m \u001b[38;5;124;03m:type preserve_line: bool\u001b[39;00m\n\u001b[0;32m    141\u001b[0m \u001b[38;5;124;03m\"\"\"\u001b[39;00m\n\u001b[0;32m    142\u001b[0m sentences \u001b[38;5;241m=\u001b[39m [text] \u001b[38;5;28;01mif\u001b[39;00m preserve_line \u001b[38;5;28;01melse\u001b[39;00m sent_tokenize(text, language)\n\u001b[0;32m    143\u001b[0m \u001b[38;5;28;01mreturn\u001b[39;00m [\n\u001b[1;32m--> 144\u001b[0m     token \u001b[38;5;28;01mfor\u001b[39;00m sent \u001b[38;5;129;01min\u001b[39;00m sentences \u001b[38;5;28;01mfor\u001b[39;00m token \u001b[38;5;129;01min\u001b[39;00m \u001b[43m_treebank_word_tokenizer\u001b[49m\u001b[38;5;241;43m.\u001b[39;49m\u001b[43mtokenize\u001b[49m\u001b[43m(\u001b[49m\u001b[43msent\u001b[49m\u001b[43m)\u001b[49m\n\u001b[0;32m    145\u001b[0m ]\n",
            "File \u001b[1;32mc:\\Users\\dicam\\AppData\\Local\\Programs\\Python\\Python312\\Lib\\site-packages\\nltk\\tokenize\\destructive.py:182\u001b[0m, in \u001b[0;36mNLTKWordTokenizer.tokenize\u001b[1;34m(self, text, convert_parentheses, return_str)\u001b[0m\n\u001b[0;32m    179\u001b[0m     text \u001b[38;5;241m=\u001b[39m regexp\u001b[38;5;241m.\u001b[39msub(substitution, text)\n\u001b[0;32m    181\u001b[0m \u001b[38;5;28;01mfor\u001b[39;00m regexp \u001b[38;5;129;01min\u001b[39;00m \u001b[38;5;28mself\u001b[39m\u001b[38;5;241m.\u001b[39mCONTRACTIONS2:\n\u001b[1;32m--> 182\u001b[0m     text \u001b[38;5;241m=\u001b[39m regexp\u001b[38;5;241m.\u001b[39msub(\u001b[38;5;124mr\u001b[39m\u001b[38;5;124m\"\u001b[39m\u001b[38;5;124m \u001b[39m\u001b[38;5;124m\\\u001b[39m\u001b[38;5;124m1 \u001b[39m\u001b[38;5;124m\\\u001b[39m\u001b[38;5;124m2 \u001b[39m\u001b[38;5;124m\"\u001b[39m, text)\n\u001b[0;32m    183\u001b[0m \u001b[38;5;28;01mfor\u001b[39;00m regexp \u001b[38;5;129;01min\u001b[39;00m \u001b[38;5;28mself\u001b[39m\u001b[38;5;241m.\u001b[39mCONTRACTIONS3:\n\u001b[0;32m    184\u001b[0m     text \u001b[38;5;241m=\u001b[39m regexp\u001b[38;5;241m.\u001b[39msub(\u001b[38;5;124mr\u001b[39m\u001b[38;5;124m\"\u001b[39m\u001b[38;5;124m \u001b[39m\u001b[38;5;124m\\\u001b[39m\u001b[38;5;124m1 \u001b[39m\u001b[38;5;124m\\\u001b[39m\u001b[38;5;124m2 \u001b[39m\u001b[38;5;124m\"\u001b[39m, text)\n",
            "\u001b[1;31mKeyboardInterrupt\u001b[0m: "
          ]
        }
      ],
      "source": [
        "import nltk\n",
        "nltk.download('punkt_tab')\n",
        "from nltk.tokenize import word_tokenize\n",
        "\n",
        "df_final.loc[:, 'tokens'] = df_final['textoLimpio'].apply(word_tokenize)"
      ]
    },
    {
      "cell_type": "code",
      "execution_count": 8,
      "metadata": {
        "colab": {
          "base_uri": "https://localhost:8080/",
          "height": 156
        },
        "id": "kezzKTeFubP4",
        "outputId": "3d0c28ee-63e3-4174-996a-75aa5fa09b60"
      },
      "outputs": [
        {
          "data": {
            "text/plain": [
              "<bound method Downloader.download of <nltk.downloader.Downloader object at 0x000001B37F5E8950>>"
            ]
          },
          "execution_count": 8,
          "metadata": {},
          "output_type": "execute_result"
        }
      ],
      "source": [
        "import nltk\n",
        "nltk.download"
      ]
    },
    {
      "cell_type": "code",
      "execution_count": 9,
      "metadata": {
        "colab": {
          "base_uri": "https://localhost:8080/",
          "height": 467
        },
        "id": "LRlas9P87GHN",
        "outputId": "0a6f4000-d96a-442a-9ca8-7ecf6b7f07a8"
      },
      "outputs": [
        {
          "data": {
            "text/html": [
              "<div>\n",
              "<style scoped>\n",
              "    .dataframe tbody tr th:only-of-type {\n",
              "        vertical-align: middle;\n",
              "    }\n",
              "\n",
              "    .dataframe tbody tr th {\n",
              "        vertical-align: top;\n",
              "    }\n",
              "\n",
              "    .dataframe thead th {\n",
              "        text-align: right;\n",
              "    }\n",
              "</style>\n",
              "<table border=\"1\" class=\"dataframe\">\n",
              "  <thead>\n",
              "    <tr style=\"text-align: right;\">\n",
              "      <th></th>\n",
              "      <th>Release Year</th>\n",
              "      <th>Title</th>\n",
              "      <th>Plot</th>\n",
              "      <th>textoLimpio</th>\n",
              "      <th>tokens</th>\n",
              "    </tr>\n",
              "  </thead>\n",
              "  <tbody>\n",
              "    <tr>\n",
              "      <th>0</th>\n",
              "      <td>1901</td>\n",
              "      <td>Kansas Saloon Smashers</td>\n",
              "      <td>A bartender is working at a saloon, serving dr...</td>\n",
              "      <td>a bartender is working at a saloon serving dri...</td>\n",
              "      <td>[a, bartender, is, working, at, a, saloon, ser...</td>\n",
              "    </tr>\n",
              "    <tr>\n",
              "      <th>1</th>\n",
              "      <td>1901</td>\n",
              "      <td>Love by the Light of the Moon</td>\n",
              "      <td>The moon, painted with a smiling face hangs ov...</td>\n",
              "      <td>the moon painted with a smiling face hangs ove...</td>\n",
              "      <td>[the, moon, painted, with, a, smiling, face, h...</td>\n",
              "    </tr>\n",
              "    <tr>\n",
              "      <th>2</th>\n",
              "      <td>1901</td>\n",
              "      <td>The Martyred Presidents</td>\n",
              "      <td>The film, just over a minute long, is composed...</td>\n",
              "      <td>the film just over a minute long is composed o...</td>\n",
              "      <td>[the, film, just, over, a, minute, long, is, c...</td>\n",
              "    </tr>\n",
              "    <tr>\n",
              "      <th>3</th>\n",
              "      <td>1901</td>\n",
              "      <td>Terrible Teddy, the Grizzly King</td>\n",
              "      <td>Lasting just 61 seconds and consisting of two ...</td>\n",
              "      <td>lasting just 61 seconds and consisting of two ...</td>\n",
              "      <td>[lasting, just, 61, seconds, and, consisting, ...</td>\n",
              "    </tr>\n",
              "    <tr>\n",
              "      <th>4</th>\n",
              "      <td>1902</td>\n",
              "      <td>Jack and the Beanstalk</td>\n",
              "      <td>The earliest known adaptation of the classic f...</td>\n",
              "      <td>the earliest known adaptation of the classic f...</td>\n",
              "      <td>[the, earliest, known, adaptation, of, the, cl...</td>\n",
              "    </tr>\n",
              "  </tbody>\n",
              "</table>\n",
              "</div>"
            ],
            "text/plain": [
              "   Release Year                             Title  \\\n",
              "0          1901            Kansas Saloon Smashers   \n",
              "1          1901     Love by the Light of the Moon   \n",
              "2          1901           The Martyred Presidents   \n",
              "3          1901  Terrible Teddy, the Grizzly King   \n",
              "4          1902            Jack and the Beanstalk   \n",
              "\n",
              "                                                Plot  \\\n",
              "0  A bartender is working at a saloon, serving dr...   \n",
              "1  The moon, painted with a smiling face hangs ov...   \n",
              "2  The film, just over a minute long, is composed...   \n",
              "3  Lasting just 61 seconds and consisting of two ...   \n",
              "4  The earliest known adaptation of the classic f...   \n",
              "\n",
              "                                         textoLimpio  \\\n",
              "0  a bartender is working at a saloon serving dri...   \n",
              "1  the moon painted with a smiling face hangs ove...   \n",
              "2  the film just over a minute long is composed o...   \n",
              "3  lasting just 61 seconds and consisting of two ...   \n",
              "4  the earliest known adaptation of the classic f...   \n",
              "\n",
              "                                              tokens  \n",
              "0  [a, bartender, is, working, at, a, saloon, ser...  \n",
              "1  [the, moon, painted, with, a, smiling, face, h...  \n",
              "2  [the, film, just, over, a, minute, long, is, c...  \n",
              "3  [lasting, just, 61, seconds, and, consisting, ...  \n",
              "4  [the, earliest, known, adaptation, of, the, cl...  "
            ]
          },
          "execution_count": 9,
          "metadata": {},
          "output_type": "execute_result"
        }
      ],
      "source": [
        "df_final.head()"
      ]
    },
    {
      "cell_type": "markdown",
      "metadata": {
        "id": "CQ-9fcB__7r5"
      },
      "source": [
        "# Eliminar Stopwords"
      ]
    },
    {
      "cell_type": "code",
      "execution_count": null,
      "metadata": {
        "colab": {
          "base_uri": "https://localhost:8080/"
        },
        "id": "Dcpsueam_6m8",
        "outputId": "30ae3ac1-5593-4b7f-c97d-7ab223153797"
      },
      "outputs": [
        {
          "name": "stderr",
          "output_type": "stream",
          "text": [
            "[nltk_data] Downloading package stopwords to\n",
            "[nltk_data]     C:\\Users\\dicam\\AppData\\Roaming\\nltk_data...\n",
            "[nltk_data]   Package stopwords is already up-to-date!\n"
          ]
        }
      ],
      "source": [
        "nltk.download('stopwords')\n",
        "from nltk.corpus import stopwords\n",
        "stop_words = set(stopwords.words('english'))\n",
        "df_final.loc[:, 'tokens'] = df_final['tokens'].apply(lambda tokens: [token for token in tokens if token not in stop_words])"
      ]
    },
    {
      "cell_type": "code",
      "execution_count": null,
      "metadata": {
        "colab": {
          "base_uri": "https://localhost:8080/",
          "height": 449
        },
        "id": "7vKSTdFZAcuP",
        "outputId": "a3e4eeb4-f0f8-443f-d206-273d34e56201"
      },
      "outputs": [
        {
          "data": {
            "text/html": [
              "<div>\n",
              "<style scoped>\n",
              "    .dataframe tbody tr th:only-of-type {\n",
              "        vertical-align: middle;\n",
              "    }\n",
              "\n",
              "    .dataframe tbody tr th {\n",
              "        vertical-align: top;\n",
              "    }\n",
              "\n",
              "    .dataframe thead th {\n",
              "        text-align: right;\n",
              "    }\n",
              "</style>\n",
              "<table border=\"1\" class=\"dataframe\">\n",
              "  <thead>\n",
              "    <tr style=\"text-align: right;\">\n",
              "      <th></th>\n",
              "      <th>Release Year</th>\n",
              "      <th>Title</th>\n",
              "      <th>Plot</th>\n",
              "      <th>textoLimpio</th>\n",
              "      <th>tokens</th>\n",
              "    </tr>\n",
              "  </thead>\n",
              "  <tbody>\n",
              "    <tr>\n",
              "      <th>0</th>\n",
              "      <td>1901</td>\n",
              "      <td>Kansas Saloon Smashers</td>\n",
              "      <td>A bartender is working at a saloon, serving dr...</td>\n",
              "      <td>a bartender is working at a saloon serving dri...</td>\n",
              "      <td>[bartender, working, saloon, serving, drinks, ...</td>\n",
              "    </tr>\n",
              "    <tr>\n",
              "      <th>1</th>\n",
              "      <td>1901</td>\n",
              "      <td>Love by the Light of the Moon</td>\n",
              "      <td>The moon, painted with a smiling face hangs ov...</td>\n",
              "      <td>the moon painted with a smiling face hangs ove...</td>\n",
              "      <td>[moon, painted, smiling, face, hangs, park, ni...</td>\n",
              "    </tr>\n",
              "    <tr>\n",
              "      <th>2</th>\n",
              "      <td>1901</td>\n",
              "      <td>The Martyred Presidents</td>\n",
              "      <td>The film, just over a minute long, is composed...</td>\n",
              "      <td>the film just over a minute long is composed o...</td>\n",
              "      <td>[film, minute, long, composed, two, shots, fir...</td>\n",
              "    </tr>\n",
              "    <tr>\n",
              "      <th>3</th>\n",
              "      <td>1901</td>\n",
              "      <td>Terrible Teddy, the Grizzly King</td>\n",
              "      <td>Lasting just 61 seconds and consisting of two ...</td>\n",
              "      <td>lasting just 61 seconds and consisting of two ...</td>\n",
              "      <td>[lasting, 61, seconds, consisting, two, shots,...</td>\n",
              "    </tr>\n",
              "    <tr>\n",
              "      <th>4</th>\n",
              "      <td>1902</td>\n",
              "      <td>Jack and the Beanstalk</td>\n",
              "      <td>The earliest known adaptation of the classic f...</td>\n",
              "      <td>the earliest known adaptation of the classic f...</td>\n",
              "      <td>[earliest, known, adaptation, classic, fairyta...</td>\n",
              "    </tr>\n",
              "  </tbody>\n",
              "</table>\n",
              "</div>"
            ],
            "text/plain": [
              "   Release Year                             Title  \\\n",
              "0          1901            Kansas Saloon Smashers   \n",
              "1          1901     Love by the Light of the Moon   \n",
              "2          1901           The Martyred Presidents   \n",
              "3          1901  Terrible Teddy, the Grizzly King   \n",
              "4          1902            Jack and the Beanstalk   \n",
              "\n",
              "                                                Plot  \\\n",
              "0  A bartender is working at a saloon, serving dr...   \n",
              "1  The moon, painted with a smiling face hangs ov...   \n",
              "2  The film, just over a minute long, is composed...   \n",
              "3  Lasting just 61 seconds and consisting of two ...   \n",
              "4  The earliest known adaptation of the classic f...   \n",
              "\n",
              "                                         textoLimpio  \\\n",
              "0  a bartender is working at a saloon serving dri...   \n",
              "1  the moon painted with a smiling face hangs ove...   \n",
              "2  the film just over a minute long is composed o...   \n",
              "3  lasting just 61 seconds and consisting of two ...   \n",
              "4  the earliest known adaptation of the classic f...   \n",
              "\n",
              "                                              tokens  \n",
              "0  [bartender, working, saloon, serving, drinks, ...  \n",
              "1  [moon, painted, smiling, face, hangs, park, ni...  \n",
              "2  [film, minute, long, composed, two, shots, fir...  \n",
              "3  [lasting, 61, seconds, consisting, two, shots,...  \n",
              "4  [earliest, known, adaptation, classic, fairyta...  "
            ]
          },
          "execution_count": 11,
          "metadata": {},
          "output_type": "execute_result"
        }
      ],
      "source": [
        "df_final.head()"
      ]
    },
    {
      "cell_type": "markdown",
      "metadata": {
        "id": "T2VVixzB7hC-"
      },
      "source": [
        "# Indice Invertido"
      ]
    },
    {
      "cell_type": "code",
      "execution_count": 12,
      "metadata": {
        "id": "IMvKw0Gw7K2_"
      },
      "outputs": [],
      "source": [
        "def indiceInvertido(df, columna_tokens):\n",
        "    indice = {}\n",
        "    for index, row in df.iterrows():\n",
        "        tokens = row[columna_tokens]\n",
        "        for token in tokens:\n",
        "            if token not in indice:\n",
        "                indice[token] = []\n",
        "            indice[token].append(index)\n",
        "    return indice\n"
      ]
    },
    {
      "cell_type": "code",
      "execution_count": 13,
      "metadata": {
        "id": "ylTpY4q6_LxP"
      },
      "outputs": [],
      "source": [
        "indice = indiceInvertido(df_final, 'tokens')"
      ]
    },
    {
      "cell_type": "code",
      "execution_count": 14,
      "metadata": {
        "id": "J3-ZYuieuGOl"
      },
      "outputs": [],
      "source": [
        "def buscarTitulos(indice_invertido, df, columna_title, columna_plot, palabra):\n",
        "    documentos = indice_invertido.get(palabra, [])\n",
        "    titulos_encontrados = []\n",
        "    for documento in documentos:\n",
        "        titulo = df.loc[documento, columna_title]\n",
        "        plot = df.loc[documento, columna_plot]\n",
        "        titulos_encontrados.append(titulo)\n",
        "    return titulos_encontrados\n"
      ]
    },
    {
      "cell_type": "code",
      "execution_count": 69,
      "metadata": {
        "id": "Kf0PKkmM5URw"
      },
      "outputs": [],
      "source": [
        "def busquedaIndiceInvertido(indice, df, texto_busqueda):\n",
        "    # Tokenizamos el texto de búsqueda\n",
        "    tokens_busqueda = texto_busqueda.split()\n",
        "    resultados = set()  # Usamos un set para evitar duplicados\n",
        "\n",
        "    # Para cada token en el texto de búsqueda, encontramos los documentos que lo contienen\n",
        "    for token in tokens_busqueda:\n",
        "        if token in indice:\n",
        "            # Añadimos los títulos y tramas correspondientes a los índices encontrados\n",
        "            for index in indice[token]:\n",
        "                titulo = df.iloc[index][\"Title\"]\n",
        "                plot = df.iloc[index][\"Plot\"]\n",
        "                resultados.add((titulo, plot))  # Usamos una tupla para asegurarnos de que no se repitan\n",
        "\n",
        "    # Convertimos el set de resultados en una lista de diccionarios y devolvemos los primeros 5\n",
        "    return [{\"Title\": titulo, \"Plot\": plot} for titulo, plot in list(resultados)[:5]]\n",
        "\n"
      ]
    },
    {
      "cell_type": "code",
      "execution_count": 70,
      "metadata": {},
      "outputs": [
        {
          "name": "stdout",
          "output_type": "stream",
          "text": [
            "Título: Johns\n",
            "Trama: It's Christmas Eve and John (David Arquette) is asleep in a Los Angeles park. He awakens as someone is stealing his shoes, in which he keeps his money. He chases the thief but can't catch him. John is angered not only because those are his \"lucky\" sneakers but because he's trying to accumulate enough money for an overnight stay in a fancy hotel to celebrate his birthday, which is also Christmas. Each time John puts any money together, either by turning a trick, robbing the house of one of his regular \"dates\" or stealing from potential clients, it's taken from him either by robbery or in payback for a drug deal where he burned the dealer.\n",
            "Meanwhile, Donner (Lukas Haas), a fellow hustler who's new to the streets and has fallen for John, tries to convince John to go with him to Branson, Missouri. Donner has a relative who runs a theme park there who can get them jobs. John is initially resistant to the idea but, after some particularly bad experiences, agrees to go.\n",
            "John and Donner have enough money for two bus tickets to Branson but John takes one last \"date\" to earn money for expenses. After their sexual encounter at a motel, however, John's \"date\" turns violent, beating John unmercifully.\n",
            "Donner goes in search of John and finds him at the motel. Donner drags John's lifeless body from the bathroom to the bed and tearfully confesses that he's the one who stole John's sneakers and money in a desperate attempt to persuade John to leave town with him.\n",
            "\n",
            "Título: The NeverEnding Story II: The Next Chapter\n",
            "Trama: Bastian Bux is having troubles at home: his father Barney's busy workload is keeping him from consoling Bastian's fear of heights, which in turn is hurting his chances of joining the school swim team. As such, he then heads to an old bookstore where he again meets Mr. Coreander, who proceeds to help find a book on courage. While waiting, Bastian rediscovers the Neverending Story's book, and is shocked to see its words disappear off its pages. Deciding to take the book instead, Bastian returns home and finds himself able to claim AURYN right off the book's front cover while hearing the Childlike Empress summon him to Fantasia.\n",
            "Aware of Bastian's arrival and purpose, an evil sorceress named Xayide orders a creation from one of her servants to stop him. The servant creates a memory machine that will strip Bastian of a memory each time he uses AURYN until he is unable to remember where he came from, or why he is in Fantasia. Xayide then sends a bird-like creature named Nimbly to persuade Bastian into making him wish. As the two arrive in a populated area of Fantasia called Silver City, the sorceress sends large monsters referred to as giants to attack. Despite Nimbly's attempts to make him wish them away, Bastian is able to escape from them without doing so. After falling into a secret passage, Bastian is contacted by the Childlike Empress, who tells him of a new threatening force to Fantasia, which is keeping her prisoner in her own castle as well as causing the stories of the ordinary world to disappear, and that he must identify and defeat it.\n",
            "While trying to gather Silver City's inhabitants to help him out, Bastian is reunited with Atreyu, who has heard about what has happened and reveals that the giants come from Horok Castle, \"The Seeing Hand\". As the two try to figure out how to get there, Nimbly manages to persuade Bastian into making a wish, which he uses to create a vicious, fire breathing dragon. However, it goes out of control and flies off with Atreyu trying to pursue it with his horse, Artax. With help from Falkor, Bastian is able to chase the dragon to Xayide's castle, where it is destroyed by its defenses. After a brief reunion with Rock Biter, Bastian and Atreyu, who has caught up, make their way into the castle's entrance with the latter's \"army\": several wind up toys. Although Bastian gets through, Atreyu is captured. Once getting further into the castle by wishing for climbing steps, Bastian manages to free Atreyu from a giant and the two battle it with the use of a spray can, an item the former had wished for. After the giant falls over and cracks into pieces revealing a hollow shell, Bastian identifies the threat as \"The Emptiness\", the form of humanity's dying imagination. The two make their way to Xayide in her throne room who admits defeat, stating she had wanted to bring order to dreams and stories, which she consider as forms of chaos. The sorceress is then forced to bring them to the Childlike Empress' castle to free her after Atreyu subtly threatens to kill her.\n",
            "Having noticed his son's disappearance and the Neverending Story's book, Barney takes the latter to Mr. Coreander's bookstore to ask him of Bastian's whereabouts. The owner simply tells him that he will find the answers inside the book, much to Barney's confusion. Returning later with a police officer, he is shocked to see the bookstore abandoned as a result of the Emptiness. Looking inside the book, Barney is surprised to see his son's exploits in Fantasia being written by the book itself and that he is mentioned within.\n",
            "During the travel to the Childlike Empress' castle, Xayide tries to trick Bastian into believing that his friends will turn against him and manages to get him to wish for a series of ridiculous wishes. It also becomes obvious to Atreyu that they are being led aimlessly. Becoming worried, Atreyu and Falkor believe that the only way to help Bastian is to remove AURYN from him as they have learned of the memory machine and its effects on him. Bastian overhears them, and through a confrontation with Atreyu believes that he has turned against him. The two then fight, with Atreyu being knocked over a cliff and falling to his death. Returning to Xayide, Bastian discovers the memory machine for himself and learns that he only has two memories - consisting of his mother and father - left. In an attempt to use Artax to follow Falkor, who has taken the fallen Atreyu away, he is nearly killed by an attack from Xayide. Now on foot, Bastian is encountered by Nimbly once more, who has had a change of heart after seeing one of his memories, and guides him to his friends' location before flying off.\n",
            "Arriving back in Silver City, now in a heavily ruined state, Bastian finds Falkor with Atreyu's lifeless body, and uses his penultimate memory of his mother to wish the latter back to life. Shortly afterwards, Xayide arrives with her giants and tries to force Bastian to use his last wish to return home. Rather than do so, Bastian uses his wish for the sorceress \"to have a heart\". This fills Xayide with emotion, negating the Emptiness within her and which she controls. Overcome with compassion, Xayide explodes in a blast of light, destroying her giants and restoring Fantasia. Having been freed, the Childlike Empress thanks Bastian for his help and shows him the way home: a cliff overlooking a waterfall to help Bastian overcome his fear of heights. Encouraged by Barney and Atreyu, Bastian jumps off and returns home safely. As he reunites with his father, AURYN reappears on the front cover of the Neverending Story's book.\n",
            "\n",
            "Título: The Heart of Me\n",
            "Trama: In 1934 after the death of her father, Madeleine, a proper and repressed well-off housewife, invites her free-spirited sister, Dinah, to stay with her and her husband Rickie in her elegant London home. The couple have a young son, Anthony. Madeleine has always been secretly jealous and resentful of Dinah, a raffish bohemian painter, who is the despair of her conservative sister and their mother, Mrs. Burkett. Madeleine at last contrives to get Dinah engaged to a respectable, well-off man. Dinah announces her engagement at a family dinner, but later that night Rickie, who has long harbored an attraction for her, tells her to end the engagement.\n",
            "Rickie and Dinah fall in love and, during a New Year's Day party, they become lovers. Rickie helps Dinah to settle in an apartment that becomes their love nest, but leave his marriage intact. Things get complicated when Dinah gets pregnant. She decides to leave London with her friend Bridie and await the birth and Rickie's arrival in the south of England. During a snowstorm, Dinah gives birth to a stillborn daughter and almost dies from blood loss due to complications during the birth. Rickie, on his way to reach her, suffers a car accident and arrives too late. Grief-stricken, Dinah turns Rickie away and ends their affair. Rickie becomes lost in despair, but tries to hide it (unsuccessfully) from Madeleine. Months later, Madeleine receives a letter in the mail from Bridie who writes of the affair, leading Madeleine to the realization of what had been going on for quite some time. Rickie is adamant that the affair is finished, but he is unapologetic. Eventually Rickie meets unexpectedly with Dinah. She has a nervous breakdown at a restaurant and Rickie, still in love with her, tells Madeleine that he is leaving her.\n",
            "Things, however, take a turn for the worse when Rickie collapses and is taken to the hospital, unknown to Dinah who is still home waiting for him. Dinah is prevented from seeing Rickie and is told by her mother and Madeleine that he has decided to return to his family, while they tell Rickie that she has gone back to France. Several more months pass and the lovers eventually meet again when Dinah is leaving the apartment that was being financed by Rickie, and he discovers that she had been there the entire time and not in France. Dinah, who is too hurt by things past, refuses to continue the affair and the lovers part for the last time.\n",
            "During the war (World War II), Anthony, Rickie's and Madeleine's son, dies in battle. Rickie is killed during an air raid while going to claim a bracelet for Dinah that he had ordered from a jewelry store with the engraving: \"And throughout all eternity, I forgive you and you forgive me\". The film ends with Madeleine and Dinah finally reconciled to the past and learning to forgive each other.\n",
            "\n",
            "Título: Rowdy Rathore\n",
            "Trama: Shiva (Akshay Kumar) is a small-time thief in Mumbai who falls in love with Paro (Sonakshi Sinha) from Patna. He tells her the truth about being a thief and resolves to give up crime because he loves Paro dearly. Before that, he decides to commit a large robbery along with his con-friend 2G (Paresh Ganatra), which would enable him to earn a lot of money; hence he can give up crime. He \"tricks\" a woman on a railway station and flees with a trunk. This leads Shiva to Chinki, a little girl who was in the trunk instead of the wealth he thought was there. Chinki thinks that he is her father. Puzzled, he is forced to keep Chinki with him, as a police officer Vishal Sharma (Yashpal Sharma) keeps his eye on him.\n",
            "Shiva fears Paro will catch him with Chinki and he will lose her forever. He finds a photo of Chinki and her father, who looks exactly like Shiva, thus realizing why Chinki thinks Shiva is her father. It is revealed that Chinki's father is Vikram Rathore (Akshay Kumar), who is a brave cop, who criminals fear. While chasing a goon to find his daughter, Rathore gets hit by an auto and his brain endures severe trauma. The doctor tells him that the brain injury is serious enough to put his life in danger.\n",
            "After a few days, Shiva gets fed up with Chinki and breaks the tape recorder she uses to listen to her late mother's voice. The next morning, he learns that her mother died. Feeling guilty, he fixes the recorder and becomes fond of Chinki, taking care of her. Unfortunately, Paro sees this and believes he has a daughter that he hid from her and Paro leaves for Patna heartbroken. Soon, the goons who are after Rathore see Shiva. Thinking he is Rathore, they start chasing him. Shiva and Chinki flee for their lives and encounter the woman from the railway station and the police officer from earlier, who tell Shiva to run. Shiva is soon surrounded by the goons. It is revealed that Rathore is watching the whole thing from the top of a building. Just as Shiva is about to get stabbed, Rathore jumps down, killing one of goons.\n",
            "Shiva and the goons are shocked to see the identical-looking Rathore. Rathore locks Shiva and Chinki in a cell for safety, and starts fighting the goons. His brain injury gets worse but he eventually kills every goon by himself.\n",
            "At the hospital, Shiva realizes that the railway station woman is in fact a real police officer, Insp.Razia Khan (Gurdeep Kohli). The officers tell Shiva that the man who looks like him is ASP Vikram Rathore, a disciplined and respected police officer.\n",
            "The officers narrated the whole incident to Shiva. Six months ago, Rathore traveled to a village called Devgarh as the new ASP. There, a goon called Baapji (Nassar) and his son Munna trouble, torture and annex money from the villagers. Rathore immediately arrests Munna for raping Vishal Sharma's wife but he is released because of Baapji's political influence. Baapji arranges a party celebrating Munna's release. At the party, Munna humiliates the police officers and makes them pull their pants down. Rathore, being the next target, moves back to the balcony, where Munna falls by slipping bullet,which Rathore puts and gets hanged by the belt of a humiliated inspector. The next day, Rathore gets attacked by Baapji's brother Titla (Supreeth Reddy), where he is stabbed at the back while the people were celebrating Munna's death and shot in the head while trying to save a village child. He is then assumed to be dead. While the police officers are getting ready to bury him, he starts breathing, having survived. Everybody promises not to disclose this to anyone. The officers then took Rathore to Mumbai for treatment. After Shiva hears the whole story, the doctors say that Rathore doesn't have much time left. Rathore requests Shiva to take care of his daughter. Shiva promises and says that Chinki is now his daughter. Rathore dies holding Shiva's hand.\n",
            "Shiva vows to complete Rathore's unfinished work. He takes on Rathore's identity and goes to Devgarh with Chinki to take revenge. He sets Baapji's liquor factory on fire and distributes the grains and money back to the villagers. Paro finds out the truth, and that Shiva will now always be Vikram Rathore. She apologizes to him and vows that she will also take care of Chinki. In a heavy climax, Shiva eventually kills Baapji and Titla. The people of Devgarh are now safe. Shiva marries Paro and starts his new life as a police officer with her, Chinki, Razia, Vishal, and 2G.\n",
            "\n",
            "Título: Manchi Kutumbam\n",
            "Trama: Venu Gopala Rao (Akkineni Nageshwara Rao) is a businessman who has a happy family. His family consists of an understanding wife Shantha (Shaavukaru Janaki), they have 8 children two college going daughters Mala (Vijayanirmala) Nirmala (Vijayasree), a widowed elder sister Seetamma (Hemalatha) and a nephew Pandu (Chalam) who looks after the happenings in the house. Venu Gopala Rao’s daughters fall for two handsome looking men Mohan (Krishna) and Shankar (Chandramohan) respectively. Meanwhile, Pandu loves Station Master Bhushanam's (Allu Ramalingaiah) daughter Bala (Geethanjali). Venu Gopala Rao spends the little time with the family and spends more time in business tours. One day, a young man arrives at the house claiming to be the son of Venu Gopala Rao. Shantha gets distraught knowing this and all the family members get devastated. When the family is in such mental turmoil, Venu Gopala Rao enters the scene and explains the flashback because the family members demand a strong explanation. Venu Gopala Rao was made to study by a richman (Gummadi). This rich man has two daughters Shantha and Sarada (Kanchana). Shantha secretly admires Venu Gopala Rao. Meanwhile, Sarada and Venu Gopala Rao are in love. But with the request of the rich man, Venugopala Rao marries Shantha. Sarada sacrifices her love for her beloved sister. Once Shantha and Venu Gopala Rao leave for Burma on a business tour. As it is the second world war era, due to bombing the couple gets separated. Venu Gopala Rao assumes that Shantha is dead and returns to India. In troubled circumstances, he marries Sarada too. Suddenly, Shantha comes back to India well alive. As a result, Venu Gopala Rao decides to stay with two wives without letting each other know about this. Sarada dies after giving birth to four children. Shantha realizes the truth and looks after his sister’s children equally with her own children. Right from then Venu Gopala Rao’s family becomes a happy family. The story ends on a happy note with the marriages of Venu Gopala Rao’s children\n",
            "\n"
          ]
        }
      ],
      "source": [
        "resultados = busquedaIndiceInvertido(indice,df_final,\"time travel\")\n",
        "for resultado in resultados:\n",
        "    print(f\"Título: {resultado['Title']}\")\n",
        "    print(f\"Trama: {resultado['Plot']}\\n\")"
      ]
    },
    {
      "cell_type": "markdown",
      "metadata": {
        "id": "WaRObZjTBMnv"
      },
      "source": [
        "# Woosh"
      ]
    },
    {
      "cell_type": "code",
      "execution_count": null,
      "metadata": {
        "colab": {
          "base_uri": "https://localhost:8080/"
        },
        "id": "QyLPoObe-yr_",
        "outputId": "42006a1e-279e-48bd-c840-59835056e155"
      },
      "outputs": [
        {
          "name": "stdout",
          "output_type": "stream",
          "text": [
            "Requirement already satisfied: whoosh in c:\\users\\dicam\\appdata\\local\\programs\\python\\python312\\lib\\site-packages (2.7.4)\n",
            "Note: you may need to restart the kernel to use updated packages.\n"
          ]
        }
      ],
      "source": [
        "pip install whoosh"
      ]
    },
    {
      "cell_type": "code",
      "execution_count": 18,
      "metadata": {
        "id": "JKr0gmzqBGrn"
      },
      "outputs": [],
      "source": [
        "from whoosh import index\n",
        "from whoosh.fields import Schema, TEXT, ID\n",
        "from whoosh.qparser import QueryParser\n",
        "import os"
      ]
    },
    {
      "cell_type": "code",
      "execution_count": 19,
      "metadata": {
        "id": "DezfpD20Ddqh"
      },
      "outputs": [],
      "source": [
        "schema = Schema(\n",
        "    Title=TEXT(stored=True),  # Almacenar el título\n",
        "    Plot=TEXT(stored=True)    # Almacenar la trama\n",
        ")"
      ]
    },
    {
      "cell_type": "code",
      "execution_count": 20,
      "metadata": {
        "id": "hk09t4br_cZn"
      },
      "outputs": [],
      "source": [
        "# Paso 2: Crear el índice\n",
        "index_dir = \"whoosh_index\"\n",
        "if not os.path.exists(index_dir):\n",
        "    os.mkdir(index_dir)\n",
        "index_whoosh = index.create_in(index_dir, schema)\n"
      ]
    },
    {
      "cell_type": "code",
      "execution_count": 21,
      "metadata": {
        "id": "ZqOVlzKk_fEG"
      },
      "outputs": [],
      "source": [
        "writer = index_whoosh.writer()\n",
        "for _, row in df_final.iterrows():\n",
        "    writer.add_document(\n",
        "        Title=row[\"Title\"],\n",
        "        Plot=row[\"Plot\"]\n",
        "    )\n",
        "writer.commit()\n"
      ]
    },
    {
      "cell_type": "code",
      "execution_count": 63,
      "metadata": {
        "id": "QwCFULpt_ikV"
      },
      "outputs": [],
      "source": [
        "\n",
        "# Paso 4: Realizar búsquedas\n",
        "def buscar_peliculas_whoosh(texto_busqueda):\n",
        "    with index_whoosh.searcher() as searcher:\n",
        "        query = QueryParser(\"Plot\", index_whoosh.schema).parse(texto_busqueda)\n",
        "        resultados = searcher.search(query, limit=5)  # Limitar a los 10 resultados más relevantes\n",
        "        return [dict(result) for result in resultados]\n"
      ]
    },
    {
      "cell_type": "code",
      "execution_count": 67,
      "metadata": {
        "colab": {
          "base_uri": "https://localhost:8080/"
        },
        "id": "cytCdh4hGgZh",
        "outputId": "f44cb194-27d2-4d14-ffa7-f12a0670b631"
      },
      "outputs": [
        {
          "name": "stdout",
          "output_type": "stream",
          "text": [
            "Título: Time Chasers\n",
            "Trama: Physics teacher and amateur pilot Nick Miller (Matthew Bruch) has finally completed his quest of enabling time travel, via a Commodore 64 and his small airplane. After being inspired by a television commercial for GenCorp, he uses a ruse to bring out both a GenCorp executive and a reporter from a local paper. To Nick's surprise, the reporter is Lisa Hansen (Bonnie Pritchard), an old high school flame. One trip to 2041 later and Gencorp's executive, Matthew Paul (Peter Harrington), quickly arranges Nick a meeting with CEO J.K. Robertson (George Woodard). Impressed by the potential of time travel, Robertson offers Nick a licensing agreement on the technology.\n",
            "The following week, Nick and Lisa meet at the supermarket and go on a date to the 1950s. However, another trip to 2041 reveals that GenCorp abused Nick's time travel technology, creating a dystopian future. In an attempt to tell J.K. about how GenCorp inadvertently ruined the future. J.K. dismisses the eventuality, and states that there's enough time to worry about how to fix it before it happens. J.K. sees Nick as a threat to GenCorp, and due to the association with the U.S. Government, considers Nick's actions as treason. Nick and Lisa escape GenCorp and spend the remainder of the film trying to reverse the damage to the future. When J.K. finds out about this, he and Matt try to shoot down Nick's plane, killing Lisa in the process while Nick jumps out before the plane crashes. This ultimately culminates in a fight in 1777 during the American Revolution, the deaths of the present Nick and Robertson, and the destruction of the time machine before the original demo, thus ensuring that the majority of the film's events never happen in the first place. The film ends with the now current Nick (now aware of the danger of his time machine) sabotaging his demonstration, and doing a pitch of how an elderly skydiver would be a better ad campaign for J.K.'s company. Furious about being misled, J.K. fires Matt. Nick deletes the eight 5¼\" floppy disks that make time travel possible. At the end of the film, Nick talks to Lisa in the supermarket as he did in the previous timeline.\n",
            "\n",
            "Título: Love Story 2050\n",
            "Trama: Karan Malhotra (Harman Baweja) is a spirited and happy-go-lucky boy who does not follow the rules. Sana (Priyanka Chopra) is the opposite of Karan: a sweet and shy girl who lives life by the rules. Even though they are completely opposite, they fall in love, leading to a magical love story.[9]\n",
            "A scientist, Dr. Yatinder Khanna (Boman Irani), has dedicated 15 years of his life to building a time machine. Sana expresses a wish to time-travel to Mumbai in the year 2050, but she is killed in an accident before her marriage to Karan. Karan wishes to travel back in time and find Sana. Dr. Yatinder, Karan, and Sana's siblings, Rahul and Thea, travel forward in time and reach Mumbai in 2050. They are fascinated by the futuristic Mumbai, with its flying cars, holograms, robots, 200-story buildings and more.\n",
            "Twists and turns lead to the introduction of Ziesha (Priyanka Chopra), the reincarnation of Sana. Ziesha is a popular singer in 2050 who does not remember her past life, but gets flashbacks of it after meeting Karan. Unlike Sana, Ziesha is an arrogant, headstrong and rebellious girl who does not believe in love. She leads a lonely life after the death of her parents, which has embittered her.\n",
            "Karan and the others find themselves under the threat of the demi-god, Dr. Hoshi. After Karan tells Ziesha he loves her, he is taken away from her by the guards. Ziesha does not believe him when he tells her about his time travel. However, after reading Sana's diary, Ziesha ultimately remembers her past life. Karan returns to her and she declares her love for him and tells him she is Sana. Dr. Hoshi tries to capture Karan because he wants the time machine. After a wild attempt to catch Karan and Ziesha, Hoshi crashes into a nuclear substance truck and dies. Karan goes back to 2008 in the time machine with Ziesha and the rest of his family. Everyone is overjoyed to see their beloved Sana again and Karan proposes to her.[9][10]\n",
            "\n",
            "Título: Timeranger vs. GoGoV\n",
            "Trama: In the 30th century, time travel becomes illegal after a time paradox crisis. The Time Protection Department (TPD) is established to watch for and stop time crimes. Four new enlistee cadets of the TPD are tricked by Don Dolnero and his gang into letting them time-travel to the year 2000 to commit various crimes and, to protect history, the four cadets pursue them. They encounter a severe problem: the Timeranger program requires five members for the first operation. They force a present-day martial artist, Tatsuya Asami, to join them, and they become the Timerangers. Tatsuya rents a building for them to live in, and they start a small odd-jobs business called Tomorrow Research to financially support themselves.\n",
            "Over time, the four cadets begin to realize that their presence would inevitably change the future in the form of the City Guardians, a security force under the employment of the Asami Corporation to protect the city from the Londers. The City Guardians form a tenuous relationship with the Timerangers, especially when Tatsuya's college acquaintance Naoto becomes Time Fire and later also becomes the City Guardian's captain.\n",
            "\n",
            "Título: Abby Sen\n",
            "Trama: Kolkata 2013. Abby Sen is a 30-year-old television producer. He is academically brilliant, has a strong background in science and watching science fiction films is his greatest passion. But his programmes on television are never popular and fail to make a mark on the TRP ratings. And that is perhaps the only reason why Abby has lost no less than seven jobs. Every time he is fired, his wife Somy gets hysterical and throws down everything that she could lay her hands on. So Abby has not disclosed his last dismissal to her.\n",
            "By sheer coincidence, Abby meets a self-styled scientist who claims to have discovered a time-travel capsule. The scientist volunteers to take Abby back in time when getting a job was not that difficult. But he has certain conditions, which Abby must fulfill. Finding all options bleak, Abby decides to agree to his conditions and travel 33 years back in time, that is, in 1980.\n",
            "Thereafter, a series of unforeseen incidents and intricacies of relationships make Abby’s life in 1980 as eventful as ever. But flung between the two worlds of 1980 and 2013 both in his personal and professional life, Abby represents the predicament of a man struggling to survive in this competitive world.\n",
            "\n",
            "Título: Dimensions\n",
            "Trama: The film follows Stephen, a brilliant young scientist who lives in Cambridge, England, in what appears to be the 1920s. His world is turned upside down upon meeting a charismatic and inspirational professor at a garden party, who demonstrates to Stephen and his friends what life would be like if they were one-, or two-dimensional beings. He then proceeds to explain that by manipulating other dimensions, time travel may actually be possible.\n",
            "Soon after the professor's visit, Stephan,his cousin, Conrad, and his neighbor, Victoria, were fooling around by a well. Conrad throws Victoria's skipping rope down the well. The nanny catches the boys rolling around fighting and drags them in the house by the ears leaving Victoria alone to play outside by herself. After some time, she decides to climb down the well to get her skipping rope. She never climbs out of the well and her body is never found.\n",
            "As Stephen’s life unfolds, events lead him to dedicate himself to turning the Professor’s theories of time travel into reality. Jealousy, love, obsession, temptation and greed surround him, influencing his fragile mind and the direction of his work.\n",
            "\n"
          ]
        }
      ],
      "source": [
        "# Ejemplo de búsqueda\n",
        "resultados = buscar_peliculas_whoosh(\"time travel\")\n",
        "for resultado in resultados:\n",
        "    print(f\"Título: {resultado['Title']}\")\n",
        "    print(f\"Trama: {resultado['Plot']}\\n\")"
      ]
    },
    {
      "cell_type": "markdown",
      "metadata": {
        "id": "i1Si6bbVKFwO"
      },
      "source": [
        "# Elasticsearch"
      ]
    },
    {
      "cell_type": "code",
      "execution_count": null,
      "metadata": {
        "colab": {
          "base_uri": "https://localhost:8080/"
        },
        "id": "JPYoBU_MKEj_",
        "outputId": "c2bd2af7-9c9e-43dd-f309-67ee186c2ac9"
      },
      "outputs": [
        {
          "name": "stdout",
          "output_type": "stream",
          "text": [
            "Requirement already satisfied: elasticsearch in c:\\users\\dicam\\appdata\\local\\programs\\python\\python312\\lib\\site-packages (8.17.0)\n",
            "Requirement already satisfied: elastic-transport<9,>=8.15.1 in c:\\users\\dicam\\appdata\\local\\programs\\python\\python312\\lib\\site-packages (from elasticsearch) (8.17.0)\n",
            "Requirement already satisfied: urllib3<3,>=1.26.2 in c:\\users\\dicam\\appdata\\local\\programs\\python\\python312\\lib\\site-packages (from elastic-transport<9,>=8.15.1->elasticsearch) (2.2.2)\n",
            "Requirement already satisfied: certifi in c:\\users\\dicam\\appdata\\local\\programs\\python\\python312\\lib\\site-packages (from elastic-transport<9,>=8.15.1->elasticsearch) (2024.7.4)\n"
          ]
        }
      ],
      "source": [
        "!pip install elasticsearch"
      ]
    },
    {
      "cell_type": "markdown",
      "metadata": {},
      "source": [
        "### Conexion a Docker\n",
        "\n",
        "docker network create elastic\n",
        "\n",
        "docker pull docker.elastic.co/elasticsearch/elasticsearch:8.17.0\n",
        "\n",
        "docker run -d --name elasticsearch -p 9200:9200 -e \"discovery.type=single-node\" -e \"xpack.security.enabled=false\" docker.elastic.co/elasticsearch/elasticsearch:8.17.0\n",
        "\n",
        "curl http://localhost:9200"
      ]
    },
    {
      "cell_type": "code",
      "execution_count": null,
      "metadata": {
        "colab": {
          "base_uri": "https://localhost:8080/"
        },
        "id": "bo7Zdm7VwnUt",
        "outputId": "71bc977c-bace-46ea-c26c-df659a2b3b97"
      },
      "outputs": [
        {
          "name": "stdout",
          "output_type": "stream",
          "text": [
            "Conexión exitosa a Elasticsearch\n"
          ]
        }
      ],
      "source": [
        "from elasticsearch import Elasticsearch\n",
        "\n",
        "# Conexión al cliente Elasticsearch\n",
        "es = Elasticsearch(\"http://localhost:9200\")\n",
        "\n",
        "# Verificar si está conectado\n",
        "if es.ping():\n",
        "    print(\"Conexión exitosa a Elasticsearch\")\n",
        "else:\n",
        "    print(\"Error al conectar con Elasticsearch\")\n"
      ]
    },
    {
      "cell_type": "code",
      "execution_count": null,
      "metadata": {
        "id": "ZADSnK4AwnZG"
      },
      "outputs": [
        {
          "name": "stdout",
          "output_type": "stream",
          "text": [
            "Índice 'movies' ya existe.\n"
          ]
        }
      ],
      "source": [
        "# Definimos el esquema del índice\n",
        "index_name = \"movies\"\n",
        "if not es.indices.exists(index=index_name):\n",
        "    es.indices.create(\n",
        "        index=index_name,\n",
        "        body={\n",
        "            \"mappings\": {\n",
        "                \"properties\": {\n",
        "                    \"title\": {\"type\": \"text\"},\n",
        "                    \"plot\": {\"type\": \"text\"}\n",
        "                }\n",
        "            }\n",
        "        }\n",
        "    )\n",
        "    print(f\"Índice '{index_name}' creado.\")\n",
        "else:\n",
        "    print(f\"Índice '{index_name}' ya existe.\")\n"
      ]
    },
    {
      "cell_type": "code",
      "execution_count": null,
      "metadata": {
        "id": "ak5C-iW6wnbo"
      },
      "outputs": [
        {
          "name": "stdout",
          "output_type": "stream",
          "text": [
            "Películas indexadas con éxito.\n"
          ]
        }
      ],
      "source": [
        "# Indexar los datos\n",
        "for _, row in df_final.iterrows():\n",
        "    doc = {\n",
        "        \"title\": row[\"Title\"],\n",
        "        \"plot\": row[\"Plot\"]\n",
        "    }\n",
        "    es.index(index=index_name, id=row[\"Title\"], document=doc)\n",
        "\n",
        "print(\"Películas indexadas con éxito.\")\n"
      ]
    },
    {
      "cell_type": "code",
      "execution_count": 65,
      "metadata": {
        "id": "4Q6hVATywneC"
      },
      "outputs": [],
      "source": [
        "# Función para realizar búsquedas\n",
        "def buscar_peliculas_elasticsearch(query):\n",
        "    body = {\n",
        "        \"size\": 5,\n",
        "        \"query\": {\n",
        "            \"match\": {\n",
        "                \"plot\": query\n",
        "            }\n",
        "        }\n",
        "    }\n",
        "    resultados = es.search(index=index_name, body=body)\n",
        "    return [\n",
        "        {\n",
        "            \"title\": hit[\"_source\"][\"title\"],\n",
        "            \n",
        "            \"plot\": hit[\"_source\"][\"plot\"]\n",
        "        }\n",
        "        for hit in resultados[\"hits\"][\"hits\"]\n",
        "    ]"
      ]
    },
    {
      "cell_type": "code",
      "execution_count": 66,
      "metadata": {
        "id": "imemQPKbwnhm"
      },
      "outputs": [
        {
          "name": "stdout",
          "output_type": "stream",
          "text": [
            "Título: Time Chasers\n",
            "Trama: Physics teacher and amateur pilot Nick Miller (Matthew Bruch) has finally completed his quest of enabling time travel, via a Commodore 64 and his small airplane. After being inspired by a television commercial for GenCorp, he uses a ruse to bring out both a GenCorp executive and a reporter from a local paper. To Nick's surprise, the reporter is Lisa Hansen (Bonnie Pritchard), an old high school flame. One trip to 2041 later and Gencorp's executive, Matthew Paul (Peter Harrington), quickly arranges Nick a meeting with CEO J.K. Robertson (George Woodard). Impressed by the potential of time travel, Robertson offers Nick a licensing agreement on the technology.\n",
            "The following week, Nick and Lisa meet at the supermarket and go on a date to the 1950s. However, another trip to 2041 reveals that GenCorp abused Nick's time travel technology, creating a dystopian future. In an attempt to tell J.K. about how GenCorp inadvertently ruined the future. J.K. dismisses the eventuality, and states that there's enough time to worry about how to fix it before it happens. J.K. sees Nick as a threat to GenCorp, and due to the association with the U.S. Government, considers Nick's actions as treason. Nick and Lisa escape GenCorp and spend the remainder of the film trying to reverse the damage to the future. When J.K. finds out about this, he and Matt try to shoot down Nick's plane, killing Lisa in the process while Nick jumps out before the plane crashes. This ultimately culminates in a fight in 1777 during the American Revolution, the deaths of the present Nick and Robertson, and the destruction of the time machine before the original demo, thus ensuring that the majority of the film's events never happen in the first place. The film ends with the now current Nick (now aware of the danger of his time machine) sabotaging his demonstration, and doing a pitch of how an elderly skydiver would be a better ad campaign for J.K.'s company. Furious about being misled, J.K. fires Matt. Nick deletes the eight 5¼\" floppy disks that make time travel possible. At the end of the film, Nick talks to Lisa in the supermarket as he did in the previous timeline.\n",
            "\n",
            "Título: Love Story 2050\n",
            "Trama: Karan Malhotra (Harman Baweja) is a spirited and happy-go-lucky boy who does not follow the rules. Sana (Priyanka Chopra) is the opposite of Karan: a sweet and shy girl who lives life by the rules. Even though they are completely opposite, they fall in love, leading to a magical love story.[9]\n",
            "A scientist, Dr. Yatinder Khanna (Boman Irani), has dedicated 15 years of his life to building a time machine. Sana expresses a wish to time-travel to Mumbai in the year 2050, but she is killed in an accident before her marriage to Karan. Karan wishes to travel back in time and find Sana. Dr. Yatinder, Karan, and Sana's siblings, Rahul and Thea, travel forward in time and reach Mumbai in 2050. They are fascinated by the futuristic Mumbai, with its flying cars, holograms, robots, 200-story buildings and more.\n",
            "Twists and turns lead to the introduction of Ziesha (Priyanka Chopra), the reincarnation of Sana. Ziesha is a popular singer in 2050 who does not remember her past life, but gets flashbacks of it after meeting Karan. Unlike Sana, Ziesha is an arrogant, headstrong and rebellious girl who does not believe in love. She leads a lonely life after the death of her parents, which has embittered her.\n",
            "Karan and the others find themselves under the threat of the demi-god, Dr. Hoshi. After Karan tells Ziesha he loves her, he is taken away from her by the guards. Ziesha does not believe him when he tells her about his time travel. However, after reading Sana's diary, Ziesha ultimately remembers her past life. Karan returns to her and she declares her love for him and tells him she is Sana. Dr. Hoshi tries to capture Karan because he wants the time machine. After a wild attempt to catch Karan and Ziesha, Hoshi crashes into a nuclear substance truck and dies. Karan goes back to 2008 in the time machine with Ziesha and the rest of his family. Everyone is overjoyed to see their beloved Sana again and Karan proposes to her.[9][10]\n",
            "\n",
            "Título: Timeranger vs. GoGoV\n",
            "Trama: In the 30th century, time travel becomes illegal after a time paradox crisis. The Time Protection Department (TPD) is established to watch for and stop time crimes. Four new enlistee cadets of the TPD are tricked by Don Dolnero and his gang into letting them time-travel to the year 2000 to commit various crimes and, to protect history, the four cadets pursue them. They encounter a severe problem: the Timeranger program requires five members for the first operation. They force a present-day martial artist, Tatsuya Asami, to join them, and they become the Timerangers. Tatsuya rents a building for them to live in, and they start a small odd-jobs business called Tomorrow Research to financially support themselves.\n",
            "Over time, the four cadets begin to realize that their presence would inevitably change the future in the form of the City Guardians, a security force under the employment of the Asami Corporation to protect the city from the Londers. The City Guardians form a tenuous relationship with the Timerangers, especially when Tatsuya's college acquaintance Naoto becomes Time Fire and later also becomes the City Guardian's captain.\n",
            "\n",
            "Título: Abby Sen\n",
            "Trama: Kolkata 2013. Abby Sen is a 30-year-old television producer. He is academically brilliant, has a strong background in science and watching science fiction films is his greatest passion. But his programmes on television are never popular and fail to make a mark on the TRP ratings. And that is perhaps the only reason why Abby has lost no less than seven jobs. Every time he is fired, his wife Somy gets hysterical and throws down everything that she could lay her hands on. So Abby has not disclosed his last dismissal to her.\n",
            "By sheer coincidence, Abby meets a self-styled scientist who claims to have discovered a time-travel capsule. The scientist volunteers to take Abby back in time when getting a job was not that difficult. But he has certain conditions, which Abby must fulfill. Finding all options bleak, Abby decides to agree to his conditions and travel 33 years back in time, that is, in 1980.\n",
            "Thereafter, a series of unforeseen incidents and intricacies of relationships make Abby’s life in 1980 as eventful as ever. But flung between the two worlds of 1980 and 2013 both in his personal and professional life, Abby represents the predicament of a man struggling to survive in this competitive world.\n",
            "\n",
            "Título: Dimensions\n",
            "Trama: The film follows Stephen, a brilliant young scientist who lives in Cambridge, England, in what appears to be the 1920s. His world is turned upside down upon meeting a charismatic and inspirational professor at a garden party, who demonstrates to Stephen and his friends what life would be like if they were one-, or two-dimensional beings. He then proceeds to explain that by manipulating other dimensions, time travel may actually be possible.\n",
            "Soon after the professor's visit, Stephan,his cousin, Conrad, and his neighbor, Victoria, were fooling around by a well. Conrad throws Victoria's skipping rope down the well. The nanny catches the boys rolling around fighting and drags them in the house by the ears leaving Victoria alone to play outside by herself. After some time, she decides to climb down the well to get her skipping rope. She never climbs out of the well and her body is never found.\n",
            "As Stephen’s life unfolds, events lead him to dedicate himself to turning the Professor’s theories of time travel into reality. Jealousy, love, obsession, temptation and greed surround him, influencing his fragile mind and the direction of his work.\n",
            "\n"
          ]
        }
      ],
      "source": [
        "# Ejemplo de búsqueda\n",
        "resultados = buscar_peliculas_elasticsearch(\"time travel\")\n",
        "for resultado in resultados:\n",
        "    print(f\"Título: {resultado['title']}\\nTrama: {resultado['plot']}\\n\")"
      ]
    }
  ],
  "metadata": {
    "colab": {
      "provenance": []
    },
    "kernelspec": {
      "display_name": "Python 3",
      "name": "python3"
    },
    "language_info": {
      "codemirror_mode": {
        "name": "ipython",
        "version": 3
      },
      "file_extension": ".py",
      "mimetype": "text/x-python",
      "name": "python",
      "nbconvert_exporter": "python",
      "pygments_lexer": "ipython3",
      "version": "3.12.1"
    }
  },
  "nbformat": 4,
  "nbformat_minor": 0
}
