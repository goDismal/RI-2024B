{
  "cells": [
    {
      "metadata": {
        "id": "ba027b5597ab7f20"
      },
      "cell_type": "markdown",
      "source": [
        "# Ejercicio 03: Cálculo de Relevancia y Ranking de Documentos\n",
        "\n",
        "El objetivo de este ejercicio es calcular analíticamente la relevancia de cada documento en un corpus y luego ordenar (rankear) los documentos basándonos en esa puntuación de relevancia para tres consultas específicas. Seguirás los siguientes pasos:"
      ],
      "id": "ba027b5597ab7f20"
    },
    {
      "metadata": {
        "id": "59292b2666317ed1"
      },
      "cell_type": "markdown",
      "source": [
        "Descripción del Ejercicio\n",
        "\n",
        "1. Procesamiento del Corpus:\n",
        "    * Leer y parsear el archivo XML proporcionado que contiene el corpus de documentos con sus metadatos (keywords, autor y fecha).\n",
        "\n",
        "2. Procesamiento de las Consultas:\n",
        "    * Definir las consultas proporcionadas.\n",
        "    * Extraer las palabras clave de cada consulta.\n",
        "\n",
        "3. Cálculo de Relevancia:\n",
        "    * Utilizar métricas de similitud (Similitud Coseno y Jaccard) entre la representación vectorial de los documentos y las de las consultas.\n",
        "    * Calcular la puntuación de relevancia para cada documento del corpus respecto a cada consulta.\n",
        "\n",
        "4. Ranking de Documentos:\n",
        "    * Ordenar los documentos en función de su puntuación de relevancia de mayor a menor.\n",
        "    * Mostrar el ranking de documentos para cada consulta."
      ],
      "id": "59292b2666317ed1"
    },
    {
      "metadata": {
        "ExecuteTime": {
          "end_time": "2024-11-05T03:17:29.236080Z",
          "start_time": "2024-11-05T03:17:29.201915Z"
        },
        "id": "658a8002d23a7c44"
      },
      "cell_type": "code",
      "source": [
        "# Importar las librerías necesarias\n",
        "import xml.etree.ElementTree as ET\n",
        "\n",
        "# Definir las consultas\n",
        "queries = {\n",
        "    1: \"Impacto de la salud mental en el rendimiento académico de los estudiantes universitarios\",\n",
        "    2: \"Actividades extracurriculares y bienestar emocional en el campus universitario\",\n",
        "    3: \"Estrategias universitarias para reducir el estrés en estudiantes\"\n",
        "}\n",
        "\n",
        "# Función para procesar el texto y extraer palabras clave\n",
        "def process_text(text):\n",
        "    # Convertir a minúsculas\n",
        "    text = text.lower()\n",
        "    # Reemplazar caracteres no alfanuméricos por espacios\n",
        "    import re\n",
        "    text = re.sub(r'[^a-záéíóúñü]+', ' ', text)\n",
        "    # Tokenizar y eliminar palabras vacías si es necesario\n",
        "    tokens = text.strip().split()\n",
        "    return set(tokens)\n",
        "\n",
        "# Paso 1: Leer y parsear el archivo XML\n",
        "def parse_corpus(xml_file):\n",
        "    tree = ET.parse(xml_file)\n",
        "    root = tree.getroot()\n",
        "    corpus = {}\n",
        "    for doc in root.findall('document'):\n",
        "        doc_id = int(doc.get('id'))\n",
        "        title = doc.find('title').text\n",
        "        keywords = doc.find('keywords').text\n",
        "        author = doc.find('author').text\n",
        "        date = doc.find('date').text\n",
        "        # Procesar las palabras clave\n",
        "        keyword_set = process_text(keywords)\n",
        "        corpus[doc_id] = {\n",
        "            'title': title,\n",
        "            'keywords': keyword_set,\n",
        "            'author': author,\n",
        "            'date': date\n",
        "        }\n",
        "    return corpus"
      ],
      "id": "658a8002d23a7c44",
      "outputs": [],
      "execution_count": 191
    },
    {
      "metadata": {
        "ExecuteTime": {
          "end_time": "2024-11-05T03:18:06.356513Z",
          "start_time": "2024-11-05T03:18:06.320815Z"
        },
        "colab": {
          "base_uri": "https://localhost:8080/"
        },
        "id": "1c42c7d641142772",
        "outputId": "0168a9a7-a42a-4722-c96c-299780c06863"
      },
      "cell_type": "code",
      "source": [
        "corpus = parse_corpus('/content/03ranking_corpus.xml')\n",
        "corpus"
      ],
      "id": "1c42c7d641142772",
      "outputs": [
        {
          "output_type": "execute_result",
          "data": {
            "text/plain": [
              "{1: {'title': 'El aumento de la telemedicina para el tratamiento de condiciones de salud crónicas.',\n",
              "  'keywords': {'crónica',\n",
              "   'médica',\n",
              "   'salud',\n",
              "   'tecnología',\n",
              "   'telemedicina',\n",
              "   'tratamiento'},\n",
              "  'author': 'Dr. Juan Pérez',\n",
              "  'date': '2023-01-15'},\n",
              " 2: {'title': 'Cómo la nutrición balanceada afecta el rendimiento académico y la salud mental en estudiantes.',\n",
              "  'keywords': {'académico',\n",
              "   'estudiantes',\n",
              "   'mental',\n",
              "   'nutrición',\n",
              "   'rendimiento',\n",
              "   'salud'},\n",
              "  'author': 'Dra. María López',\n",
              "  'date': '2023-02-10'},\n",
              " 3: {'title': 'Estudio sobre cómo las relaciones de amistad contribuyen al bienestar de los estudiantes en el campus.',\n",
              "  'keywords': {'amistad',\n",
              "   'bienestar',\n",
              "   'campus',\n",
              "   'estudiantil',\n",
              "   'relaciones',\n",
              "   'sociales'},\n",
              "  'author': 'Miguel Rodríguez',\n",
              "  'date': '2023-03-05'},\n",
              " 4: {'title': 'El rol de las bibliotecas universitarias en el fomento de la investigación académica.',\n",
              "  'keywords': {'academia',\n",
              "   'bibliotecas',\n",
              "   'investigación',\n",
              "   'recursos',\n",
              "   'universitarias'},\n",
              "  'author': 'Lucía Martínez',\n",
              "  'date': '2023-04-20'},\n",
              " 5: {'title': 'Cómo los espacios verdes en los campus universitarios pueden mejorar la concentración y reducir el estrés.',\n",
              "  'keywords': {'campus',\n",
              "   'concentración',\n",
              "   'espacios',\n",
              "   'estrés',\n",
              "   'universitario',\n",
              "   'verdes'},\n",
              "  'author': 'Carlos Fernández',\n",
              "  'date': '2023-05-15'},\n",
              " 6: {'title': 'La influencia de la cultura universitaria en los hábitos saludables y el bienestar de los estudiantes.',\n",
              "  'keywords': {'bienestar',\n",
              "   'cultura',\n",
              "   'estudiantes',\n",
              "   'hábitos',\n",
              "   'saludables',\n",
              "   'universitaria'},\n",
              "  'author': 'Ana Sánchez',\n",
              "  'date': '2023-06-10'},\n",
              " 7: {'title': 'La importancia del sueño en la salud mental y el rendimiento académico en jóvenes universitarios.',\n",
              "  'keywords': {'académico',\n",
              "   'mental',\n",
              "   'rendimiento',\n",
              "   'salud',\n",
              "   'sueño',\n",
              "   'universitarios'},\n",
              "  'author': 'Javier Torres',\n",
              "  'date': '2023-07-25'},\n",
              " 8: {'title': 'La influencia del apoyo familiar y social en el bienestar emocional de los estudiantes universitarios.',\n",
              "  'keywords': {'apoyo',\n",
              "   'bienestar',\n",
              "   'emocional',\n",
              "   'estudiantes',\n",
              "   'familiar',\n",
              "   'social'},\n",
              "  'author': 'Laura Gómez',\n",
              "  'date': '2023-08-30'},\n",
              " 9: {'title': 'El impacto de los hábitos de lectura en el desarrollo cognitivo en jóvenes y adultos.',\n",
              "  'keywords': {'adultos',\n",
              "   'cognitivo',\n",
              "   'de',\n",
              "   'desarrollo',\n",
              "   'hábitos',\n",
              "   'jóvenes',\n",
              "   'lectura'},\n",
              "  'author': 'Fernando Ruiz',\n",
              "  'date': '2023-09-18'},\n",
              " 10: {'title': 'Avances en la tecnología para la medicina preventiva y su aplicación en jóvenes.',\n",
              "  'keywords': {'avances',\n",
              "   'jóvenes',\n",
              "   'medicina',\n",
              "   'médica',\n",
              "   'preventiva',\n",
              "   'tecnología',\n",
              "   'tecnológicos'},\n",
              "  'author': 'Elena Navarro',\n",
              "  'date': '2023-10-05'},\n",
              " 11: {'title': 'Impacto de la práctica regular de ejercicio en la reducción del estrés académico en estudiantes universitarios.',\n",
              "  'keywords': {'académico',\n",
              "   'ejercicio',\n",
              "   'estrés',\n",
              "   'estudiantes',\n",
              "   'salud',\n",
              "   'universitarios'},\n",
              "  'author': 'Diego Castro',\n",
              "  'date': '2023-11-12'},\n",
              " 12: {'title': 'El papel del mindfulness y la meditación en la reducción de la ansiedad en estudiantes universitarios.',\n",
              "  'keywords': {'ansiedad',\n",
              "   'estudiantes',\n",
              "   'meditación',\n",
              "   'mindfulness',\n",
              "   'universitarios'},\n",
              "  'author': 'Sofía Vega',\n",
              "  'date': '2023-12-01'},\n",
              " 13: {'title': 'Estrategias para mejorar la salud mental en estudiantes universitarios: el rol del apoyo psicológico y los grupos de estudio en el campus.',\n",
              "  'keywords': {'apoyo',\n",
              "   'de',\n",
              "   'estudiantes',\n",
              "   'estudio',\n",
              "   'grupos',\n",
              "   'mental',\n",
              "   'psicológico',\n",
              "   'salud',\n",
              "   'universitarios'},\n",
              "  'author': 'Marcos Ortiz',\n",
              "  'date': '2024-01-10'},\n",
              " 14: {'title': 'Cómo el acceso a servicios de salud mental en la universidad puede mejorar el desempeño académico.',\n",
              "  'keywords': {'académico',\n",
              "   'desempeño',\n",
              "   'estudiantes',\n",
              "   'mental',\n",
              "   'salud',\n",
              "   'servicios',\n",
              "   'universitarios'},\n",
              "  'author': 'Paula Morales',\n",
              "  'date': '2024-02-15'},\n",
              " 15: {'title': 'Beneficios de las actividades extracurriculares para el bienestar emocional y social de los estudiantes.',\n",
              "  'keywords': {'actividades',\n",
              "   'bienestar',\n",
              "   'emocional',\n",
              "   'estudiantes',\n",
              "   'extracurriculares',\n",
              "   'social'},\n",
              "  'author': 'José Herrera',\n",
              "  'date': '2024-03-05'},\n",
              " 16: {'title': 'El papel de los laboratorios de innovación educativa en el desarrollo de competencias tecnológicas.',\n",
              "  'keywords': {'competencias',\n",
              "   'de',\n",
              "   'desarrollo',\n",
              "   'educación',\n",
              "   'innovación',\n",
              "   'laboratorios',\n",
              "   'tecnológicas'},\n",
              "  'author': 'Andrea Díaz',\n",
              "  'date': '2024-04-20'},\n",
              " 17: {'title': 'Tendencias actuales en el diseño de campus para fomentar la interacción y colaboración.',\n",
              "  'keywords': {'campus',\n",
              "   'colaboración',\n",
              "   'de',\n",
              "   'diseño',\n",
              "   'interacción',\n",
              "   'tendencias'},\n",
              "  'author': 'Sergio Muñoz',\n",
              "  'date': '2024-05-15'},\n",
              " 18: {'title': 'Diferencias en el bienestar académico entre estudiantes que trabajan y aquellos que solo estudian.',\n",
              "  'keywords': {'académico',\n",
              "   'bienestar',\n",
              "   'comparación',\n",
              "   'estudiantes',\n",
              "   'que',\n",
              "   'rendimiento',\n",
              "   'trabajan'},\n",
              "  'author': 'Isabel Flores',\n",
              "  'date': '2024-06-10'},\n",
              " 19: {'title': 'Factores de riesgo y estrategias para prevenir el agotamiento académico en estudiantes universitarios.',\n",
              "  'keywords': {'académico',\n",
              "   'agotamiento',\n",
              "   'de',\n",
              "   'estudiantes',\n",
              "   'factores',\n",
              "   'prevención',\n",
              "   'riesgo',\n",
              "   'universitarios'},\n",
              "  'author': 'Ricardo Ramos',\n",
              "  'date': '2024-07-25'},\n",
              " 20: {'title': 'El impacto de la tecnología y el uso de redes sociales en la calidad del sueño en estudiantes.',\n",
              "  'keywords': {'calidad',\n",
              "   'del',\n",
              "   'estudiantes',\n",
              "   'redes',\n",
              "   'sociales',\n",
              "   'sueño',\n",
              "   'tecnología'},\n",
              "  'author': 'Valeria Castillo',\n",
              "  'date': '2024-08-30'},\n",
              " 21: {'title': 'Investigación sobre el impacto de las tecnologías verdes en los edificios de las universidades.',\n",
              "  'keywords': {'ambiental',\n",
              "   'edificios',\n",
              "   'impacto',\n",
              "   'sostenibilidad',\n",
              "   'tecnologías',\n",
              "   'universitarios',\n",
              "   'verdes'},\n",
              "  'author': 'Daniel Medina',\n",
              "  'date': '2024-09-18'},\n",
              " 22: {'title': 'Estudio sobre el uso de bicicletas compartidas en universidades para mejorar la movilidad.',\n",
              "  'keywords': {'bicicletas',\n",
              "   'compartidas',\n",
              "   'movilidad',\n",
              "   'sostenible',\n",
              "   'transporte',\n",
              "   'universidades'},\n",
              "  'author': 'Patricia Reyes',\n",
              "  'date': '2024-10-05'},\n",
              " 23: {'title': 'Cómo la carga de trabajo académico afecta la salud emocional de los estudiantes y qué pueden hacer las universidades para ayudar.',\n",
              "  'keywords': {'académica',\n",
              "   'apoyo',\n",
              "   'carga',\n",
              "   'emocional',\n",
              "   'estudiantes',\n",
              "   'salud',\n",
              "   'universitario'},\n",
              "  'author': 'Gonzalo Soto',\n",
              "  'date': '2024-11-12'},\n",
              " 24: {'title': 'Estrategias para equilibrar vida social y académica en estudiantes de universidades intensivas.',\n",
              "  'keywords': {'académica',\n",
              "   'equilibrio',\n",
              "   'estrategias',\n",
              "   'estudiantes',\n",
              "   'social',\n",
              "   'vida'},\n",
              "  'author': 'Camila Aguilar',\n",
              "  'date': '2024-12-01'},\n",
              " 25: {'title': 'La relación entre actividades artísticas y el bienestar psicológico en la vida universitaria.',\n",
              "  'keywords': {'actividades',\n",
              "   'artísticas',\n",
              "   'bienestar',\n",
              "   'creatividad',\n",
              "   'psicológico',\n",
              "   'universitaria',\n",
              "   'vida'},\n",
              "  'author': 'Adrián Vargas',\n",
              "  'date': '2025-01-10'},\n",
              " 26: {'title': 'Los beneficios de los programas de becas para la retención de estudiantes en universidades.',\n",
              "  'keywords': {'becas',\n",
              "   'beneficios',\n",
              "   'de',\n",
              "   'estudiantes',\n",
              "   'programas',\n",
              "   'retención',\n",
              "   'universidades'},\n",
              "  'author': 'Teresa Romero',\n",
              "  'date': '2025-02-15'},\n",
              " 27: {'title': 'El rol de los deportes y la actividad física en la integración social y emocional de los estudiantes.',\n",
              "  'keywords': {'actividad',\n",
              "   'deportes',\n",
              "   'estudiantes',\n",
              "   'física',\n",
              "   'integración',\n",
              "   'social'},\n",
              "  'author': 'Alberto Peña',\n",
              "  'date': '2025-03-05'},\n",
              " 28: {'title': 'Cómo los eventos y talleres de bienestar organizados por la universidad ayudan a reducir el estrés.',\n",
              "  'keywords': {'bienestar',\n",
              "   'de',\n",
              "   'del',\n",
              "   'estrés',\n",
              "   'eventos',\n",
              "   'reducción',\n",
              "   'talleres',\n",
              "   'universidad'},\n",
              "  'author': 'Silvia Campos',\n",
              "  'date': '2025-04-20'},\n",
              " 29: {'title': 'Análisis de los hábitos de sueño y su relación con el rendimiento en exámenes universitarios.',\n",
              "  'keywords': {'análisis',\n",
              "   'de',\n",
              "   'en',\n",
              "   'estudiantes',\n",
              "   'exámenes',\n",
              "   'hábitos',\n",
              "   'rendimiento',\n",
              "   'sueño'},\n",
              "  'author': 'Óscar Luna',\n",
              "  'date': '2025-05-15'},\n",
              " 30: {'title': 'Cómo la inteligencia artificial está mejorando el acceso a servicios médicos en comunidades remotas.',\n",
              "  'keywords': {'artificial',\n",
              "   'comunidades',\n",
              "   'inteligencia',\n",
              "   'médicos',\n",
              "   'remotas',\n",
              "   'servicios',\n",
              "   'tecnología'},\n",
              "  'author': 'María Paredes',\n",
              "  'date': '2025-06-10'}}"
            ]
          },
          "metadata": {},
          "execution_count": 192
        }
      ],
      "execution_count": 192
    },
    {
      "cell_type": "code",
      "source": [
        "print(len(corpus))"
      ],
      "metadata": {
        "colab": {
          "base_uri": "https://localhost:8080/"
        },
        "id": "89lzT9NbMLsF",
        "outputId": "1d022626-2196-4944-f5ef-b43477ab4ee3"
      },
      "id": "89lzT9NbMLsF",
      "execution_count": 193,
      "outputs": [
        {
          "output_type": "stream",
          "name": "stdout",
          "text": [
            "30\n"
          ]
        }
      ]
    },
    {
      "cell_type": "code",
      "source": [
        "docs = []\n",
        "for doc_id in corpus:\n",
        "    docs.append(corpus[doc_id]['title'])\n",
        "\n",
        "print(len(docs))\n",
        "print(docs)"
      ],
      "metadata": {
        "colab": {
          "base_uri": "https://localhost:8080/"
        },
        "id": "TJP_J05cOUKd",
        "outputId": "0402b63d-9ca6-4827-a686-99d82d293667"
      },
      "id": "TJP_J05cOUKd",
      "execution_count": 194,
      "outputs": [
        {
          "output_type": "stream",
          "name": "stdout",
          "text": [
            "30\n",
            "['El aumento de la telemedicina para el tratamiento de condiciones de salud crónicas.', 'Cómo la nutrición balanceada afecta el rendimiento académico y la salud mental en estudiantes.', 'Estudio sobre cómo las relaciones de amistad contribuyen al bienestar de los estudiantes en el campus.', 'El rol de las bibliotecas universitarias en el fomento de la investigación académica.', 'Cómo los espacios verdes en los campus universitarios pueden mejorar la concentración y reducir el estrés.', 'La influencia de la cultura universitaria en los hábitos saludables y el bienestar de los estudiantes.', 'La importancia del sueño en la salud mental y el rendimiento académico en jóvenes universitarios.', 'La influencia del apoyo familiar y social en el bienestar emocional de los estudiantes universitarios.', 'El impacto de los hábitos de lectura en el desarrollo cognitivo en jóvenes y adultos.', 'Avances en la tecnología para la medicina preventiva y su aplicación en jóvenes.', 'Impacto de la práctica regular de ejercicio en la reducción del estrés académico en estudiantes universitarios.', 'El papel del mindfulness y la meditación en la reducción de la ansiedad en estudiantes universitarios.', 'Estrategias para mejorar la salud mental en estudiantes universitarios: el rol del apoyo psicológico y los grupos de estudio en el campus.', 'Cómo el acceso a servicios de salud mental en la universidad puede mejorar el desempeño académico.', 'Beneficios de las actividades extracurriculares para el bienestar emocional y social de los estudiantes.', 'El papel de los laboratorios de innovación educativa en el desarrollo de competencias tecnológicas.', 'Tendencias actuales en el diseño de campus para fomentar la interacción y colaboración.', 'Diferencias en el bienestar académico entre estudiantes que trabajan y aquellos que solo estudian.', 'Factores de riesgo y estrategias para prevenir el agotamiento académico en estudiantes universitarios.', 'El impacto de la tecnología y el uso de redes sociales en la calidad del sueño en estudiantes.', 'Investigación sobre el impacto de las tecnologías verdes en los edificios de las universidades.', 'Estudio sobre el uso de bicicletas compartidas en universidades para mejorar la movilidad.', 'Cómo la carga de trabajo académico afecta la salud emocional de los estudiantes y qué pueden hacer las universidades para ayudar.', 'Estrategias para equilibrar vida social y académica en estudiantes de universidades intensivas.', 'La relación entre actividades artísticas y el bienestar psicológico en la vida universitaria.', 'Los beneficios de los programas de becas para la retención de estudiantes en universidades.', 'El rol de los deportes y la actividad física en la integración social y emocional de los estudiantes.', 'Cómo los eventos y talleres de bienestar organizados por la universidad ayudan a reducir el estrés.', 'Análisis de los hábitos de sueño y su relación con el rendimiento en exámenes universitarios.', 'Cómo la inteligencia artificial está mejorando el acceso a servicios médicos en comunidades remotas.']\n"
          ]
        }
      ]
    },
    {
      "cell_type": "code",
      "source": [
        "vocab = []\n",
        "for doc_id in corpus:\n",
        "    vocab.extend(corpus[doc_id]['keywords'])\n",
        "vocab = set(vocab)\n",
        "\n",
        "print(len(vocab))\n",
        "print(vocab)"
      ],
      "metadata": {
        "colab": {
          "base_uri": "https://localhost:8080/"
        },
        "id": "CpJP3Y6BWC-w",
        "outputId": "9c983930-075d-4a08-d7f7-b0196daeaf6f"
      },
      "id": "CpJP3Y6BWC-w",
      "execution_count": 195,
      "outputs": [
        {
          "output_type": "stream",
          "name": "stdout",
          "text": [
            "115\n",
            "{'social', 'académica', 'nutrición', 'creatividad', 'meditación', 'sociales', 'beneficios', 'mindfulness', 'extracurriculares', 'universitaria', 'grupos', 'eventos', 'deportes', 'academia', 'servicios', 'impacto', 'médica', 'reducción', 'de', 'relaciones', 'estrés', 'equilibrio', 'universitarios', 'tecnológicos', 'universitario', 'exámenes', 'artísticas', 'programas', 'estudiantil', 'actividades', 'comunidades', 'análisis', 'desarrollo', 'estudio', 'tecnologías', 'avances', 'agotamiento', 'sostenible', 'compartidas', 'salud', 'lectura', 'prevención', 'espacios', 'tecnología', 'interacción', 'bibliotecas', 'talleres', 'comparación', 'psicológico', 'desempeño', 'universidad', 'universitarias', 'competencias', 'becas', 'amistad', 'tecnológicas', 'del', 'tendencias', 'calidad', 'bicicletas', 'familiar', 'en', 'ejercicio', 'saludables', 'cognitivo', 'edificios', 'educación', 'estudiantes', 'telemedicina', 'transporte', 'laboratorios', 'sostenibilidad', 'rendimiento', 'hábitos', 'actividad', 'jóvenes', 'adultos', 'remotas', 'diseño', 'bienestar', 'campus', 'inteligencia', 'investigación', 'médicos', 'sueño', 'medicina', 'colaboración', 'universidades', 'trabajan', 'integración', 'física', 'emocional', 'cultura', 'estrategias', 'movilidad', 'apoyo', 'innovación', 'artificial', 'carga', 'redes', 'preventiva', 'recursos', 'verdes', 'académico', 'ambiental', 'tratamiento', 'riesgo', 'concentración', 'factores', 'vida', 'que', 'ansiedad', 'mental', 'retención', 'crónica'}\n"
          ]
        }
      ]
    },
    {
      "cell_type": "markdown",
      "source": [
        "# Calculo de la matriz tf-idf"
      ],
      "metadata": {
        "id": "_cg7vjcnZdNU"
      },
      "id": "_cg7vjcnZdNU"
    },
    {
      "cell_type": "code",
      "source": [
        "from sklearn.feature_extraction.text import CountVectorizer\n",
        "from sklearn.feature_extraction.text import TfidfTransformer\n",
        "\n",
        "#Funcion para obtener la matriz tf-idf usando sklearn\n",
        "\n",
        "def tfidf_transform(vocab, matrix):\n",
        "  count_vectorizer = CountVectorizer(vocabulary=vocab)\n",
        "  tf_matrix = count_vectorizer.fit_transform(matrix)\n",
        "  tfidf_transformer = TfidfTransformer()\n",
        "  tfidf_matrix = tfidf_transformer.fit_transform(tf_matrix).toarray()\n",
        "  return tfidf_matrix"
      ],
      "metadata": {
        "id": "cur5nUPLPE_0"
      },
      "id": "cur5nUPLPE_0",
      "execution_count": 196,
      "outputs": []
    },
    {
      "cell_type": "code",
      "source": [
        "#Obtener la matriz tf-idf de los docuemntos del corpus\n",
        "tfidf_matrix = tfidf_transform(vocab, docs)\n",
        "print(tfidf_matrix)"
      ],
      "metadata": {
        "id": "baGS_IEQPm_a",
        "colab": {
          "base_uri": "https://localhost:8080/"
        },
        "outputId": "f6c2985a-ec07-4c31-d164-71ddc4c85809"
      },
      "id": "baGS_IEQPm_a",
      "execution_count": 197,
      "outputs": [
        {
          "output_type": "stream",
          "name": "stdout",
          "text": [
            "[[0.         0.         0.         ... 0.         0.         0.        ]\n",
            " [0.         0.         0.34326165 ... 0.         0.         0.        ]\n",
            " [0.         0.         0.         ... 0.         0.         0.        ]\n",
            " ...\n",
            " [0.         0.         0.         ... 0.         0.         0.        ]\n",
            " [0.         0.         0.         ... 0.27033245 0.         0.        ]\n",
            " [0.         0.         0.         ... 0.         0.         0.        ]]\n"
          ]
        }
      ]
    },
    {
      "cell_type": "code",
      "source": [
        "#Obtener la matriz tf-idf de las queries\n",
        "queries_matrix = []\n",
        "for i, val in queries.items():\n",
        "  queries_matrix.append(queries[i])\n",
        "\n",
        "qr_tfidf_matrix = tfidf_transform(vocab, queries_matrix)\n",
        "print(qr_tfidf_matrix)"
      ],
      "metadata": {
        "colab": {
          "base_uri": "https://localhost:8080/"
        },
        "id": "p7Bbr2zOZjbU",
        "outputId": "711e7b95-0537-47e4-8ee0-7f2ad4dd1dc1"
      },
      "id": "p7Bbr2zOZjbU",
      "execution_count": 198,
      "outputs": [
        {
          "output_type": "stream",
          "name": "stdout",
          "text": [
            "[[0.         0.         0.30251368 0.         0.         0.\n",
            "  0.         0.         0.         0.         0.         0.\n",
            "  0.         0.         0.         0.         0.         0.\n",
            "  0.         0.         0.         0.         0.         0.\n",
            "  0.         0.         0.         0.         0.         0.\n",
            "  0.         0.         0.         0.60502736 0.         0.\n",
            "  0.         0.         0.         0.         0.         0.\n",
            "  0.         0.17866945 0.         0.         0.         0.\n",
            "  0.23006945 0.         0.         0.         0.         0.\n",
            "  0.         0.         0.         0.         0.         0.30251368\n",
            "  0.         0.         0.         0.         0.         0.\n",
            "  0.         0.         0.         0.         0.30251368 0.\n",
            "  0.         0.         0.         0.         0.         0.\n",
            "  0.         0.         0.         0.         0.         0.\n",
            "  0.         0.         0.30251368 0.         0.         0.30251368\n",
            "  0.         0.         0.         0.         0.         0.\n",
            "  0.         0.         0.         0.         0.         0.\n",
            "  0.         0.         0.         0.         0.         0.\n",
            "  0.         0.         0.         0.         0.30251368 0.\n",
            "  0.        ]\n",
            " [0.         0.         0.         0.         0.39687454 0.\n",
            "  0.         0.         0.         0.         0.         0.\n",
            "  0.         0.         0.         0.         0.         0.\n",
            "  0.         0.39687454 0.         0.39687454 0.         0.\n",
            "  0.         0.         0.         0.         0.         0.\n",
            "  0.         0.         0.         0.         0.         0.\n",
            "  0.         0.         0.         0.         0.         0.\n",
            "  0.39687454 0.2344005  0.         0.         0.         0.\n",
            "  0.         0.         0.         0.         0.39687454 0.\n",
            "  0.         0.         0.         0.         0.         0.\n",
            "  0.         0.         0.         0.         0.         0.\n",
            "  0.         0.         0.         0.         0.         0.\n",
            "  0.         0.         0.         0.         0.         0.\n",
            "  0.         0.         0.         0.         0.         0.\n",
            "  0.         0.         0.         0.         0.         0.\n",
            "  0.         0.         0.         0.         0.         0.\n",
            "  0.         0.         0.         0.         0.         0.\n",
            "  0.         0.         0.         0.         0.         0.\n",
            "  0.         0.         0.         0.39687454 0.         0.\n",
            "  0.        ]\n",
            " [0.         0.         0.         0.         0.         0.\n",
            "  0.         0.         0.         0.         0.         0.\n",
            "  0.         0.         0.         0.         0.         0.\n",
            "  0.         0.         0.         0.         0.         0.\n",
            "  0.         0.         0.         0.         0.         0.\n",
            "  0.         0.         0.         0.         0.         0.\n",
            "  0.         0.         0.         0.         0.         0.\n",
            "  0.         0.29803159 0.         0.         0.50461134 0.50461134\n",
            "  0.38376993 0.         0.         0.         0.         0.\n",
            "  0.         0.         0.         0.         0.         0.\n",
            "  0.         0.         0.         0.         0.         0.\n",
            "  0.         0.         0.         0.         0.         0.\n",
            "  0.         0.         0.         0.         0.         0.\n",
            "  0.         0.         0.         0.         0.         0.\n",
            "  0.         0.         0.         0.         0.         0.\n",
            "  0.         0.         0.         0.         0.         0.\n",
            "  0.         0.         0.         0.         0.         0.\n",
            "  0.         0.         0.         0.         0.         0.\n",
            "  0.         0.         0.50461134 0.         0.         0.\n",
            "  0.        ]]\n"
          ]
        }
      ]
    },
    {
      "cell_type": "markdown",
      "source": [
        "# Calculo de la similitud coseno"
      ],
      "metadata": {
        "id": "jKWHlzF_ZUqs"
      },
      "id": "jKWHlzF_ZUqs"
    },
    {
      "cell_type": "code",
      "source": [
        "#Calculo de la similitud coseno\n",
        "from math import sqrt\n",
        "def similitudCoseno(v1, v2):\n",
        "    similitud = []\n",
        "\n",
        "    for i in range(0, len(v1)):\n",
        "        producto = 0\n",
        "        sum1 = 0\n",
        "        sum2 = 0\n",
        "        for j in range(0, len(v1[0])):\n",
        "            producto += v1[i][j] * v2[j]\n",
        "            sum1 += v1[i][j] ** 2\n",
        "            sum2 +=  v2[j] ** 2\n",
        "\n",
        "        sim = producto/(sqrt(sum1) * sqrt(sum2))\n",
        "        similitud.append(round(sim,3))\n",
        "    return similitud"
      ],
      "metadata": {
        "id": "JoXSuZvt9cWf"
      },
      "id": "JoXSuZvt9cWf",
      "execution_count": 199,
      "outputs": []
    },
    {
      "cell_type": "code",
      "source": [
        "cosenoMatrix = []\n",
        "\n",
        "for i in range(0,len(qr_tfidf_matrix)):\n",
        "  cosenoMatrix.append(similitudCoseno(tfidf_matrix, qr_tfidf_matrix[i]))\n",
        "\n",
        "print(cosenoMatrix)"
      ],
      "metadata": {
        "colab": {
          "base_uri": "https://localhost:8080/"
        },
        "id": "MyQ0l6NBBD2b",
        "outputId": "2688679a-2032-4a61-b8ae-72b7caf85dcc"
      },
      "id": "MyQ0l6NBBD2b",
      "execution_count": 200,
      "outputs": [
        {
          "output_type": "stream",
          "name": "stdout",
          "text": [
            "[[0.436, 0.558, 0.269, 0.227, 0.111, 0.263, 0.541, 0.254, 0.291, 0.049, 0.531, 0.259, 0.388, 0.428, 0.233, 0.273, 0.118, 0.141, 0.333, 0.332, 0.302, 0.123, 0.477, 0.186, 0.025, 0.324, 0.232, 0.102, 0.401, 0.022], [0.0, 0.039, 0.297, 0.035, 0.175, 0.15, 0.067, 0.292, 0.056, 0.065, 0.062, 0.062, 0.167, 0.035, 0.595, 0.029, 0.17, 0.13, 0.032, 0.056, 0.031, 0.034, 0.159, 0.037, 0.312, 0.03, 0.153, 0.125, 0.032, 0.029], [0.0, 0.142, 0.125, 0.293, 0.237, 0.122, 0.085, 0.123, 0.071, 0.083, 0.333, 0.153, 0.289, 0.044, 0.078, 0.037, 0.041, 0.106, 0.306, 0.138, 0.04, 0.043, 0.09, 0.348, 0.042, 0.11, 0.108, 0.206, 0.041, 0.037]]\n"
          ]
        }
      ]
    },
    {
      "cell_type": "markdown",
      "source": [
        "# Calculo de la similitud Jaccard"
      ],
      "metadata": {
        "id": "s8ROmr9NZEYl"
      },
      "id": "s8ROmr9NZEYl"
    },
    {
      "cell_type": "code",
      "source": [
        "# Calculo de la similitud Jaccard\n",
        "\n",
        "def similitudJaccard(v1, v2):\n",
        "    jaccardMatrix = []\n",
        "    for i in range(len(v1)):\n",
        "        similitudMatrix = []\n",
        "        for j in range(len(v2)):\n",
        "            intersection = 0\n",
        "            union = 0\n",
        "            for k in range(len(v1[0])):\n",
        "                if v1[i][k] and v2[j][k]:\n",
        "                    intersection += 1\n",
        "                if v1[i][k] or v2[j][k]:\n",
        "                    union += 1\n",
        "            similitud = intersection/union\n",
        "            similitudMatrix.append(round(similitud, 3))\n",
        "        jaccardMatrix.append(similitudMatrix)\n",
        "    return jaccardMatrix"
      ],
      "metadata": {
        "id": "XlK_of8yDqPz"
      },
      "id": "XlK_of8yDqPz",
      "execution_count": 201,
      "outputs": []
    },
    {
      "cell_type": "code",
      "source": [
        "jaccardMatrix = similitudJaccard(qr_tfidf_matrix,tfidf_matrix)\n",
        "print(jaccardMatrix)"
      ],
      "metadata": {
        "colab": {
          "base_uri": "https://localhost:8080/"
        },
        "id": "hB-mjOGGHTKj",
        "outputId": "713229c3-f30e-403c-db23-c289181deb5b"
      },
      "id": "hB-mjOGGHTKj",
      "execution_count": 208,
      "outputs": [
        {
          "output_type": "stream",
          "name": "stdout",
          "text": [
            "[[0.182, 0.6, 0.214, 0.154, 0.143, 0.214, 0.5, 0.267, 0.2, 0.071, 0.462, 0.286, 0.375, 0.417, 0.133, 0.143, 0.143, 0.25, 0.385, 0.267, 0.214, 0.143, 0.333, 0.214, 0.067, 0.214, 0.2, 0.071, 0.308, 0.067], [0.0, 0.077, 0.25, 0.083, 0.167, 0.154, 0.067, 0.214, 0.067, 0.083, 0.062, 0.067, 0.111, 0.071, 0.364, 0.077, 0.167, 0.182, 0.067, 0.062, 0.071, 0.077, 0.077, 0.071, 0.273, 0.071, 0.143, 0.083, 0.071, 0.077], [0.0, 0.2, 0.182, 0.222, 0.2, 0.182, 0.077, 0.154, 0.077, 0.1, 0.25, 0.167, 0.2, 0.083, 0.083, 0.091, 0.091, 0.222, 0.273, 0.154, 0.083, 0.091, 0.091, 0.3, 0.091, 0.182, 0.167, 0.1, 0.083, 0.091]]\n"
          ]
        }
      ]
    },
    {
      "cell_type": "markdown",
      "source": [
        "# Ranking por similitud Coseno"
      ],
      "metadata": {
        "id": "3QhSPpouYrf-"
      },
      "id": "3QhSPpouYrf-"
    },
    {
      "cell_type": "code",
      "source": [
        "ranking = []\n",
        "\n",
        "for i in range(0,len(cosenoMatrix)):\n",
        "  indices = {}\n",
        "  for j in range(0,len(cosenoMatrix[i])):\n",
        "    indiceqr = j\n",
        "    indices[indiceqr] = cosenoMatrix[i][j]\n",
        "  ranking.append(dict(sorted(indices.items(), key=lambda item: item[1], reverse=True)))\n",
        "\n",
        "print(ranking)\n"
      ],
      "metadata": {
        "colab": {
          "base_uri": "https://localhost:8080/"
        },
        "id": "8ZFPRfFuRqYS",
        "outputId": "1a60196d-fefe-4cb3-e15d-821993695bd5"
      },
      "id": "8ZFPRfFuRqYS",
      "execution_count": 203,
      "outputs": [
        {
          "output_type": "stream",
          "name": "stdout",
          "text": [
            "[{1: 0.558, 6: 0.541, 10: 0.531, 22: 0.477, 0: 0.436, 13: 0.428, 28: 0.401, 12: 0.388, 18: 0.333, 19: 0.332, 25: 0.324, 20: 0.302, 8: 0.291, 15: 0.273, 2: 0.269, 5: 0.263, 11: 0.259, 7: 0.254, 14: 0.233, 26: 0.232, 3: 0.227, 23: 0.186, 17: 0.141, 21: 0.123, 16: 0.118, 4: 0.111, 27: 0.102, 9: 0.049, 24: 0.025, 29: 0.022}, {14: 0.595, 24: 0.312, 2: 0.297, 7: 0.292, 4: 0.175, 16: 0.17, 12: 0.167, 22: 0.159, 26: 0.153, 5: 0.15, 17: 0.13, 27: 0.125, 6: 0.067, 9: 0.065, 10: 0.062, 11: 0.062, 8: 0.056, 19: 0.056, 1: 0.039, 23: 0.037, 3: 0.035, 13: 0.035, 21: 0.034, 18: 0.032, 28: 0.032, 20: 0.031, 25: 0.03, 15: 0.029, 29: 0.029, 0: 0.0}, {23: 0.348, 10: 0.333, 18: 0.306, 3: 0.293, 12: 0.289, 4: 0.237, 27: 0.206, 11: 0.153, 1: 0.142, 19: 0.138, 2: 0.125, 7: 0.123, 5: 0.122, 25: 0.11, 26: 0.108, 17: 0.106, 22: 0.09, 6: 0.085, 9: 0.083, 14: 0.078, 8: 0.071, 13: 0.044, 21: 0.043, 24: 0.042, 16: 0.041, 28: 0.041, 20: 0.04, 15: 0.037, 29: 0.037, 0: 0.0}]\n"
          ]
        }
      ]
    },
    {
      "cell_type": "code",
      "source": [
        "for i in range(len(ranking)):\n",
        "  print(f'Query {i+1}: {queries[i+1]}\\n')\n",
        "  for j in range(len(ranking[i])):\n",
        "    documento = list(ranking[i].keys())[j] #Para obtener los indices para buscar los documentos\n",
        "    similitud = list(ranking[i].values())[j]\n",
        "    print(f'Similitud: {similitud} | Documento {documento + 1}:{docs[documento]}')\n",
        "  print('------------------------------------------------------------')\n",
        "\n"
      ],
      "metadata": {
        "colab": {
          "base_uri": "https://localhost:8080/"
        },
        "id": "lgiejPwgR5r2",
        "outputId": "2fe4bc20-7701-42cc-969b-245b03b83491"
      },
      "id": "lgiejPwgR5r2",
      "execution_count": 204,
      "outputs": [
        {
          "output_type": "stream",
          "name": "stdout",
          "text": [
            "Query 1: Impacto de la salud mental en el rendimiento académico de los estudiantes universitarios\n",
            "\n",
            "Similitud: 0.558 | Documento 2:Cómo la nutrición balanceada afecta el rendimiento académico y la salud mental en estudiantes.\n",
            "Similitud: 0.541 | Documento 7:La importancia del sueño en la salud mental y el rendimiento académico en jóvenes universitarios.\n",
            "Similitud: 0.531 | Documento 11:Impacto de la práctica regular de ejercicio en la reducción del estrés académico en estudiantes universitarios.\n",
            "Similitud: 0.477 | Documento 23:Cómo la carga de trabajo académico afecta la salud emocional de los estudiantes y qué pueden hacer las universidades para ayudar.\n",
            "Similitud: 0.436 | Documento 1:El aumento de la telemedicina para el tratamiento de condiciones de salud crónicas.\n",
            "Similitud: 0.428 | Documento 14:Cómo el acceso a servicios de salud mental en la universidad puede mejorar el desempeño académico.\n",
            "Similitud: 0.401 | Documento 29:Análisis de los hábitos de sueño y su relación con el rendimiento en exámenes universitarios.\n",
            "Similitud: 0.388 | Documento 13:Estrategias para mejorar la salud mental en estudiantes universitarios: el rol del apoyo psicológico y los grupos de estudio en el campus.\n",
            "Similitud: 0.333 | Documento 19:Factores de riesgo y estrategias para prevenir el agotamiento académico en estudiantes universitarios.\n",
            "Similitud: 0.332 | Documento 20:El impacto de la tecnología y el uso de redes sociales en la calidad del sueño en estudiantes.\n",
            "Similitud: 0.324 | Documento 26:Los beneficios de los programas de becas para la retención de estudiantes en universidades.\n",
            "Similitud: 0.302 | Documento 21:Investigación sobre el impacto de las tecnologías verdes en los edificios de las universidades.\n",
            "Similitud: 0.291 | Documento 9:El impacto de los hábitos de lectura en el desarrollo cognitivo en jóvenes y adultos.\n",
            "Similitud: 0.273 | Documento 16:El papel de los laboratorios de innovación educativa en el desarrollo de competencias tecnológicas.\n",
            "Similitud: 0.269 | Documento 3:Estudio sobre cómo las relaciones de amistad contribuyen al bienestar de los estudiantes en el campus.\n",
            "Similitud: 0.263 | Documento 6:La influencia de la cultura universitaria en los hábitos saludables y el bienestar de los estudiantes.\n",
            "Similitud: 0.259 | Documento 12:El papel del mindfulness y la meditación en la reducción de la ansiedad en estudiantes universitarios.\n",
            "Similitud: 0.254 | Documento 8:La influencia del apoyo familiar y social en el bienestar emocional de los estudiantes universitarios.\n",
            "Similitud: 0.233 | Documento 15:Beneficios de las actividades extracurriculares para el bienestar emocional y social de los estudiantes.\n",
            "Similitud: 0.232 | Documento 27:El rol de los deportes y la actividad física en la integración social y emocional de los estudiantes.\n",
            "Similitud: 0.227 | Documento 4:El rol de las bibliotecas universitarias en el fomento de la investigación académica.\n",
            "Similitud: 0.186 | Documento 24:Estrategias para equilibrar vida social y académica en estudiantes de universidades intensivas.\n",
            "Similitud: 0.141 | Documento 18:Diferencias en el bienestar académico entre estudiantes que trabajan y aquellos que solo estudian.\n",
            "Similitud: 0.123 | Documento 22:Estudio sobre el uso de bicicletas compartidas en universidades para mejorar la movilidad.\n",
            "Similitud: 0.118 | Documento 17:Tendencias actuales en el diseño de campus para fomentar la interacción y colaboración.\n",
            "Similitud: 0.111 | Documento 5:Cómo los espacios verdes en los campus universitarios pueden mejorar la concentración y reducir el estrés.\n",
            "Similitud: 0.102 | Documento 28:Cómo los eventos y talleres de bienestar organizados por la universidad ayudan a reducir el estrés.\n",
            "Similitud: 0.049 | Documento 10:Avances en la tecnología para la medicina preventiva y su aplicación en jóvenes.\n",
            "Similitud: 0.025 | Documento 25:La relación entre actividades artísticas y el bienestar psicológico en la vida universitaria.\n",
            "Similitud: 0.022 | Documento 30:Cómo la inteligencia artificial está mejorando el acceso a servicios médicos en comunidades remotas.\n",
            "------------------------------------------------------------\n",
            "Query 2: Actividades extracurriculares y bienestar emocional en el campus universitario\n",
            "\n",
            "Similitud: 0.595 | Documento 15:Beneficios de las actividades extracurriculares para el bienestar emocional y social de los estudiantes.\n",
            "Similitud: 0.312 | Documento 25:La relación entre actividades artísticas y el bienestar psicológico en la vida universitaria.\n",
            "Similitud: 0.297 | Documento 3:Estudio sobre cómo las relaciones de amistad contribuyen al bienestar de los estudiantes en el campus.\n",
            "Similitud: 0.292 | Documento 8:La influencia del apoyo familiar y social en el bienestar emocional de los estudiantes universitarios.\n",
            "Similitud: 0.175 | Documento 5:Cómo los espacios verdes en los campus universitarios pueden mejorar la concentración y reducir el estrés.\n",
            "Similitud: 0.17 | Documento 17:Tendencias actuales en el diseño de campus para fomentar la interacción y colaboración.\n",
            "Similitud: 0.167 | Documento 13:Estrategias para mejorar la salud mental en estudiantes universitarios: el rol del apoyo psicológico y los grupos de estudio en el campus.\n",
            "Similitud: 0.159 | Documento 23:Cómo la carga de trabajo académico afecta la salud emocional de los estudiantes y qué pueden hacer las universidades para ayudar.\n",
            "Similitud: 0.153 | Documento 27:El rol de los deportes y la actividad física en la integración social y emocional de los estudiantes.\n",
            "Similitud: 0.15 | Documento 6:La influencia de la cultura universitaria en los hábitos saludables y el bienestar de los estudiantes.\n",
            "Similitud: 0.13 | Documento 18:Diferencias en el bienestar académico entre estudiantes que trabajan y aquellos que solo estudian.\n",
            "Similitud: 0.125 | Documento 28:Cómo los eventos y talleres de bienestar organizados por la universidad ayudan a reducir el estrés.\n",
            "Similitud: 0.067 | Documento 7:La importancia del sueño en la salud mental y el rendimiento académico en jóvenes universitarios.\n",
            "Similitud: 0.065 | Documento 10:Avances en la tecnología para la medicina preventiva y su aplicación en jóvenes.\n",
            "Similitud: 0.062 | Documento 11:Impacto de la práctica regular de ejercicio en la reducción del estrés académico en estudiantes universitarios.\n",
            "Similitud: 0.062 | Documento 12:El papel del mindfulness y la meditación en la reducción de la ansiedad en estudiantes universitarios.\n",
            "Similitud: 0.056 | Documento 9:El impacto de los hábitos de lectura en el desarrollo cognitivo en jóvenes y adultos.\n",
            "Similitud: 0.056 | Documento 20:El impacto de la tecnología y el uso de redes sociales en la calidad del sueño en estudiantes.\n",
            "Similitud: 0.039 | Documento 2:Cómo la nutrición balanceada afecta el rendimiento académico y la salud mental en estudiantes.\n",
            "Similitud: 0.037 | Documento 24:Estrategias para equilibrar vida social y académica en estudiantes de universidades intensivas.\n",
            "Similitud: 0.035 | Documento 4:El rol de las bibliotecas universitarias en el fomento de la investigación académica.\n",
            "Similitud: 0.035 | Documento 14:Cómo el acceso a servicios de salud mental en la universidad puede mejorar el desempeño académico.\n",
            "Similitud: 0.034 | Documento 22:Estudio sobre el uso de bicicletas compartidas en universidades para mejorar la movilidad.\n",
            "Similitud: 0.032 | Documento 19:Factores de riesgo y estrategias para prevenir el agotamiento académico en estudiantes universitarios.\n",
            "Similitud: 0.032 | Documento 29:Análisis de los hábitos de sueño y su relación con el rendimiento en exámenes universitarios.\n",
            "Similitud: 0.031 | Documento 21:Investigación sobre el impacto de las tecnologías verdes en los edificios de las universidades.\n",
            "Similitud: 0.03 | Documento 26:Los beneficios de los programas de becas para la retención de estudiantes en universidades.\n",
            "Similitud: 0.029 | Documento 16:El papel de los laboratorios de innovación educativa en el desarrollo de competencias tecnológicas.\n",
            "Similitud: 0.029 | Documento 30:Cómo la inteligencia artificial está mejorando el acceso a servicios médicos en comunidades remotas.\n",
            "Similitud: 0.0 | Documento 1:El aumento de la telemedicina para el tratamiento de condiciones de salud crónicas.\n",
            "------------------------------------------------------------\n",
            "Query 3: Estrategias universitarias para reducir el estrés en estudiantes\n",
            "\n",
            "Similitud: 0.348 | Documento 24:Estrategias para equilibrar vida social y académica en estudiantes de universidades intensivas.\n",
            "Similitud: 0.333 | Documento 11:Impacto de la práctica regular de ejercicio en la reducción del estrés académico en estudiantes universitarios.\n",
            "Similitud: 0.306 | Documento 19:Factores de riesgo y estrategias para prevenir el agotamiento académico en estudiantes universitarios.\n",
            "Similitud: 0.293 | Documento 4:El rol de las bibliotecas universitarias en el fomento de la investigación académica.\n",
            "Similitud: 0.289 | Documento 13:Estrategias para mejorar la salud mental en estudiantes universitarios: el rol del apoyo psicológico y los grupos de estudio en el campus.\n",
            "Similitud: 0.237 | Documento 5:Cómo los espacios verdes en los campus universitarios pueden mejorar la concentración y reducir el estrés.\n",
            "Similitud: 0.206 | Documento 28:Cómo los eventos y talleres de bienestar organizados por la universidad ayudan a reducir el estrés.\n",
            "Similitud: 0.153 | Documento 12:El papel del mindfulness y la meditación en la reducción de la ansiedad en estudiantes universitarios.\n",
            "Similitud: 0.142 | Documento 2:Cómo la nutrición balanceada afecta el rendimiento académico y la salud mental en estudiantes.\n",
            "Similitud: 0.138 | Documento 20:El impacto de la tecnología y el uso de redes sociales en la calidad del sueño en estudiantes.\n",
            "Similitud: 0.125 | Documento 3:Estudio sobre cómo las relaciones de amistad contribuyen al bienestar de los estudiantes en el campus.\n",
            "Similitud: 0.123 | Documento 8:La influencia del apoyo familiar y social en el bienestar emocional de los estudiantes universitarios.\n",
            "Similitud: 0.122 | Documento 6:La influencia de la cultura universitaria en los hábitos saludables y el bienestar de los estudiantes.\n",
            "Similitud: 0.11 | Documento 26:Los beneficios de los programas de becas para la retención de estudiantes en universidades.\n",
            "Similitud: 0.108 | Documento 27:El rol de los deportes y la actividad física en la integración social y emocional de los estudiantes.\n",
            "Similitud: 0.106 | Documento 18:Diferencias en el bienestar académico entre estudiantes que trabajan y aquellos que solo estudian.\n",
            "Similitud: 0.09 | Documento 23:Cómo la carga de trabajo académico afecta la salud emocional de los estudiantes y qué pueden hacer las universidades para ayudar.\n",
            "Similitud: 0.085 | Documento 7:La importancia del sueño en la salud mental y el rendimiento académico en jóvenes universitarios.\n",
            "Similitud: 0.083 | Documento 10:Avances en la tecnología para la medicina preventiva y su aplicación en jóvenes.\n",
            "Similitud: 0.078 | Documento 15:Beneficios de las actividades extracurriculares para el bienestar emocional y social de los estudiantes.\n",
            "Similitud: 0.071 | Documento 9:El impacto de los hábitos de lectura en el desarrollo cognitivo en jóvenes y adultos.\n",
            "Similitud: 0.044 | Documento 14:Cómo el acceso a servicios de salud mental en la universidad puede mejorar el desempeño académico.\n",
            "Similitud: 0.043 | Documento 22:Estudio sobre el uso de bicicletas compartidas en universidades para mejorar la movilidad.\n",
            "Similitud: 0.042 | Documento 25:La relación entre actividades artísticas y el bienestar psicológico en la vida universitaria.\n",
            "Similitud: 0.041 | Documento 17:Tendencias actuales en el diseño de campus para fomentar la interacción y colaboración.\n",
            "Similitud: 0.041 | Documento 29:Análisis de los hábitos de sueño y su relación con el rendimiento en exámenes universitarios.\n",
            "Similitud: 0.04 | Documento 21:Investigación sobre el impacto de las tecnologías verdes en los edificios de las universidades.\n",
            "Similitud: 0.037 | Documento 16:El papel de los laboratorios de innovación educativa en el desarrollo de competencias tecnológicas.\n",
            "Similitud: 0.037 | Documento 30:Cómo la inteligencia artificial está mejorando el acceso a servicios médicos en comunidades remotas.\n",
            "Similitud: 0.0 | Documento 1:El aumento de la telemedicina para el tratamiento de condiciones de salud crónicas.\n",
            "------------------------------------------------------------\n"
          ]
        }
      ]
    },
    {
      "cell_type": "markdown",
      "source": [
        "# Ranking por Similitud Jaccard"
      ],
      "metadata": {
        "id": "k54dF6pvYjwG"
      },
      "id": "k54dF6pvYjwG"
    },
    {
      "cell_type": "code",
      "source": [
        "ranking = []\n",
        "\n",
        "for i in range(0,len(jaccardMatrix)):\n",
        "  indices = {}\n",
        "  for j in range(0,len(jaccardMatrix[i])):\n",
        "    indiceqr = j\n",
        "    indices[indiceqr] = jaccardMatrix[i][j]\n",
        "  ranking.append(dict(sorted(indices.items(), key=lambda item: item[1], reverse=True)))\n",
        "\n",
        "print(ranking)\n"
      ],
      "metadata": {
        "colab": {
          "base_uri": "https://localhost:8080/"
        },
        "id": "RF-DMFWUX32P",
        "outputId": "8f4efdad-4ae3-4676-f373-de44e9382daa"
      },
      "id": "RF-DMFWUX32P",
      "execution_count": 205,
      "outputs": [
        {
          "output_type": "stream",
          "name": "stdout",
          "text": [
            "[{1: 0.6, 6: 0.5, 10: 0.462, 13: 0.417, 18: 0.385, 12: 0.375, 22: 0.333, 28: 0.308, 11: 0.286, 7: 0.267, 19: 0.267, 17: 0.25, 2: 0.214, 5: 0.214, 20: 0.214, 23: 0.214, 25: 0.214, 8: 0.2, 26: 0.2, 0: 0.182, 3: 0.154, 4: 0.143, 15: 0.143, 16: 0.143, 21: 0.143, 14: 0.133, 9: 0.071, 27: 0.071, 24: 0.067, 29: 0.067}, {14: 0.364, 24: 0.273, 2: 0.25, 7: 0.214, 17: 0.182, 4: 0.167, 16: 0.167, 5: 0.154, 26: 0.143, 12: 0.111, 3: 0.083, 9: 0.083, 27: 0.083, 1: 0.077, 15: 0.077, 21: 0.077, 22: 0.077, 29: 0.077, 13: 0.071, 20: 0.071, 23: 0.071, 25: 0.071, 28: 0.071, 6: 0.067, 8: 0.067, 11: 0.067, 18: 0.067, 10: 0.062, 19: 0.062, 0: 0.0}, {23: 0.3, 18: 0.273, 10: 0.25, 3: 0.222, 17: 0.222, 1: 0.2, 4: 0.2, 12: 0.2, 2: 0.182, 5: 0.182, 25: 0.182, 11: 0.167, 26: 0.167, 7: 0.154, 19: 0.154, 9: 0.1, 27: 0.1, 15: 0.091, 16: 0.091, 21: 0.091, 22: 0.091, 24: 0.091, 29: 0.091, 13: 0.083, 14: 0.083, 20: 0.083, 28: 0.083, 6: 0.077, 8: 0.077, 0: 0.0}]\n"
          ]
        }
      ]
    },
    {
      "cell_type": "code",
      "source": [
        "for i in range(len(ranking)):\n",
        "  print(f'Query {i+1}: {queries[i+1]}\\n')\n",
        "  for j in range(len(ranking[i])):\n",
        "    documento = list(ranking[i].keys())[j] #Para obtener los indices para buscar los documentos\n",
        "    similitud = list(ranking[i].values())[j]\n",
        "    print(f'Similitud: {similitud} | Documento {documento + 1}:{docs[documento]}')\n",
        "  print('------------------------------------------------------------')\n",
        "\n"
      ],
      "metadata": {
        "colab": {
          "base_uri": "https://localhost:8080/"
        },
        "id": "PDYnI-F3X6bc",
        "outputId": "dbd8c7aa-ced2-48ee-c22a-cecea10e387c"
      },
      "id": "PDYnI-F3X6bc",
      "execution_count": 206,
      "outputs": [
        {
          "output_type": "stream",
          "name": "stdout",
          "text": [
            "Query 1: Impacto de la salud mental en el rendimiento académico de los estudiantes universitarios\n",
            "\n",
            "Similitud: 0.6 | Documento 2:Cómo la nutrición balanceada afecta el rendimiento académico y la salud mental en estudiantes.\n",
            "Similitud: 0.5 | Documento 7:La importancia del sueño en la salud mental y el rendimiento académico en jóvenes universitarios.\n",
            "Similitud: 0.462 | Documento 11:Impacto de la práctica regular de ejercicio en la reducción del estrés académico en estudiantes universitarios.\n",
            "Similitud: 0.417 | Documento 14:Cómo el acceso a servicios de salud mental en la universidad puede mejorar el desempeño académico.\n",
            "Similitud: 0.385 | Documento 19:Factores de riesgo y estrategias para prevenir el agotamiento académico en estudiantes universitarios.\n",
            "Similitud: 0.375 | Documento 13:Estrategias para mejorar la salud mental en estudiantes universitarios: el rol del apoyo psicológico y los grupos de estudio en el campus.\n",
            "Similitud: 0.333 | Documento 23:Cómo la carga de trabajo académico afecta la salud emocional de los estudiantes y qué pueden hacer las universidades para ayudar.\n",
            "Similitud: 0.308 | Documento 29:Análisis de los hábitos de sueño y su relación con el rendimiento en exámenes universitarios.\n",
            "Similitud: 0.286 | Documento 12:El papel del mindfulness y la meditación en la reducción de la ansiedad en estudiantes universitarios.\n",
            "Similitud: 0.267 | Documento 8:La influencia del apoyo familiar y social en el bienestar emocional de los estudiantes universitarios.\n",
            "Similitud: 0.267 | Documento 20:El impacto de la tecnología y el uso de redes sociales en la calidad del sueño en estudiantes.\n",
            "Similitud: 0.25 | Documento 18:Diferencias en el bienestar académico entre estudiantes que trabajan y aquellos que solo estudian.\n",
            "Similitud: 0.214 | Documento 3:Estudio sobre cómo las relaciones de amistad contribuyen al bienestar de los estudiantes en el campus.\n",
            "Similitud: 0.214 | Documento 6:La influencia de la cultura universitaria en los hábitos saludables y el bienestar de los estudiantes.\n",
            "Similitud: 0.214 | Documento 21:Investigación sobre el impacto de las tecnologías verdes en los edificios de las universidades.\n",
            "Similitud: 0.214 | Documento 24:Estrategias para equilibrar vida social y académica en estudiantes de universidades intensivas.\n",
            "Similitud: 0.214 | Documento 26:Los beneficios de los programas de becas para la retención de estudiantes en universidades.\n",
            "Similitud: 0.2 | Documento 9:El impacto de los hábitos de lectura en el desarrollo cognitivo en jóvenes y adultos.\n",
            "Similitud: 0.2 | Documento 27:El rol de los deportes y la actividad física en la integración social y emocional de los estudiantes.\n",
            "Similitud: 0.182 | Documento 1:El aumento de la telemedicina para el tratamiento de condiciones de salud crónicas.\n",
            "Similitud: 0.154 | Documento 4:El rol de las bibliotecas universitarias en el fomento de la investigación académica.\n",
            "Similitud: 0.143 | Documento 5:Cómo los espacios verdes en los campus universitarios pueden mejorar la concentración y reducir el estrés.\n",
            "Similitud: 0.143 | Documento 16:El papel de los laboratorios de innovación educativa en el desarrollo de competencias tecnológicas.\n",
            "Similitud: 0.143 | Documento 17:Tendencias actuales en el diseño de campus para fomentar la interacción y colaboración.\n",
            "Similitud: 0.143 | Documento 22:Estudio sobre el uso de bicicletas compartidas en universidades para mejorar la movilidad.\n",
            "Similitud: 0.133 | Documento 15:Beneficios de las actividades extracurriculares para el bienestar emocional y social de los estudiantes.\n",
            "Similitud: 0.071 | Documento 10:Avances en la tecnología para la medicina preventiva y su aplicación en jóvenes.\n",
            "Similitud: 0.071 | Documento 28:Cómo los eventos y talleres de bienestar organizados por la universidad ayudan a reducir el estrés.\n",
            "Similitud: 0.067 | Documento 25:La relación entre actividades artísticas y el bienestar psicológico en la vida universitaria.\n",
            "Similitud: 0.067 | Documento 30:Cómo la inteligencia artificial está mejorando el acceso a servicios médicos en comunidades remotas.\n",
            "------------------------------------------------------------\n",
            "Query 2: Actividades extracurriculares y bienestar emocional en el campus universitario\n",
            "\n",
            "Similitud: 0.364 | Documento 15:Beneficios de las actividades extracurriculares para el bienestar emocional y social de los estudiantes.\n",
            "Similitud: 0.273 | Documento 25:La relación entre actividades artísticas y el bienestar psicológico en la vida universitaria.\n",
            "Similitud: 0.25 | Documento 3:Estudio sobre cómo las relaciones de amistad contribuyen al bienestar de los estudiantes en el campus.\n",
            "Similitud: 0.214 | Documento 8:La influencia del apoyo familiar y social en el bienestar emocional de los estudiantes universitarios.\n",
            "Similitud: 0.182 | Documento 18:Diferencias en el bienestar académico entre estudiantes que trabajan y aquellos que solo estudian.\n",
            "Similitud: 0.167 | Documento 5:Cómo los espacios verdes en los campus universitarios pueden mejorar la concentración y reducir el estrés.\n",
            "Similitud: 0.167 | Documento 17:Tendencias actuales en el diseño de campus para fomentar la interacción y colaboración.\n",
            "Similitud: 0.154 | Documento 6:La influencia de la cultura universitaria en los hábitos saludables y el bienestar de los estudiantes.\n",
            "Similitud: 0.143 | Documento 27:El rol de los deportes y la actividad física en la integración social y emocional de los estudiantes.\n",
            "Similitud: 0.111 | Documento 13:Estrategias para mejorar la salud mental en estudiantes universitarios: el rol del apoyo psicológico y los grupos de estudio en el campus.\n",
            "Similitud: 0.083 | Documento 4:El rol de las bibliotecas universitarias en el fomento de la investigación académica.\n",
            "Similitud: 0.083 | Documento 10:Avances en la tecnología para la medicina preventiva y su aplicación en jóvenes.\n",
            "Similitud: 0.083 | Documento 28:Cómo los eventos y talleres de bienestar organizados por la universidad ayudan a reducir el estrés.\n",
            "Similitud: 0.077 | Documento 2:Cómo la nutrición balanceada afecta el rendimiento académico y la salud mental en estudiantes.\n",
            "Similitud: 0.077 | Documento 16:El papel de los laboratorios de innovación educativa en el desarrollo de competencias tecnológicas.\n",
            "Similitud: 0.077 | Documento 22:Estudio sobre el uso de bicicletas compartidas en universidades para mejorar la movilidad.\n",
            "Similitud: 0.077 | Documento 23:Cómo la carga de trabajo académico afecta la salud emocional de los estudiantes y qué pueden hacer las universidades para ayudar.\n",
            "Similitud: 0.077 | Documento 30:Cómo la inteligencia artificial está mejorando el acceso a servicios médicos en comunidades remotas.\n",
            "Similitud: 0.071 | Documento 14:Cómo el acceso a servicios de salud mental en la universidad puede mejorar el desempeño académico.\n",
            "Similitud: 0.071 | Documento 21:Investigación sobre el impacto de las tecnologías verdes en los edificios de las universidades.\n",
            "Similitud: 0.071 | Documento 24:Estrategias para equilibrar vida social y académica en estudiantes de universidades intensivas.\n",
            "Similitud: 0.071 | Documento 26:Los beneficios de los programas de becas para la retención de estudiantes en universidades.\n",
            "Similitud: 0.071 | Documento 29:Análisis de los hábitos de sueño y su relación con el rendimiento en exámenes universitarios.\n",
            "Similitud: 0.067 | Documento 7:La importancia del sueño en la salud mental y el rendimiento académico en jóvenes universitarios.\n",
            "Similitud: 0.067 | Documento 9:El impacto de los hábitos de lectura en el desarrollo cognitivo en jóvenes y adultos.\n",
            "Similitud: 0.067 | Documento 12:El papel del mindfulness y la meditación en la reducción de la ansiedad en estudiantes universitarios.\n",
            "Similitud: 0.067 | Documento 19:Factores de riesgo y estrategias para prevenir el agotamiento académico en estudiantes universitarios.\n",
            "Similitud: 0.062 | Documento 11:Impacto de la práctica regular de ejercicio en la reducción del estrés académico en estudiantes universitarios.\n",
            "Similitud: 0.062 | Documento 20:El impacto de la tecnología y el uso de redes sociales en la calidad del sueño en estudiantes.\n",
            "Similitud: 0.0 | Documento 1:El aumento de la telemedicina para el tratamiento de condiciones de salud crónicas.\n",
            "------------------------------------------------------------\n",
            "Query 3: Estrategias universitarias para reducir el estrés en estudiantes\n",
            "\n",
            "Similitud: 0.3 | Documento 24:Estrategias para equilibrar vida social y académica en estudiantes de universidades intensivas.\n",
            "Similitud: 0.273 | Documento 19:Factores de riesgo y estrategias para prevenir el agotamiento académico en estudiantes universitarios.\n",
            "Similitud: 0.25 | Documento 11:Impacto de la práctica regular de ejercicio en la reducción del estrés académico en estudiantes universitarios.\n",
            "Similitud: 0.222 | Documento 4:El rol de las bibliotecas universitarias en el fomento de la investigación académica.\n",
            "Similitud: 0.222 | Documento 18:Diferencias en el bienestar académico entre estudiantes que trabajan y aquellos que solo estudian.\n",
            "Similitud: 0.2 | Documento 2:Cómo la nutrición balanceada afecta el rendimiento académico y la salud mental en estudiantes.\n",
            "Similitud: 0.2 | Documento 5:Cómo los espacios verdes en los campus universitarios pueden mejorar la concentración y reducir el estrés.\n",
            "Similitud: 0.2 | Documento 13:Estrategias para mejorar la salud mental en estudiantes universitarios: el rol del apoyo psicológico y los grupos de estudio en el campus.\n",
            "Similitud: 0.182 | Documento 3:Estudio sobre cómo las relaciones de amistad contribuyen al bienestar de los estudiantes en el campus.\n",
            "Similitud: 0.182 | Documento 6:La influencia de la cultura universitaria en los hábitos saludables y el bienestar de los estudiantes.\n",
            "Similitud: 0.182 | Documento 26:Los beneficios de los programas de becas para la retención de estudiantes en universidades.\n",
            "Similitud: 0.167 | Documento 12:El papel del mindfulness y la meditación en la reducción de la ansiedad en estudiantes universitarios.\n",
            "Similitud: 0.167 | Documento 27:El rol de los deportes y la actividad física en la integración social y emocional de los estudiantes.\n",
            "Similitud: 0.154 | Documento 8:La influencia del apoyo familiar y social en el bienestar emocional de los estudiantes universitarios.\n",
            "Similitud: 0.154 | Documento 20:El impacto de la tecnología y el uso de redes sociales en la calidad del sueño en estudiantes.\n",
            "Similitud: 0.1 | Documento 10:Avances en la tecnología para la medicina preventiva y su aplicación en jóvenes.\n",
            "Similitud: 0.1 | Documento 28:Cómo los eventos y talleres de bienestar organizados por la universidad ayudan a reducir el estrés.\n",
            "Similitud: 0.091 | Documento 16:El papel de los laboratorios de innovación educativa en el desarrollo de competencias tecnológicas.\n",
            "Similitud: 0.091 | Documento 17:Tendencias actuales en el diseño de campus para fomentar la interacción y colaboración.\n",
            "Similitud: 0.091 | Documento 22:Estudio sobre el uso de bicicletas compartidas en universidades para mejorar la movilidad.\n",
            "Similitud: 0.091 | Documento 23:Cómo la carga de trabajo académico afecta la salud emocional de los estudiantes y qué pueden hacer las universidades para ayudar.\n",
            "Similitud: 0.091 | Documento 25:La relación entre actividades artísticas y el bienestar psicológico en la vida universitaria.\n",
            "Similitud: 0.091 | Documento 30:Cómo la inteligencia artificial está mejorando el acceso a servicios médicos en comunidades remotas.\n",
            "Similitud: 0.083 | Documento 14:Cómo el acceso a servicios de salud mental en la universidad puede mejorar el desempeño académico.\n",
            "Similitud: 0.083 | Documento 15:Beneficios de las actividades extracurriculares para el bienestar emocional y social de los estudiantes.\n",
            "Similitud: 0.083 | Documento 21:Investigación sobre el impacto de las tecnologías verdes en los edificios de las universidades.\n",
            "Similitud: 0.083 | Documento 29:Análisis de los hábitos de sueño y su relación con el rendimiento en exámenes universitarios.\n",
            "Similitud: 0.077 | Documento 7:La importancia del sueño en la salud mental y el rendimiento académico en jóvenes universitarios.\n",
            "Similitud: 0.077 | Documento 9:El impacto de los hábitos de lectura en el desarrollo cognitivo en jóvenes y adultos.\n",
            "Similitud: 0.0 | Documento 1:El aumento de la telemedicina para el tratamiento de condiciones de salud crónicas.\n",
            "------------------------------------------------------------\n"
          ]
        }
      ]
    }
  ],
  "metadata": {
    "kernelspec": {
      "display_name": "Python 3",
      "language": "python",
      "name": "python3"
    },
    "language_info": {
      "codemirror_mode": {
        "name": "ipython",
        "version": 2
      },
      "file_extension": ".py",
      "mimetype": "text/x-python",
      "name": "python",
      "nbconvert_exporter": "python",
      "pygments_lexer": "ipython2",
      "version": "2.7.6"
    },
    "colab": {
      "provenance": []
    }
  },
  "nbformat": 4,
  "nbformat_minor": 5
}